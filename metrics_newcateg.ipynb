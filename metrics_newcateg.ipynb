{
 "cells": [
  {
   "cell_type": "code",
   "execution_count": 548,
   "metadata": {},
   "outputs": [],
   "source": [
    "import pandas as pd\n",
    "import geopandas as gpd\n",
    "import numpy as np\n",
    "import matplotlib.pyplot as plt\n",
    "from os.path import join\n",
    "from fiona.crs import from_epsg\n",
    "from shapely.geometry import Point"
   ]
  },
  {
   "cell_type": "markdown",
   "metadata": {},
   "source": [
    "# Load Data\n",
    "* path_parks: where to find the historical park permit data\n",
    "* parkpop: a dataset of all the people living within 10-minutes walking distance.\n",
    "* parks: a shapefile of all NYC parks"
   ]
  },
  {
   "cell_type": "code",
   "execution_count": 549,
   "metadata": {},
   "outputs": [],
   "source": [
    "path_parks= r'M:\\NY4P Metrics Research 18034\\03_GIS+ANALYSIS\\01_DATA\\RAW\\Parks Historical Permits'"
   ]
  },
  {
   "cell_type": "code",
   "execution_count": 550,
   "metadata": {},
   "outputs": [],
   "source": [
    "parkpop= pd.read_csv(r\"M:\\NY4P Metrics Research 18034\\03_GIS+ANALYSIS\\01_DATA\\Processed\\190718_10 Min Walksheds with Population_JG\\190718_10minwalksheds_pop.csv\")"
   ]
  },
  {
   "cell_type": "code",
   "execution_count": 551,
   "metadata": {},
   "outputs": [
    {
     "data": {
      "text/html": [
       "<div>\n",
       "<style scoped>\n",
       "    .dataframe tbody tr th:only-of-type {\n",
       "        vertical-align: middle;\n",
       "    }\n",
       "\n",
       "    .dataframe tbody tr th {\n",
       "        vertical-align: top;\n",
       "    }\n",
       "\n",
       "    .dataframe thead th {\n",
       "        text-align: right;\n",
       "    }\n",
       "</style>\n",
       "<table border=\"1\" class=\"dataframe\">\n",
       "  <thead>\n",
       "    <tr style=\"text-align: right;\">\n",
       "      <th></th>\n",
       "      <th>GISPROPNUM</th>\n",
       "      <th>TYPECATEGO</th>\n",
       "      <th>Pop_nearPark</th>\n",
       "      <th>ShapeArea_Walkshed</th>\n",
       "      <th>Park Acres</th>\n",
       "      <th>PopDens</th>\n",
       "    </tr>\n",
       "  </thead>\n",
       "  <tbody>\n",
       "    <tr>\n",
       "      <th>0</th>\n",
       "      <td>B001</td>\n",
       "      <td>Playground</td>\n",
       "      <td>10297.881979</td>\n",
       "      <td>203.212770</td>\n",
       "      <td>0.896</td>\n",
       "      <td>50.675368</td>\n",
       "    </tr>\n",
       "    <tr>\n",
       "      <th>1</th>\n",
       "      <td>B006</td>\n",
       "      <td>Triangle/Plaza</td>\n",
       "      <td>21108.864450</td>\n",
       "      <td>239.452140</td>\n",
       "      <td>0.012</td>\n",
       "      <td>88.154837</td>\n",
       "    </tr>\n",
       "    <tr>\n",
       "      <th>2</th>\n",
       "      <td>B007</td>\n",
       "      <td>Recreation Field/Courts</td>\n",
       "      <td>18229.304533</td>\n",
       "      <td>232.010714</td>\n",
       "      <td>17.500</td>\n",
       "      <td>78.570960</td>\n",
       "    </tr>\n",
       "    <tr>\n",
       "      <th>3</th>\n",
       "      <td>B008</td>\n",
       "      <td>NaN</td>\n",
       "      <td>29051.844266</td>\n",
       "      <td>363.630316</td>\n",
       "      <td>NaN</td>\n",
       "      <td>79.893900</td>\n",
       "    </tr>\n",
       "    <tr>\n",
       "      <th>4</th>\n",
       "      <td>B012</td>\n",
       "      <td>Neighborhood Park</td>\n",
       "      <td>31806.977333</td>\n",
       "      <td>323.364494</td>\n",
       "      <td>7.047</td>\n",
       "      <td>98.362615</td>\n",
       "    </tr>\n",
       "  </tbody>\n",
       "</table>\n",
       "</div>"
      ],
      "text/plain": [
       "  GISPROPNUM               TYPECATEGO  Pop_nearPark  ShapeArea_Walkshed  \\\n",
       "0       B001               Playground  10297.881979          203.212770   \n",
       "1       B006           Triangle/Plaza  21108.864450          239.452140   \n",
       "2       B007  Recreation Field/Courts  18229.304533          232.010714   \n",
       "3       B008                      NaN  29051.844266          363.630316   \n",
       "4       B012        Neighborhood Park  31806.977333          323.364494   \n",
       "\n",
       "   Park Acres    PopDens  \n",
       "0       0.896  50.675368  \n",
       "1       0.012  88.154837  \n",
       "2      17.500  78.570960  \n",
       "3         NaN  79.893900  \n",
       "4       7.047  98.362615  "
      ]
     },
     "execution_count": 551,
     "metadata": {},
     "output_type": "execute_result"
    }
   ],
   "source": [
    "parkpop.head()"
   ]
  },
  {
   "cell_type": "code",
   "execution_count": 552,
   "metadata": {},
   "outputs": [],
   "source": [
    "parks= gpd.read_file(r\"M:\\NY4P Metrics Research 18034\\03_GIS+ANALYSIS\\01_DATA\\RAW\\NYC_PARKS_DATA\\NYCPARKS_ALLSITES.shp\")"
   ]
  },
  {
   "cell_type": "code",
   "execution_count": 553,
   "metadata": {},
   "outputs": [],
   "source": [
    "park_entrances= gpd.read_file(r\"M:\\NY4P Metrics Research 18034\\03_GIS+ANALYSIS\\01_DATA\\Walk-to-a-Park Summer 2019 Data\\Walk-to-a-Park Summer 2019 Data\\Walk to a Park 2019_Reprojected.shp\")"
   ]
  },
  {
   "cell_type": "code",
   "execution_count": 554,
   "metadata": {},
   "outputs": [],
   "source": [
    "path_exp= r\"M:\\NY4P Metrics Research 18034\\05_GRAPHICS\\Charts Graphs Diagrams\\190729_Park Scores - NY4P Categories\\plt saves\"\n",
    "#where to export files"
   ]
  },
  {
   "cell_type": "markdown",
   "metadata": {},
   "source": [
    "## Setting up parks and park categories (DPR or NY4P)"
   ]
  },
  {
   "cell_type": "code",
   "execution_count": 555,
   "metadata": {},
   "outputs": [
    {
     "data": {
      "text/plain": [
       "array(['Community Park', 'Recreation Field/Courts', 'Neighborhood Park',\n",
       "       'Nature Area', 'Waterfront Facility', 'Historic House Park',\n",
       "       'Playground', 'Undeveloped', 'Buildings/Institutions', 'Parkway',\n",
       "       'Jointly Operated Playground', 'Triangle/Plaza', 'Managed Sites',\n",
       "       'Lot', 'Strip', 'Cemetery', 'Flagship Park', 'Mall', 'Tracking'],\n",
       "      dtype=object)"
      ]
     },
     "execution_count": 555,
     "metadata": {},
     "output_type": "execute_result"
    }
   ],
   "source": [
    "parks['TYPECATEGO'].unique()"
   ]
  },
  {
   "cell_type": "code",
   "execution_count": 556,
   "metadata": {},
   "outputs": [
    {
     "data": {
      "text/html": [
       "<div>\n",
       "<style scoped>\n",
       "    .dataframe tbody tr th:only-of-type {\n",
       "        vertical-align: middle;\n",
       "    }\n",
       "\n",
       "    .dataframe tbody tr th {\n",
       "        vertical-align: top;\n",
       "    }\n",
       "\n",
       "    .dataframe thead th {\n",
       "        text-align: right;\n",
       "    }\n",
       "</style>\n",
       "<table border=\"1\" class=\"dataframe\">\n",
       "  <thead>\n",
       "    <tr style=\"text-align: right;\">\n",
       "      <th></th>\n",
       "      <th>GISPROPNUM</th>\n",
       "      <th>LOCATION</th>\n",
       "      <th>COMMUNITYB</th>\n",
       "      <th>COUNCILDIS</th>\n",
       "      <th>PRECINCT</th>\n",
       "      <th>ZIPCODE</th>\n",
       "      <th>BOROUGH</th>\n",
       "      <th>ACRES</th>\n",
       "      <th>ADDRESS</th>\n",
       "      <th>SIGNNAME</th>\n",
       "      <th>TYPECATEGO</th>\n",
       "      <th>WATERFRONT</th>\n",
       "      <th>NYS_ASSEMB</th>\n",
       "      <th>NYS_SENATE</th>\n",
       "      <th>US_CONGRES</th>\n",
       "      <th>geometry</th>\n",
       "    </tr>\n",
       "  </thead>\n",
       "  <tbody>\n",
       "    <tr>\n",
       "      <th>1561</th>\n",
       "      <td>M010</td>\n",
       "      <td>5 Av To Central Park W, 59 St To 110 St</td>\n",
       "      <td>110, 111, 107, 105, 108, 106</td>\n",
       "      <td>6</td>\n",
       "      <td>18</td>\n",
       "      <td>10023, 10024, 10025</td>\n",
       "      <td>M</td>\n",
       "      <td>840.01</td>\n",
       "      <td>1000 5 AVENUE</td>\n",
       "      <td>Central Park</td>\n",
       "      <td>Flagship Park</td>\n",
       "      <td>No</td>\n",
       "      <td>69, 68, 67, 75</td>\n",
       "      <td>29</td>\n",
       "      <td>10, 13</td>\n",
       "      <td>(POLYGON ((995951.7570963055 230838.4251838028...</td>\n",
       "    </tr>\n",
       "  </tbody>\n",
       "</table>\n",
       "</div>"
      ],
      "text/plain": [
       "     GISPROPNUM                                 LOCATION  \\\n",
       "1561       M010  5 Av To Central Park W, 59 St To 110 St   \n",
       "\n",
       "                        COMMUNITYB COUNCILDIS PRECINCT              ZIPCODE  \\\n",
       "1561  110, 111, 107, 105, 108, 106          6       18  10023, 10024, 10025   \n",
       "\n",
       "     BOROUGH   ACRES        ADDRESS      SIGNNAME     TYPECATEGO WATERFRONT  \\\n",
       "1561       M  840.01  1000 5 AVENUE  Central Park  Flagship Park         No   \n",
       "\n",
       "          NYS_ASSEMB NYS_SENATE US_CONGRES  \\\n",
       "1561  69, 68, 67, 75         29     10, 13   \n",
       "\n",
       "                                               geometry  \n",
       "1561  (POLYGON ((995951.7570963055 230838.4251838028...  "
      ]
     },
     "execution_count": 556,
     "metadata": {},
     "output_type": "execute_result"
    }
   ],
   "source": [
    "parks[parks['GISPROPNUM']=='M010']\n",
    "#Is central park included?"
   ]
  },
  {
   "cell_type": "markdown",
   "metadata": {},
   "source": [
    "## NY4P Categories\n",
    "* comment out if necessary\n",
    "* converts column TYPECATEGO from DPR categories to NY4P categories"
   ]
  },
  {
   "cell_type": "code",
   "execution_count": 557,
   "metadata": {},
   "outputs": [],
   "source": [
    "#Using NY4P Categories\n",
    "parks.loc[parks['ACRES']<1,'TYPECATEGO']='PP'\n",
    "parks.loc[(parks['ACRES']>=1)&(parks['ACRES']<=20),'TYPECATEGO']='NP'\n",
    "parks.loc[(parks['ACRES']>20),'TYPECATEGO']='LP'"
   ]
  },
  {
   "cell_type": "code",
   "execution_count": 558,
   "metadata": {},
   "outputs": [
    {
     "data": {
      "text/plain": [
       "array(['LP', 'NP', 'PP'], dtype=object)"
      ]
     },
     "execution_count": 558,
     "metadata": {},
     "output_type": "execute_result"
    }
   ],
   "source": [
    "parks['TYPECATEGO'].unique()"
   ]
  },
  {
   "cell_type": "markdown",
   "metadata": {},
   "source": [
    "## Joining permit data to NY4P data\n",
    "* perms: historical permit data\n",
    "* iso: a shapefile of all park walking distances (with 10-minute walking distances)"
   ]
  },
  {
   "cell_type": "code",
   "execution_count": 559,
   "metadata": {},
   "outputs": [],
   "source": [
    "blocks= gpd.read_file(r\"S:\\NYC_GIS_DATA\\Census block groups 2010\\tl_2010_36_bg10.shp\")\n",
    "#shapefile of census blockgroups"
   ]
  },
  {
   "cell_type": "code",
   "execution_count": 560,
   "metadata": {},
   "outputs": [],
   "source": [
    "perms= pd.read_csv(join(path_parks, '190618_ParksPermits_ADDCOLS.csv'), low_memory=False, index_col=0)"
   ]
  },
  {
   "cell_type": "code",
   "execution_count": 561,
   "metadata": {},
   "outputs": [],
   "source": [
    "#perms.loc[(perms['park_clean'].str.contains('east river park m'))&(perms['event_location'].notna()),'GISPROPNUM']= 'M144'\n",
    "# Uncomment to manually add the East River Park"
   ]
  },
  {
   "cell_type": "code",
   "execution_count": 562,
   "metadata": {},
   "outputs": [
    {
     "data": {
      "text/plain": [
       "(228844, 23)"
      ]
     },
     "execution_count": 562,
     "metadata": {},
     "output_type": "execute_result"
    }
   ],
   "source": [
    "perms.shape\n",
    "#228,844 events in NYC!"
   ]
  },
  {
   "cell_type": "code",
   "execution_count": 563,
   "metadata": {},
   "outputs": [],
   "source": [
    "perms= pd.merge(perms.drop('TYPECATEGO',axis=1),parks[['GISPROPNUM','TYPECATEGO']],on='GISPROPNUM',how='right')\n",
    "#Specifying the parks that we've filtered\n",
    "# right or inner will change whether we include all parks or only parks with events"
   ]
  },
  {
   "cell_type": "code",
   "execution_count": 564,
   "metadata": {},
   "outputs": [],
   "source": [
    "perms['start_date_time']= pd.to_datetime(perms['start_date_time'])\n",
    "perms['end_date_time']= pd.to_datetime(perms['end_date_time'])\n",
    "\n",
    "perms['year']= perms['start_date_time'].dt.year\n",
    "perms['start_time']= perms['start_date_time'].dt.time\n",
    "perms['end_time']= perms['end_date_time'].dt.time\n",
    "\n",
    "perms['date']= perms['start_date_time'].dt.date\n",
    "perms['dow']= perms['start_date_time'].dt.weekday"
   ]
  },
  {
   "cell_type": "code",
   "execution_count": 565,
   "metadata": {},
   "outputs": [],
   "source": [
    "#perms= perms[~(perms['event_name']=='Miscellaneous')].copy()"
   ]
  },
  {
   "cell_type": "code",
   "execution_count": 566,
   "metadata": {},
   "outputs": [],
   "source": [
    "iso= gpd.read_file(r\"M:\\NY4P Metrics Research 18034\\03_GIS+ANALYSIS\\01_DATA\\Processed\\Isochrones\\190718_Isochrones_JG\\190719_10 Min Walksheds with Pop and Pop Density.shp\")"
   ]
  },
  {
   "cell_type": "code",
   "execution_count": 567,
   "metadata": {},
   "outputs": [],
   "source": [
    "iso.loc[iso['ACRES']<1,'TYPECATEGO']='PP'\n",
    "iso.loc[(iso['ACRES']>=1)&(iso['ACRES']<=20),'TYPECATEGO']='NP'\n",
    "iso.loc[(iso['ACRES']>20),'TYPECATEGO']='LP'\n",
    "#setting iso TYPECATEGO to NY4P categories, comment out if necessary"
   ]
  },
  {
   "cell_type": "code",
   "execution_count": 568,
   "metadata": {},
   "outputs": [
    {
     "data": {
      "text/plain": [
       "(818, 21)"
      ]
     },
     "execution_count": 568,
     "metadata": {},
     "output_type": "execute_result"
    }
   ],
   "source": [
    "iso.shape"
   ]
  },
  {
   "cell_type": "code",
   "execution_count": 569,
   "metadata": {},
   "outputs": [
    {
     "data": {
      "text/plain": [
       "(1709, 16)"
      ]
     },
     "execution_count": 569,
     "metadata": {},
     "output_type": "execute_result"
    }
   ],
   "source": [
    "parks.shape\n",
    "#818 out of 1,709 parks!"
   ]
  },
  {
   "cell_type": "code",
   "execution_count": 570,
   "metadata": {},
   "outputs": [
    {
     "data": {
      "text/plain": [
       "(818,)"
      ]
     },
     "execution_count": 570,
     "metadata": {},
     "output_type": "execute_result"
    }
   ],
   "source": [
    "iso['GISPROPNUM'].unique().shape"
   ]
  },
  {
   "cell_type": "code",
   "execution_count": 571,
   "metadata": {},
   "outputs": [],
   "source": [
    "iso= iso.to_crs({'init':'epsg:2263'})"
   ]
  },
  {
   "cell_type": "code",
   "execution_count": 572,
   "metadata": {},
   "outputs": [],
   "source": [
    "blocks= blocks.to_crs({'init':'epsg:2263'})"
   ]
  },
  {
   "cell_type": "code",
   "execution_count": 573,
   "metadata": {},
   "outputs": [],
   "source": [
    "parkiso= pd.merge(iso[['GISPROPNUM','geometry']],parkpop,on='GISPROPNUM',how='inner')"
   ]
  },
  {
   "cell_type": "code",
   "execution_count": 574,
   "metadata": {},
   "outputs": [],
   "source": [
    "parkiso= parkiso[parkiso['GISPROPNUM'].isin(parks['GISPROPNUM'].unique())]"
   ]
  },
  {
   "cell_type": "code",
   "execution_count": 575,
   "metadata": {},
   "outputs": [
    {
     "data": {
      "text/plain": [
       "(818, 7)"
      ]
     },
     "execution_count": 575,
     "metadata": {},
     "output_type": "execute_result"
    }
   ],
   "source": [
    "parkiso.shape\n",
    "#Merging isochrones and nearby population to park information!"
   ]
  },
  {
   "cell_type": "markdown",
   "metadata": {},
   "source": [
    "# Initial Options\n",
    "* (1) Total Permits by Park (TP)\n",
    "* (2) Total Permits per Acre by Park (TPA)\n",
    "* (3) Total Permits per Person (TPPop)\n",
    "* (4) Total Permits per Person per Walkshed Acre (TPPopDens)"
   ]
  },
  {
   "cell_type": "markdown",
   "metadata": {},
   "source": [
    "## Total Permits by Park Type, MM and LMM Normalization\n",
    "* mask_1318: filters for the correct permit years\n",
    "* y2y groups all permits by year and by park"
   ]
  },
  {
   "cell_type": "code",
   "execution_count": 576,
   "metadata": {},
   "outputs": [],
   "source": [
    "mask_1318= perms['year'].isin(np.arange(2013,2019,1))"
   ]
  },
  {
   "cell_type": "code",
   "execution_count": 577,
   "metadata": {},
   "outputs": [],
   "source": [
    "y2y= perms[perms['year'].isin(np.arange(2013,2019,1))].groupby(['GISPROPNUM','year']).agg({'GISPROPNUM':'count'}).unstack()"
   ]
  },
  {
   "cell_type": "code",
   "execution_count": 578,
   "metadata": {},
   "outputs": [
    {
     "data": {
      "text/plain": [
       "(830,)"
      ]
     },
     "execution_count": 578,
     "metadata": {},
     "output_type": "execute_result"
    }
   ],
   "source": [
    "parklist= y2y['GISPROPNUM'].index.unique()\n",
    "parklist.shape\n",
    "#830 parks in the y2y dataset"
   ]
  },
  {
   "cell_type": "code",
   "execution_count": 579,
   "metadata": {},
   "outputs": [
    {
     "data": {
      "text/plain": [
       "(1709,)"
      ]
     },
     "execution_count": 579,
     "metadata": {},
     "output_type": "execute_result"
    }
   ],
   "source": [
    "parks['GISPROPNUM'].unique().shape\n",
    "#1,709 parks in total"
   ]
  },
  {
   "cell_type": "code",
   "execution_count": 580,
   "metadata": {},
   "outputs": [
    {
     "data": {
      "text/html": [
       "<div>\n",
       "<style scoped>\n",
       "    .dataframe tbody tr th:only-of-type {\n",
       "        vertical-align: middle;\n",
       "    }\n",
       "\n",
       "    .dataframe tbody tr th {\n",
       "        vertical-align: top;\n",
       "    }\n",
       "\n",
       "    .dataframe thead th {\n",
       "        text-align: right;\n",
       "    }\n",
       "</style>\n",
       "<table border=\"1\" class=\"dataframe\">\n",
       "  <thead>\n",
       "    <tr style=\"text-align: right;\">\n",
       "      <th></th>\n",
       "      <th>gispropnum</th>\n",
       "      <th>parkname</th>\n",
       "      <th>type</th>\n",
       "      <th>geometry</th>\n",
       "    </tr>\n",
       "  </thead>\n",
       "  <tbody>\n",
       "  </tbody>\n",
       "</table>\n",
       "</div>"
      ],
      "text/plain": [
       "Empty GeoDataFrame\n",
       "Columns: [gispropnum, parkname, type, geometry]\n",
       "Index: []"
      ]
     },
     "execution_count": 580,
     "metadata": {},
     "output_type": "execute_result"
    }
   ],
   "source": [
    "park_entrances[park_entrances['gispropnum'].isin(parklist)&(~park_entrances['gispropnum'].isin(parkiso['GISPROPNUM']))]\n",
    "#all the parks that are in the park entrances data set and in the y2y dataset, but that don't have a corresponding walkshed\n",
    "#Should be 0 (I checked and manually fixed it)!!"
   ]
  },
  {
   "cell_type": "code",
   "execution_count": 581,
   "metadata": {},
   "outputs": [],
   "source": [
    "y2y.columns= [2013, 2014, 2015, 2016, 2017, 2018]"
   ]
  },
  {
   "cell_type": "code",
   "execution_count": 582,
   "metadata": {},
   "outputs": [],
   "source": [
    "y2y.fillna(0, inplace=True)"
   ]
  },
  {
   "cell_type": "code",
   "execution_count": 583,
   "metadata": {},
   "outputs": [],
   "source": [
    "y2y['tp']= y2y[[2013, 2014, 2015, 2016, 2017, 2018]].sum(axis=1)"
   ]
  },
  {
   "cell_type": "markdown",
   "metadata": {},
   "source": [
    "# Filtering outliers by Percentile\n",
    "* comment out if unnecessary\n",
    "* filters: the 95th percentile cut offs for parks by park type"
   ]
  },
  {
   "cell_type": "code",
   "execution_count": 584,
   "metadata": {},
   "outputs": [
    {
     "data": {
      "text/plain": [
       "758.55"
      ]
     },
     "execution_count": 584,
     "metadata": {},
     "output_type": "execute_result"
    }
   ],
   "source": [
    "y2y['tp'].sort_values(ascending=False).quantile(.95)\n",
    "#The 95th percentile"
   ]
  },
  {
   "cell_type": "code",
   "execution_count": 585,
   "metadata": {},
   "outputs": [],
   "source": [
    "outlier= y2y[y2y['tp']>758.55]\n",
    "#DataFrame of Outlier Parks"
   ]
  },
  {
   "cell_type": "code",
   "execution_count": 586,
   "metadata": {},
   "outputs": [],
   "source": [
    "y2y= pd.merge(parks[['GISPROPNUM','TYPECATEGO', 'ACRES']],y2y.copy().reset_index(),on='GISPROPNUM',how='inner').fillna(1)\n",
    "#Includes parks with 0 events"
   ]
  },
  {
   "cell_type": "code",
   "execution_count": 587,
   "metadata": {},
   "outputs": [
    {
     "data": {
      "text/plain": [
       "array(['LP', 'NP', 'PP'], dtype=object)"
      ]
     },
     "execution_count": 587,
     "metadata": {},
     "output_type": "execute_result"
    }
   ],
   "source": [
    "park_types= y2y['TYPECATEGO'].unique()\n",
    "park_types"
   ]
  },
  {
   "cell_type": "code",
   "execution_count": 588,
   "metadata": {},
   "outputs": [],
   "source": [
    "filters= []\n",
    "for i in park_types:\n",
    "    filters+= [y2y[y2y['TYPECATEGO']==i]['tp'].quantile(.95).round(1)]"
   ]
  },
  {
   "cell_type": "code",
   "execution_count": 589,
   "metadata": {},
   "outputs": [
    {
     "data": {
      "text/plain": [
       "[4115.0, 495.1, 157.0]"
      ]
     },
     "execution_count": 589,
     "metadata": {},
     "output_type": "execute_result"
    }
   ],
   "source": [
    "filters"
   ]
  },
  {
   "cell_type": "code",
   "execution_count": 590,
   "metadata": {},
   "outputs": [],
   "source": [
    "#y2y.loc[y2y['tp']>758.55,'tp']= 758.55"
   ]
  },
  {
   "cell_type": "code",
   "execution_count": 591,
   "metadata": {},
   "outputs": [],
   "source": [
    "#y2y= y2y[y2y['tp']<=y2y['tp'].sort_values(ascending=False).quantile(.95)]\n",
    "#Filters for parks with total permitted events less than the 95th percentile"
   ]
  },
  {
   "cell_type": "code",
   "execution_count": 592,
   "metadata": {},
   "outputs": [],
   "source": [
    "#mask1= (y2y['tp']>filters[0])&(y2y['TYPECATEGO']==park_types[0])\n",
    "#mask2= (y2y['tp']>filters[1])&(y2y['TYPECATEGO']==park_types[1])\n",
    "#mask3= (y2y['tp']>filters[2])&(y2y['TYPECATEGO']==park_types[2])\n",
    "#y2y.loc[(mask1),'tp']= filters[0]\n",
    "#y2y.loc[(mask2),'tp']= filters[1]\n",
    "#y2y.loc[(mask3),'tp']= filters[2]\n",
    "#Filters for parks with total permitted events less than the 95th percentile and by category"
   ]
  },
  {
   "cell_type": "markdown",
   "metadata": {},
   "source": [
    "### MM and LMM Normalization Process\n",
    "* tp: total permits\n",
    "* tp_mm: total permits min-max\n",
    "* tp_lmm: total permits log min-max"
   ]
  },
  {
   "cell_type": "code",
   "execution_count": 593,
   "metadata": {},
   "outputs": [],
   "source": [
    "tmax= y2y['tp'].max()\n",
    "tmin= y2y['tp'].min()"
   ]
  },
  {
   "cell_type": "code",
   "execution_count": 594,
   "metadata": {},
   "outputs": [],
   "source": [
    "y2y['tp_mm']= (y2y['tp'].apply(lambda x: (x-tmin)/(tmax-tmin))*100).round(0)\n",
    "y2y['tp_lmm']= (y2y['tp'].apply(lambda x: (np.log(x)-np.log(tmin))/(np.log(tmax)-np.log(tmin)))*100).round(0)"
   ]
  },
  {
   "cell_type": "code",
   "execution_count": 595,
   "metadata": {},
   "outputs": [
    {
     "data": {
      "image/png": "[encoded data removed]",
      "text/plain": [
       "<Figure size 432x288 with 1 Axes>"
      ]
     },
     "metadata": {
      "needs_background": "light"
     },
     "output_type": "display_data"
    }
   ],
   "source": [
    "a= y2y['tp_mm'].values\n",
    "b= y2y['tp_lmm'].values\n",
    "\n",
    "bins= np.arange(0, 102, 2)\n",
    "\n",
    "#plt.hist(aa, bins, alpha=0.5, label='All', color='#dfdfdf')\n",
    "plt.hist(a, bins, alpha=0.5, label='Min Max Norm', color='#FD5700')\n",
    "plt.hist(b, bins, alpha=0.5, label='Log Min Max Norm', color='#29D0BF')\n",
    "#plt.hist(a, bins, alpha=0.5, label='Not Reported', color='#9355B0')\n",
    "\n",
    "plt.legend(loc='center left', bbox_to_anchor=(1,.5))\n",
    "plt.xlabel('Programming Score')\n",
    "plt.ylabel('Number of Parks')\n",
    "\n",
    "#plt.savefig(join(path_exp, 'Total Events_MM_LMM.pdf'))\n",
    "\n",
    "plt.show();"
   ]
  },
  {
   "cell_type": "code",
   "execution_count": 596,
   "metadata": {
    "scrolled": true
   },
   "outputs": [
    {
     "data": {
      "text/html": [
       "<div>\n",
       "<style scoped>\n",
       "    .dataframe tbody tr th:only-of-type {\n",
       "        vertical-align: middle;\n",
       "    }\n",
       "\n",
       "    .dataframe tbody tr th {\n",
       "        vertical-align: top;\n",
       "    }\n",
       "\n",
       "    .dataframe thead th {\n",
       "        text-align: right;\n",
       "    }\n",
       "</style>\n",
       "<table border=\"1\" class=\"dataframe\">\n",
       "  <thead>\n",
       "    <tr style=\"text-align: right;\">\n",
       "      <th></th>\n",
       "      <th>index</th>\n",
       "      <th>GISPROPNUM</th>\n",
       "      <th>TYPECATEGO</th>\n",
       "      <th>ACRES</th>\n",
       "      <th>2013</th>\n",
       "      <th>2014</th>\n",
       "      <th>2015</th>\n",
       "      <th>2016</th>\n",
       "      <th>2017</th>\n",
       "      <th>2018</th>\n",
       "      <th>tp</th>\n",
       "      <th>tp_mm</th>\n",
       "      <th>tp_lmm</th>\n",
       "    </tr>\n",
       "  </thead>\n",
       "  <tbody>\n",
       "    <tr>\n",
       "      <th>0</th>\n",
       "      <td>0</td>\n",
       "      <td>Q104</td>\n",
       "      <td>LP</td>\n",
       "      <td>20.340</td>\n",
       "      <td>63.0</td>\n",
       "      <td>76.0</td>\n",
       "      <td>61.0</td>\n",
       "      <td>51.0</td>\n",
       "      <td>65.0</td>\n",
       "      <td>88.0</td>\n",
       "      <td>404.0</td>\n",
       "      <td>1.0</td>\n",
       "      <td>57.0</td>\n",
       "    </tr>\n",
       "    <tr>\n",
       "      <th>1</th>\n",
       "      <td>1</td>\n",
       "      <td>X253</td>\n",
       "      <td>NP</td>\n",
       "      <td>6.100</td>\n",
       "      <td>1.0</td>\n",
       "      <td>3.0</td>\n",
       "      <td>1.0</td>\n",
       "      <td>1.0</td>\n",
       "      <td>3.0</td>\n",
       "      <td>5.0</td>\n",
       "      <td>14.0</td>\n",
       "      <td>0.0</td>\n",
       "      <td>25.0</td>\n",
       "    </tr>\n",
       "    <tr>\n",
       "      <th>2</th>\n",
       "      <td>2</td>\n",
       "      <td>Q465</td>\n",
       "      <td>NP</td>\n",
       "      <td>6.280</td>\n",
       "      <td>23.0</td>\n",
       "      <td>32.0</td>\n",
       "      <td>21.0</td>\n",
       "      <td>45.0</td>\n",
       "      <td>14.0</td>\n",
       "      <td>26.0</td>\n",
       "      <td>161.0</td>\n",
       "      <td>0.0</td>\n",
       "      <td>48.0</td>\n",
       "    </tr>\n",
       "    <tr>\n",
       "      <th>3</th>\n",
       "      <td>3</td>\n",
       "      <td>B379</td>\n",
       "      <td>NP</td>\n",
       "      <td>8.892</td>\n",
       "      <td>0.0</td>\n",
       "      <td>0.0</td>\n",
       "      <td>0.0</td>\n",
       "      <td>0.0</td>\n",
       "      <td>1.0</td>\n",
       "      <td>0.0</td>\n",
       "      <td>1.0</td>\n",
       "      <td>0.0</td>\n",
       "      <td>0.0</td>\n",
       "    </tr>\n",
       "    <tr>\n",
       "      <th>4</th>\n",
       "      <td>4</td>\n",
       "      <td>B385</td>\n",
       "      <td>NP</td>\n",
       "      <td>6.611</td>\n",
       "      <td>31.0</td>\n",
       "      <td>132.0</td>\n",
       "      <td>54.0</td>\n",
       "      <td>27.0</td>\n",
       "      <td>27.0</td>\n",
       "      <td>26.0</td>\n",
       "      <td>297.0</td>\n",
       "      <td>1.0</td>\n",
       "      <td>54.0</td>\n",
       "    </tr>\n",
       "    <tr>\n",
       "      <th>5</th>\n",
       "      <td>5</td>\n",
       "      <td>B129</td>\n",
       "      <td>LP</td>\n",
       "      <td>26.257</td>\n",
       "      <td>69.0</td>\n",
       "      <td>142.0</td>\n",
       "      <td>162.0</td>\n",
       "      <td>151.0</td>\n",
       "      <td>172.0</td>\n",
       "      <td>110.0</td>\n",
       "      <td>806.0</td>\n",
       "      <td>2.0</td>\n",
       "      <td>63.0</td>\n",
       "    </tr>\n",
       "    <tr>\n",
       "      <th>6</th>\n",
       "      <td>6</td>\n",
       "      <td>B126</td>\n",
       "      <td>LP</td>\n",
       "      <td>58.503</td>\n",
       "      <td>52.0</td>\n",
       "      <td>109.0</td>\n",
       "      <td>92.0</td>\n",
       "      <td>31.0</td>\n",
       "      <td>24.0</td>\n",
       "      <td>49.0</td>\n",
       "      <td>357.0</td>\n",
       "      <td>1.0</td>\n",
       "      <td>56.0</td>\n",
       "    </tr>\n",
       "    <tr>\n",
       "      <th>7</th>\n",
       "      <td>7</td>\n",
       "      <td>R008</td>\n",
       "      <td>NP</td>\n",
       "      <td>4.339</td>\n",
       "      <td>7.0</td>\n",
       "      <td>4.0</td>\n",
       "      <td>12.0</td>\n",
       "      <td>11.0</td>\n",
       "      <td>5.0</td>\n",
       "      <td>17.0</td>\n",
       "      <td>56.0</td>\n",
       "      <td>0.0</td>\n",
       "      <td>38.0</td>\n",
       "    </tr>\n",
       "    <tr>\n",
       "      <th>8</th>\n",
       "      <td>8</td>\n",
       "      <td>Q371</td>\n",
       "      <td>LP</td>\n",
       "      <td>255.400</td>\n",
       "      <td>1.0</td>\n",
       "      <td>0.0</td>\n",
       "      <td>3.0</td>\n",
       "      <td>2.0</td>\n",
       "      <td>2.0</td>\n",
       "      <td>1.0</td>\n",
       "      <td>9.0</td>\n",
       "      <td>0.0</td>\n",
       "      <td>21.0</td>\n",
       "    </tr>\n",
       "    <tr>\n",
       "      <th>9</th>\n",
       "      <td>9</td>\n",
       "      <td>R079</td>\n",
       "      <td>LP</td>\n",
       "      <td>104.545</td>\n",
       "      <td>0.0</td>\n",
       "      <td>2.0</td>\n",
       "      <td>5.0</td>\n",
       "      <td>7.0</td>\n",
       "      <td>2.0</td>\n",
       "      <td>9.0</td>\n",
       "      <td>25.0</td>\n",
       "      <td>0.0</td>\n",
       "      <td>30.0</td>\n",
       "    </tr>\n",
       "    <tr>\n",
       "      <th>10</th>\n",
       "      <td>10</td>\n",
       "      <td>B169A</td>\n",
       "      <td>NP</td>\n",
       "      <td>1.225</td>\n",
       "      <td>3.0</td>\n",
       "      <td>6.0</td>\n",
       "      <td>4.0</td>\n",
       "      <td>4.0</td>\n",
       "      <td>14.0</td>\n",
       "      <td>5.0</td>\n",
       "      <td>36.0</td>\n",
       "      <td>0.0</td>\n",
       "      <td>34.0</td>\n",
       "    </tr>\n",
       "    <tr>\n",
       "      <th>11</th>\n",
       "      <td>11</td>\n",
       "      <td>B169B</td>\n",
       "      <td>NP</td>\n",
       "      <td>2.944</td>\n",
       "      <td>0.0</td>\n",
       "      <td>2.0</td>\n",
       "      <td>8.0</td>\n",
       "      <td>2.0</td>\n",
       "      <td>4.0</td>\n",
       "      <td>8.0</td>\n",
       "      <td>24.0</td>\n",
       "      <td>0.0</td>\n",
       "      <td>30.0</td>\n",
       "    </tr>\n",
       "    <tr>\n",
       "      <th>12</th>\n",
       "      <td>12</td>\n",
       "      <td>B125</td>\n",
       "      <td>LP</td>\n",
       "      <td>85.527</td>\n",
       "      <td>6.0</td>\n",
       "      <td>401.0</td>\n",
       "      <td>375.0</td>\n",
       "      <td>377.0</td>\n",
       "      <td>381.0</td>\n",
       "      <td>376.0</td>\n",
       "      <td>1916.0</td>\n",
       "      <td>5.0</td>\n",
       "      <td>72.0</td>\n",
       "    </tr>\n",
       "    <tr>\n",
       "      <th>13</th>\n",
       "      <td>13</td>\n",
       "      <td>M353</td>\n",
       "      <td>LP</td>\n",
       "      <td>66.693</td>\n",
       "      <td>89.0</td>\n",
       "      <td>106.0</td>\n",
       "      <td>102.0</td>\n",
       "      <td>114.0</td>\n",
       "      <td>103.0</td>\n",
       "      <td>128.0</td>\n",
       "      <td>642.0</td>\n",
       "      <td>2.0</td>\n",
       "      <td>61.0</td>\n",
       "    </tr>\n",
       "    <tr>\n",
       "      <th>14</th>\n",
       "      <td>14</td>\n",
       "      <td>B336</td>\n",
       "      <td>NP</td>\n",
       "      <td>8.807</td>\n",
       "      <td>0.0</td>\n",
       "      <td>2.0</td>\n",
       "      <td>0.0</td>\n",
       "      <td>0.0</td>\n",
       "      <td>0.0</td>\n",
       "      <td>0.0</td>\n",
       "      <td>2.0</td>\n",
       "      <td>0.0</td>\n",
       "      <td>7.0</td>\n",
       "    </tr>\n",
       "    <tr>\n",
       "      <th>15</th>\n",
       "      <td>15</td>\n",
       "      <td>B401</td>\n",
       "      <td>NP</td>\n",
       "      <td>1.700</td>\n",
       "      <td>5.0</td>\n",
       "      <td>6.0</td>\n",
       "      <td>7.0</td>\n",
       "      <td>12.0</td>\n",
       "      <td>2.0</td>\n",
       "      <td>3.0</td>\n",
       "      <td>35.0</td>\n",
       "      <td>0.0</td>\n",
       "      <td>34.0</td>\n",
       "    </tr>\n",
       "    <tr>\n",
       "      <th>16</th>\n",
       "      <td>16</td>\n",
       "      <td>Q126</td>\n",
       "      <td>NP</td>\n",
       "      <td>16.831</td>\n",
       "      <td>8.0</td>\n",
       "      <td>8.0</td>\n",
       "      <td>12.0</td>\n",
       "      <td>16.0</td>\n",
       "      <td>12.0</td>\n",
       "      <td>21.0</td>\n",
       "      <td>77.0</td>\n",
       "      <td>0.0</td>\n",
       "      <td>41.0</td>\n",
       "    </tr>\n",
       "    <tr>\n",
       "      <th>17</th>\n",
       "      <td>17</td>\n",
       "      <td>X305</td>\n",
       "      <td>NP</td>\n",
       "      <td>6.438</td>\n",
       "      <td>3.0</td>\n",
       "      <td>4.0</td>\n",
       "      <td>2.0</td>\n",
       "      <td>33.0</td>\n",
       "      <td>6.0</td>\n",
       "      <td>33.0</td>\n",
       "      <td>81.0</td>\n",
       "      <td>0.0</td>\n",
       "      <td>42.0</td>\n",
       "    </tr>\n",
       "    <tr>\n",
       "      <th>18</th>\n",
       "      <td>18</td>\n",
       "      <td>Q004</td>\n",
       "      <td>LP</td>\n",
       "      <td>59.956</td>\n",
       "      <td>208.0</td>\n",
       "      <td>270.0</td>\n",
       "      <td>219.0</td>\n",
       "      <td>266.0</td>\n",
       "      <td>165.0</td>\n",
       "      <td>241.0</td>\n",
       "      <td>1369.0</td>\n",
       "      <td>4.0</td>\n",
       "      <td>68.0</td>\n",
       "    </tr>\n",
       "    <tr>\n",
       "      <th>19</th>\n",
       "      <td>19</td>\n",
       "      <td>Q471</td>\n",
       "      <td>LP</td>\n",
       "      <td>22.600</td>\n",
       "      <td>4.0</td>\n",
       "      <td>69.0</td>\n",
       "      <td>62.0</td>\n",
       "      <td>39.0</td>\n",
       "      <td>19.0</td>\n",
       "      <td>51.0</td>\n",
       "      <td>244.0</td>\n",
       "      <td>1.0</td>\n",
       "      <td>52.0</td>\n",
       "    </tr>\n",
       "    <tr>\n",
       "      <th>20</th>\n",
       "      <td>20</td>\n",
       "      <td>M300</td>\n",
       "      <td>NP</td>\n",
       "      <td>15.383</td>\n",
       "      <td>80.0</td>\n",
       "      <td>90.0</td>\n",
       "      <td>54.0</td>\n",
       "      <td>82.0</td>\n",
       "      <td>65.0</td>\n",
       "      <td>87.0</td>\n",
       "      <td>458.0</td>\n",
       "      <td>1.0</td>\n",
       "      <td>58.0</td>\n",
       "    </tr>\n",
       "    <tr>\n",
       "      <th>21</th>\n",
       "      <td>21</td>\n",
       "      <td>R006</td>\n",
       "      <td>LP</td>\n",
       "      <td>286.382</td>\n",
       "      <td>42.0</td>\n",
       "      <td>41.0</td>\n",
       "      <td>80.0</td>\n",
       "      <td>81.0</td>\n",
       "      <td>67.0</td>\n",
       "      <td>177.0</td>\n",
       "      <td>488.0</td>\n",
       "      <td>1.0</td>\n",
       "      <td>59.0</td>\n",
       "    </tr>\n",
       "    <tr>\n",
       "      <th>22</th>\n",
       "      <td>22</td>\n",
       "      <td>Q467</td>\n",
       "      <td>NP</td>\n",
       "      <td>18.768</td>\n",
       "      <td>1.0</td>\n",
       "      <td>2.0</td>\n",
       "      <td>0.0</td>\n",
       "      <td>0.0</td>\n",
       "      <td>2.0</td>\n",
       "      <td>2.0</td>\n",
       "      <td>7.0</td>\n",
       "      <td>0.0</td>\n",
       "      <td>18.0</td>\n",
       "    </tr>\n",
       "    <tr>\n",
       "      <th>23</th>\n",
       "      <td>23</td>\n",
       "      <td>B223R</td>\n",
       "      <td>PP</td>\n",
       "      <td>0.752</td>\n",
       "      <td>2.0</td>\n",
       "      <td>2.0</td>\n",
       "      <td>45.0</td>\n",
       "      <td>55.0</td>\n",
       "      <td>1.0</td>\n",
       "      <td>1.0</td>\n",
       "      <td>106.0</td>\n",
       "      <td>0.0</td>\n",
       "      <td>44.0</td>\n",
       "    </tr>\n",
       "    <tr>\n",
       "      <th>24</th>\n",
       "      <td>24</td>\n",
       "      <td>B038</td>\n",
       "      <td>NP</td>\n",
       "      <td>1.987</td>\n",
       "      <td>25.0</td>\n",
       "      <td>31.0</td>\n",
       "      <td>23.0</td>\n",
       "      <td>39.0</td>\n",
       "      <td>28.0</td>\n",
       "      <td>48.0</td>\n",
       "      <td>194.0</td>\n",
       "      <td>0.0</td>\n",
       "      <td>50.0</td>\n",
       "    </tr>\n",
       "    <tr>\n",
       "      <th>25</th>\n",
       "      <td>25</td>\n",
       "      <td>M148</td>\n",
       "      <td>PP</td>\n",
       "      <td>0.684</td>\n",
       "      <td>8.0</td>\n",
       "      <td>9.0</td>\n",
       "      <td>0.0</td>\n",
       "      <td>6.0</td>\n",
       "      <td>12.0</td>\n",
       "      <td>8.0</td>\n",
       "      <td>43.0</td>\n",
       "      <td>0.0</td>\n",
       "      <td>36.0</td>\n",
       "    </tr>\n",
       "    <tr>\n",
       "      <th>26</th>\n",
       "      <td>26</td>\n",
       "      <td>M155</td>\n",
       "      <td>PP</td>\n",
       "      <td>0.653</td>\n",
       "      <td>5.0</td>\n",
       "      <td>9.0</td>\n",
       "      <td>6.0</td>\n",
       "      <td>7.0</td>\n",
       "      <td>22.0</td>\n",
       "      <td>38.0</td>\n",
       "      <td>87.0</td>\n",
       "      <td>0.0</td>\n",
       "      <td>42.0</td>\n",
       "    </tr>\n",
       "    <tr>\n",
       "      <th>27</th>\n",
       "      <td>27</td>\n",
       "      <td>X121</td>\n",
       "      <td>NP</td>\n",
       "      <td>1.904</td>\n",
       "      <td>3.0</td>\n",
       "      <td>4.0</td>\n",
       "      <td>3.0</td>\n",
       "      <td>8.0</td>\n",
       "      <td>9.0</td>\n",
       "      <td>14.0</td>\n",
       "      <td>41.0</td>\n",
       "      <td>0.0</td>\n",
       "      <td>35.0</td>\n",
       "    </tr>\n",
       "    <tr>\n",
       "      <th>28</th>\n",
       "      <td>28</td>\n",
       "      <td>M116</td>\n",
       "      <td>PP</td>\n",
       "      <td>0.451</td>\n",
       "      <td>2.0</td>\n",
       "      <td>5.0</td>\n",
       "      <td>2.0</td>\n",
       "      <td>4.0</td>\n",
       "      <td>4.0</td>\n",
       "      <td>1.0</td>\n",
       "      <td>18.0</td>\n",
       "      <td>0.0</td>\n",
       "      <td>27.0</td>\n",
       "    </tr>\n",
       "    <tr>\n",
       "      <th>29</th>\n",
       "      <td>29</td>\n",
       "      <td>M132</td>\n",
       "      <td>NP</td>\n",
       "      <td>1.294</td>\n",
       "      <td>2.0</td>\n",
       "      <td>2.0</td>\n",
       "      <td>22.0</td>\n",
       "      <td>22.0</td>\n",
       "      <td>21.0</td>\n",
       "      <td>23.0</td>\n",
       "      <td>92.0</td>\n",
       "      <td>0.0</td>\n",
       "      <td>43.0</td>\n",
       "    </tr>\n",
       "    <tr>\n",
       "      <th>...</th>\n",
       "      <td>...</td>\n",
       "      <td>...</td>\n",
       "      <td>...</td>\n",
       "      <td>...</td>\n",
       "      <td>...</td>\n",
       "      <td>...</td>\n",
       "      <td>...</td>\n",
       "      <td>...</td>\n",
       "      <td>...</td>\n",
       "      <td>...</td>\n",
       "      <td>...</td>\n",
       "      <td>...</td>\n",
       "      <td>...</td>\n",
       "    </tr>\n",
       "    <tr>\n",
       "      <th>800</th>\n",
       "      <td>800</td>\n",
       "      <td>QT21</td>\n",
       "      <td>PP</td>\n",
       "      <td>0.000</td>\n",
       "      <td>1.0</td>\n",
       "      <td>0.0</td>\n",
       "      <td>0.0</td>\n",
       "      <td>0.0</td>\n",
       "      <td>0.0</td>\n",
       "      <td>0.0</td>\n",
       "      <td>1.0</td>\n",
       "      <td>0.0</td>\n",
       "      <td>0.0</td>\n",
       "    </tr>\n",
       "    <tr>\n",
       "      <th>801</th>\n",
       "      <td>801</td>\n",
       "      <td>Q299</td>\n",
       "      <td>NP</td>\n",
       "      <td>2.327</td>\n",
       "      <td>7.0</td>\n",
       "      <td>0.0</td>\n",
       "      <td>1.0</td>\n",
       "      <td>2.0</td>\n",
       "      <td>0.0</td>\n",
       "      <td>3.0</td>\n",
       "      <td>13.0</td>\n",
       "      <td>0.0</td>\n",
       "      <td>24.0</td>\n",
       "    </tr>\n",
       "    <tr>\n",
       "      <th>802</th>\n",
       "      <td>802</td>\n",
       "      <td>R170</td>\n",
       "      <td>NP</td>\n",
       "      <td>4.605</td>\n",
       "      <td>0.0</td>\n",
       "      <td>0.0</td>\n",
       "      <td>0.0</td>\n",
       "      <td>0.0</td>\n",
       "      <td>0.0</td>\n",
       "      <td>1.0</td>\n",
       "      <td>1.0</td>\n",
       "      <td>0.0</td>\n",
       "      <td>0.0</td>\n",
       "    </tr>\n",
       "    <tr>\n",
       "      <th>803</th>\n",
       "      <td>803</td>\n",
       "      <td>R172</td>\n",
       "      <td>LP</td>\n",
       "      <td>258.720</td>\n",
       "      <td>0.0</td>\n",
       "      <td>0.0</td>\n",
       "      <td>0.0</td>\n",
       "      <td>0.0</td>\n",
       "      <td>0.0</td>\n",
       "      <td>6.0</td>\n",
       "      <td>6.0</td>\n",
       "      <td>0.0</td>\n",
       "      <td>17.0</td>\n",
       "    </tr>\n",
       "    <tr>\n",
       "      <th>804</th>\n",
       "      <td>804</td>\n",
       "      <td>X307</td>\n",
       "      <td>NP</td>\n",
       "      <td>12.224</td>\n",
       "      <td>11.0</td>\n",
       "      <td>17.0</td>\n",
       "      <td>26.0</td>\n",
       "      <td>30.0</td>\n",
       "      <td>22.0</td>\n",
       "      <td>28.0</td>\n",
       "      <td>134.0</td>\n",
       "      <td>0.0</td>\n",
       "      <td>46.0</td>\n",
       "    </tr>\n",
       "    <tr>\n",
       "      <th>805</th>\n",
       "      <td>805</td>\n",
       "      <td>Q327</td>\n",
       "      <td>NP</td>\n",
       "      <td>2.059</td>\n",
       "      <td>1.0</td>\n",
       "      <td>0.0</td>\n",
       "      <td>0.0</td>\n",
       "      <td>1.0</td>\n",
       "      <td>1.0</td>\n",
       "      <td>2.0</td>\n",
       "      <td>5.0</td>\n",
       "      <td>0.0</td>\n",
       "      <td>15.0</td>\n",
       "    </tr>\n",
       "    <tr>\n",
       "      <th>806</th>\n",
       "      <td>806</td>\n",
       "      <td>Q453</td>\n",
       "      <td>LP</td>\n",
       "      <td>47.080</td>\n",
       "      <td>0.0</td>\n",
       "      <td>0.0</td>\n",
       "      <td>1.0</td>\n",
       "      <td>1.0</td>\n",
       "      <td>1.0</td>\n",
       "      <td>1.0</td>\n",
       "      <td>4.0</td>\n",
       "      <td>0.0</td>\n",
       "      <td>13.0</td>\n",
       "    </tr>\n",
       "    <tr>\n",
       "      <th>807</th>\n",
       "      <td>807</td>\n",
       "      <td>Q001A</td>\n",
       "      <td>LP</td>\n",
       "      <td>27.531</td>\n",
       "      <td>3.0</td>\n",
       "      <td>66.0</td>\n",
       "      <td>30.0</td>\n",
       "      <td>11.0</td>\n",
       "      <td>8.0</td>\n",
       "      <td>8.0</td>\n",
       "      <td>126.0</td>\n",
       "      <td>0.0</td>\n",
       "      <td>46.0</td>\n",
       "    </tr>\n",
       "    <tr>\n",
       "      <th>808</th>\n",
       "      <td>808</td>\n",
       "      <td>Q001</td>\n",
       "      <td>LP</td>\n",
       "      <td>635.514</td>\n",
       "      <td>237.0</td>\n",
       "      <td>264.0</td>\n",
       "      <td>231.0</td>\n",
       "      <td>240.0</td>\n",
       "      <td>228.0</td>\n",
       "      <td>383.0</td>\n",
       "      <td>1583.0</td>\n",
       "      <td>4.0</td>\n",
       "      <td>70.0</td>\n",
       "    </tr>\n",
       "    <tr>\n",
       "      <th>809</th>\n",
       "      <td>809</td>\n",
       "      <td>Q133</td>\n",
       "      <td>PP</td>\n",
       "      <td>0.514</td>\n",
       "      <td>0.0</td>\n",
       "      <td>0.0</td>\n",
       "      <td>0.0</td>\n",
       "      <td>126.0</td>\n",
       "      <td>9.0</td>\n",
       "      <td>1.0</td>\n",
       "      <td>136.0</td>\n",
       "      <td>0.0</td>\n",
       "      <td>47.0</td>\n",
       "    </tr>\n",
       "    <tr>\n",
       "      <th>810</th>\n",
       "      <td>810</td>\n",
       "      <td>M081</td>\n",
       "      <td>NP</td>\n",
       "      <td>14.938</td>\n",
       "      <td>165.0</td>\n",
       "      <td>121.0</td>\n",
       "      <td>151.0</td>\n",
       "      <td>157.0</td>\n",
       "      <td>149.0</td>\n",
       "      <td>200.0</td>\n",
       "      <td>943.0</td>\n",
       "      <td>2.0</td>\n",
       "      <td>65.0</td>\n",
       "    </tr>\n",
       "    <tr>\n",
       "      <th>811</th>\n",
       "      <td>811</td>\n",
       "      <td>Q015</td>\n",
       "      <td>LP</td>\n",
       "      <td>506.860</td>\n",
       "      <td>264.0</td>\n",
       "      <td>299.0</td>\n",
       "      <td>277.0</td>\n",
       "      <td>342.0</td>\n",
       "      <td>288.0</td>\n",
       "      <td>419.0</td>\n",
       "      <td>1889.0</td>\n",
       "      <td>5.0</td>\n",
       "      <td>71.0</td>\n",
       "    </tr>\n",
       "    <tr>\n",
       "      <th>812</th>\n",
       "      <td>812</td>\n",
       "      <td>X110A</td>\n",
       "      <td>NP</td>\n",
       "      <td>1.000</td>\n",
       "      <td>0.0</td>\n",
       "      <td>0.0</td>\n",
       "      <td>0.0</td>\n",
       "      <td>0.0</td>\n",
       "      <td>0.0</td>\n",
       "      <td>1.0</td>\n",
       "      <td>1.0</td>\n",
       "      <td>0.0</td>\n",
       "      <td>0.0</td>\n",
       "    </tr>\n",
       "    <tr>\n",
       "      <th>813</th>\n",
       "      <td>813</td>\n",
       "      <td>X110</td>\n",
       "      <td>LP</td>\n",
       "      <td>54.100</td>\n",
       "      <td>0.0</td>\n",
       "      <td>0.0</td>\n",
       "      <td>0.0</td>\n",
       "      <td>3.0</td>\n",
       "      <td>0.0</td>\n",
       "      <td>0.0</td>\n",
       "      <td>3.0</td>\n",
       "      <td>0.0</td>\n",
       "      <td>10.0</td>\n",
       "    </tr>\n",
       "    <tr>\n",
       "      <th>814</th>\n",
       "      <td>814</td>\n",
       "      <td>B029</td>\n",
       "      <td>LP</td>\n",
       "      <td>63.636</td>\n",
       "      <td>1.0</td>\n",
       "      <td>1.0</td>\n",
       "      <td>1.0</td>\n",
       "      <td>1.0</td>\n",
       "      <td>2.0</td>\n",
       "      <td>2.0</td>\n",
       "      <td>8.0</td>\n",
       "      <td>0.0</td>\n",
       "      <td>20.0</td>\n",
       "    </tr>\n",
       "    <tr>\n",
       "      <th>815</th>\n",
       "      <td>815</td>\n",
       "      <td>Q096B</td>\n",
       "      <td>NP</td>\n",
       "      <td>5.593</td>\n",
       "      <td>0.0</td>\n",
       "      <td>0.0</td>\n",
       "      <td>3.0</td>\n",
       "      <td>3.0</td>\n",
       "      <td>1.0</td>\n",
       "      <td>1.0</td>\n",
       "      <td>8.0</td>\n",
       "      <td>0.0</td>\n",
       "      <td>20.0</td>\n",
       "    </tr>\n",
       "    <tr>\n",
       "      <th>816</th>\n",
       "      <td>816</td>\n",
       "      <td>B040</td>\n",
       "      <td>NP</td>\n",
       "      <td>14.257</td>\n",
       "      <td>1.0</td>\n",
       "      <td>0.0</td>\n",
       "      <td>0.0</td>\n",
       "      <td>0.0</td>\n",
       "      <td>0.0</td>\n",
       "      <td>0.0</td>\n",
       "      <td>1.0</td>\n",
       "      <td>0.0</td>\n",
       "      <td>0.0</td>\n",
       "    </tr>\n",
       "    <tr>\n",
       "      <th>817</th>\n",
       "      <td>817</td>\n",
       "      <td>Q012B</td>\n",
       "      <td>NP</td>\n",
       "      <td>17.000</td>\n",
       "      <td>3.0</td>\n",
       "      <td>4.0</td>\n",
       "      <td>1.0</td>\n",
       "      <td>44.0</td>\n",
       "      <td>40.0</td>\n",
       "      <td>5.0</td>\n",
       "      <td>97.0</td>\n",
       "      <td>0.0</td>\n",
       "      <td>43.0</td>\n",
       "    </tr>\n",
       "    <tr>\n",
       "      <th>818</th>\n",
       "      <td>818</td>\n",
       "      <td>M159</td>\n",
       "      <td>NP</td>\n",
       "      <td>2.445</td>\n",
       "      <td>3.0</td>\n",
       "      <td>7.0</td>\n",
       "      <td>7.0</td>\n",
       "      <td>7.0</td>\n",
       "      <td>13.0</td>\n",
       "      <td>3.0</td>\n",
       "      <td>40.0</td>\n",
       "      <td>0.0</td>\n",
       "      <td>35.0</td>\n",
       "    </tr>\n",
       "    <tr>\n",
       "      <th>819</th>\n",
       "      <td>819</td>\n",
       "      <td>M231</td>\n",
       "      <td>NP</td>\n",
       "      <td>2.443</td>\n",
       "      <td>158.0</td>\n",
       "      <td>205.0</td>\n",
       "      <td>151.0</td>\n",
       "      <td>52.0</td>\n",
       "      <td>82.0</td>\n",
       "      <td>111.0</td>\n",
       "      <td>759.0</td>\n",
       "      <td>2.0</td>\n",
       "      <td>63.0</td>\n",
       "    </tr>\n",
       "    <tr>\n",
       "      <th>820</th>\n",
       "      <td>820</td>\n",
       "      <td>R017</td>\n",
       "      <td>LP</td>\n",
       "      <td>920.426</td>\n",
       "      <td>0.0</td>\n",
       "      <td>0.0</td>\n",
       "      <td>2.0</td>\n",
       "      <td>3.0</td>\n",
       "      <td>9.0</td>\n",
       "      <td>0.0</td>\n",
       "      <td>14.0</td>\n",
       "      <td>0.0</td>\n",
       "      <td>25.0</td>\n",
       "    </tr>\n",
       "    <tr>\n",
       "      <th>821</th>\n",
       "      <td>821</td>\n",
       "      <td>X002</td>\n",
       "      <td>LP</td>\n",
       "      <td>718.373</td>\n",
       "      <td>69.0</td>\n",
       "      <td>77.0</td>\n",
       "      <td>54.0</td>\n",
       "      <td>71.0</td>\n",
       "      <td>56.0</td>\n",
       "      <td>141.0</td>\n",
       "      <td>468.0</td>\n",
       "      <td>1.0</td>\n",
       "      <td>58.0</td>\n",
       "    </tr>\n",
       "    <tr>\n",
       "      <th>822</th>\n",
       "      <td>822</td>\n",
       "      <td>M263</td>\n",
       "      <td>NP</td>\n",
       "      <td>1.593</td>\n",
       "      <td>26.0</td>\n",
       "      <td>9.0</td>\n",
       "      <td>4.0</td>\n",
       "      <td>3.0</td>\n",
       "      <td>3.0</td>\n",
       "      <td>7.0</td>\n",
       "      <td>52.0</td>\n",
       "      <td>0.0</td>\n",
       "      <td>37.0</td>\n",
       "    </tr>\n",
       "    <tr>\n",
       "      <th>823</th>\n",
       "      <td>823</td>\n",
       "      <td>X193</td>\n",
       "      <td>NP</td>\n",
       "      <td>2.646</td>\n",
       "      <td>0.0</td>\n",
       "      <td>2.0</td>\n",
       "      <td>5.0</td>\n",
       "      <td>2.0</td>\n",
       "      <td>2.0</td>\n",
       "      <td>2.0</td>\n",
       "      <td>13.0</td>\n",
       "      <td>0.0</td>\n",
       "      <td>24.0</td>\n",
       "    </tr>\n",
       "    <tr>\n",
       "      <th>824</th>\n",
       "      <td>824</td>\n",
       "      <td>R129</td>\n",
       "      <td>LP</td>\n",
       "      <td>161.242</td>\n",
       "      <td>0.0</td>\n",
       "      <td>0.0</td>\n",
       "      <td>3.0</td>\n",
       "      <td>0.0</td>\n",
       "      <td>1.0</td>\n",
       "      <td>0.0</td>\n",
       "      <td>4.0</td>\n",
       "      <td>0.0</td>\n",
       "      <td>13.0</td>\n",
       "    </tr>\n",
       "    <tr>\n",
       "      <th>825</th>\n",
       "      <td>825</td>\n",
       "      <td>Q378</td>\n",
       "      <td>NP</td>\n",
       "      <td>1.318</td>\n",
       "      <td>0.0</td>\n",
       "      <td>0.0</td>\n",
       "      <td>4.0</td>\n",
       "      <td>3.0</td>\n",
       "      <td>1.0</td>\n",
       "      <td>1.0</td>\n",
       "      <td>9.0</td>\n",
       "      <td>0.0</td>\n",
       "      <td>21.0</td>\n",
       "    </tr>\n",
       "    <tr>\n",
       "      <th>826</th>\n",
       "      <td>826</td>\n",
       "      <td>X137</td>\n",
       "      <td>NP</td>\n",
       "      <td>4.359</td>\n",
       "      <td>0.0</td>\n",
       "      <td>0.0</td>\n",
       "      <td>2.0</td>\n",
       "      <td>0.0</td>\n",
       "      <td>0.0</td>\n",
       "      <td>0.0</td>\n",
       "      <td>2.0</td>\n",
       "      <td>0.0</td>\n",
       "      <td>7.0</td>\n",
       "    </tr>\n",
       "    <tr>\n",
       "      <th>827</th>\n",
       "      <td>827</td>\n",
       "      <td>Q004A</td>\n",
       "      <td>NP</td>\n",
       "      <td>5.820</td>\n",
       "      <td>1.0</td>\n",
       "      <td>0.0</td>\n",
       "      <td>0.0</td>\n",
       "      <td>0.0</td>\n",
       "      <td>0.0</td>\n",
       "      <td>0.0</td>\n",
       "      <td>1.0</td>\n",
       "      <td>0.0</td>\n",
       "      <td>0.0</td>\n",
       "    </tr>\n",
       "    <tr>\n",
       "      <th>828</th>\n",
       "      <td>828</td>\n",
       "      <td>X004</td>\n",
       "      <td>LP</td>\n",
       "      <td>206.717</td>\n",
       "      <td>6.0</td>\n",
       "      <td>27.0</td>\n",
       "      <td>74.0</td>\n",
       "      <td>9.0</td>\n",
       "      <td>7.0</td>\n",
       "      <td>38.0</td>\n",
       "      <td>161.0</td>\n",
       "      <td>0.0</td>\n",
       "      <td>48.0</td>\n",
       "    </tr>\n",
       "    <tr>\n",
       "      <th>829</th>\n",
       "      <td>829</td>\n",
       "      <td>B073</td>\n",
       "      <td>LP</td>\n",
       "      <td>526.250</td>\n",
       "      <td>1758.0</td>\n",
       "      <td>1731.0</td>\n",
       "      <td>1962.0</td>\n",
       "      <td>1738.0</td>\n",
       "      <td>1394.0</td>\n",
       "      <td>1564.0</td>\n",
       "      <td>10147.0</td>\n",
       "      <td>26.0</td>\n",
       "      <td>87.0</td>\n",
       "    </tr>\n",
       "  </tbody>\n",
       "</table>\n",
       "<p>830 rows × 13 columns</p>\n",
       "</div>"
      ],
      "text/plain": [
       "     index GISPROPNUM TYPECATEGO    ACRES    2013    2014    2015    2016  \\\n",
       "0        0       Q104         LP   20.340    63.0    76.0    61.0    51.0   \n",
       "1        1       X253         NP    6.100     1.0     3.0     1.0     1.0   \n",
       "2        2       Q465         NP    6.280    23.0    32.0    21.0    45.0   \n",
       "3        3       B379         NP    8.892     0.0     0.0     0.0     0.0   \n",
       "4        4       B385         NP    6.611    31.0   132.0    54.0    27.0   \n",
       "5        5       B129         LP   26.257    69.0   142.0   162.0   151.0   \n",
       "6        6       B126         LP   58.503    52.0   109.0    92.0    31.0   \n",
       "7        7       R008         NP    4.339     7.0     4.0    12.0    11.0   \n",
       "8        8       Q371         LP  255.400     1.0     0.0     3.0     2.0   \n",
       "9        9       R079         LP  104.545     0.0     2.0     5.0     7.0   \n",
       "10      10      B169A         NP    1.225     3.0     6.0     4.0     4.0   \n",
       "11      11      B169B         NP    2.944     0.0     2.0     8.0     2.0   \n",
       "12      12       B125         LP   85.527     6.0   401.0   375.0   377.0   \n",
       "13      13       M353         LP   66.693    89.0   106.0   102.0   114.0   \n",
       "14      14       B336         NP    8.807     0.0     2.0     0.0     0.0   \n",
       "15      15       B401         NP    1.700     5.0     6.0     7.0    12.0   \n",
       "16      16       Q126         NP   16.831     8.0     8.0    12.0    16.0   \n",
       "17      17       X305         NP    6.438     3.0     4.0     2.0    33.0   \n",
       "18      18       Q004         LP   59.956   208.0   270.0   219.0   266.0   \n",
       "19      19       Q471         LP   22.600     4.0    69.0    62.0    39.0   \n",
       "20      20       M300         NP   15.383    80.0    90.0    54.0    82.0   \n",
       "21      21       R006         LP  286.382    42.0    41.0    80.0    81.0   \n",
       "22      22       Q467         NP   18.768     1.0     2.0     0.0     0.0   \n",
       "23      23      B223R         PP    0.752     2.0     2.0    45.0    55.0   \n",
       "24      24       B038         NP    1.987    25.0    31.0    23.0    39.0   \n",
       "25      25       M148         PP    0.684     8.0     9.0     0.0     6.0   \n",
       "26      26       M155         PP    0.653     5.0     9.0     6.0     7.0   \n",
       "27      27       X121         NP    1.904     3.0     4.0     3.0     8.0   \n",
       "28      28       M116         PP    0.451     2.0     5.0     2.0     4.0   \n",
       "29      29       M132         NP    1.294     2.0     2.0    22.0    22.0   \n",
       "..     ...        ...        ...      ...     ...     ...     ...     ...   \n",
       "800    800       QT21         PP    0.000     1.0     0.0     0.0     0.0   \n",
       "801    801       Q299         NP    2.327     7.0     0.0     1.0     2.0   \n",
       "802    802       R170         NP    4.605     0.0     0.0     0.0     0.0   \n",
       "803    803       R172         LP  258.720     0.0     0.0     0.0     0.0   \n",
       "804    804       X307         NP   12.224    11.0    17.0    26.0    30.0   \n",
       "805    805       Q327         NP    2.059     1.0     0.0     0.0     1.0   \n",
       "806    806       Q453         LP   47.080     0.0     0.0     1.0     1.0   \n",
       "807    807      Q001A         LP   27.531     3.0    66.0    30.0    11.0   \n",
       "808    808       Q001         LP  635.514   237.0   264.0   231.0   240.0   \n",
       "809    809       Q133         PP    0.514     0.0     0.0     0.0   126.0   \n",
       "810    810       M081         NP   14.938   165.0   121.0   151.0   157.0   \n",
       "811    811       Q015         LP  506.860   264.0   299.0   277.0   342.0   \n",
       "812    812      X110A         NP    1.000     0.0     0.0     0.0     0.0   \n",
       "813    813       X110         LP   54.100     0.0     0.0     0.0     3.0   \n",
       "814    814       B029         LP   63.636     1.0     1.0     1.0     1.0   \n",
       "815    815      Q096B         NP    5.593     0.0     0.0     3.0     3.0   \n",
       "816    816       B040         NP   14.257     1.0     0.0     0.0     0.0   \n",
       "817    817      Q012B         NP   17.000     3.0     4.0     1.0    44.0   \n",
       "818    818       M159         NP    2.445     3.0     7.0     7.0     7.0   \n",
       "819    819       M231         NP    2.443   158.0   205.0   151.0    52.0   \n",
       "820    820       R017         LP  920.426     0.0     0.0     2.0     3.0   \n",
       "821    821       X002         LP  718.373    69.0    77.0    54.0    71.0   \n",
       "822    822       M263         NP    1.593    26.0     9.0     4.0     3.0   \n",
       "823    823       X193         NP    2.646     0.0     2.0     5.0     2.0   \n",
       "824    824       R129         LP  161.242     0.0     0.0     3.0     0.0   \n",
       "825    825       Q378         NP    1.318     0.0     0.0     4.0     3.0   \n",
       "826    826       X137         NP    4.359     0.0     0.0     2.0     0.0   \n",
       "827    827      Q004A         NP    5.820     1.0     0.0     0.0     0.0   \n",
       "828    828       X004         LP  206.717     6.0    27.0    74.0     9.0   \n",
       "829    829       B073         LP  526.250  1758.0  1731.0  1962.0  1738.0   \n",
       "\n",
       "       2017    2018       tp  tp_mm  tp_lmm  \n",
       "0      65.0    88.0    404.0    1.0    57.0  \n",
       "1       3.0     5.0     14.0    0.0    25.0  \n",
       "2      14.0    26.0    161.0    0.0    48.0  \n",
       "3       1.0     0.0      1.0    0.0     0.0  \n",
       "4      27.0    26.0    297.0    1.0    54.0  \n",
       "5     172.0   110.0    806.0    2.0    63.0  \n",
       "6      24.0    49.0    357.0    1.0    56.0  \n",
       "7       5.0    17.0     56.0    0.0    38.0  \n",
       "8       2.0     1.0      9.0    0.0    21.0  \n",
       "9       2.0     9.0     25.0    0.0    30.0  \n",
       "10     14.0     5.0     36.0    0.0    34.0  \n",
       "11      4.0     8.0     24.0    0.0    30.0  \n",
       "12    381.0   376.0   1916.0    5.0    72.0  \n",
       "13    103.0   128.0    642.0    2.0    61.0  \n",
       "14      0.0     0.0      2.0    0.0     7.0  \n",
       "15      2.0     3.0     35.0    0.0    34.0  \n",
       "16     12.0    21.0     77.0    0.0    41.0  \n",
       "17      6.0    33.0     81.0    0.0    42.0  \n",
       "18    165.0   241.0   1369.0    4.0    68.0  \n",
       "19     19.0    51.0    244.0    1.0    52.0  \n",
       "20     65.0    87.0    458.0    1.0    58.0  \n",
       "21     67.0   177.0    488.0    1.0    59.0  \n",
       "22      2.0     2.0      7.0    0.0    18.0  \n",
       "23      1.0     1.0    106.0    0.0    44.0  \n",
       "24     28.0    48.0    194.0    0.0    50.0  \n",
       "25     12.0     8.0     43.0    0.0    36.0  \n",
       "26     22.0    38.0     87.0    0.0    42.0  \n",
       "27      9.0    14.0     41.0    0.0    35.0  \n",
       "28      4.0     1.0     18.0    0.0    27.0  \n",
       "29     21.0    23.0     92.0    0.0    43.0  \n",
       "..      ...     ...      ...    ...     ...  \n",
       "800     0.0     0.0      1.0    0.0     0.0  \n",
       "801     0.0     3.0     13.0    0.0    24.0  \n",
       "802     0.0     1.0      1.0    0.0     0.0  \n",
       "803     0.0     6.0      6.0    0.0    17.0  \n",
       "804    22.0    28.0    134.0    0.0    46.0  \n",
       "805     1.0     2.0      5.0    0.0    15.0  \n",
       "806     1.0     1.0      4.0    0.0    13.0  \n",
       "807     8.0     8.0    126.0    0.0    46.0  \n",
       "808   228.0   383.0   1583.0    4.0    70.0  \n",
       "809     9.0     1.0    136.0    0.0    47.0  \n",
       "810   149.0   200.0    943.0    2.0    65.0  \n",
       "811   288.0   419.0   1889.0    5.0    71.0  \n",
       "812     0.0     1.0      1.0    0.0     0.0  \n",
       "813     0.0     0.0      3.0    0.0    10.0  \n",
       "814     2.0     2.0      8.0    0.0    20.0  \n",
       "815     1.0     1.0      8.0    0.0    20.0  \n",
       "816     0.0     0.0      1.0    0.0     0.0  \n",
       "817    40.0     5.0     97.0    0.0    43.0  \n",
       "818    13.0     3.0     40.0    0.0    35.0  \n",
       "819    82.0   111.0    759.0    2.0    63.0  \n",
       "820     9.0     0.0     14.0    0.0    25.0  \n",
       "821    56.0   141.0    468.0    1.0    58.0  \n",
       "822     3.0     7.0     52.0    0.0    37.0  \n",
       "823     2.0     2.0     13.0    0.0    24.0  \n",
       "824     1.0     0.0      4.0    0.0    13.0  \n",
       "825     1.0     1.0      9.0    0.0    21.0  \n",
       "826     0.0     0.0      2.0    0.0     7.0  \n",
       "827     0.0     0.0      1.0    0.0     0.0  \n",
       "828     7.0    38.0    161.0    0.0    48.0  \n",
       "829  1394.0  1564.0  10147.0   26.0    87.0  \n",
       "\n",
       "[830 rows x 13 columns]"
      ]
     },
     "execution_count": 596,
     "metadata": {},
     "output_type": "execute_result"
    }
   ],
   "source": [
    "y2y.reset_index(inplace=True)\n",
    "y2y"
   ]
  },
  {
   "cell_type": "markdown",
   "metadata": {},
   "source": [
    "### Adjust Scores by Park Type"
   ]
  },
  {
   "cell_type": "code",
   "execution_count": 597,
   "metadata": {},
   "outputs": [],
   "source": [
    "parktypes= ['PP','NP','LP']\n",
    "#Pocket Park, Neighborhood Park, and Large Park"
   ]
  },
  {
   "cell_type": "code",
   "execution_count": 598,
   "metadata": {},
   "outputs": [],
   "source": [
    "uparks= perms[~perms[['GISPROPNUM', 'TYPECATEGO']].duplicated()][['GISPROPNUM', 'TYPECATEGO']].reset_index(drop=True)"
   ]
  },
  {
   "cell_type": "code",
   "execution_count": 599,
   "metadata": {},
   "outputs": [
    {
     "data": {
      "text/plain": [
       "Index(['community_board', 'end_date_time', 'event_agency', 'event_borough',\n",
       "       'event_id', 'event_location', 'event_name', 'event_street_side',\n",
       "       'event_type', 'police_precinct', 'start_date_time',\n",
       "       'street_closure_type', 'year', 'start_time', 'end_time', 'date', 'dow',\n",
       "       'event_clean', 'park_short', 'BOROUGH', 'park_clean', 'GISPROPNUM',\n",
       "       'TYPECATEGO'],\n",
       "      dtype='object')"
      ]
     },
     "execution_count": 599,
     "metadata": {},
     "output_type": "execute_result"
    }
   ],
   "source": [
    "perms.columns"
   ]
  },
  {
   "cell_type": "code",
   "execution_count": 600,
   "metadata": {},
   "outputs": [],
   "source": [
    "y2y= pd.merge(uparks, y2y.drop('TYPECATEGO', axis=1), on='GISPROPNUM', how='right')"
   ]
  },
  {
   "cell_type": "code",
   "execution_count": 601,
   "metadata": {},
   "outputs": [],
   "source": [
    "fordf= []\n",
    "\n",
    "for p in parktypes:\n",
    "    v= y2y[y2y['TYPECATEGO']==p]['tp'].values\n",
    "    fordf.append([p, v.max(), v.min()])"
   ]
  },
  {
   "cell_type": "code",
   "execution_count": 602,
   "metadata": {},
   "outputs": [],
   "source": [
    "minmaxes= pd.DataFrame(np.array(fordf), columns=['TYPECATEGO', 'MAX', 'MIN']).set_index('TYPECATEGO')"
   ]
  },
  {
   "cell_type": "code",
   "execution_count": 603,
   "metadata": {},
   "outputs": [],
   "source": [
    "for n, s in minmaxes.iteritems():\n",
    "    minmaxes[n]= s.astype(np.float32)"
   ]
  },
  {
   "cell_type": "code",
   "execution_count": 604,
   "metadata": {},
   "outputs": [],
   "source": [
    "minmaxes['DELTA']= minmaxes['MAX']-minmaxes['MIN']"
   ]
  },
  {
   "cell_type": "code",
   "execution_count": 605,
   "metadata": {},
   "outputs": [
    {
     "data": {
      "text/html": [
       "<div>\n",
       "<style scoped>\n",
       "    .dataframe tbody tr th:only-of-type {\n",
       "        vertical-align: middle;\n",
       "    }\n",
       "\n",
       "    .dataframe tbody tr th {\n",
       "        vertical-align: top;\n",
       "    }\n",
       "\n",
       "    .dataframe thead th {\n",
       "        text-align: right;\n",
       "    }\n",
       "</style>\n",
       "<table border=\"1\" class=\"dataframe\">\n",
       "  <thead>\n",
       "    <tr style=\"text-align: right;\">\n",
       "      <th></th>\n",
       "      <th>MAX</th>\n",
       "      <th>MIN</th>\n",
       "      <th>DELTA</th>\n",
       "    </tr>\n",
       "    <tr>\n",
       "      <th>TYPECATEGO</th>\n",
       "      <th></th>\n",
       "      <th></th>\n",
       "      <th></th>\n",
       "    </tr>\n",
       "  </thead>\n",
       "  <tbody>\n",
       "    <tr>\n",
       "      <th>PP</th>\n",
       "      <td>725.0</td>\n",
       "      <td>1.0</td>\n",
       "      <td>724.0</td>\n",
       "    </tr>\n",
       "    <tr>\n",
       "      <th>NP</th>\n",
       "      <td>5705.0</td>\n",
       "      <td>1.0</td>\n",
       "      <td>5704.0</td>\n",
       "    </tr>\n",
       "    <tr>\n",
       "      <th>LP</th>\n",
       "      <td>38611.0</td>\n",
       "      <td>1.0</td>\n",
       "      <td>38610.0</td>\n",
       "    </tr>\n",
       "  </tbody>\n",
       "</table>\n",
       "</div>"
      ],
      "text/plain": [
       "                MAX  MIN    DELTA\n",
       "TYPECATEGO                       \n",
       "PP            725.0  1.0    724.0\n",
       "NP           5705.0  1.0   5704.0\n",
       "LP          38611.0  1.0  38610.0"
      ]
     },
     "execution_count": 605,
     "metadata": {},
     "output_type": "execute_result"
    }
   ],
   "source": [
    "minmaxes"
   ]
  },
  {
   "cell_type": "code",
   "execution_count": 606,
   "metadata": {},
   "outputs": [],
   "source": [
    "def park_type_adjusted(x, pt, lookup):\n",
    "    '''\n",
    "    Performs LMM normalization adjusting for the min\n",
    "    and max values of the park category.\n",
    "    '''\n",
    "    try:\n",
    "        mi= np.log(lookup.loc[pt, 'MIN'])\n",
    "        mx= np.log(lookup.loc[pt, 'MAX'])\n",
    "        dt= mx-mi\n",
    "        return round((np.log(x)-mi)/dt*100, 0)\n",
    "    except KeyError:\n",
    "        return np.nan"
   ]
  },
  {
   "cell_type": "code",
   "execution_count": 607,
   "metadata": {},
   "outputs": [],
   "source": [
    "y2y['tp_palmm']= [park_type_adjusted(x, pt, minmaxes) for x, pt in y2y[['tp', 'TYPECATEGO']].itertuples(index=False)]"
   ]
  },
  {
   "cell_type": "code",
   "execution_count": 608,
   "metadata": {},
   "outputs": [
    {
     "data": {
      "text/plain": [
       "100.0"
      ]
     },
     "execution_count": 608,
     "metadata": {},
     "output_type": "execute_result"
    }
   ],
   "source": [
    "y2y['tp_palmm'].max()"
   ]
  },
  {
   "cell_type": "code",
   "execution_count": 609,
   "metadata": {},
   "outputs": [],
   "source": [
    "three_colors= ['#FD5700', '#29D0BF', '#9355B0']"
   ]
  },
  {
   "cell_type": "code",
   "execution_count": 610,
   "metadata": {},
   "outputs": [
    {
     "data": {
      "image/png": "[encoded data removed]",
      "text/plain": [
       "<Figure size 432x288 with 1 Axes>"
      ]
     },
     "metadata": {
      "needs_background": "light"
     },
     "output_type": "display_data"
    }
   ],
   "source": [
    "bins= np.arange(0, 102, 2)\n",
    "\n",
    "tp_lmm= y2y['tp_lmm'].values\n",
    "tp_palmm= y2y['tp_palmm'].values\n",
    "\n",
    "plt.hist(tp_lmm, bins,label='TP LMM', color=three_colors[0])\n",
    "plt.hist(tp_palmm, bins, label='TP PALMM', color=three_colors[1])\n",
    "\n",
    "plt.legend(loc='center left', bbox_to_anchor=(1,.5))\n",
    "plt.xlabel('Programming Score')\n",
    "plt.ylabel('Number of Parks')\n",
    "\n",
    "#plt.savefig(join(path_exp, 'Total Permits LMM and Total Permits Adjusted LMM.pdf'))\n",
    "\n",
    "plt.show();"
   ]
  },
  {
   "cell_type": "code",
   "execution_count": 611,
   "metadata": {},
   "outputs": [
    {
     "data": {
      "image/png": "[encoded data removed]",
      "text/plain": [
       "<Figure size 432x288 with 1 Axes>"
      ]
     },
     "metadata": {
      "needs_background": "light"
     },
     "output_type": "display_data"
    }
   ],
   "source": [
    "bins= np.arange(0, 102, 2)\n",
    "\n",
    "plt.hist(y2y['tp_palmm'].values, bins, label='Log Min Max Norm', color='#dfdfdf')\n",
    "\n",
    "for pt, c in zip(parktypes, three_colors):\n",
    "    scores= y2y[y2y['TYPECATEGO']==pt]['tp_palmm'].values\n",
    "    plt.hist(scores, bins,label=pt, color=c)\n",
    "\n",
    "plt.legend(loc='center left', bbox_to_anchor=(1,.5))\n",
    "plt.xlabel('Programming Score')\n",
    "plt.ylabel('Number of Parks')\n",
    "\n",
    "#plt.savefig(join(path_exp, 'Total Permits Adjusted LMM by Park Type.pdf'))\n",
    "\n",
    "plt.show();"
   ]
  },
  {
   "cell_type": "markdown",
   "metadata": {},
   "source": [
    "# Total Permits per Acre by Park Type, MM and LMM\n",
    "* no0: removes all parks with 0 acres\n",
    "* tpa: total permits/total park acres\n",
    "* tpa_palmm: total permits per park acre LMM adjusted by park type"
   ]
  },
  {
   "cell_type": "code",
   "execution_count": 612,
   "metadata": {},
   "outputs": [],
   "source": [
    "no0= y2y[y2y['ACRES']!=0].copy()"
   ]
  },
  {
   "cell_type": "code",
   "execution_count": 613,
   "metadata": {},
   "outputs": [],
   "source": [
    "no0['tpa']= no0['tp']/no0['ACRES']"
   ]
  },
  {
   "cell_type": "markdown",
   "metadata": {},
   "source": [
    "## MM and LMM Normalization"
   ]
  },
  {
   "cell_type": "code",
   "execution_count": 614,
   "metadata": {},
   "outputs": [],
   "source": [
    "tmax= no0['tpa'].max()\n",
    "tmin= no0['tpa'].min()\n",
    "\n",
    "no0['tpa_mm']= no0['tpa'].apply(lambda x: (x-tmin)/(tmax-tmin))*100\n",
    "no0['tpa_lmm']= no0['tpa'].apply(lambda x: (np.log(x)-np.log(tmin))/(np.log(tmax)-np.log(tmin)))*100"
   ]
  },
  {
   "cell_type": "code",
   "execution_count": 615,
   "metadata": {},
   "outputs": [
    {
     "data": {
      "image/png": "[encoded data removed]",
      "text/plain": [
       "<Figure size 432x288 with 1 Axes>"
      ]
     },
     "metadata": {
      "needs_background": "light"
     },
     "output_type": "display_data"
    }
   ],
   "source": [
    "a= no0['tpa_mm'].values\n",
    "b= no0['tpa_lmm'].values\n",
    "\n",
    "bins= np.arange(0, 102, 2)\n",
    "\n",
    "plt.hist(a, bins, alpha=0.5, label='Min Max Norm', color='#FD5700')\n",
    "plt.hist(b, bins, alpha=0.5, label='Log Min Max Norm', color='#29D0BF')\n",
    "\n",
    "plt.legend(loc='center left', bbox_to_anchor=(1,.5))\n",
    "plt.xlabel('Programming Score')\n",
    "plt.ylabel('Number of Parks')\n",
    "\n",
    "plt.ylim((0,80))\n",
    "\n",
    "#plt.savefig(join(path_exp, 'Total Permits per Acre_MM_LMM.pdf'))\n",
    "\n",
    "plt.show();"
   ]
  },
  {
   "cell_type": "code",
   "execution_count": 616,
   "metadata": {},
   "outputs": [
    {
     "data": {
      "image/png": "[encoded data removed]",
      "text/plain": [
       "<Figure size 432x288 with 1 Axes>"
      ]
     },
     "metadata": {
      "needs_background": "light"
     },
     "output_type": "display_data"
    }
   ],
   "source": [
    "a= no0['tpa_mm'].values\n",
    "b= no0['tpa_lmm'].values\n",
    "\n",
    "bins= np.arange(0, 102, 2)\n",
    "\n",
    "plt.hist(a, bins, alpha=0.5, label='Min Max Norm', color='#FD5700')\n",
    "plt.hist(b, bins, alpha=0.5, label='Log Min Max Norm', color='#29D0BF')\n",
    "\n",
    "plt.legend(loc='center left', bbox_to_anchor=(1,.5))\n",
    "plt.xlabel('Programming Score')\n",
    "plt.ylabel('Number of Parks')\n",
    "\n",
    "#plt.ylim((0,80))\n",
    "\n",
    "#plt.savefig(join(path_exp, 'Total Events by Acre_MM_LMM.pdf'))\n",
    "\n",
    "plt.show();"
   ]
  },
  {
   "cell_type": "markdown",
   "metadata": {},
   "source": [
    "## Adjust by Park Type"
   ]
  },
  {
   "cell_type": "code",
   "execution_count": 617,
   "metadata": {},
   "outputs": [],
   "source": [
    "fordf2= []\n",
    "\n",
    "for p in park_types:\n",
    "    v= no0[no0['TYPECATEGO']==p]['tpa'].values\n",
    "    if len(v)>0:\n",
    "        fordf2.append([p, v.max(), v.min()])\n",
    "\n",
    "minmaxes2= pd.DataFrame(np.array(fordf2), columns=['TYPECATEGO', 'MAX', 'MIN']).set_index('TYPECATEGO')"
   ]
  },
  {
   "cell_type": "code",
   "execution_count": 618,
   "metadata": {},
   "outputs": [
    {
     "data": {
      "text/html": [
       "<div>\n",
       "<style scoped>\n",
       "    .dataframe tbody tr th:only-of-type {\n",
       "        vertical-align: middle;\n",
       "    }\n",
       "\n",
       "    .dataframe tbody tr th {\n",
       "        vertical-align: top;\n",
       "    }\n",
       "\n",
       "    .dataframe thead th {\n",
       "        text-align: right;\n",
       "    }\n",
       "</style>\n",
       "<table border=\"1\" class=\"dataframe\">\n",
       "  <thead>\n",
       "    <tr style=\"text-align: right;\">\n",
       "      <th></th>\n",
       "      <th>MAX</th>\n",
       "      <th>MIN</th>\n",
       "    </tr>\n",
       "    <tr>\n",
       "      <th>TYPECATEGO</th>\n",
       "      <th></th>\n",
       "      <th></th>\n",
       "    </tr>\n",
       "  </thead>\n",
       "  <tbody>\n",
       "    <tr>\n",
       "      <th>LP</th>\n",
       "      <td>61.93900322340689</td>\n",
       "      <td>0.00503826562744041</td>\n",
       "    </tr>\n",
       "    <tr>\n",
       "      <th>NP</th>\n",
       "      <td>686.1635220125786</td>\n",
       "      <td>0.07014098337658695</td>\n",
       "    </tr>\n",
       "    <tr>\n",
       "      <th>PP</th>\n",
       "      <td>60000.0</td>\n",
       "      <td>1.1111111111111112</td>\n",
       "    </tr>\n",
       "  </tbody>\n",
       "</table>\n",
       "</div>"
      ],
      "text/plain": [
       "                          MAX                  MIN\n",
       "TYPECATEGO                                        \n",
       "LP          61.93900322340689  0.00503826562744041\n",
       "NP          686.1635220125786  0.07014098337658695\n",
       "PP                    60000.0   1.1111111111111112"
      ]
     },
     "execution_count": 618,
     "metadata": {},
     "output_type": "execute_result"
    }
   ],
   "source": [
    "minmaxes2"
   ]
  },
  {
   "cell_type": "code",
   "execution_count": 619,
   "metadata": {},
   "outputs": [
    {
     "data": {
      "text/html": [
       "<div>\n",
       "<style scoped>\n",
       "    .dataframe tbody tr th:only-of-type {\n",
       "        vertical-align: middle;\n",
       "    }\n",
       "\n",
       "    .dataframe tbody tr th {\n",
       "        vertical-align: top;\n",
       "    }\n",
       "\n",
       "    .dataframe thead th {\n",
       "        text-align: right;\n",
       "    }\n",
       "</style>\n",
       "<table border=\"1\" class=\"dataframe\">\n",
       "  <thead>\n",
       "    <tr style=\"text-align: right;\">\n",
       "      <th></th>\n",
       "      <th>GISPROPNUM</th>\n",
       "      <th>TYPECATEGO</th>\n",
       "      <th>index</th>\n",
       "      <th>ACRES</th>\n",
       "      <th>2013</th>\n",
       "      <th>2014</th>\n",
       "      <th>2015</th>\n",
       "      <th>2016</th>\n",
       "      <th>2017</th>\n",
       "      <th>2018</th>\n",
       "      <th>tp</th>\n",
       "      <th>tp_mm</th>\n",
       "      <th>tp_lmm</th>\n",
       "      <th>tp_palmm</th>\n",
       "      <th>tpa</th>\n",
       "      <th>tpa_mm</th>\n",
       "      <th>tpa_lmm</th>\n",
       "    </tr>\n",
       "  </thead>\n",
       "  <tbody>\n",
       "    <tr>\n",
       "      <th>424</th>\n",
       "      <td>B094</td>\n",
       "      <td>PP</td>\n",
       "      <td>627</td>\n",
       "      <td>0.001</td>\n",
       "      <td>22.0</td>\n",
       "      <td>0.0</td>\n",
       "      <td>15.0</td>\n",
       "      <td>2.0</td>\n",
       "      <td>4.0</td>\n",
       "      <td>17.0</td>\n",
       "      <td>60.0</td>\n",
       "      <td>0.0</td>\n",
       "      <td>39.0</td>\n",
       "      <td>62.0</td>\n",
       "      <td>60000.000000</td>\n",
       "      <td>100.000000</td>\n",
       "      <td>100.000000</td>\n",
       "    </tr>\n",
       "    <tr>\n",
       "      <th>531</th>\n",
       "      <td>Q058</td>\n",
       "      <td>PP</td>\n",
       "      <td>656</td>\n",
       "      <td>0.003</td>\n",
       "      <td>1.0</td>\n",
       "      <td>2.0</td>\n",
       "      <td>1.0</td>\n",
       "      <td>2.0</td>\n",
       "      <td>2.0</td>\n",
       "      <td>22.0</td>\n",
       "      <td>30.0</td>\n",
       "      <td>0.0</td>\n",
       "      <td>32.0</td>\n",
       "      <td>52.0</td>\n",
       "      <td>10000.000000</td>\n",
       "      <td>16.666660</td>\n",
       "      <td>89.002748</td>\n",
       "    </tr>\n",
       "    <tr>\n",
       "      <th>21</th>\n",
       "      <td>M093</td>\n",
       "      <td>PP</td>\n",
       "      <td>471</td>\n",
       "      <td>0.076</td>\n",
       "      <td>99.0</td>\n",
       "      <td>96.0</td>\n",
       "      <td>96.0</td>\n",
       "      <td>96.0</td>\n",
       "      <td>150.0</td>\n",
       "      <td>188.0</td>\n",
       "      <td>725.0</td>\n",
       "      <td>2.0</td>\n",
       "      <td>62.0</td>\n",
       "      <td>100.0</td>\n",
       "      <td>9539.473684</td>\n",
       "      <td>15.899116</td>\n",
       "      <td>88.713376</td>\n",
       "    </tr>\n",
       "    <tr>\n",
       "      <th>295</th>\n",
       "      <td>M040</td>\n",
       "      <td>PP</td>\n",
       "      <td>598</td>\n",
       "      <td>0.018</td>\n",
       "      <td>1.0</td>\n",
       "      <td>22.0</td>\n",
       "      <td>22.0</td>\n",
       "      <td>20.0</td>\n",
       "      <td>45.0</td>\n",
       "      <td>47.0</td>\n",
       "      <td>157.0</td>\n",
       "      <td>0.0</td>\n",
       "      <td>48.0</td>\n",
       "      <td>77.0</td>\n",
       "      <td>8722.222222</td>\n",
       "      <td>14.537030</td>\n",
       "      <td>88.163659</td>\n",
       "    </tr>\n",
       "    <tr>\n",
       "      <th>243</th>\n",
       "      <td>M188A</td>\n",
       "      <td>PP</td>\n",
       "      <td>531</td>\n",
       "      <td>0.014</td>\n",
       "      <td>10.0</td>\n",
       "      <td>12.0</td>\n",
       "      <td>12.0</td>\n",
       "      <td>10.0</td>\n",
       "      <td>14.0</td>\n",
       "      <td>10.0</td>\n",
       "      <td>68.0</td>\n",
       "      <td>0.0</td>\n",
       "      <td>40.0</td>\n",
       "      <td>64.0</td>\n",
       "      <td>4857.142857</td>\n",
       "      <td>8.095230</td>\n",
       "      <td>84.570514</td>\n",
       "    </tr>\n",
       "    <tr>\n",
       "      <th>178</th>\n",
       "      <td>M032</td>\n",
       "      <td>PP</td>\n",
       "      <td>101</td>\n",
       "      <td>0.144</td>\n",
       "      <td>60.0</td>\n",
       "      <td>124.0</td>\n",
       "      <td>122.0</td>\n",
       "      <td>111.0</td>\n",
       "      <td>48.0</td>\n",
       "      <td>111.0</td>\n",
       "      <td>576.0</td>\n",
       "      <td>1.0</td>\n",
       "      <td>60.0</td>\n",
       "      <td>97.0</td>\n",
       "      <td>4000.000000</td>\n",
       "      <td>6.666659</td>\n",
       "      <td>83.378846</td>\n",
       "    </tr>\n",
       "    <tr>\n",
       "      <th>99</th>\n",
       "      <td>Q462</td>\n",
       "      <td>PP</td>\n",
       "      <td>591</td>\n",
       "      <td>0.040</td>\n",
       "      <td>7.0</td>\n",
       "      <td>22.0</td>\n",
       "      <td>16.0</td>\n",
       "      <td>11.0</td>\n",
       "      <td>10.0</td>\n",
       "      <td>8.0</td>\n",
       "      <td>74.0</td>\n",
       "      <td>0.0</td>\n",
       "      <td>41.0</td>\n",
       "      <td>65.0</td>\n",
       "      <td>1850.000000</td>\n",
       "      <td>3.083325</td>\n",
       "      <td>78.646025</td>\n",
       "    </tr>\n",
       "    <tr>\n",
       "      <th>155</th>\n",
       "      <td>Q172</td>\n",
       "      <td>PP</td>\n",
       "      <td>660</td>\n",
       "      <td>0.041</td>\n",
       "      <td>13.0</td>\n",
       "      <td>21.0</td>\n",
       "      <td>27.0</td>\n",
       "      <td>10.0</td>\n",
       "      <td>0.0</td>\n",
       "      <td>0.0</td>\n",
       "      <td>71.0</td>\n",
       "      <td>0.0</td>\n",
       "      <td>40.0</td>\n",
       "      <td>65.0</td>\n",
       "      <td>1731.707317</td>\n",
       "      <td>2.886171</td>\n",
       "      <td>78.240461</td>\n",
       "    </tr>\n",
       "    <tr>\n",
       "      <th>511</th>\n",
       "      <td>Q075</td>\n",
       "      <td>PP</td>\n",
       "      <td>657</td>\n",
       "      <td>0.005</td>\n",
       "      <td>2.0</td>\n",
       "      <td>2.0</td>\n",
       "      <td>1.0</td>\n",
       "      <td>2.0</td>\n",
       "      <td>1.0</td>\n",
       "      <td>0.0</td>\n",
       "      <td>8.0</td>\n",
       "      <td>0.0</td>\n",
       "      <td>20.0</td>\n",
       "      <td>32.0</td>\n",
       "      <td>1600.000000</td>\n",
       "      <td>2.666658</td>\n",
       "      <td>77.754944</td>\n",
       "    </tr>\n",
       "    <tr>\n",
       "      <th>224</th>\n",
       "      <td>M101</td>\n",
       "      <td>PP</td>\n",
       "      <td>62</td>\n",
       "      <td>0.269</td>\n",
       "      <td>73.0</td>\n",
       "      <td>36.0</td>\n",
       "      <td>73.0</td>\n",
       "      <td>69.0</td>\n",
       "      <td>41.0</td>\n",
       "      <td>102.0</td>\n",
       "      <td>394.0</td>\n",
       "      <td>1.0</td>\n",
       "      <td>57.0</td>\n",
       "      <td>91.0</td>\n",
       "      <td>1464.684015</td>\n",
       "      <td>2.441132</td>\n",
       "      <td>77.212593</td>\n",
       "    </tr>\n",
       "  </tbody>\n",
       "</table>\n",
       "</div>"
      ],
      "text/plain": [
       "    GISPROPNUM TYPECATEGO  index  ACRES  2013   2014   2015   2016   2017  \\\n",
       "424       B094         PP    627  0.001  22.0    0.0   15.0    2.0    4.0   \n",
       "531       Q058         PP    656  0.003   1.0    2.0    1.0    2.0    2.0   \n",
       "21        M093         PP    471  0.076  99.0   96.0   96.0   96.0  150.0   \n",
       "295       M040         PP    598  0.018   1.0   22.0   22.0   20.0   45.0   \n",
       "243      M188A         PP    531  0.014  10.0   12.0   12.0   10.0   14.0   \n",
       "178       M032         PP    101  0.144  60.0  124.0  122.0  111.0   48.0   \n",
       "99        Q462         PP    591  0.040   7.0   22.0   16.0   11.0   10.0   \n",
       "155       Q172         PP    660  0.041  13.0   21.0   27.0   10.0    0.0   \n",
       "511       Q075         PP    657  0.005   2.0    2.0    1.0    2.0    1.0   \n",
       "224       M101         PP     62  0.269  73.0   36.0   73.0   69.0   41.0   \n",
       "\n",
       "      2018     tp  tp_mm  tp_lmm  tp_palmm           tpa      tpa_mm  \\\n",
       "424   17.0   60.0    0.0    39.0      62.0  60000.000000  100.000000   \n",
       "531   22.0   30.0    0.0    32.0      52.0  10000.000000   16.666660   \n",
       "21   188.0  725.0    2.0    62.0     100.0   9539.473684   15.899116   \n",
       "295   47.0  157.0    0.0    48.0      77.0   8722.222222   14.537030   \n",
       "243   10.0   68.0    0.0    40.0      64.0   4857.142857    8.095230   \n",
       "178  111.0  576.0    1.0    60.0      97.0   4000.000000    6.666659   \n",
       "99     8.0   74.0    0.0    41.0      65.0   1850.000000    3.083325   \n",
       "155    0.0   71.0    0.0    40.0      65.0   1731.707317    2.886171   \n",
       "511    0.0    8.0    0.0    20.0      32.0   1600.000000    2.666658   \n",
       "224  102.0  394.0    1.0    57.0      91.0   1464.684015    2.441132   \n",
       "\n",
       "        tpa_lmm  \n",
       "424  100.000000  \n",
       "531   89.002748  \n",
       "21    88.713376  \n",
       "295   88.163659  \n",
       "243   84.570514  \n",
       "178   83.378846  \n",
       "99    78.646025  \n",
       "155   78.240461  \n",
       "511   77.754944  \n",
       "224   77.212593  "
      ]
     },
     "execution_count": 619,
     "metadata": {},
     "output_type": "execute_result"
    }
   ],
   "source": [
    "no0.loc[no0['tpa'].sort_values(ascending=False).head(10).index]"
   ]
  },
  {
   "cell_type": "code",
   "execution_count": 620,
   "metadata": {},
   "outputs": [],
   "source": [
    "for n, s in minmaxes2.iteritems():\n",
    "    minmaxes2[n]= s.astype(np.float32)"
   ]
  },
  {
   "cell_type": "code",
   "execution_count": 621,
   "metadata": {},
   "outputs": [],
   "source": [
    "no0['tpa_palmm']= [park_type_adjusted(x, pt, minmaxes2) for x, pt in no0[['tpa', 'TYPECATEGO']].itertuples(index=False)]\n",
    "#tpa_palmm = park adjusted log min-max"
   ]
  },
  {
   "cell_type": "code",
   "execution_count": 622,
   "metadata": {},
   "outputs": [],
   "source": [
    "no0['tpa_palmm']= no0['tpa_palmm'].abs()"
   ]
  },
  {
   "cell_type": "code",
   "execution_count": 623,
   "metadata": {},
   "outputs": [],
   "source": [
    "tpa_palmm= no0['tpa_palmm'].values"
   ]
  },
  {
   "cell_type": "code",
   "execution_count": 624,
   "metadata": {},
   "outputs": [
    {
     "data": {
      "image/png": "[encoded data removed]",
      "text/plain": [
       "<Figure size 432x288 with 1 Axes>"
      ]
     },
     "metadata": {
      "needs_background": "light"
     },
     "output_type": "display_data"
    }
   ],
   "source": [
    "bins= np.arange(0, 102, 2)\n",
    "\n",
    "tpa_lmm= no0['tpa_lmm'].values\n",
    "tpa_palmm= no0['tpa_palmm'].values\n",
    "\n",
    "plt.hist(tpa_lmm, bins, alpha=0.5, label='TPA LMM', color=three_colors[0])\n",
    "plt.hist(tpa_palmm, bins, alpha=0.5, label='TPA PALMM', color=three_colors[1])\n",
    "\n",
    "plt.legend(loc='center left', bbox_to_anchor=(1,.5))\n",
    "plt.xlabel('Programming Score')\n",
    "plt.ylabel('Number of Parks')\n",
    "\n",
    "plt.ylim((0,80))\n",
    "\n",
    "#plt.savefig(join(path_exp, 'Total by Acre_LMM and Park Type LMM.pdf'))\n",
    "\n",
    "plt.show();"
   ]
  },
  {
   "cell_type": "code",
   "execution_count": 625,
   "metadata": {},
   "outputs": [
    {
     "data": {
      "image/png": "[encoded data removed]",
      "text/plain": [
       "<Figure size 432x288 with 1 Axes>"
      ]
     },
     "metadata": {
      "needs_background": "light"
     },
     "output_type": "display_data"
    }
   ],
   "source": [
    "bins= np.arange(0, 102, 2)\n",
    "\n",
    "plt.hist(tpa_palmm, bins, alpha=0.5, label='Overall', color='#dfdfdf')\n",
    "\n",
    "for pt, c in zip(parktypes, three_colors):\n",
    "    scores= no0[no0['TYPECATEGO']==pt]['tpa_palmm'].values\n",
    "    plt.hist(scores, bins, alpha=0.5, label=pt, color=c)\n",
    "\n",
    "plt.legend(loc='center left', bbox_to_anchor=(1,.5))\n",
    "plt.xlabel('Programming Score')\n",
    "plt.ylabel('Number of Parks')\n",
    "\n",
    "#plt.savefig(join(path_exp, 'Total Premits by Acre_Adjusted LMM by Park Type.pdf'))\n",
    "\n",
    "plt.show();"
   ]
  },
  {
   "cell_type": "code",
   "execution_count": 626,
   "metadata": {},
   "outputs": [
    {
     "data": {
      "image/png": "[encoded data removed]",
      "text/plain": [
       "<Figure size 432x288 with 1 Axes>"
      ]
     },
     "metadata": {
      "needs_background": "light"
     },
     "output_type": "display_data"
    }
   ],
   "source": [
    "fig, ax= plt.subplots()\n",
    "\n",
    "for pt, c in zip(parktypes, three_colors):\n",
    "    no0[no0['TYPECATEGO']==pt]['tpa_palmm'].reset_index(drop=True)\\\n",
    "        .plot.kde(ax=ax, alpha=0.5, label=pt, color=c, bw_method=0.2)\n",
    "\n",
    "plt.legend(loc='center left', bbox_to_anchor=(1,.5))\n",
    "plt.xlabel('Programming Score')\n",
    "plt.ylabel('Kernel Density of Parks')\n",
    "plt.xlim((0,100))\n",
    "\n",
    "#plt.savefig(join(path_exp, 'Total Events by Acre_Park Type 1_LMM_KDE.pdf'))\n",
    "\n",
    "plt.show();"
   ]
  },
  {
   "cell_type": "code",
   "execution_count": 627,
   "metadata": {},
   "outputs": [
    {
     "data": {
      "image/png": "[encoded data removed]",
      "text/plain": [
       "<Figure size 432x288 with 1 Axes>"
      ]
     },
     "metadata": {
      "needs_background": "light"
     },
     "output_type": "display_data"
    }
   ],
   "source": [
    "fig, ax= plt.subplots()\n",
    "\n",
    "no0['tpa_lmm'].reset_index(drop=True).plot.kde(ax=ax, alpha=0.5, label='TPA LMM', color=three_colors[0], bw_method=0.2)\n",
    "no0['tpa_palmm'].reset_index(drop=True).plot.kde(ax=ax, alpha=0.5, label='TPA PALMM', color=three_colors[1], bw_method=0.2)\n",
    "\n",
    "plt.legend(loc='center left', bbox_to_anchor=(1,.5))\n",
    "plt.xlabel('Programming Score')\n",
    "plt.ylabel('Kernel Density of Parks')\n",
    "plt.xlim((0,100))\n",
    "\n",
    "#plt.savefig(join(path_exp, 'Total Events by Acre_Park Type or Not_LMM_KDE.pdf'))\n",
    "\n",
    "plt.show();"
   ]
  },
  {
   "cell_type": "code",
   "execution_count": 628,
   "metadata": {},
   "outputs": [],
   "source": [
    "#no0.to_csv(r\"M:\\NY4P Metrics Research 18034\\03_GIS+ANALYSIS\\01_DATA\\Processed\\Initial Options - Scores\\190806_TP and TPA Scores_AllParks.csv\")"
   ]
  },
  {
   "cell_type": "markdown",
   "metadata": {},
   "source": [
    "# Total Permits per Person and per Person per Person Acre: by Park Type with MM and LMM Normalization\n",
    "* tppop: total permits per person (total permits divided by Pop_nearPark\n",
    "* tppopdens: total permits per person per person acre (total premits divided by popdens)\n",
    "* tppop_mm: total permits per person MM normalization\n",
    "* tppop_lmm: total permits per person LMM normalization\n",
    "* tppop_palmm: total permits per person LMM park adjusted normalization\n",
    "* tppopdens_mm: total permits per person per person acre MM normalization\n",
    "* tppopdens_lmm: total permits per person per person acre LMM normalization\n",
    "* tppopdens_palmm: total permits per person per person acre LMM park adjusted normalization"
   ]
  },
  {
   "cell_type": "code",
   "execution_count": 629,
   "metadata": {},
   "outputs": [
    {
     "data": {
      "text/plain": [
       "(599,)"
      ]
     },
     "execution_count": 629,
     "metadata": {},
     "output_type": "execute_result"
    }
   ],
   "source": [
    "parkiso[parkiso['GISPROPNUM'].isin(parklist)]['GISPROPNUM'].unique().shape\n",
    "#number of parks with isochrones that are in the GISPROPNUM of the permit data\n",
    "#the mismatch comes from the fact that the park entrance data is incomplete and only gave us 818 isochrones, 599 of which overlap"
   ]
  },
  {
   "cell_type": "code",
   "execution_count": 630,
   "metadata": {},
   "outputs": [],
   "source": [
    "no0= pd.merge(parkiso[['GISPROPNUM', 'Pop_nearPark','PopDens']], no0,  on='GISPROPNUM', how='right').dropna(axis=0)"
   ]
  },
  {
   "cell_type": "code",
   "execution_count": 631,
   "metadata": {},
   "outputs": [],
   "source": [
    "no0= no0[no0['Pop_nearPark']!=0].copy()"
   ]
  },
  {
   "cell_type": "code",
   "execution_count": 632,
   "metadata": {},
   "outputs": [
    {
     "data": {
      "text/plain": [
       "(598, 20)"
      ]
     },
     "execution_count": 632,
     "metadata": {},
     "output_type": "execute_result"
    }
   ],
   "source": [
    "no0.shape"
   ]
  },
  {
   "cell_type": "code",
   "execution_count": 633,
   "metadata": {},
   "outputs": [],
   "source": [
    "no0['tppop']= no0['tp']/no0['Pop_nearPark']\n",
    "no0['tppopdens']= no0['tp']/no0['PopDens']"
   ]
  },
  {
   "cell_type": "code",
   "execution_count": 634,
   "metadata": {},
   "outputs": [
    {
     "data": {
      "text/plain": [
       "2.252073473275458e-05"
      ]
     },
     "execution_count": 634,
     "metadata": {},
     "output_type": "execute_result"
    }
   ],
   "source": [
    "no0['tppop'].min()"
   ]
  },
  {
   "cell_type": "code",
   "execution_count": 635,
   "metadata": {},
   "outputs": [
    {
     "data": {
      "text/plain": [
       "0.004716434910482397"
      ]
     },
     "execution_count": 635,
     "metadata": {},
     "output_type": "execute_result"
    }
   ],
   "source": [
    "no0['tppopdens'].min()"
   ]
  },
  {
   "cell_type": "code",
   "execution_count": 636,
   "metadata": {},
   "outputs": [
    {
     "data": {
      "text/plain": [
       "(598, 22)"
      ]
     },
     "execution_count": 636,
     "metadata": {},
     "output_type": "execute_result"
    }
   ],
   "source": [
    "no0.shape"
   ]
  },
  {
   "cell_type": "markdown",
   "metadata": {},
   "source": [
    "### MM and LMM Normalization Process"
   ]
  },
  {
   "cell_type": "code",
   "execution_count": 637,
   "metadata": {},
   "outputs": [],
   "source": [
    "tmax= no0['tppop'].max()\n",
    "tmin= no0['tppop'].min()\n",
    "tmaxd= no0['tppopdens'].max()\n",
    "tmind= no0['tppopdens'].min()\n",
    "\n",
    "no0['tppop_mm']= no0['tppop'].apply(lambda x: (x-tmin)/(tmax-tmin))*100\n",
    "no0['tppop_lmm']= no0['tppop'].apply(lambda x: (np.log(x)-np.log(tmin))/(np.log(tmax)-np.log(tmin)))*100\n",
    "\n",
    "no0['tppopdens_mm']= no0['tppopdens'].apply(lambda x: (x-tmind)/(tmaxd-tmind))*100\n",
    "no0['tppopdens_lmm']= no0['tppopdens'].apply(lambda x: (np.log(x)-np.log(tmind))/(np.log(tmaxd)-np.log(tmind)))*100"
   ]
  },
  {
   "cell_type": "code",
   "execution_count": 638,
   "metadata": {},
   "outputs": [
    {
     "data": {
      "image/png": "[encoded data removed]",
      "text/plain": [
       "<Figure size 432x288 with 1 Axes>"
      ]
     },
     "metadata": {
      "needs_background": "light"
     },
     "output_type": "display_data"
    }
   ],
   "source": [
    "a= no0['tppop_mm'].values\n",
    "b= no0['tppop_lmm'].values\n",
    "\n",
    "bins= np.arange(0, 102, 2)\n",
    "\n",
    "plt.hist(a, bins, label='Min Max Norm', color='#FD5700')\n",
    "plt.hist(b, bins, label='Log Min Max Norm', color='#29D0BF')\n",
    "\n",
    "plt.legend(loc='center left', bbox_to_anchor=(1,.5))\n",
    "plt.xlabel('Programming Score')\n",
    "plt.ylabel('Number of Parks')\n",
    "\n",
    "plt.ylim((0,80))\n",
    "\n",
    "#plt.savefig(join(path_exp, 'Total Events by Population_MM_LMM.pdf'))\n",
    "\n",
    "plt.show();"
   ]
  },
  {
   "cell_type": "code",
   "execution_count": 639,
   "metadata": {},
   "outputs": [
    {
     "data": {
      "image/png": "[encoded data removed]",
      "text/plain": [
       "<Figure size 432x288 with 1 Axes>"
      ]
     },
     "metadata": {
      "needs_background": "light"
     },
     "output_type": "display_data"
    }
   ],
   "source": [
    "a= no0['tppopdens_mm'].values\n",
    "b= no0['tppopdens_lmm'].values\n",
    "\n",
    "bins= np.arange(0, 102, 2)\n",
    "\n",
    "plt.hist(a, bins, label='Min Max Norm', color='#FD5700')\n",
    "plt.hist(b, bins,  label='Log Min Max Norm', color='#29D0BF')\n",
    "\n",
    "plt.legend(loc='center left', bbox_to_anchor=(1,.5))\n",
    "plt.xlabel('Programming Score')\n",
    "plt.ylabel('Number of Parks')\n",
    "\n",
    "plt.ylim((0,80))\n",
    "\n",
    "#plt.savefig(join(path_exp, 'Total Events by Population Density_MM and LMM.pdf'))\n",
    "\n",
    "plt.show();"
   ]
  },
  {
   "cell_type": "markdown",
   "metadata": {},
   "source": [
    "### Adjust by Park Type"
   ]
  },
  {
   "cell_type": "code",
   "execution_count": 640,
   "metadata": {},
   "outputs": [],
   "source": [
    "fordf2= []\n",
    "\n",
    "for p in park_types:\n",
    "    v= no0[no0['TYPECATEGO']==p]['tppop'].values\n",
    "    if len(v)>0:\n",
    "        fordf2.append([p, v.max(), v.min()])\n",
    "\n",
    "minmaxes2= pd.DataFrame(np.array(fordf2), columns=['TYPECATEGO', 'MAX', 'MIN']).set_index('TYPECATEGO')"
   ]
  },
  {
   "cell_type": "code",
   "execution_count": 641,
   "metadata": {},
   "outputs": [
    {
     "data": {
      "text/html": [
       "<div>\n",
       "<style scoped>\n",
       "    .dataframe tbody tr th:only-of-type {\n",
       "        vertical-align: middle;\n",
       "    }\n",
       "\n",
       "    .dataframe tbody tr th {\n",
       "        vertical-align: top;\n",
       "    }\n",
       "\n",
       "    .dataframe thead th {\n",
       "        text-align: right;\n",
       "    }\n",
       "</style>\n",
       "<table border=\"1\" class=\"dataframe\">\n",
       "  <thead>\n",
       "    <tr style=\"text-align: right;\">\n",
       "      <th></th>\n",
       "      <th>MAX</th>\n",
       "      <th>MIN</th>\n",
       "    </tr>\n",
       "    <tr>\n",
       "      <th>TYPECATEGO</th>\n",
       "      <th></th>\n",
       "      <th></th>\n",
       "    </tr>\n",
       "  </thead>\n",
       "  <tbody>\n",
       "    <tr>\n",
       "      <th>LP</th>\n",
       "      <td>0.49758842704892586</td>\n",
       "      <td>0.0002632827364054401</td>\n",
       "    </tr>\n",
       "    <tr>\n",
       "      <th>NP</th>\n",
       "      <td>0.57303944279197</td>\n",
       "      <td>3.10034162849904e-05</td>\n",
       "    </tr>\n",
       "    <tr>\n",
       "      <th>PP</th>\n",
       "      <td>0.021156385234059643</td>\n",
       "      <td>2.252073473275458e-05</td>\n",
       "    </tr>\n",
       "  </tbody>\n",
       "</table>\n",
       "</div>"
      ],
      "text/plain": [
       "                             MAX                    MIN\n",
       "TYPECATEGO                                             \n",
       "LP           0.49758842704892586  0.0002632827364054401\n",
       "NP              0.57303944279197   3.10034162849904e-05\n",
       "PP          0.021156385234059643  2.252073473275458e-05"
      ]
     },
     "execution_count": 641,
     "metadata": {},
     "output_type": "execute_result"
    }
   ],
   "source": [
    "minmaxes2"
   ]
  },
  {
   "cell_type": "code",
   "execution_count": 642,
   "metadata": {},
   "outputs": [],
   "source": [
    "fordf2= []\n",
    "\n",
    "for p in park_types:\n",
    "    v= no0[no0['TYPECATEGO']==p]['tppopdens'].values\n",
    "    if len(v)>0:\n",
    "        fordf2.append([p, v.max(), v.min()])\n",
    "\n",
    "minmaxes3= pd.DataFrame(np.array(fordf2), columns=['TYPECATEGO', 'MAX', 'MIN']).set_index('TYPECATEGO')"
   ]
  },
  {
   "cell_type": "code",
   "execution_count": 643,
   "metadata": {},
   "outputs": [],
   "source": [
    "for n, s in minmaxes2.iteritems():\n",
    "    minmaxes2[n]= s.astype(np.float32)"
   ]
  },
  {
   "cell_type": "code",
   "execution_count": 644,
   "metadata": {},
   "outputs": [],
   "source": [
    "for n, s in minmaxes3.iteritems():\n",
    "    minmaxes3[n]= s.astype(np.float32)"
   ]
  },
  {
   "cell_type": "code",
   "execution_count": 645,
   "metadata": {},
   "outputs": [],
   "source": [
    "no0['tppop_palmm']= [park_type_adjusted(x, pt, minmaxes2) for x, pt in no0[['tppop', 'TYPECATEGO']].itertuples(index=False)]"
   ]
  },
  {
   "cell_type": "code",
   "execution_count": 646,
   "metadata": {},
   "outputs": [
    {
     "data": {
      "text/html": [
       "<div>\n",
       "<style scoped>\n",
       "    .dataframe tbody tr th:only-of-type {\n",
       "        vertical-align: middle;\n",
       "    }\n",
       "\n",
       "    .dataframe tbody tr th {\n",
       "        vertical-align: top;\n",
       "    }\n",
       "\n",
       "    .dataframe thead th {\n",
       "        text-align: right;\n",
       "    }\n",
       "</style>\n",
       "<table border=\"1\" class=\"dataframe\">\n",
       "  <thead>\n",
       "    <tr style=\"text-align: right;\">\n",
       "      <th></th>\n",
       "      <th>GISPROPNUM</th>\n",
       "      <th>Pop_nearPark</th>\n",
       "      <th>PopDens</th>\n",
       "      <th>TYPECATEGO</th>\n",
       "      <th>index</th>\n",
       "      <th>ACRES</th>\n",
       "      <th>2013</th>\n",
       "      <th>2014</th>\n",
       "      <th>2015</th>\n",
       "      <th>2016</th>\n",
       "      <th>...</th>\n",
       "      <th>tpa_mm</th>\n",
       "      <th>tpa_lmm</th>\n",
       "      <th>tpa_palmm</th>\n",
       "      <th>tppop</th>\n",
       "      <th>tppopdens</th>\n",
       "      <th>tppop_mm</th>\n",
       "      <th>tppop_lmm</th>\n",
       "      <th>tppopdens_mm</th>\n",
       "      <th>tppopdens_lmm</th>\n",
       "      <th>tppop_palmm</th>\n",
       "    </tr>\n",
       "  </thead>\n",
       "  <tbody>\n",
       "  </tbody>\n",
       "</table>\n",
       "<p>0 rows × 27 columns</p>\n",
       "</div>"
      ],
      "text/plain": [
       "Empty DataFrame\n",
       "Columns: [GISPROPNUM, Pop_nearPark, PopDens, TYPECATEGO, index, ACRES, 2013, 2014, 2015, 2016, 2017, 2018, tp, tp_mm, tp_lmm, tp_palmm, tpa, tpa_mm, tpa_lmm, tpa_palmm, tppop, tppopdens, tppop_mm, tppop_lmm, tppopdens_mm, tppopdens_lmm, tppop_palmm]\n",
       "Index: []\n",
       "\n",
       "[0 rows x 27 columns]"
      ]
     },
     "execution_count": 646,
     "metadata": {},
     "output_type": "execute_result"
    }
   ],
   "source": [
    "no0[no0['tppop_palmm']==np.inf].loc[:]\n",
    "#Checks for infinite values"
   ]
  },
  {
   "cell_type": "code",
   "execution_count": 647,
   "metadata": {},
   "outputs": [],
   "source": [
    "no0['tppopdens_palmm']= [park_type_adjusted(x, pt, minmaxes3) for x, pt in no0[['tppopdens', 'TYPECATEGO']].itertuples(index=False)]"
   ]
  },
  {
   "cell_type": "code",
   "execution_count": 648,
   "metadata": {},
   "outputs": [],
   "source": [
    "no0['tppop_palmm']= no0['tppop_palmm'].abs()"
   ]
  },
  {
   "cell_type": "code",
   "execution_count": 649,
   "metadata": {},
   "outputs": [],
   "source": [
    "no0['tppopdens_palmm']= no0['tppopdens_palmm'].abs()"
   ]
  },
  {
   "cell_type": "code",
   "execution_count": 650,
   "metadata": {},
   "outputs": [],
   "source": [
    "tppop_palmm= no0['tppop_palmm'].values"
   ]
  },
  {
   "cell_type": "code",
   "execution_count": 651,
   "metadata": {},
   "outputs": [],
   "source": [
    "tppopdens_palmm= no0['tppopdens_palmm'].values"
   ]
  },
  {
   "cell_type": "code",
   "execution_count": 652,
   "metadata": {},
   "outputs": [
    {
     "data": {
      "image/png": "[encoded data removed]",
      "text/plain": [
       "<Figure size 432x288 with 1 Axes>"
      ]
     },
     "metadata": {
      "needs_background": "light"
     },
     "output_type": "display_data"
    }
   ],
   "source": [
    "bins= np.arange(0, 102, 2)\n",
    "\n",
    "tppop_lmm= no0['tppop_lmm'].values\n",
    "tppop_palmm= no0['tppop_palmm'].values\n",
    "\n",
    "plt.hist(tppop_lmm, bins, label='Total Permits per Person LMM', color=three_colors[0])\n",
    "plt.hist(tppop_palmm, bins, label='Total Permits per Person Park Adjusted LMM', color=three_colors[1])\n",
    "\n",
    "plt.legend(loc='center left', bbox_to_anchor=(1,.5))\n",
    "plt.xlabel('Programming Score')\n",
    "plt.ylabel('Number of Parks')\n",
    "\n",
    "#plt.ylim((0,80))\n",
    "\n",
    "#plt.savefig(join(path_exp, 'Total Events by Population LMM and Park Type LMM.pdf'))\n",
    "\n",
    "plt.show();"
   ]
  },
  {
   "cell_type": "code",
   "execution_count": 653,
   "metadata": {},
   "outputs": [
    {
     "data": {
      "image/png": "[encoded data removed]",
      "text/plain": [
       "<Figure size 432x288 with 1 Axes>"
      ]
     },
     "metadata": {
      "needs_background": "light"
     },
     "output_type": "display_data"
    }
   ],
   "source": [
    "bins= np.arange(0, 102, 2)\n",
    "\n",
    "tppopdens_lmm= no0['tppopdens_lmm'].values\n",
    "tppopdens_palmm= no0['tppopdens_palmm'].values\n",
    "\n",
    "plt.hist(tppopdens_lmm, bins, label='Total Permits by Pop Density LMM', color=three_colors[0])\n",
    "plt.hist(tppopdens_palmm, bins, label='Total Permits by Pop Density Park Adjusted LMM', color=three_colors[1])\n",
    "\n",
    "plt.legend(loc='center left', bbox_to_anchor=(1,.5))\n",
    "plt.xlabel('Programming Score')\n",
    "plt.ylabel('Number of Parks')\n",
    "\n",
    "#plt.ylim((0,80))\n",
    "\n",
    "#plt.savefig(join(path_exp, 'Total Events by Population Density LMM and Park Type LMM.pdf'))\n",
    "\n",
    "plt.show();"
   ]
  },
  {
   "cell_type": "code",
   "execution_count": 654,
   "metadata": {},
   "outputs": [
    {
     "data": {
      "image/png": "[encoded data removed]",
      "text/plain": [
       "<Figure size 432x288 with 1 Axes>"
      ]
     },
     "metadata": {
      "needs_background": "light"
     },
     "output_type": "display_data"
    }
   ],
   "source": [
    "bins= np.arange(0, 102, 2)\n",
    "tpa_palmm= no0['tppop_palmm'].values\n",
    "plt.hist(tppop_palmm, bins, label='Overall', color='#dfdfdf')\n",
    "\n",
    "for pt, c in zip(parktypes,three_colors):\n",
    "    scores= no0[no0['TYPECATEGO']==pt]['tppop_palmm'].values\n",
    "    plt.hist(scores, bins, label=pt, color=c)\n",
    "\n",
    "plt.legend(loc='center left', bbox_to_anchor=(1,.5))\n",
    "plt.xlabel('Programming Score')\n",
    "plt.ylabel('Number of Parks')\n",
    "\n",
    "#plt.savefig(join(path_exp, 'Total Events by Population_LMM Adjusted and by Park Type.pdf'))\n",
    "\n",
    "plt.show();"
   ]
  },
  {
   "cell_type": "code",
   "execution_count": 655,
   "metadata": {},
   "outputs": [
    {
     "data": {
      "image/png": "[encoded data removed]",
      "text/plain": [
       "<Figure size 432x288 with 1 Axes>"
      ]
     },
     "metadata": {
      "needs_background": "light"
     },
     "output_type": "display_data"
    }
   ],
   "source": [
    "bins= np.arange(0, 102, 2)\n",
    "tppopdens_palmm= no0['tppopdens_palmm'].values\n",
    "plt.hist(tppopdens_palmm, bins,label='Overall', color='#dfdfdf')\n",
    "\n",
    "for pt, c in zip(parktypes,three_colors):\n",
    "    scores= no0[no0['TYPECATEGO']==pt]['tppopdens_palmm'].values\n",
    "    plt.hist(scores, bins, label=pt, color=c)\n",
    "\n",
    "plt.legend(loc='center left', bbox_to_anchor=(1,.5))\n",
    "plt.xlabel('Programming Score')\n",
    "plt.ylabel('Number of Parks')\n",
    "\n",
    "#plt.savefig(join(path_exp, 'Total Events by Population Density_LMM Adjusted and by Park Type.pdf'))\n",
    "\n",
    "plt.show();"
   ]
  },
  {
   "cell_type": "code",
   "execution_count": 656,
   "metadata": {},
   "outputs": [
    {
     "data": {
      "image/png": "[encoded data removed]",
      "text/plain": [
       "<Figure size 432x288 with 1 Axes>"
      ]
     },
     "metadata": {
      "needs_background": "light"
     },
     "output_type": "display_data"
    }
   ],
   "source": [
    "fig, ax= plt.subplots()\n",
    "\n",
    "for pt, c in zip(parktypes, three_colors):\n",
    "    no0[no0['TYPECATEGO']==pt]['tppop_palmm'].reset_index(drop=True)\\\n",
    "        .plot.kde(ax=ax, alpha=0.5, label=pt, color=c, bw_method=0.2)\n",
    "\n",
    "plt.legend(loc='center left', bbox_to_anchor=(1,.5))\n",
    "plt.xlabel('Programming Score')\n",
    "plt.ylabel('Kernel Density of Parks')\n",
    "plt.xlim((0,100))\n",
    "\n",
    "#plt.savefig(join(path_exp, 'Total Events by Population_Park Type 1_LMM_KDE.pdf'))\n",
    "\n",
    "plt.show();"
   ]
  },
  {
   "cell_type": "markdown",
   "metadata": {},
   "source": [
    "# ABCDF Scoring\n",
    "* Grades (all use park adjusted LMM normalization scores):\n",
    "    - tp_grade: total permits grade\n",
    "    - tpa_grade: total permits per acre grade\n",
    "    - tppop_grade: total permits per person grade\n",
    "    - tppopdens_grade: total permits per person per person acre grade"
   ]
  },
  {
   "cell_type": "code",
   "execution_count": 657,
   "metadata": {},
   "outputs": [],
   "source": [
    "scoring= \\\n",
    "pd.read_html(r'https://www.mooxye.com/blog/en/american-grading-system-and-gpa/', skiprows=1)[0]\\\n",
    "    .rename(columns={0:'Grade Range', 1:'Grade', 2:'GPA'})"
   ]
  },
  {
   "cell_type": "code",
   "execution_count": 658,
   "metadata": {},
   "outputs": [],
   "source": [
    "scoring['Lower']= pd.to_numeric(scoring['Grade Range'].str.split('-| ').apply(lambda x: x[0]), errors='coerce')\n",
    "scoring['Upper']= pd.to_numeric(scoring['Grade Range'].str.split('-| ').apply(lambda x: x[1]), errors='coerce')"
   ]
  },
  {
   "cell_type": "code",
   "execution_count": 659,
   "metadata": {},
   "outputs": [],
   "source": [
    "scoring.at[11,'Lower']= 0"
   ]
  },
  {
   "cell_type": "code",
   "execution_count": 660,
   "metadata": {},
   "outputs": [],
   "source": [
    "scoring= scoring[::-1].reset_index(drop=True)"
   ]
  },
  {
   "cell_type": "code",
   "execution_count": 661,
   "metadata": {},
   "outputs": [],
   "source": [
    "no0['tp_grade']= \\\n",
    "pd.cut(no0['tp_palmm'],\n",
    "       bins=np.insert(scoring['Upper'].values, 0, -1),\n",
    "       include_lowest=False, labels=scoring['Grade'].values)\n",
    "no0['tp_grade']= no0['tp_grade'].astype(str)\n",
    "\n",
    "no0['tpa_grade']= \\\n",
    "pd.cut(no0['tpa_palmm'],\n",
    "       bins=np.insert(scoring['Upper'].values, 0, -1),\n",
    "       include_lowest=False, labels=scoring['Grade'].values)\n",
    "no0['tpa_grade']= no0['tpa_grade'].astype(str)\n",
    "\n",
    "no0['tppop_grade']= \\\n",
    "pd.cut(no0['tppop_palmm'],\n",
    "       bins=np.insert(scoring['Upper'].values, 0, -1),\n",
    "       include_lowest=False, labels=scoring['Grade'].values)\n",
    "no0['tppop_grade']= no0['tppop_grade'].astype(str)\n",
    "\n",
    "no0['tppopdens_grade']= \\\n",
    "pd.cut(no0['tppopdens_palmm'],\n",
    "       bins=np.insert(scoring['Upper'].values, 0, -1),\n",
    "       include_lowest=False, labels=scoring['Grade'].values)\n",
    "no0['tppopdens_grade']= no0['tppopdens_grade'].astype(str)"
   ]
  },
  {
   "cell_type": "code",
   "execution_count": 662,
   "metadata": {},
   "outputs": [],
   "source": [
    "fff= pd.merge(parks[['GISPROPNUM', 'SIGNNAME']], no0, on='GISPROPNUM', how='right')"
   ]
  },
  {
   "cell_type": "markdown",
   "metadata": {},
   "source": [
    "## Exports for Comparison\n",
    "* grades: a spreadsheet of all park grades\n",
    "* scores: a dataset of all park scores (park adjusted log min max normalization)\n",
    "* scores2: all the initial values corresponding to the park scores"
   ]
  },
  {
   "cell_type": "code",
   "execution_count": 455,
   "metadata": {},
   "outputs": [],
   "source": [
    "grades= no0.set_index(['GISPROPNUM','TYPECATEGO']).loc[:,'tp_grade':]\n",
    "grades;"
   ]
  },
  {
   "cell_type": "code",
   "execution_count": 456,
   "metadata": {},
   "outputs": [],
   "source": [
    "scores= no0.set_index(['GISPROPNUM','TYPECATEGO']).loc[:,['tp_palmm','tpa_palmm','tppop_palmm','tppopdens_palmm']]\n",
    "scores;"
   ]
  },
  {
   "cell_type": "code",
   "execution_count": 457,
   "metadata": {},
   "outputs": [],
   "source": [
    "scores2= no0.set_index(['GISPROPNUM','TYPECATEGO']).loc[:,['tp','tpa','tppop','tppopdens']]\n",
    "scores2;"
   ]
  },
  {
   "cell_type": "code",
   "execution_count": 458,
   "metadata": {},
   "outputs": [],
   "source": [
    "grades.to_csv(r\"M:\\NY4P Metrics Research 18034\\03_GIS+ANALYSIS\\01_DATA\\Processed\\Initial Options - New Categories\\190729_TParks by Acre and Pop.csv\")"
   ]
  },
  {
   "cell_type": "code",
   "execution_count": 459,
   "metadata": {},
   "outputs": [],
   "source": [
    "scores.to_csv(r\"M:\\NY4P Metrics Research 18034\\03_GIS+ANALYSIS\\01_DATA\\Processed\\Initial Options - Scores\\190729_TParks by Acre and Pop.csv\")"
   ]
  },
  {
   "cell_type": "code",
   "execution_count": 460,
   "metadata": {},
   "outputs": [],
   "source": [
    "scores2.to_csv(r\"M:\\NY4P Metrics Research 18034\\03_GIS+ANALYSIS\\01_DATA\\Processed\\Initial Options - Scores\\190729_TParks by Acre and Pop_NoNormalization.csv\")"
   ]
  },
  {
   "cell_type": "markdown",
   "metadata": {},
   "source": [
    "## Percentile comparison: 25th, median, and 75th"
   ]
  },
  {
   "cell_type": "code",
   "execution_count": 449,
   "metadata": {},
   "outputs": [],
   "source": [
    "dsum= [[no0['tp_palmm'].median(),no0['tp_palmm'].quantile(.25),no0['tp_palmm'].quantile(.75)],[no0['tpa_palmm'].median(),no0['tpa_palmm'].quantile(.25),no0['tpa_palmm'].quantile(.75)],[no0['tppop_palmm'].median(),no0['tppop_palmm'].quantile(.25),no0['tppop_palmm'].quantile(.75)],[no0['tppopdens_palmm'].median(),no0['tppopdens_palmm'].quantile(.25),no0['tppopdens_palmm'].quantile(.75)]]"
   ]
  },
  {
   "cell_type": "code",
   "execution_count": 450,
   "metadata": {},
   "outputs": [
    {
     "data": {
      "text/plain": [
       "[[40.0, 22.0, 56.0],\n",
       " [48.0, 30.0, 66.0],\n",
       " [44.0, 29.0, 59.0],\n",
       " [44.0, 30.0, 59.0]]"
      ]
     },
     "execution_count": 450,
     "metadata": {},
     "output_type": "execute_result"
    }
   ],
   "source": [
    "dsum"
   ]
  },
  {
   "cell_type": "code",
   "execution_count": 451,
   "metadata": {},
   "outputs": [],
   "source": [
    "summary= pd.DataFrame(data=dsum,columns=['Median','25th Percentile','75th Percentile'],index=['Total Permit Grade','Permits per Acre','By Population','By Population Density'])\n",
    "summary.to_csv(r\"M:\\NY4P Metrics Research 18034\\03_GIS+ANALYSIS\\01_DATA\\Processed\\Initial Options - New Categories\\190722_SummaryStats_NoOutliers.csv\")"
   ]
  }
 ],
 "metadata": {
  "kernelspec": {
   "display_name": "Python 3",
   "language": "python",
   "name": "python3"
  },
  "language_info": {
   "codemirror_mode": {
    "name": "ipython",
    "version": 3
   },
   "file_extension": ".py",
   "mimetype": "text/x-python",
   "name": "python",
   "nbconvert_exporter": "python",
   "pygments_lexer": "ipython3",
   "version": "3.7.3"
  },
  "toc": {
   "base_numbering": 1,
   "nav_menu": {
    "height": "369px",
    "width": "640px"
   },
   "number_sections": true,
   "sideBar": true,
   "skip_h1_title": false,
   "title_cell": "Table of Contents",
   "title_sidebar": "Contents",
   "toc_cell": false,
   "toc_position": {},
   "toc_section_display": true,
   "toc_window_display": false
  }
 },
 "nbformat": 4,
 "nbformat_minor": 2
}
