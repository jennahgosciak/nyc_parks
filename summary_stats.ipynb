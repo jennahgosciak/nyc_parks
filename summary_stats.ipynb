{
 "cells": [
  {
   "cell_type": "code",
   "execution_count": 1,
   "metadata": {},
   "outputs": [],
   "source": [
    "import pandas as pd\n",
    "import numpy as np\n",
    "import matplotlib.pyplot as plt"
   ]
  },
  {
   "cell_type": "code",
   "execution_count": 2,
   "metadata": {},
   "outputs": [],
   "source": [
    "data= r'M:\\NY4P Metrics Research 18034\\03_GIS+ANALYSIS\\01_DATA\\Processed\\Initial Options - Scores\\Nhood_scores.csv'\n",
    "\n",
    "df= pd.read_csv(data)"
   ]
  },
  {
   "cell_type": "code",
   "execution_count": 6,
   "metadata": {},
   "outputs": [
    {
     "data": {
      "text/plain": [
       "Index(['GISPROPNUM', 'TYPECATEGO', 'SIGNNAME', 'tp', 'tpa', 'tppop',\n",
       "       'tppopdens', 'tp_palmm', 'tpa_palmm', 'tppop_palmm', 'tppopdens_palmm',\n",
       "       'Neighborhood'],\n",
       "      dtype='object')"
      ]
     },
     "execution_count": 6,
     "metadata": {},
     "output_type": "execute_result"
    }
   ],
   "source": [
    "df.columns"
   ]
  },
  {
   "cell_type": "code",
   "execution_count": 7,
   "metadata": {},
   "outputs": [
    {
     "data": {
      "text/html": [
       "<div>\n",
       "<style scoped>\n",
       "    .dataframe tbody tr th:only-of-type {\n",
       "        vertical-align: middle;\n",
       "    }\n",
       "\n",
       "    .dataframe tbody tr th {\n",
       "        vertical-align: top;\n",
       "    }\n",
       "\n",
       "    .dataframe thead th {\n",
       "        text-align: right;\n",
       "    }\n",
       "</style>\n",
       "<table border=\"1\" class=\"dataframe\">\n",
       "  <thead>\n",
       "    <tr style=\"text-align: right;\">\n",
       "      <th></th>\n",
       "      <th>tp</th>\n",
       "      <th>tpa</th>\n",
       "      <th>tppop</th>\n",
       "      <th>tppopdens</th>\n",
       "    </tr>\n",
       "    <tr>\n",
       "      <th>Neighborhood</th>\n",
       "      <th></th>\n",
       "      <th></th>\n",
       "      <th></th>\n",
       "      <th></th>\n",
       "    </tr>\n",
       "  </thead>\n",
       "  <tbody>\n",
       "    <tr>\n",
       "      <th>Bay St. Corridor</th>\n",
       "      <td>644.0</td>\n",
       "      <td>26.369016</td>\n",
       "      <td>0.039024</td>\n",
       "      <td>3.443430</td>\n",
       "    </tr>\n",
       "    <tr>\n",
       "      <th>Bushwick</th>\n",
       "      <td>1989.0</td>\n",
       "      <td>22.000576</td>\n",
       "      <td>0.432665</td>\n",
       "      <td>1.909449</td>\n",
       "    </tr>\n",
       "    <tr>\n",
       "      <th>Long Island City</th>\n",
       "      <td>1535.0</td>\n",
       "      <td>28.136769</td>\n",
       "      <td>0.208426</td>\n",
       "      <td>1.676015</td>\n",
       "    </tr>\n",
       "    <tr>\n",
       "      <th>Lower East Side</th>\n",
       "      <td>9454.0</td>\n",
       "      <td>93.930468</td>\n",
       "      <td>0.203869</td>\n",
       "      <td>2.052887</td>\n",
       "    </tr>\n",
       "    <tr>\n",
       "      <th>Park Slope</th>\n",
       "      <td>13225.0</td>\n",
       "      <td>61.596660</td>\n",
       "      <td>0.323477</td>\n",
       "      <td>8.101612</td>\n",
       "    </tr>\n",
       "    <tr>\n",
       "      <th>Upper West Side</th>\n",
       "      <td>46988.0</td>\n",
       "      <td>76.892271</td>\n",
       "      <td>0.257145</td>\n",
       "      <td>26.426437</td>\n",
       "    </tr>\n",
       "  </tbody>\n",
       "</table>\n",
       "</div>"
      ],
      "text/plain": [
       "                       tp        tpa     tppop  tppopdens\n",
       "Neighborhood                                             \n",
       "Bay St. Corridor    644.0  26.369016  0.039024   3.443430\n",
       "Bushwick           1989.0  22.000576  0.432665   1.909449\n",
       "Long Island City   1535.0  28.136769  0.208426   1.676015\n",
       "Lower East Side    9454.0  93.930468  0.203869   2.052887\n",
       "Park Slope        13225.0  61.596660  0.323477   8.101612\n",
       "Upper West Side   46988.0  76.892271  0.257145  26.426437"
      ]
     },
     "execution_count": 7,
     "metadata": {},
     "output_type": "execute_result"
    }
   ],
   "source": [
    "df.groupby('Neighborhood').agg({'tp':'sum', 'tpa':'mean', 'tppop':'sum', 'tppopdens':'mean'})"
   ]
  },
  {
   "cell_type": "code",
   "execution_count": 8,
   "metadata": {},
   "outputs": [
    {
     "data": {
      "text/html": [
       "<div>\n",
       "<style scoped>\n",
       "    .dataframe tbody tr th:only-of-type {\n",
       "        vertical-align: middle;\n",
       "    }\n",
       "\n",
       "    .dataframe tbody tr th {\n",
       "        vertical-align: top;\n",
       "    }\n",
       "\n",
       "    .dataframe thead th {\n",
       "        text-align: right;\n",
       "    }\n",
       "</style>\n",
       "<table border=\"1\" class=\"dataframe\">\n",
       "  <thead>\n",
       "    <tr style=\"text-align: right;\">\n",
       "      <th></th>\n",
       "      <th>tp_palmm</th>\n",
       "      <th>tpa_palmm</th>\n",
       "      <th>tppop_palmm</th>\n",
       "      <th>tppopdens_palmm</th>\n",
       "    </tr>\n",
       "    <tr>\n",
       "      <th>Neighborhood</th>\n",
       "      <th></th>\n",
       "      <th></th>\n",
       "      <th></th>\n",
       "      <th></th>\n",
       "    </tr>\n",
       "  </thead>\n",
       "  <tbody>\n",
       "    <tr>\n",
       "      <th>Bay St. Corridor</th>\n",
       "      <td>37.000000</td>\n",
       "      <td>45.250000</td>\n",
       "      <td>44.000000</td>\n",
       "      <td>52.125000</td>\n",
       "    </tr>\n",
       "    <tr>\n",
       "      <th>Bushwick</th>\n",
       "      <td>34.666667</td>\n",
       "      <td>49.083333</td>\n",
       "      <td>39.041667</td>\n",
       "      <td>39.500000</td>\n",
       "    </tr>\n",
       "    <tr>\n",
       "      <th>Long Island City</th>\n",
       "      <td>39.952381</td>\n",
       "      <td>48.000000</td>\n",
       "      <td>52.095238</td>\n",
       "      <td>50.285714</td>\n",
       "    </tr>\n",
       "    <tr>\n",
       "      <th>Lower East Side</th>\n",
       "      <td>48.705882</td>\n",
       "      <td>48.000000</td>\n",
       "      <td>46.176471</td>\n",
       "      <td>48.235294</td>\n",
       "    </tr>\n",
       "    <tr>\n",
       "      <th>Park Slope</th>\n",
       "      <td>47.440000</td>\n",
       "      <td>54.880000</td>\n",
       "      <td>51.640000</td>\n",
       "      <td>53.360000</td>\n",
       "    </tr>\n",
       "    <tr>\n",
       "      <th>Upper West Side</th>\n",
       "      <td>52.937500</td>\n",
       "      <td>53.437500</td>\n",
       "      <td>48.250000</td>\n",
       "      <td>50.875000</td>\n",
       "    </tr>\n",
       "  </tbody>\n",
       "</table>\n",
       "</div>"
      ],
      "text/plain": [
       "                   tp_palmm  tpa_palmm  tppop_palmm  tppopdens_palmm\n",
       "Neighborhood                                                        \n",
       "Bay St. Corridor  37.000000  45.250000    44.000000        52.125000\n",
       "Bushwick          34.666667  49.083333    39.041667        39.500000\n",
       "Long Island City  39.952381  48.000000    52.095238        50.285714\n",
       "Lower East Side   48.705882  48.000000    46.176471        48.235294\n",
       "Park Slope        47.440000  54.880000    51.640000        53.360000\n",
       "Upper West Side   52.937500  53.437500    48.250000        50.875000"
      ]
     },
     "execution_count": 8,
     "metadata": {},
     "output_type": "execute_result"
    }
   ],
   "source": [
    "df.groupby('Neighborhood').agg({'tp_palmm':'mean', 'tpa_palmm':'mean', 'tppop_palmm':'mean', 'tppopdens_palmm':'mean'})"
   ]
  },
  {
   "cell_type": "code",
   "execution_count": null,
   "metadata": {},
   "outputs": [],
   "source": []
  }
 ],
 "metadata": {
  "kernelspec": {
   "display_name": "Python 3",
   "language": "python",
   "name": "python3"
  },
  "language_info": {
   "codemirror_mode": {
    "name": "ipython",
    "version": 3
   },
   "file_extension": ".py",
   "mimetype": "text/x-python",
   "name": "python",
   "nbconvert_exporter": "python",
   "pygments_lexer": "ipython3",
   "version": "3.7.3"
  },
  "latex_envs": {
   "LaTeX_envs_menu_present": true,
   "autoclose": true,
   "autocomplete": true,
   "bibliofile": "biblio.bib",
   "cite_by": "apalike",
   "current_citInitial": 1,
   "eqLabelWithNumbers": true,
   "eqNumInitial": 1,
   "hotkeys": {
    "equation": "Ctrl-E",
    "itemize": "Ctrl-I"
   },
   "labels_anchors": false,
   "latex_user_defs": false,
   "report_style_numbering": false,
   "user_envs_cfg": false
  },
  "toc": {
   "base_numbering": 1,
   "nav_menu": {},
   "number_sections": true,
   "sideBar": true,
   "skip_h1_title": false,
   "title_cell": "Table of Contents",
   "title_sidebar": "Contents",
   "toc_cell": false,
   "toc_position": {},
   "toc_section_display": true,
   "toc_window_display": false
  }
 },
 "nbformat": 4,
 "nbformat_minor": 2
}
