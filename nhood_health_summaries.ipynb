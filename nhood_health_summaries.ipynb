{
 "cells": [
  {
   "cell_type": "code",
   "execution_count": 235,
   "metadata": {},
   "outputs": [],
   "source": [
    "import pandas as pd\n",
    "import geopandas as gpd\n",
    "import numpy as np\n",
    "import matplotlib.pyplot as plt\n",
    "from os.path import join\n",
    "from fiona.crs import from_epsg\n",
    "from shapely.geometry import Point"
   ]
  },
  {
   "cell_type": "code",
   "execution_count": 236,
   "metadata": {},
   "outputs": [],
   "source": [
    "path_exp= r\"M:\\NY4P Metrics Research 18034\\05_GRAPHICS\\Charts Graphs Diagrams\\plt saves\\190806_nhood health\""
   ]
  },
  {
   "cell_type": "markdown",
   "metadata": {},
   "source": [
    "# load data\n",
    "* data from DOHMH\n",
    "* all scores data\n",
    "* study area entrances\n",
    "* nta polygons"
   ]
  },
  {
   "cell_type": "code",
   "execution_count": 26,
   "metadata": {},
   "outputs": [],
   "source": [
    "#Park entrances for different neighborhood\n",
    "bayst= gpd.read_file(r\"M:\\NY4P Metrics Research 18034\\03_GIS+ANALYSIS\\01_DATA\\Walk-to-a-Park Summer 2019 Data\\Walk-to-a-Park Summer 2019 Data\\Walk-to-a-Park_BayStreetCorridorAccessPoints.shp\")\n",
    "bushwick= gpd.read_file(r\"M:\\NY4P Metrics Research 18034\\03_GIS+ANALYSIS\\01_DATA\\Walk-to-a-Park Summer 2019 Data\\Walk-to-a-Park Summer 2019 Data\\Walk-to-a-Park_BushwickAccessPoints.shp\")\n",
    "lic1= gpd.read_file(r\"M:\\NY4P Metrics Research 18034\\03_GIS+ANALYSIS\\01_DATA\\Walk-to-a-Park Summer 2019 Data\\Walk-to-a-Park Summer 2019 Data\\Walk-to-a-Park_LIC_Parks1acreorlessAccessPoints.shp\")\n",
    "lic2= gpd.read_file(r\"M:\\NY4P Metrics Research 18034\\03_GIS+ANALYSIS\\01_DATA\\Walk-to-a-Park Summer 2019 Data\\Walk-to-a-Park Summer 2019 Data\\Walk-to-a-Park_LIC_Parks20acresorgreater.shp\")\n",
    "lic3= gpd.read_file(r\"M:\\NY4P Metrics Research 18034\\03_GIS+ANALYSIS\\01_DATA\\Walk-to-a-Park Summer 2019 Data\\Walk-to-a-Park Summer 2019 Data\\Walk-to-a-Park_LIC_Parksbtwn1and20acresAccessPoints.shp\")\n",
    "lic= pd.concat([lic1,lic2,lic3],axis=0,sort=True)"
   ]
  },
  {
   "cell_type": "code",
   "execution_count": 86,
   "metadata": {},
   "outputs": [],
   "source": [
    "nta= gpd.read_file(r\"S:\\NYC_GIS_DATA\\NeighborhoodTabulationAreas\\171128_NeighborhoodTabluationAreas\\NTA\\geo_export_439165cd-480d-4384-82d4-76251f54953e.shp\")\n",
    "nta= nta.to_crs({'init':'epsg:2263'})"
   ]
  },
  {
   "cell_type": "code",
   "execution_count": 87,
   "metadata": {},
   "outputs": [
    {
     "data": {
      "text/plain": [
       "Index(['shape_area', 'boro_name', 'ntacode', 'shape_leng', 'boro_code',\n",
       "       'ntaname', 'county_fip', 'geometry'],\n",
       "      dtype='object')"
      ]
     },
     "execution_count": 87,
     "metadata": {},
     "output_type": "execute_result"
    }
   ],
   "source": [
    "nta.columns"
   ]
  },
  {
   "cell_type": "code",
   "execution_count": 73,
   "metadata": {},
   "outputs": [],
   "source": [
    "scores= gpd.read_file(r\"M:\\NY4P Metrics Research 18034\\03_GIS+ANALYSIS\\01_DATA\\Processed\\190806_ALL_SCORES\\190806_ALLSCORES.shp\",index_col=0)"
   ]
  },
  {
   "cell_type": "code",
   "execution_count": 74,
   "metadata": {},
   "outputs": [],
   "source": [
    "health= pd.read_csv(r\"M:\\HRA OneNYC 18039\\03_GIS+ANALYSIS\\01_DATA\\DOHMH\\DOHMH.csv\").set_index('NTACode')"
   ]
  },
  {
   "cell_type": "code",
   "execution_count": 75,
   "metadata": {},
   "outputs": [
    {
     "data": {
      "text/plain": [
       "Index(['FID', 'BoroCode', 'BoroName', 'CountyFIPS', 'NTAName', 'Shape_Leng',\n",
       "       'Shape_Area', 'NTA_Name', 'NTA_Code', 'TotalPop',\n",
       "       ...\n",
       "       'NitricOxide', 'NitrogenDioxide', 'Ozone', 'SulfurDioxide', 'Daycares',\n",
       "       'AlcoholRetailers', 'TobaccoRetailers', 'FelonyCrime', 'PropertyCrime',\n",
       "       'ViolentCrime'],\n",
       "      dtype='object', length=203)"
      ]
     },
     "execution_count": 75,
     "metadata": {},
     "output_type": "execute_result"
    }
   ],
   "source": [
    "health.columns"
   ]
  },
  {
   "cell_type": "markdown",
   "metadata": {},
   "source": [
    "# City-wide averages"
   ]
  },
  {
   "cell_type": "code",
   "execution_count": 191,
   "metadata": {},
   "outputs": [
    {
     "data": {
      "text/plain": [
       "29.97743589743589"
      ]
     },
     "execution_count": 191,
     "metadata": {},
     "output_type": "execute_result"
    }
   ],
   "source": [
    "health['ChildAsthmaHosp'].mean()\n",
    "# The city average of childhood asthma, age-adjusted rate of asthma hospitalizations per 10,000 children ages 5-14"
   ]
  },
  {
   "cell_type": "code",
   "execution_count": 192,
   "metadata": {},
   "outputs": [
    {
     "data": {
      "text/plain": [
       "12.317948717948719"
      ]
     },
     "execution_count": 192,
     "metadata": {},
     "output_type": "execute_result"
    }
   ],
   "source": [
    "health['MedicaidChildAsthma'].mean()\n",
    "# The city average of childhood asthma diagnoses per 100,000 children ages 2-17 who are continuously enrolled in Medicaid"
   ]
  },
  {
   "cell_type": "code",
   "execution_count": 193,
   "metadata": {},
   "outputs": [
    {
     "data": {
      "text/plain": [
       "0.9528205128205124"
      ]
     },
     "execution_count": 193,
     "metadata": {},
     "output_type": "execute_result"
    }
   ],
   "source": [
    "health['BlackCarbon'].mean()\n",
    "# Black Carbon annual average (absorbance units)"
   ]
  },
  {
   "cell_type": "code",
   "execution_count": 194,
   "metadata": {},
   "outputs": [
    {
     "data": {
      "text/plain": [
       "0.7169230769230772"
      ]
     },
     "execution_count": 194,
     "metadata": {},
     "output_type": "execute_result"
    }
   ],
   "source": [
    "health['SulfurDioxide'].mean()\n",
    "# Winter average (ppb)"
   ]
  },
  {
   "cell_type": "code",
   "execution_count": 195,
   "metadata": {},
   "outputs": [
    {
     "data": {
      "text/plain": [
       "29.76769230769231"
      ]
     },
     "execution_count": 195,
     "metadata": {},
     "output_type": "execute_result"
    }
   ],
   "source": [
    "health['Ozone'].mean()\n",
    "# Ozone summer average (ppb)"
   ]
  },
  {
   "cell_type": "code",
   "execution_count": 196,
   "metadata": {},
   "outputs": [
    {
     "data": {
      "text/plain": [
       "8.944615384615386"
      ]
     },
     "execution_count": 196,
     "metadata": {},
     "output_type": "execute_result"
    }
   ],
   "source": [
    "health['PM25'].mean()\n",
    "# Fine particulate matter (PM2.5) annual average in micrograms per cubic meter"
   ]
  },
  {
   "cell_type": "code",
   "execution_count": 197,
   "metadata": {},
   "outputs": [
    {
     "data": {
      "text/plain": [
       "16.808205128205135"
      ]
     },
     "execution_count": 197,
     "metadata": {},
     "output_type": "execute_result"
    }
   ],
   "source": [
    "health['PoorControlDiabAll'].mean()\n",
    "# Percent of persons with poorly controlled diabestes ages 18 and older"
   ]
  },
  {
   "cell_type": "code",
   "execution_count": 198,
   "metadata": {},
   "outputs": [],
   "source": [
    "health_indic= ['ChildAsthmaHosp','MedicaidChildAsthma','BlackCarbon','SulfurDioxide','Ozone','PM25','PoorControlDiabAll']"
   ]
  },
  {
   "cell_type": "code",
   "execution_count": 205,
   "metadata": {},
   "outputs": [
    {
     "data": {
      "text/plain": [
       "ChildAsthmaHosp        29.977436\n",
       "MedicaidChildAsthma    12.317949\n",
       "BlackCarbon             0.952821\n",
       "SulfurDioxide           0.716923\n",
       "Ozone                  29.767692\n",
       "PM25                    8.944615\n",
       "PoorControlDiabAll     16.808205\n",
       "dtype: float64"
      ]
     },
     "execution_count": 205,
     "metadata": {},
     "output_type": "execute_result"
    }
   ],
   "source": [
    "citywide= health[health_indic].mean()\n",
    "citywide"
   ]
  },
  {
   "cell_type": "markdown",
   "metadata": {},
   "source": [
    "# Study Area Health Summaries\n",
    "* Park NTAs"
   ]
  },
  {
   "cell_type": "code",
   "execution_count": 174,
   "metadata": {},
   "outputs": [],
   "source": [
    "bayst_nta= gpd.sjoin(nta,bayst,op='intersects',how='inner').drop(['index_right','gispropnum','parkname','type'],axis=1)\n",
    "bushwick_nta= gpd.sjoin(nta,bushwick,op='intersects',how='inner').drop(['index_right', 'gispropnum', 'parkname', 'OBJECTID_1', 'OBJECTID',\n",
    "       'GARDENNAME', 'GARDENID', 'SHAPE_LENG', 'Acres', 'Acres2', 'acquisitio',\n",
    "       'address', 'borough', 'class', 'commission', 'communityb', 'councildis',\n",
    "       'department', 'eapply', 'gisobjid', 'gispropn_1', 'global_id',\n",
    "       'jurisdicti', 'location', 'mapped', 'name311', 'nys_assemb',\n",
    "       'nys_senate', 'omppropid', 'parentid', 'permit', 'permitdist',\n",
    "       'permitpare', 'pip_ratabl', 'precinct', 'retired', 'signname',\n",
    "       'subcategor', 'typecatego', 'url', 'us_congres', 'waterfront',\n",
    "       'zipcode', 'Shape_Le_1', 'Shape_Area', 'Acres3'],axis=1)\n",
    "lic_nta= gpd.sjoin(nta,lic,op='intersects',how='inner').drop(['index_right', 'Acre', 'Acre_1', 'Category', 'Category_1', 'County',\n",
    "       'County_1', 'Descript', 'Descript_1', 'FID_1',\n",
    "       'FID_12', 'FID_12_13', 'FID_12__14', 'Name', 'Name_1', 'Orig',\n",
    "       'Orig_1', 'Region', 'Region_1', 'Shape_Ar_1', 'Shape_Area',\n",
    "       'Shape_Le_1', 'Shape_Leng', 'Source', 'Source_1', 'Tot_acre',\n",
    "       'Tot_acre_1', 'UID', 'UID_1', 'Update1', 'Update_', 'acquisit_1',\n",
    "       'acquisitio', 'acres', 'acres_1', 'address', 'address_1', 'borough',\n",
    "       'borough_1', 'class', 'class_1', 'commissi_1', 'commission',\n",
    "       'communit_1', 'communityb', 'councild_1', 'councildis', 'departme_1',\n",
    "       'department', 'eapply', 'eapply_1', 'gisobjid', 'gisobjid_1',\n",
    "       'gispropn_1', 'gispropn_2', 'gispropn_3', 'gispropn_4', 'gispropnum',\n",
    "       'global_i_1', 'global_id', 'jurisdic_1', 'jurisdicti', 'location',\n",
    "       'location_1', 'mapped', 'mapped_1', 'name311', 'name311_1',\n",
    "       'nys_asse_1', 'nys_assemb', 'nys_sena_1', 'nys_senate', 'objectid',\n",
    "       'objectid_1', 'omppropi_1', 'omppropid', 'parentid', 'parentid_1',\n",
    "       'parkname', 'parkname_1', 'parkname_2', 'permit', 'permit_1',\n",
    "       'permitdi_1', 'permitdist', 'permitpa_1', 'permitpare', 'pip_rata_1',\n",
    "       'pip_ratabl', 'precinct', 'precinct_1', 'retired', 'retired_1',\n",
    "       'signname', 'signname_1', 'subcateg_1', 'subcategor', 'type',\n",
    "       'typecate_1', 'typecatego', 'url', 'url_1', 'us_congr_1', 'us_congres',\n",
    "       'waterfro_1', 'waterfront', 'zipcode', 'zipcode_1'],axis=1)"
   ]
  },
  {
   "cell_type": "code",
   "execution_count": 175,
   "metadata": {},
   "outputs": [],
   "source": [
    "bayst_nta= bayst_nta[~bayst_nta.duplicated('ntaname')]\n",
    "bushwick_nta= bushwick_nta[~bushwick_nta.duplicated('ntaname')].drop(192)\n",
    "lic_nta= lic_nta[~lic_nta.duplicated('ntaname')]"
   ]
  },
  {
   "cell_type": "markdown",
   "metadata": {},
   "source": [
    "__Visualizing Overlaps__"
   ]
  },
  {
   "cell_type": "code",
   "execution_count": 170,
   "metadata": {},
   "outputs": [
    {
     "data": {
      "image/png": "[encoded data removed]",
      "text/plain": [
       "<Figure size 576x576 with 1 Axes>"
      ]
     },
     "metadata": {
      "needs_background": "light"
     },
     "output_type": "display_data"
    }
   ],
   "source": [
    "fig, ax= plt.subplots(1,figsize=(8,8))\n",
    "bayst_nta.plot(ax=ax,color='green',alpha=.5)\n",
    "bayst.plot(ax=ax,color='gray')\n",
    "plt.axis('off')\n",
    "plt.title('Bay St. Corridor');"
   ]
  },
  {
   "cell_type": "code",
   "execution_count": 171,
   "metadata": {},
   "outputs": [
    {
     "data": {
      "image/png": "[encoded data removed]",
      "text/plain": [
       "<Figure size 576x576 with 1 Axes>"
      ]
     },
     "metadata": {
      "needs_background": "light"
     },
     "output_type": "display_data"
    }
   ],
   "source": [
    "fig, ax= plt.subplots(1,figsize=(8,8))\n",
    "bushwick_nta.plot(ax=ax,color='green',alpha=.5)\n",
    "bushwick.plot(ax=ax,color='gray')\n",
    "plt.axis('off')\n",
    "plt.title('Bushwick');"
   ]
  },
  {
   "cell_type": "code",
   "execution_count": 172,
   "metadata": {},
   "outputs": [
    {
     "data": {
      "image/png": "[encoded data removed]",
      "text/plain": [
       "<Figure size 576x576 with 1 Axes>"
      ]
     },
     "metadata": {
      "needs_background": "light"
     },
     "output_type": "display_data"
    }
   ],
   "source": [
    "fig, ax= plt.subplots(1,figsize=(8,8))\n",
    "lic_nta.plot(ax=ax,color='green',alpha=.5)\n",
    "lic.plot(ax=ax,color='gray')\n",
    "plt.axis('off')\n",
    "plt.title('Long Island City');"
   ]
  },
  {
   "cell_type": "code",
   "execution_count": 201,
   "metadata": {},
   "outputs": [],
   "source": [
    "bayst_mask= health['NTA_Code'].isin(bayst_nta['ntacode'])\n",
    "bushwick_mask= health['NTA_Code'].isin(bushwick_nta['ntacode'])\n",
    "lic_mask= health['NTA_Code'].isin(lic_nta['ntacode'])\n",
    "#Nhood Masks"
   ]
  },
  {
   "cell_type": "markdown",
   "metadata": {},
   "source": [
    "## Neighborhood Health Summary Tables"
   ]
  },
  {
   "cell_type": "code",
   "execution_count": 207,
   "metadata": {},
   "outputs": [
    {
     "data": {
      "text/plain": [
       "ChildAsthmaHosp        25.650\n",
       "MedicaidChildAsthma    15.200\n",
       "BlackCarbon             0.775\n",
       "SulfurDioxide           0.375\n",
       "Ozone                  30.350\n",
       "PM25                    8.450\n",
       "PoorControlDiabAll     18.800\n",
       "dtype: float64"
      ]
     },
     "execution_count": 207,
     "metadata": {},
     "output_type": "execute_result"
    }
   ],
   "source": [
    "bayst_indic= health[bayst_mask][health_indic].mean()\n",
    "bayst_indic"
   ]
  },
  {
   "cell_type": "code",
   "execution_count": 208,
   "metadata": {},
   "outputs": [
    {
     "data": {
      "text/plain": [
       "ChildAsthmaHosp        50.500000\n",
       "MedicaidChildAsthma    12.983333\n",
       "BlackCarbon             0.958333\n",
       "SulfurDioxide           0.558333\n",
       "Ozone                  30.700000\n",
       "PM25                    9.475000\n",
       "PoorControlDiabAll     21.691667\n",
       "dtype: float64"
      ]
     },
     "execution_count": 208,
     "metadata": {},
     "output_type": "execute_result"
    }
   ],
   "source": [
    "bushwick_indic= health[bushwick_mask][health_indic].mean()\n",
    "bushwick_indic"
   ]
  },
  {
   "cell_type": "code",
   "execution_count": 254,
   "metadata": {},
   "outputs": [
    {
     "data": {
      "text/plain": [
       "ChildAsthmaHosp        19.500000\n",
       "MedicaidChildAsthma    11.400000\n",
       "BlackCarbon             1.200000\n",
       "SulfurDioxide           0.783333\n",
       "Ozone                  30.650000\n",
       "PM25                    9.966667\n",
       "PoorControlDiabAll     17.166667\n",
       "dtype: float64"
      ]
     },
     "execution_count": 254,
     "metadata": {},
     "output_type": "execute_result"
    }
   ],
   "source": [
    "lic_indic= health[lic_mask][health_indic].mean()\n",
    "lic_indic"
   ]
  },
  {
   "cell_type": "code",
   "execution_count": 255,
   "metadata": {},
   "outputs": [
    {
     "data": {
      "text/plain": [
       "ChildAsthmaHosp        29.977436\n",
       "MedicaidChildAsthma    12.317949\n",
       "BlackCarbon             0.952821\n",
       "SulfurDioxide           0.716923\n",
       "Ozone                  29.767692\n",
       "PM25                    8.944615\n",
       "PoorControlDiabAll     16.808205\n",
       "dtype: float64"
      ]
     },
     "execution_count": 255,
     "metadata": {},
     "output_type": "execute_result"
    }
   ],
   "source": [
    "citywide"
   ]
  },
  {
   "cell_type": "code",
   "execution_count": 224,
   "metadata": {},
   "outputs": [
    {
     "data": {
      "text/html": [
       "<div>\n",
       "<style scoped>\n",
       "    .dataframe tbody tr th:only-of-type {\n",
       "        vertical-align: middle;\n",
       "    }\n",
       "\n",
       "    .dataframe tbody tr th {\n",
       "        vertical-align: top;\n",
       "    }\n",
       "\n",
       "    .dataframe thead th {\n",
       "        text-align: right;\n",
       "    }\n",
       "</style>\n",
       "<table border=\"1\" class=\"dataframe\">\n",
       "  <thead>\n",
       "    <tr style=\"text-align: right;\">\n",
       "      <th></th>\n",
       "      <th>Bay St. Corridor</th>\n",
       "      <th>Bushwick</th>\n",
       "      <th>LIC</th>\n",
       "    </tr>\n",
       "  </thead>\n",
       "  <tbody>\n",
       "    <tr>\n",
       "      <th>ChildAsthmaHosp</th>\n",
       "      <td>25.650</td>\n",
       "      <td>50.500000</td>\n",
       "      <td>19.500000</td>\n",
       "    </tr>\n",
       "    <tr>\n",
       "      <th>MedicaidChildAsthma</th>\n",
       "      <td>15.200</td>\n",
       "      <td>12.983333</td>\n",
       "      <td>11.400000</td>\n",
       "    </tr>\n",
       "    <tr>\n",
       "      <th>BlackCarbon</th>\n",
       "      <td>0.775</td>\n",
       "      <td>0.958333</td>\n",
       "      <td>1.200000</td>\n",
       "    </tr>\n",
       "    <tr>\n",
       "      <th>SulfurDioxide</th>\n",
       "      <td>0.375</td>\n",
       "      <td>0.558333</td>\n",
       "      <td>0.783333</td>\n",
       "    </tr>\n",
       "    <tr>\n",
       "      <th>Ozone</th>\n",
       "      <td>30.350</td>\n",
       "      <td>30.700000</td>\n",
       "      <td>30.650000</td>\n",
       "    </tr>\n",
       "    <tr>\n",
       "      <th>PM25</th>\n",
       "      <td>8.450</td>\n",
       "      <td>9.475000</td>\n",
       "      <td>9.966667</td>\n",
       "    </tr>\n",
       "    <tr>\n",
       "      <th>PoorControlDiabAll</th>\n",
       "      <td>18.800</td>\n",
       "      <td>21.691667</td>\n",
       "      <td>17.166667</td>\n",
       "    </tr>\n",
       "  </tbody>\n",
       "</table>\n",
       "</div>"
      ],
      "text/plain": [
       "                     Bay St. Corridor   Bushwick        LIC\n",
       "ChildAsthmaHosp                25.650  50.500000  19.500000\n",
       "MedicaidChildAsthma            15.200  12.983333  11.400000\n",
       "BlackCarbon                     0.775   0.958333   1.200000\n",
       "SulfurDioxide                   0.375   0.558333   0.783333\n",
       "Ozone                          30.350  30.700000  30.650000\n",
       "PM25                            8.450   9.475000   9.966667\n",
       "PoorControlDiabAll             18.800  21.691667  17.166667"
      ]
     },
     "execution_count": 224,
     "metadata": {},
     "output_type": "execute_result"
    }
   ],
   "source": [
    "summary= pd.DataFrame(data= np.array([bayst_indic.values,bushwick_indic.values, lic_indic.values]).T,index=lic_indic.index,columns=['Bay St. Corridor','Bushwick','LIC'])\n",
    "summary"
   ]
  },
  {
   "cell_type": "code",
   "execution_count": 244,
   "metadata": {},
   "outputs": [
    {
     "data": {
      "text/html": [
       "<div>\n",
       "<style scoped>\n",
       "    .dataframe tbody tr th:only-of-type {\n",
       "        vertical-align: middle;\n",
       "    }\n",
       "\n",
       "    .dataframe tbody tr th {\n",
       "        vertical-align: top;\n",
       "    }\n",
       "\n",
       "    .dataframe thead th {\n",
       "        text-align: right;\n",
       "    }\n",
       "</style>\n",
       "<table border=\"1\" class=\"dataframe\">\n",
       "  <thead>\n",
       "    <tr style=\"text-align: right;\">\n",
       "      <th></th>\n",
       "      <th>Bay St. Corridor</th>\n",
       "      <th>Bushwick</th>\n",
       "      <th>LIC</th>\n",
       "    </tr>\n",
       "  </thead>\n",
       "  <tbody>\n",
       "    <tr>\n",
       "      <th>ChildAsthmaHosp</th>\n",
       "      <td>-4.327436</td>\n",
       "      <td>20.522564</td>\n",
       "      <td>-10.477436</td>\n",
       "    </tr>\n",
       "    <tr>\n",
       "      <th>MedicaidChildAsthma</th>\n",
       "      <td>2.882051</td>\n",
       "      <td>0.665385</td>\n",
       "      <td>-0.917949</td>\n",
       "    </tr>\n",
       "    <tr>\n",
       "      <th>BlackCarbon</th>\n",
       "      <td>-0.177821</td>\n",
       "      <td>0.005513</td>\n",
       "      <td>0.247179</td>\n",
       "    </tr>\n",
       "    <tr>\n",
       "      <th>SulfurDioxide</th>\n",
       "      <td>-0.341923</td>\n",
       "      <td>-0.158590</td>\n",
       "      <td>0.066410</td>\n",
       "    </tr>\n",
       "    <tr>\n",
       "      <th>Ozone</th>\n",
       "      <td>0.582308</td>\n",
       "      <td>0.932308</td>\n",
       "      <td>0.882308</td>\n",
       "    </tr>\n",
       "    <tr>\n",
       "      <th>PM25</th>\n",
       "      <td>-0.494615</td>\n",
       "      <td>0.530385</td>\n",
       "      <td>1.022051</td>\n",
       "    </tr>\n",
       "    <tr>\n",
       "      <th>PoorControlDiabAll</th>\n",
       "      <td>1.991795</td>\n",
       "      <td>4.883462</td>\n",
       "      <td>0.358462</td>\n",
       "    </tr>\n",
       "  </tbody>\n",
       "</table>\n",
       "</div>"
      ],
      "text/plain": [
       "                     Bay St. Corridor   Bushwick        LIC\n",
       "ChildAsthmaHosp             -4.327436  20.522564 -10.477436\n",
       "MedicaidChildAsthma          2.882051   0.665385  -0.917949\n",
       "BlackCarbon                 -0.177821   0.005513   0.247179\n",
       "SulfurDioxide               -0.341923  -0.158590   0.066410\n",
       "Ozone                        0.582308   0.932308   0.882308\n",
       "PM25                        -0.494615   0.530385   1.022051\n",
       "PoorControlDiabAll           1.991795   4.883462   0.358462"
      ]
     },
     "execution_count": 244,
     "metadata": {},
     "output_type": "execute_result"
    }
   ],
   "source": [
    "summary.subtract(citywide,axis=0)"
   ]
  },
  {
   "cell_type": "code",
   "execution_count": 252,
   "metadata": {},
   "outputs": [
    {
     "data": {
      "image/png": "[encoded data removed]",
      "text/plain": [
       "<Figure size 576x576 with 1 Axes>"
      ]
     },
     "metadata": {
      "needs_background": "light"
     },
     "output_type": "display_data"
    }
   ],
   "source": [
    "summary.loc[:'MedicaidChildAsthma',:].subtract(citywide.loc[:'MedicaidChildAsthma'].values,axis=0).plot.barh(figsize=(8,8))\n",
    "plt.savefig(join(path_exp,'190806_NhoodSumm.pdf'));"
   ]
  },
  {
   "cell_type": "code",
   "execution_count": 253,
   "metadata": {},
   "outputs": [
    {
     "data": {
      "image/png": "[encoded data removed]",
      "text/plain": [
       "<Figure size 576x576 with 1 Axes>"
      ]
     },
     "metadata": {
      "needs_background": "light"
     },
     "output_type": "display_data"
    }
   ],
   "source": [
    "summary.loc['BlackCarbon':'PM25',:].subtract(citywide.loc['BlackCarbon':'PM25'].values,axis=0).plot.barh(figsize=(8,8))\n",
    "plt.savefig(join(path_exp,'190806_NhoodSumm2.pdf'));"
   ]
  },
  {
   "cell_type": "code",
   "execution_count": null,
   "metadata": {},
   "outputs": [],
   "source": []
  }
 ],
 "metadata": {
  "kernelspec": {
   "display_name": "Python 3",
   "language": "python",
   "name": "python3"
  },
  "language_info": {
   "codemirror_mode": {
    "name": "ipython",
    "version": 3
   },
   "file_extension": ".py",
   "mimetype": "text/x-python",
   "name": "python",
   "nbconvert_exporter": "python",
   "pygments_lexer": "ipython3",
   "version": "3.9.7"
  },
  "toc": {
   "base_numbering": 1,
   "nav_menu": {
    "height": "197px",
    "width": "292px"
   },
   "number_sections": true,
   "sideBar": true,
   "skip_h1_title": false,
   "title_cell": "Table of Contents",
   "title_sidebar": "Contents",
   "toc_cell": false,
   "toc_position": {},
   "toc_section_display": true,
   "toc_window_display": false
  }
 },
 "nbformat": 4,
 "nbformat_minor": 2
}
