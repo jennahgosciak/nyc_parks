{
 "cells": [
  {
   "cell_type": "code",
   "execution_count": 1,
   "metadata": {},
   "outputs": [],
   "source": [
    "import pandas as pd\n",
    "import geopandas as gpd\n",
    "import numpy as np\n",
    "import matplotlib.pyplot as plt\n",
    "from os.path import join\n",
    "from fiona.crs import from_epsg\n",
    "from shapely.geometry import Point"
   ]
  },
  {
   "cell_type": "markdown",
   "metadata": {},
   "source": [
    "# Analysis of all Parks in Long Island City\n",
    "* Reads relevant csv files: parks in Long Island City and all events with necessary information\n",
    "* LIC parks chosen according to boundary outlined in a previous email\n",
    "* Merges Long Island City parks with event information to isolate only the needed event information"
   ]
  },
  {
   "cell_type": "code",
   "execution_count": 2,
   "metadata": {},
   "outputs": [],
   "source": [
    "lic= gpd.read_file(r\"M:\\NY4P Metrics Research 18034\\03_GIS+ANALYSIS\\01_DATA\\Processed\\Neighborhood Specific Parks\\lic.shp\")\n",
    "#Reads a csv of long island city parks\n",
    "events= pd.read_csv(r\"M:\\NY4P Metrics Research 18034\\03_GIS+ANALYSIS\\01_DATA\\Processed\\eventorg.csv\",index_col=0)\n",
    "#Dataframe with all events (descriptive categories, locations, and event organizers)"
   ]
  },
  {
   "cell_type": "code",
   "execution_count": 3,
   "metadata": {},
   "outputs": [
    {
     "data": {
      "text/html": [
       "<div>\n",
       "<style scoped>\n",
       "    .dataframe tbody tr th:only-of-type {\n",
       "        vertical-align: middle;\n",
       "    }\n",
       "\n",
       "    .dataframe tbody tr th {\n",
       "        vertical-align: top;\n",
       "    }\n",
       "\n",
       "    .dataframe thead th {\n",
       "        text-align: right;\n",
       "    }\n",
       "</style>\n",
       "<table border=\"1\" class=\"dataframe\">\n",
       "  <thead>\n",
       "    <tr style=\"text-align: right;\">\n",
       "      <th></th>\n",
       "      <th>GISPROPNUM</th>\n",
       "      <th>SIGNNAME</th>\n",
       "    </tr>\n",
       "  </thead>\n",
       "  <tbody>\n",
       "    <tr>\n",
       "      <th>0</th>\n",
       "      <td>Q104</td>\n",
       "      <td>Queensbridge Park</td>\n",
       "    </tr>\n",
       "    <tr>\n",
       "      <th>1</th>\n",
       "      <td>Q471</td>\n",
       "      <td>Hunter's Point South Park</td>\n",
       "    </tr>\n",
       "    <tr>\n",
       "      <th>2</th>\n",
       "      <td>Q470</td>\n",
       "      <td>A.R.R.O.W. Field House</td>\n",
       "    </tr>\n",
       "    <tr>\n",
       "      <th>3</th>\n",
       "      <td>Q296</td>\n",
       "      <td>Playground Thirty Five XXXV</td>\n",
       "    </tr>\n",
       "    <tr>\n",
       "      <th>4</th>\n",
       "      <td>Q333</td>\n",
       "      <td>Ravenswood Playground</td>\n",
       "    </tr>\n",
       "    <tr>\n",
       "      <th>5</th>\n",
       "      <td>Q045</td>\n",
       "      <td>Andrews Grove</td>\n",
       "    </tr>\n",
       "    <tr>\n",
       "      <th>6</th>\n",
       "      <td>Q218</td>\n",
       "      <td>Dutch Kills Playground</td>\n",
       "    </tr>\n",
       "    <tr>\n",
       "      <th>7</th>\n",
       "      <td>Q429</td>\n",
       "      <td>Spirit Playground</td>\n",
       "    </tr>\n",
       "    <tr>\n",
       "      <th>8</th>\n",
       "      <td>Q340</td>\n",
       "      <td>Torsney Playground</td>\n",
       "    </tr>\n",
       "    <tr>\n",
       "      <th>9</th>\n",
       "      <td>Q141</td>\n",
       "      <td>Murray Playground</td>\n",
       "    </tr>\n",
       "    <tr>\n",
       "      <th>10</th>\n",
       "      <td>Q360U</td>\n",
       "      <td>Bridge and Tunnel Park</td>\n",
       "    </tr>\n",
       "    <tr>\n",
       "      <th>11</th>\n",
       "      <td>Q284</td>\n",
       "      <td>Sixteen Oaks Grove</td>\n",
       "    </tr>\n",
       "    <tr>\n",
       "      <th>12</th>\n",
       "      <td>Q072</td>\n",
       "      <td>Short Triangle</td>\n",
       "    </tr>\n",
       "    <tr>\n",
       "      <th>13</th>\n",
       "      <td>Q018</td>\n",
       "      <td>Gordon Triangle</td>\n",
       "    </tr>\n",
       "    <tr>\n",
       "      <th>14</th>\n",
       "      <td>Q032</td>\n",
       "      <td>McKenna Triangle</td>\n",
       "    </tr>\n",
       "    <tr>\n",
       "      <th>15</th>\n",
       "      <td>Q036A</td>\n",
       "      <td>Rafferty Triangle</td>\n",
       "    </tr>\n",
       "    <tr>\n",
       "      <th>16</th>\n",
       "      <td>Q232</td>\n",
       "      <td>Dwyer Square</td>\n",
       "    </tr>\n",
       "    <tr>\n",
       "      <th>17</th>\n",
       "      <td>Q267</td>\n",
       "      <td>Court Square Park</td>\n",
       "    </tr>\n",
       "    <tr>\n",
       "      <th>18</th>\n",
       "      <td>Q435</td>\n",
       "      <td>Vernon Mall</td>\n",
       "    </tr>\n",
       "    <tr>\n",
       "      <th>19</th>\n",
       "      <td>QT06</td>\n",
       "      <td>Old Hickory Playground</td>\n",
       "    </tr>\n",
       "  </tbody>\n",
       "</table>\n",
       "</div>"
      ],
      "text/plain": [
       "   GISPROPNUM                     SIGNNAME\n",
       "0        Q104            Queensbridge Park\n",
       "1        Q471    Hunter's Point South Park\n",
       "2        Q470       A.R.R.O.W. Field House\n",
       "3        Q296  Playground Thirty Five XXXV\n",
       "4        Q333        Ravenswood Playground\n",
       "5        Q045                Andrews Grove\n",
       "6        Q218       Dutch Kills Playground\n",
       "7        Q429            Spirit Playground\n",
       "8        Q340           Torsney Playground\n",
       "9        Q141            Murray Playground\n",
       "10      Q360U       Bridge and Tunnel Park\n",
       "11       Q284           Sixteen Oaks Grove\n",
       "12       Q072               Short Triangle\n",
       "13       Q018              Gordon Triangle\n",
       "14       Q032             McKenna Triangle\n",
       "15      Q036A            Rafferty Triangle\n",
       "16       Q232                 Dwyer Square\n",
       "17       Q267            Court Square Park\n",
       "18       Q435                  Vernon Mall\n",
       "19       QT06       Old Hickory Playground"
      ]
     },
     "execution_count": 3,
     "metadata": {},
     "output_type": "execute_result"
    }
   ],
   "source": [
    "lic[['GISPROPNUM','SIGNNAME']]\n",
    "#Long Island City Parks"
   ]
  },
  {
   "cell_type": "code",
   "execution_count": 4,
   "metadata": {},
   "outputs": [],
   "source": [
    "events['GISPROPNUM']=events['park_id']\n",
    "lic_events= pd.merge(events,lic,on='GISPROPNUM',how='right')\n",
    "#Merge between event data and LIC parks."
   ]
  },
  {
   "cell_type": "markdown",
   "metadata": {},
   "source": [
    "# In Depth Park Analysis\n",
    "## Basic Structure\n",
    "The analysis structure is the same for all parks, with different observations included for each.\n",
    "\n",
    "* Extracts the park, creating variables for the name and acreage.\n",
    "* Creates a temporary dataframe for the park\n",
    "* Computes the average number of events per year, the total number of events for all years (excluding 2019), and the average number of uniquely titled events.\n",
    "* Computes the number of uniquely titled events that occured more than once.\n",
    "* Computes the total number of uniquely titled events.\n",
    "* Displays the mostly frequently used descriptive categories as both a tbale and a graph.\n",
    "* Displays all the events, with a focus on the first and last year of event data, to analyze qualitatively the scope of programming.\n",
    "* Analyzes stakeholder information to discern the local and nonlocal stakeholder share, and (the number of events)/(the number of stakeholders), i.e. events per stakeholder."
   ]
  },
  {
   "cell_type": "code",
   "execution_count": 5,
   "metadata": {},
   "outputs": [],
   "source": [
    "name= lic[['SIGNNAME','ACRES']].iloc[0,0]\n",
    "acres= lic[['SIGNNAME','ACRES']].iloc[0,1]"
   ]
  },
  {
   "cell_type": "markdown",
   "metadata": {
    "variables": {
     "name": "Queensbridge Park"
    }
   },
   "source": [
    "## 1 {{name}}"
   ]
  },
  {
   "cell_type": "code",
   "execution_count": 6,
   "metadata": {},
   "outputs": [
    {
     "name": "stderr",
     "output_type": "stream",
     "text": [
      "C:\\Users\\raphael\\AppData\\Local\\Continuum\\anaconda3\\lib\\site-packages\\pandas\\core\\indexing.py:362: SettingWithCopyWarning: \n",
      "A value is trying to be set on a copy of a slice from a DataFrame.\n",
      "Try using .loc[row_indexer,col_indexer] = value instead\n",
      "\n",
      "See the caveats in the documentation: http://pandas.pydata.org/pandas-docs/stable/indexing.html#indexing-view-versus-copy\n",
      "  self.obj[key] = _infer_fill_value(value)\n",
      "C:\\Users\\raphael\\AppData\\Local\\Continuum\\anaconda3\\lib\\site-packages\\pandas\\core\\indexing.py:543: SettingWithCopyWarning: \n",
      "A value is trying to be set on a copy of a slice from a DataFrame.\n",
      "Try using .loc[row_indexer,col_indexer] = value instead\n",
      "\n",
      "See the caveats in the documentation: http://pandas.pydata.org/pandas-docs/stable/indexing.html#indexing-view-versus-copy\n",
      "  self.obj[item] = s\n"
     ]
    }
   ],
   "source": [
    "t= lic_events.loc[lic_events['GISPROPNUM']==lic.iloc[0,0]]\n",
    "t.loc[:,'date2']= pd.to_datetime(t['date'], format='%m/%d/%Y')\n",
    "t.loc[:,'year']= t.loc[:,'date2'].dt.year\n",
    "t= t.loc[t['year']!=2019]\n",
    "numev= t[~t.duplicated('event_id')].shape[0] #Number of events by the unique event id.\n",
    "#Creates a temporary dataframe for all events located to the specific park."
   ]
  },
  {
   "cell_type": "code",
   "execution_count": 7,
   "metadata": {},
   "outputs": [],
   "source": [
    "avg= t[~t.duplicated('event_id')].groupby('year').agg({'event_id':'count'}).reset_index().mean()\n",
    "#Removes repeated event_ids, and computes the mean number of events.\n",
    "avg= np.around(avg,decimals=2)\n",
    "total= t[~t.duplicated('event_id')].groupby('year').agg({'event_id':'count'}).reset_index().sum()\n",
    "#Removes repeated event_ids, and computes the total number of events.\n",
    "avgtitle= t[~t.duplicated('event_id')].sort_values('year')\n",
    "#Sorts all events by the year\n",
    "avgtitleyr= avgtitle.groupby('year')['title'].value_counts().unstack().count(axis=1).mean(axis=0)\n",
    "#Counts the number of uniquely titled events"
   ]
  },
  {
   "cell_type": "code",
   "execution_count": 8,
   "metadata": {},
   "outputs": [],
   "source": [
    "y= avgtitle.groupby('year')['title'].value_counts().unstack()\n",
    "y= y.transpose()\n",
    "duplev= y[y[[2013,2014,2015,2016,2017]]>1].count().reset_index()\n",
    "duplevavg= y[y[[2013,2014,2015,2016,2017]]>1].count().mean()\n",
    "duplev13= duplev.iloc[0,1]\n",
    "duplev18= duplev.iloc[4,1]\n",
    "#Calculates the unique events that repeat (i.e. not how many events were there, but how many titles refer to repeating events)."
   ]
  },
  {
   "cell_type": "markdown",
   "metadata": {},
   "source": [
    "### Initial Summary"
   ]
  },
  {
   "cell_type": "markdown",
   "metadata": {
    "variables": {
     "acres": "20.34",
     "avg[1]": "6.4",
     "duplev18": "0",
     "name": "Queensbridge Park",
     "np.around(avgtitleyr,decimals=2)": "6.0",
     "np.around(duplev13,decimals=2)": "1",
     "np.around(duplevavg,decimals=2)": "0.4",
     "total[1]": "32"
    }
   },
   "source": [
    "The first park analyzed in the Long Island City neighborhood is {{name}}. {{name}} has {{acres}} acres. The number of events it hosts on average per year is {{avg[1]}} with a total of {{total[1]}} events over the past six years. On average per year it hosts {{np.around(avgtitleyr,decimals=2)}} uniquely titled events. Of these uniquely titled events, on average {{np.around(duplevavg,decimals=2)}} occurred more than once. To be specific, in 2013 there was {{np.around(duplev13,decimals=2)}} uniquely titled repeating events and in 2018 there were {{duplev18}}."
   ]
  },
  {
   "cell_type": "markdown",
   "metadata": {
    "variables": {
     "np.around(avg[1]/acres,decimals=2)": "0.31",
     "np.around(avgtitleyr/acres,decimals=2)": "0.29",
     "np.around(numev/acres,decimals=2)": "1.57"
    }
   },
   "source": [
    "* The average number of uniquely titled events per year per acre is {{np.around(avgtitleyr/acres,decimals=2)}}.\n",
    "* The average number of events per year per acre is {{np.around(avg[1]/acres,decimals=2)}}.\n",
    "* The number of total events per acre is {{np.around(numev/acres,decimals=2)}}."
   ]
  },
  {
   "cell_type": "code",
   "execution_count": 9,
   "metadata": {},
   "outputs": [
    {
     "data": {
      "text/html": [
       "<div>\n",
       "<style scoped>\n",
       "    .dataframe tbody tr th:only-of-type {\n",
       "        vertical-align: middle;\n",
       "    }\n",
       "\n",
       "    .dataframe tbody tr th {\n",
       "        vertical-align: top;\n",
       "    }\n",
       "\n",
       "    .dataframe thead th {\n",
       "        text-align: right;\n",
       "    }\n",
       "</style>\n",
       "<table border=\"1\" class=\"dataframe\">\n",
       "  <thead>\n",
       "    <tr style=\"text-align: right;\">\n",
       "      <th></th>\n",
       "      <th>year</th>\n",
       "      <th>0</th>\n",
       "    </tr>\n",
       "  </thead>\n",
       "  <tbody>\n",
       "    <tr>\n",
       "      <th>0</th>\n",
       "      <td>2013</td>\n",
       "      <td>11</td>\n",
       "    </tr>\n",
       "    <tr>\n",
       "      <th>1</th>\n",
       "      <td>2014</td>\n",
       "      <td>9</td>\n",
       "    </tr>\n",
       "    <tr>\n",
       "      <th>2</th>\n",
       "      <td>2015</td>\n",
       "      <td>3</td>\n",
       "    </tr>\n",
       "    <tr>\n",
       "      <th>3</th>\n",
       "      <td>2016</td>\n",
       "      <td>4</td>\n",
       "    </tr>\n",
       "    <tr>\n",
       "      <th>4</th>\n",
       "      <td>2017</td>\n",
       "      <td>3</td>\n",
       "    </tr>\n",
       "  </tbody>\n",
       "</table>\n",
       "</div>"
      ],
      "text/plain": [
       "   year   0\n",
       "0  2013  11\n",
       "1  2014   9\n",
       "2  2015   3\n",
       "3  2016   4\n",
       "4  2017   3"
      ]
     },
     "execution_count": 9,
     "metadata": {},
     "output_type": "execute_result"
    }
   ],
   "source": [
    "avgtitle.groupby('year')['title'].value_counts().unstack().count(axis=1).reset_index()\n",
    "#Uniquely titled events by year"
   ]
  },
  {
   "cell_type": "code",
   "execution_count": 10,
   "metadata": {},
   "outputs": [
    {
     "data": {
      "text/html": [
       "<div>\n",
       "<style scoped>\n",
       "    .dataframe tbody tr th:only-of-type {\n",
       "        vertical-align: middle;\n",
       "    }\n",
       "\n",
       "    .dataframe tbody tr th {\n",
       "        vertical-align: top;\n",
       "    }\n",
       "\n",
       "    .dataframe thead th {\n",
       "        text-align: right;\n",
       "    }\n",
       "</style>\n",
       "<table border=\"1\" class=\"dataframe\">\n",
       "  <thead>\n",
       "    <tr style=\"text-align: right;\">\n",
       "      <th></th>\n",
       "      <th>year</th>\n",
       "      <th>event_id</th>\n",
       "    </tr>\n",
       "  </thead>\n",
       "  <tbody>\n",
       "    <tr>\n",
       "      <th>0</th>\n",
       "      <td>2013</td>\n",
       "      <td>12</td>\n",
       "    </tr>\n",
       "    <tr>\n",
       "      <th>1</th>\n",
       "      <td>2014</td>\n",
       "      <td>10</td>\n",
       "    </tr>\n",
       "    <tr>\n",
       "      <th>2</th>\n",
       "      <td>2015</td>\n",
       "      <td>3</td>\n",
       "    </tr>\n",
       "    <tr>\n",
       "      <th>3</th>\n",
       "      <td>2016</td>\n",
       "      <td>4</td>\n",
       "    </tr>\n",
       "    <tr>\n",
       "      <th>4</th>\n",
       "      <td>2017</td>\n",
       "      <td>3</td>\n",
       "    </tr>\n",
       "  </tbody>\n",
       "</table>\n",
       "</div>"
      ],
      "text/plain": [
       "   year  event_id\n",
       "0  2013        12\n",
       "1  2014        10\n",
       "2  2015         3\n",
       "3  2016         4\n",
       "4  2017         3"
      ]
     },
     "execution_count": 10,
     "metadata": {},
     "output_type": "execute_result"
    }
   ],
   "source": [
    "t[~t.duplicated('event_id')].groupby('year').agg({'event_id':'count'}).reset_index()\n",
    "#Total events by year"
   ]
  },
  {
   "cell_type": "code",
   "execution_count": 11,
   "metadata": {},
   "outputs": [
    {
     "data": {
      "text/html": [
       "<div>\n",
       "<style scoped>\n",
       "    .dataframe tbody tr th:only-of-type {\n",
       "        vertical-align: middle;\n",
       "    }\n",
       "\n",
       "    .dataframe tbody tr th {\n",
       "        vertical-align: top;\n",
       "    }\n",
       "\n",
       "    .dataframe thead th {\n",
       "        text-align: right;\n",
       "    }\n",
       "</style>\n",
       "<table border=\"1\" class=\"dataframe\">\n",
       "  <thead>\n",
       "    <tr style=\"text-align: right;\">\n",
       "      <th></th>\n",
       "      <th>year</th>\n",
       "      <th>0</th>\n",
       "    </tr>\n",
       "  </thead>\n",
       "  <tbody>\n",
       "    <tr>\n",
       "      <th>0</th>\n",
       "      <td>2013</td>\n",
       "      <td>1</td>\n",
       "    </tr>\n",
       "    <tr>\n",
       "      <th>1</th>\n",
       "      <td>2014</td>\n",
       "      <td>1</td>\n",
       "    </tr>\n",
       "    <tr>\n",
       "      <th>2</th>\n",
       "      <td>2015</td>\n",
       "      <td>0</td>\n",
       "    </tr>\n",
       "    <tr>\n",
       "      <th>3</th>\n",
       "      <td>2016</td>\n",
       "      <td>0</td>\n",
       "    </tr>\n",
       "    <tr>\n",
       "      <th>4</th>\n",
       "      <td>2017</td>\n",
       "      <td>0</td>\n",
       "    </tr>\n",
       "  </tbody>\n",
       "</table>\n",
       "</div>"
      ],
      "text/plain": [
       "   year  0\n",
       "0  2013  1\n",
       "1  2014  1\n",
       "2  2015  0\n",
       "3  2016  0\n",
       "4  2017  0"
      ]
     },
     "execution_count": 11,
     "metadata": {},
     "output_type": "execute_result"
    }
   ],
   "source": [
    "duplev\n",
    "#Events that Repeat by Year"
   ]
  },
  {
   "cell_type": "code",
   "execution_count": 12,
   "metadata": {},
   "outputs": [
    {
     "data": {
      "text/plain": [
       "27"
      ]
     },
     "execution_count": 12,
     "metadata": {},
     "output_type": "execute_result"
    }
   ],
   "source": [
    "uniqev= t[~t.duplicated('title')].shape[0]\n",
    "uniqev\n",
    "#The total number of uniquely titled events"
   ]
  },
  {
   "cell_type": "code",
   "execution_count": 13,
   "metadata": {},
   "outputs": [
    {
     "data": {
      "text/html": [
       "<div>\n",
       "<style scoped>\n",
       "    .dataframe tbody tr th:only-of-type {\n",
       "        vertical-align: middle;\n",
       "    }\n",
       "\n",
       "    .dataframe tbody tr th {\n",
       "        vertical-align: top;\n",
       "    }\n",
       "\n",
       "    .dataframe thead th {\n",
       "        text-align: right;\n",
       "    }\n",
       "</style>\n",
       "<table border=\"1\" class=\"dataframe\">\n",
       "  <thead>\n",
       "    <tr style=\"text-align: right;\">\n",
       "      <th></th>\n",
       "      <th>index</th>\n",
       "      <th>category</th>\n",
       "    </tr>\n",
       "  </thead>\n",
       "  <tbody>\n",
       "    <tr>\n",
       "      <th>0</th>\n",
       "      <td>City Parks Foundation</td>\n",
       "      <td>19</td>\n",
       "    </tr>\n",
       "    <tr>\n",
       "      <th>1</th>\n",
       "      <td>SummerStage</td>\n",
       "      <td>17</td>\n",
       "    </tr>\n",
       "    <tr>\n",
       "      <th>2</th>\n",
       "      <td>Concerts</td>\n",
       "      <td>13</td>\n",
       "    </tr>\n",
       "    <tr>\n",
       "      <th>3</th>\n",
       "      <td>Free Summer Concerts</td>\n",
       "      <td>13</td>\n",
       "    </tr>\n",
       "    <tr>\n",
       "      <th>4</th>\n",
       "      <td>Best for Kids</td>\n",
       "      <td>10</td>\n",
       "    </tr>\n",
       "    <tr>\n",
       "      <th>5</th>\n",
       "      <td>Volunteer</td>\n",
       "      <td>10</td>\n",
       "    </tr>\n",
       "    <tr>\n",
       "      <th>6</th>\n",
       "      <td>It's My Park</td>\n",
       "      <td>10</td>\n",
       "    </tr>\n",
       "    <tr>\n",
       "      <th>7</th>\n",
       "      <td>Dance</td>\n",
       "      <td>3</td>\n",
       "    </tr>\n",
       "    <tr>\n",
       "      <th>8</th>\n",
       "      <td>Theater</td>\n",
       "      <td>2</td>\n",
       "    </tr>\n",
       "    <tr>\n",
       "      <th>9</th>\n",
       "      <td>Games</td>\n",
       "      <td>2</td>\n",
       "    </tr>\n",
       "  </tbody>\n",
       "</table>\n",
       "</div>"
      ],
      "text/plain": [
       "                   index  category\n",
       "0  City Parks Foundation        19\n",
       "1            SummerStage        17\n",
       "2               Concerts        13\n",
       "3   Free Summer Concerts        13\n",
       "4          Best for Kids        10\n",
       "5              Volunteer        10\n",
       "6           It's My Park        10\n",
       "7                  Dance         3\n",
       "8                Theater         2\n",
       "9                  Games         2"
      ]
     },
     "execution_count": 13,
     "metadata": {},
     "output_type": "execute_result"
    }
   ],
   "source": [
    "table= t['category'].value_counts().reset_index()\n",
    "uniqcat= table.shape[0]\n",
    "table.head(10)\n",
    "#Most used event categories"
   ]
  },
  {
   "cell_type": "markdown",
   "metadata": {},
   "source": [
    "* Top ten categories used to describe events (above)\n",
    "* Bar chart of all categories used to describe events (below)"
   ]
  },
  {
   "cell_type": "code",
   "execution_count": 14,
   "metadata": {},
   "outputs": [
    {
     "data": {
      "image/png": "[encoded data removed]",
      "text/plain": [
       "<Figure size 720x576 with 1 Axes>"
      ]
     },
     "metadata": {
      "needs_background": "light"
     },
     "output_type": "display_data"
    }
   ],
   "source": [
    "fig, ax = plt.subplots(figsize=(10,8))\n",
    "bars= table['index']\n",
    "ypos= range(0,len(bars))\n",
    "ax.bar(ypos,table['category'])\n",
    "plt.tick_params(labelbottom=False)\n",
    "plt.title('Categories Used in Describing Events')\n",
    "plt.show()"
   ]
  },
  {
   "cell_type": "markdown",
   "metadata": {
    "variables": {
     "table.iloc[0,0]": "City Parks Foundation",
     "table.iloc[1,0]": "SummerStage",
     "table.iloc[2,0]": "Free Summer Concerts",
     "table.iloc[3,0]": "Concerts",
     "table.iloc[4,0]": "&quot;It&#39;s My Park&quot;",
     "table.iloc[5,0]": "Best for Kids",
     "table.iloc[6,0]": "Volunteer",
     "table.iloc[7,0]": "Dance",
     "uniqcat": "14",
     "uniqev": "27"
    }
   },
   "source": [
    "By title, there are {{uniqev}} uniquely titled events held in the park for all years included in the data. Of these events, there are {{uniqcat}} unique categories used to describe them. As the table above demonstrates, most of these events fall under the descriptive categories: \n",
    "* {{table.iloc[0,0]}}\n",
    "* {{table.iloc[1,0]}}\n",
    "* {{table.iloc[2,0]}}\n",
    "* {{table.iloc[3,0]}}\n",
    "* {{table.iloc[4,0]}}\n",
    "* {{table.iloc[5,0]}}\n",
    "* {{table.iloc[6,0]}}\n",
    "* {{table.iloc[7,0]}}"
   ]
  },
  {
   "cell_type": "markdown",
   "metadata": {},
   "source": [
    "### Analysis of event content\n",
    "* Types of events in the first and last year\n",
    "* Overall: types of events"
   ]
  },
  {
   "cell_type": "code",
   "execution_count": 15,
   "metadata": {},
   "outputs": [
    {
     "data": {
      "text/html": [
       "<div>\n",
       "<style scoped>\n",
       "    .dataframe tbody tr th:only-of-type {\n",
       "        vertical-align: middle;\n",
       "    }\n",
       "\n",
       "    .dataframe tbody tr th {\n",
       "        vertical-align: top;\n",
       "    }\n",
       "\n",
       "    .dataframe thead th {\n",
       "        text-align: right;\n",
       "    }\n",
       "</style>\n",
       "<table border=\"1\" class=\"dataframe\">\n",
       "  <thead>\n",
       "    <tr style=\"text-align: right;\">\n",
       "      <th></th>\n",
       "      <th>year</th>\n",
       "      <th>event_id</th>\n",
       "      <th>title</th>\n",
       "      <th>description</th>\n",
       "      <th>snippet</th>\n",
       "    </tr>\n",
       "  </thead>\n",
       "  <tbody>\n",
       "    <tr>\n",
       "      <th>618</th>\n",
       "      <td>2013</td>\n",
       "      <td>74092.0</td>\n",
       "      <td>CityParks PuppetMobile Presents Little Red's Hood</td>\n",
       "      <td>&lt;p class=\"mti_font_element\"&gt;\\t&lt;em class=\"mti_f...</td>\n",
       "      <td>Little Red's Hood is a fresh retelling of the ...</td>\n",
       "    </tr>\n",
       "    <tr>\n",
       "      <th>554</th>\n",
       "      <td>2013</td>\n",
       "      <td>69743.0</td>\n",
       "      <td>DANCE IQUAIL! /  Master Class by: Karisma Jay</td>\n",
       "      <td>&lt;p&gt;\\t7:00 PM &amp;ndash; All Levels Open Dance Mas...</td>\n",
       "      <td>DANCE IQUAIL! will feature a sizzling program ...</td>\n",
       "    </tr>\n",
       "    <tr>\n",
       "      <th>564</th>\n",
       "      <td>2013</td>\n",
       "      <td>69746.0</td>\n",
       "      <td>DJ D-Nice / 25th Anniversary Screening of \"I'm...</td>\n",
       "      <td>&lt;p&gt;\\tAt the intersection of music and technolo...</td>\n",
       "      <td>At the intersection of music and technology, D...</td>\n",
       "    </tr>\n",
       "    <tr>\n",
       "      <th>580</th>\n",
       "      <td>2013</td>\n",
       "      <td>69739.0</td>\n",
       "      <td>Das EFX / Special Ed / Chubb Rock / Black Shee...</td>\n",
       "      <td>&lt;p&gt;\\tConsisting of Skoob and Krazy Drayzy, Das...</td>\n",
       "      <td>Black Sheep is a Hip-Hop duo from Queens, New ...</td>\n",
       "    </tr>\n",
       "    <tr>\n",
       "      <th>632</th>\n",
       "      <td>2013</td>\n",
       "      <td>69738.0</td>\n",
       "      <td>Force MDs / Horace Brown / Jeff Redd / Marley ...</td>\n",
       "      <td>&lt;p&gt;\\tNew York born and bred, &lt;strong&gt;The Force...</td>\n",
       "      <td>New York born and bred, The Force MDs began th...</td>\n",
       "    </tr>\n",
       "    <tr>\n",
       "      <th>540</th>\n",
       "      <td>2013</td>\n",
       "      <td>77871.0</td>\n",
       "      <td>It's My Park Day at Queensbridge Park</td>\n",
       "      <td>Volunteer with the Friends of Queensbridge Par...</td>\n",
       "      <td>Volunteer with the Friends of Queensbridge Par...</td>\n",
       "    </tr>\n",
       "    <tr>\n",
       "      <th>609</th>\n",
       "      <td>2013</td>\n",
       "      <td>69736.0</td>\n",
       "      <td>Meli'sa Morgan / Fonda Rae / Alicia Myers / Ma...</td>\n",
       "      <td>&lt;p&gt;\\tNew York soul songstress &lt;strong&gt;Meli&amp;#39...</td>\n",
       "      <td>New York soul songstress Meli'sa Morgan began ...</td>\n",
       "    </tr>\n",
       "    <tr>\n",
       "      <th>594</th>\n",
       "      <td>2013</td>\n",
       "      <td>69745.0</td>\n",
       "      <td>Queens Family Day Featuring: Invincible: A Tri...</td>\n",
       "      <td>&lt;p&gt;\\t&lt;strong&gt;&lt;em&gt;SummerStage Kids &lt;/em&gt;&lt;/stron...</td>\n",
       "      <td>SummerStage Kids presented by Disney presents ...</td>\n",
       "    </tr>\n",
       "    <tr>\n",
       "      <th>627</th>\n",
       "      <td>2013</td>\n",
       "      <td>69740.0</td>\n",
       "      <td>Rennie Harris Collective Inc. / Master Class b...</td>\n",
       "      <td>&lt;p&gt;\\t7:00 PM &amp;ndash; All Levels Open Dance Mas...</td>\n",
       "      <td>Versed in urban dance styles such as Popping, ...</td>\n",
       "    </tr>\n",
       "    <tr>\n",
       "      <th>613</th>\n",
       "      <td>2013</td>\n",
       "      <td>72759.0</td>\n",
       "      <td>SummerStage Kids Presents: Dirty Sock Funtime ...</td>\n",
       "      <td>&lt;p&gt;\\tThe&amp;nbsp;&lt;strong&gt;Dirty Sock Funtime Band&lt;...</td>\n",
       "      <td>The Dirty Sock Funtime Band is a wild, technic...</td>\n",
       "    </tr>\n",
       "    <tr>\n",
       "      <th>572</th>\n",
       "      <td>2013</td>\n",
       "      <td>72721.0</td>\n",
       "      <td>SummerStage Kids Presents: Illstyle &amp; Peace Pr...</td>\n",
       "      <td>&lt;p&gt;\\t&lt;strong&gt;Illstyle &amp;amp; Peace Productions&lt;...</td>\n",
       "      <td>Illstyle &amp; Peace Productions is a multicultura...</td>\n",
       "    </tr>\n",
       "    <tr>\n",
       "      <th>588</th>\n",
       "      <td>2014</td>\n",
       "      <td>89535.0</td>\n",
       "      <td>CANCELLED: SummerStage Presents: Ismael Mirand...</td>\n",
       "      <td>&lt;p&gt;&lt;strong&gt;THIS EVENT HAS BEEN CANCELLED DUE T...</td>\n",
       "      <td>Ismael Miranda aka \"El niño bonito de la Salsa...</td>\n",
       "    </tr>\n",
       "    <tr>\n",
       "      <th>538</th>\n",
       "      <td>2014</td>\n",
       "      <td>100953.0</td>\n",
       "      <td>It's My Park Day at Queensbridge Park</td>\n",
       "      <td>&lt;p&gt;Volunteer with the Friends of the Queensbri...</td>\n",
       "      <td>Volunteer with the Friends of the Queensbridge...</td>\n",
       "    </tr>\n",
       "    <tr>\n",
       "      <th>602</th>\n",
       "      <td>2014</td>\n",
       "      <td>87437.0</td>\n",
       "      <td>SummerStage Kids Presents: Puppetmobile</td>\n",
       "      <td>City Parks Foundation is excited to announce t...</td>\n",
       "      <td>City Parks Foundation is excited to announce t...</td>\n",
       "    </tr>\n",
       "    <tr>\n",
       "      <th>577</th>\n",
       "      <td>2014</td>\n",
       "      <td>93049.0</td>\n",
       "      <td>SummerStage Kids Presents: Teatro SEA</td>\n",
       "      <td>Established in 1985, SEA (Society of the Educa...</td>\n",
       "      <td>Established in 1985, SEA (Society of the Educa...</td>\n",
       "    </tr>\n",
       "    <tr>\n",
       "      <th>606</th>\n",
       "      <td>2014</td>\n",
       "      <td>88938.0</td>\n",
       "      <td>SummerStage Presents: Harambee Dance Company /...</td>\n",
       "      <td>&lt;p&gt;\\tIn Swahili Harambee means &amp;quot;let us pu...</td>\n",
       "      <td>In Swahili Harambee means \"let us pull togethe...</td>\n",
       "    </tr>\n",
       "    <tr>\n",
       "      <th>636</th>\n",
       "      <td>2014</td>\n",
       "      <td>93058.0</td>\n",
       "      <td>SummerStage Presents: Ifetayo Youth Ensemble</td>\n",
       "      <td>&lt;p&gt;\\tSince its inception in 1989,&amp;nbsp;Ifetayo...</td>\n",
       "      <td>SummerStage Kids presents Ifetayo Youth Ensemble</td>\n",
       "    </tr>\n",
       "    <tr>\n",
       "      <th>598</th>\n",
       "      <td>2014</td>\n",
       "      <td>89236.0</td>\n",
       "      <td>SummerStage Presents: J. Holiday / Jon B in as...</td>\n",
       "      <td>&lt;p&gt;\\tLaid-back Washington, D.C.-based R&amp;amp;B ...</td>\n",
       "      <td>Laid-back Washington, D.C.-based R&amp;B vocalist ...</td>\n",
       "    </tr>\n",
       "    <tr>\n",
       "      <th>568</th>\n",
       "      <td>2014</td>\n",
       "      <td>89237.0</td>\n",
       "      <td>SummerStage Presents: Mobb Deep in assocation ...</td>\n",
       "      <td>&lt;p&gt;\\tOne of the most prolific and original gro...</td>\n",
       "      <td>One of the most prolific and original groups i...</td>\n",
       "    </tr>\n",
       "    <tr>\n",
       "      <th>622</th>\n",
       "      <td>2014</td>\n",
       "      <td>89609.0</td>\n",
       "      <td>SummerStage Presents: Queens Family Day: Jazz ...</td>\n",
       "      <td>&lt;p&gt;\\t&lt;strong&gt;&lt;em&gt;SummerStage Kids&lt;/em&gt; present...</td>\n",
       "      <td>SummerStage Kids presented by Disney presents ...</td>\n",
       "    </tr>\n",
       "    <tr>\n",
       "      <th>542</th>\n",
       "      <td>2015</td>\n",
       "      <td>109079.0</td>\n",
       "      <td>CANCELLED: It's My Park in Queensbridge Park</td>\n",
       "      <td>&lt;p class=\"alert alert-error\"&gt;Please note: this...</td>\n",
       "      <td>Please note that volunteer registration for th...</td>\n",
       "    </tr>\n",
       "    <tr>\n",
       "      <th>546</th>\n",
       "      <td>2015</td>\n",
       "      <td>109080.0</td>\n",
       "      <td>It's My Park at Queensbridge Park</td>\n",
       "      <td>&lt;p&gt;This It&amp;#39;s My Park season, volunteer wit...</td>\n",
       "      <td>This It's My Park season, volunteer with the F...</td>\n",
       "    </tr>\n",
       "    <tr>\n",
       "      <th>620</th>\n",
       "      <td>2015</td>\n",
       "      <td>115233.0</td>\n",
       "      <td>SummerStage: The Chi-Lites</td>\n",
       "      <td>&lt;p&gt;SummerStage is the largest free performing ...</td>\n",
       "      <td>At the forefront of the 70s R&amp;B Chicago scene,...</td>\n",
       "    </tr>\n",
       "    <tr>\n",
       "      <th>625</th>\n",
       "      <td>2016</td>\n",
       "      <td>134207.0</td>\n",
       "      <td>Bubble Fun</td>\n",
       "      <td>&lt;p&gt;Join us for a day of bubble-making fun! Lea...</td>\n",
       "      <td>Join us for a day of bubble-making fun! We'll ...</td>\n",
       "    </tr>\n",
       "    <tr>\n",
       "      <th>592</th>\n",
       "      <td>2016</td>\n",
       "      <td>127530.0</td>\n",
       "      <td>CANCELLED: It's My Park at Queensbridge Park</td>\n",
       "      <td>&lt;p class=\"alert alert-error\"&gt;Please note: this...</td>\n",
       "      <td>This It's My Park season, volunteer with Green...</td>\n",
       "    </tr>\n",
       "    <tr>\n",
       "      <th>584</th>\n",
       "      <td>2016</td>\n",
       "      <td>138716.0</td>\n",
       "      <td>Fall Field Day</td>\n",
       "      <td>&lt;p&gt;NYC Parks presents the second annual Fall F...</td>\n",
       "      <td>Kids, teens, and their families are invited to...</td>\n",
       "    </tr>\n",
       "    <tr>\n",
       "      <th>639</th>\n",
       "      <td>2016</td>\n",
       "      <td>127553.0</td>\n",
       "      <td>It's My Park at Queensbridge Park</td>\n",
       "      <td>&lt;p&gt;This It&amp;#39;s My Park season, volunteer wit...</td>\n",
       "      <td>This It's My Park season, volunteer with NYC C...</td>\n",
       "    </tr>\n",
       "    <tr>\n",
       "      <th>544</th>\n",
       "      <td>2017</td>\n",
       "      <td>146346.0</td>\n",
       "      <td>CANCELLED: It's My Park at Queensbridge Park</td>\n",
       "      <td>&lt;p class=\"alert alert-error\"&gt;Please note: this...</td>\n",
       "      <td>This It's My Park season, volunteer with Frien...</td>\n",
       "    </tr>\n",
       "    <tr>\n",
       "      <th>559</th>\n",
       "      <td>2017</td>\n",
       "      <td>148575.0</td>\n",
       "      <td>CityParks PuppetMobile presents Cinderella Sam...</td>\n",
       "      <td>&lt;p&gt;Cinderella Samba is a contemporary twist on...</td>\n",
       "      <td>Cinderella Samba is a contemporary twist on th...</td>\n",
       "    </tr>\n",
       "    <tr>\n",
       "      <th>552</th>\n",
       "      <td>2017</td>\n",
       "      <td>143776.0</td>\n",
       "      <td>It's My Park at Queensbridge Park - Spring Cle...</td>\n",
       "      <td>&lt;p&gt;This It&amp;#39;s My Park season, join Friends ...</td>\n",
       "      <td>Volunteers will help clean Vernon Playground i...</td>\n",
       "    </tr>\n",
       "  </tbody>\n",
       "</table>\n",
       "</div>"
      ],
      "text/plain": [
       "     year  event_id                                              title  \\\n",
       "618  2013   74092.0  CityParks PuppetMobile Presents Little Red's Hood   \n",
       "554  2013   69743.0      DANCE IQUAIL! /  Master Class by: Karisma Jay   \n",
       "564  2013   69746.0  DJ D-Nice / 25th Anniversary Screening of \"I'm...   \n",
       "580  2013   69739.0  Das EFX / Special Ed / Chubb Rock / Black Shee...   \n",
       "632  2013   69738.0  Force MDs / Horace Brown / Jeff Redd / Marley ...   \n",
       "540  2013   77871.0              It's My Park Day at Queensbridge Park   \n",
       "609  2013   69736.0  Meli'sa Morgan / Fonda Rae / Alicia Myers / Ma...   \n",
       "594  2013   69745.0  Queens Family Day Featuring: Invincible: A Tri...   \n",
       "627  2013   69740.0  Rennie Harris Collective Inc. / Master Class b...   \n",
       "613  2013   72759.0  SummerStage Kids Presents: Dirty Sock Funtime ...   \n",
       "572  2013   72721.0  SummerStage Kids Presents: Illstyle & Peace Pr...   \n",
       "588  2014   89535.0  CANCELLED: SummerStage Presents: Ismael Mirand...   \n",
       "538  2014  100953.0              It's My Park Day at Queensbridge Park   \n",
       "602  2014   87437.0            SummerStage Kids Presents: Puppetmobile   \n",
       "577  2014   93049.0              SummerStage Kids Presents: Teatro SEA   \n",
       "606  2014   88938.0  SummerStage Presents: Harambee Dance Company /...   \n",
       "636  2014   93058.0       SummerStage Presents: Ifetayo Youth Ensemble   \n",
       "598  2014   89236.0  SummerStage Presents: J. Holiday / Jon B in as...   \n",
       "568  2014   89237.0  SummerStage Presents: Mobb Deep in assocation ...   \n",
       "622  2014   89609.0  SummerStage Presents: Queens Family Day: Jazz ...   \n",
       "542  2015  109079.0       CANCELLED: It's My Park in Queensbridge Park   \n",
       "546  2015  109080.0                  It's My Park at Queensbridge Park   \n",
       "620  2015  115233.0                         SummerStage: The Chi-Lites   \n",
       "625  2016  134207.0                                         Bubble Fun   \n",
       "592  2016  127530.0       CANCELLED: It's My Park at Queensbridge Park   \n",
       "584  2016  138716.0                                     Fall Field Day   \n",
       "639  2016  127553.0                  It's My Park at Queensbridge Park   \n",
       "544  2017  146346.0       CANCELLED: It's My Park at Queensbridge Park   \n",
       "559  2017  148575.0  CityParks PuppetMobile presents Cinderella Sam...   \n",
       "552  2017  143776.0  It's My Park at Queensbridge Park - Spring Cle...   \n",
       "\n",
       "                                           description  \\\n",
       "618  <p class=\"mti_font_element\">\\t<em class=\"mti_f...   \n",
       "554  <p>\\t7:00 PM &ndash; All Levels Open Dance Mas...   \n",
       "564  <p>\\tAt the intersection of music and technolo...   \n",
       "580  <p>\\tConsisting of Skoob and Krazy Drayzy, Das...   \n",
       "632  <p>\\tNew York born and bred, <strong>The Force...   \n",
       "540  Volunteer with the Friends of Queensbridge Par...   \n",
       "609  <p>\\tNew York soul songstress <strong>Meli&#39...   \n",
       "594  <p>\\t<strong><em>SummerStage Kids </em></stron...   \n",
       "627  <p>\\t7:00 PM &ndash; All Levels Open Dance Mas...   \n",
       "613  <p>\\tThe&nbsp;<strong>Dirty Sock Funtime Band<...   \n",
       "572  <p>\\t<strong>Illstyle &amp; Peace Productions<...   \n",
       "588  <p><strong>THIS EVENT HAS BEEN CANCELLED DUE T...   \n",
       "538  <p>Volunteer with the Friends of the Queensbri...   \n",
       "602  City Parks Foundation is excited to announce t...   \n",
       "577  Established in 1985, SEA (Society of the Educa...   \n",
       "606  <p>\\tIn Swahili Harambee means &quot;let us pu...   \n",
       "636  <p>\\tSince its inception in 1989,&nbsp;Ifetayo...   \n",
       "598  <p>\\tLaid-back Washington, D.C.-based R&amp;B ...   \n",
       "568  <p>\\tOne of the most prolific and original gro...   \n",
       "622  <p>\\t<strong><em>SummerStage Kids</em> present...   \n",
       "542  <p class=\"alert alert-error\">Please note: this...   \n",
       "546  <p>This It&#39;s My Park season, volunteer wit...   \n",
       "620  <p>SummerStage is the largest free performing ...   \n",
       "625  <p>Join us for a day of bubble-making fun! Lea...   \n",
       "592  <p class=\"alert alert-error\">Please note: this...   \n",
       "584  <p>NYC Parks presents the second annual Fall F...   \n",
       "639  <p>This It&#39;s My Park season, volunteer wit...   \n",
       "544  <p class=\"alert alert-error\">Please note: this...   \n",
       "559  <p>Cinderella Samba is a contemporary twist on...   \n",
       "552  <p>This It&#39;s My Park season, join Friends ...   \n",
       "\n",
       "                                               snippet  \n",
       "618  Little Red's Hood is a fresh retelling of the ...  \n",
       "554  DANCE IQUAIL! will feature a sizzling program ...  \n",
       "564  At the intersection of music and technology, D...  \n",
       "580  Black Sheep is a Hip-Hop duo from Queens, New ...  \n",
       "632  New York born and bred, The Force MDs began th...  \n",
       "540  Volunteer with the Friends of Queensbridge Par...  \n",
       "609  New York soul songstress Meli'sa Morgan began ...  \n",
       "594  SummerStage Kids presented by Disney presents ...  \n",
       "627  Versed in urban dance styles such as Popping, ...  \n",
       "613  The Dirty Sock Funtime Band is a wild, technic...  \n",
       "572  Illstyle & Peace Productions is a multicultura...  \n",
       "588  Ismael Miranda aka \"El niño bonito de la Salsa...  \n",
       "538  Volunteer with the Friends of the Queensbridge...  \n",
       "602  City Parks Foundation is excited to announce t...  \n",
       "577  Established in 1985, SEA (Society of the Educa...  \n",
       "606  In Swahili Harambee means \"let us pull togethe...  \n",
       "636   SummerStage Kids presents Ifetayo Youth Ensemble  \n",
       "598  Laid-back Washington, D.C.-based R&B vocalist ...  \n",
       "568  One of the most prolific and original groups i...  \n",
       "622  SummerStage Kids presented by Disney presents ...  \n",
       "542  Please note that volunteer registration for th...  \n",
       "546  This It's My Park season, volunteer with the F...  \n",
       "620  At the forefront of the 70s R&B Chicago scene,...  \n",
       "625  Join us for a day of bubble-making fun! We'll ...  \n",
       "592  This It's My Park season, volunteer with Green...  \n",
       "584  Kids, teens, and their families are invited to...  \n",
       "639  This It's My Park season, volunteer with NYC C...  \n",
       "544  This It's My Park season, volunteer with Frien...  \n",
       "559  Cinderella Samba is a contemporary twist on th...  \n",
       "552  Volunteers will help clean Vernon Playground i...  "
      ]
     },
     "execution_count": 15,
     "metadata": {},
     "output_type": "execute_result"
    }
   ],
   "source": [
    "t[~t.duplicated(['year','title'])][['year','event_id','title','description','snippet']].sort_values(['year','title'])\n",
    "#Sorts all data by uniquely titled events for each year."
   ]
  },
  {
   "cell_type": "code",
   "execution_count": 16,
   "metadata": {},
   "outputs": [
    {
     "data": {
      "text/html": [
       "<div>\n",
       "<style scoped>\n",
       "    .dataframe tbody tr th:only-of-type {\n",
       "        vertical-align: middle;\n",
       "    }\n",
       "\n",
       "    .dataframe tbody tr th {\n",
       "        vertical-align: top;\n",
       "    }\n",
       "\n",
       "    .dataframe thead th {\n",
       "        text-align: right;\n",
       "    }\n",
       "</style>\n",
       "<table border=\"1\" class=\"dataframe\">\n",
       "  <thead>\n",
       "    <tr style=\"text-align: right;\">\n",
       "      <th></th>\n",
       "      <th>title</th>\n",
       "      <th>2013</th>\n",
       "    </tr>\n",
       "  </thead>\n",
       "  <tbody>\n",
       "    <tr>\n",
       "      <th>0</th>\n",
       "      <td>It's My Park Day at Queensbridge Park</td>\n",
       "      <td>2.0</td>\n",
       "    </tr>\n",
       "    <tr>\n",
       "      <th>1</th>\n",
       "      <td>CityParks PuppetMobile Presents Little Red's Hood</td>\n",
       "      <td>1.0</td>\n",
       "    </tr>\n",
       "    <tr>\n",
       "      <th>2</th>\n",
       "      <td>DANCE IQUAIL! /  Master Class by: Karisma Jay</td>\n",
       "      <td>1.0</td>\n",
       "    </tr>\n",
       "    <tr>\n",
       "      <th>3</th>\n",
       "      <td>DJ D-Nice / 25th Anniversary Screening of \"I'm...</td>\n",
       "      <td>1.0</td>\n",
       "    </tr>\n",
       "    <tr>\n",
       "      <th>4</th>\n",
       "      <td>Das EFX / Special Ed / Chubb Rock / Black Shee...</td>\n",
       "      <td>1.0</td>\n",
       "    </tr>\n",
       "    <tr>\n",
       "      <th>5</th>\n",
       "      <td>Force MDs / Horace Brown / Jeff Redd / Marley ...</td>\n",
       "      <td>1.0</td>\n",
       "    </tr>\n",
       "    <tr>\n",
       "      <th>6</th>\n",
       "      <td>Meli'sa Morgan / Fonda Rae / Alicia Myers / Ma...</td>\n",
       "      <td>1.0</td>\n",
       "    </tr>\n",
       "    <tr>\n",
       "      <th>7</th>\n",
       "      <td>Queens Family Day Featuring: Invincible: A Tri...</td>\n",
       "      <td>1.0</td>\n",
       "    </tr>\n",
       "    <tr>\n",
       "      <th>8</th>\n",
       "      <td>Rennie Harris Collective Inc. / Master Class b...</td>\n",
       "      <td>1.0</td>\n",
       "    </tr>\n",
       "    <tr>\n",
       "      <th>9</th>\n",
       "      <td>SummerStage Kids Presents: Dirty Sock Funtime ...</td>\n",
       "      <td>1.0</td>\n",
       "    </tr>\n",
       "  </tbody>\n",
       "</table>\n",
       "</div>"
      ],
      "text/plain": [
       "                                               title  2013\n",
       "0              It's My Park Day at Queensbridge Park   2.0\n",
       "1  CityParks PuppetMobile Presents Little Red's Hood   1.0\n",
       "2      DANCE IQUAIL! /  Master Class by: Karisma Jay   1.0\n",
       "3  DJ D-Nice / 25th Anniversary Screening of \"I'm...   1.0\n",
       "4  Das EFX / Special Ed / Chubb Rock / Black Shee...   1.0\n",
       "5  Force MDs / Horace Brown / Jeff Redd / Marley ...   1.0\n",
       "6  Meli'sa Morgan / Fonda Rae / Alicia Myers / Ma...   1.0\n",
       "7  Queens Family Day Featuring: Invincible: A Tri...   1.0\n",
       "8  Rennie Harris Collective Inc. / Master Class b...   1.0\n",
       "9  SummerStage Kids Presents: Dirty Sock Funtime ...   1.0"
      ]
     },
     "execution_count": 16,
     "metadata": {},
     "output_type": "execute_result"
    }
   ],
   "source": [
    "y2013= t[~t.duplicated('event_id')].groupby('year')['title'].value_counts().unstack().sort_values(2013,axis=1,ascending=False).iloc[0,0:10]\n",
    "y2013= y2013.reset_index()\n",
    "y2013"
   ]
  },
  {
   "cell_type": "code",
   "execution_count": 17,
   "metadata": {},
   "outputs": [
    {
     "data": {
      "text/html": [
       "<div>\n",
       "<style scoped>\n",
       "    .dataframe tbody tr th:only-of-type {\n",
       "        vertical-align: middle;\n",
       "    }\n",
       "\n",
       "    .dataframe tbody tr th {\n",
       "        vertical-align: top;\n",
       "    }\n",
       "\n",
       "    .dataframe thead th {\n",
       "        text-align: right;\n",
       "    }\n",
       "</style>\n",
       "<table border=\"1\" class=\"dataframe\">\n",
       "  <thead>\n",
       "    <tr style=\"text-align: right;\">\n",
       "      <th></th>\n",
       "      <th>title</th>\n",
       "      <th>2017</th>\n",
       "    </tr>\n",
       "  </thead>\n",
       "  <tbody>\n",
       "    <tr>\n",
       "      <th>0</th>\n",
       "      <td>CANCELLED: It's My Park at Queensbridge Park</td>\n",
       "      <td>1.0</td>\n",
       "    </tr>\n",
       "    <tr>\n",
       "      <th>1</th>\n",
       "      <td>CityParks PuppetMobile presents Cinderella Sam...</td>\n",
       "      <td>1.0</td>\n",
       "    </tr>\n",
       "    <tr>\n",
       "      <th>2</th>\n",
       "      <td>It's My Park at Queensbridge Park - Spring Cle...</td>\n",
       "      <td>1.0</td>\n",
       "    </tr>\n",
       "  </tbody>\n",
       "</table>\n",
       "</div>"
      ],
      "text/plain": [
       "                                               title  2017\n",
       "0       CANCELLED: It's My Park at Queensbridge Park   1.0\n",
       "1  CityParks PuppetMobile presents Cinderella Sam...   1.0\n",
       "2  It's My Park at Queensbridge Park - Spring Cle...   1.0"
      ]
     },
     "execution_count": 17,
     "metadata": {},
     "output_type": "execute_result"
    }
   ],
   "source": [
    "y2017= t[~t.duplicated('event_id')].groupby('year')['title'].value_counts().unstack().sort_values(2017,axis=1,ascending=False).iloc[4,0:3]\n",
    "y2017= y2017.reset_index()\n",
    "y2017"
   ]
  },
  {
   "cell_type": "markdown",
   "metadata": {},
   "source": [
    "Overall, events range from a music and dance performances (or even workshops?) to Field Days and \"It's My Park\" events. For context, \"It's My Park\" events are volunteer celebrations of public parks. Activities include mulching, painting, cleaning, weeding, and planting (\"Volunteer: It's My Park,\" City Parks Foundation)."
   ]
  },
  {
   "cell_type": "markdown",
   "metadata": {},
   "source": [
    "In 2013, few events repeated except for an \"It's My Park Day.\" However, there were many dance and music concerts, including several Master Class workshops and SummerStage concerts. In recent years (i.e. 2016 and 2017), SummerStage concerts do not appear to be happening. However, in 2017 there was a CityParks PuppetMobile event, presumably a puppet show for young people."
   ]
  },
  {
   "cell_type": "code",
   "execution_count": 18,
   "metadata": {},
   "outputs": [
    {
     "data": {
      "text/html": [
       "<div>\n",
       "<style scoped>\n",
       "    .dataframe tbody tr th:only-of-type {\n",
       "        vertical-align: middle;\n",
       "    }\n",
       "\n",
       "    .dataframe tbody tr th {\n",
       "        vertical-align: top;\n",
       "    }\n",
       "\n",
       "    .dataframe thead th {\n",
       "        text-align: right;\n",
       "    }\n",
       "</style>\n",
       "<table border=\"1\" class=\"dataframe\">\n",
       "  <thead>\n",
       "    <tr style=\"text-align: right;\">\n",
       "      <th></th>\n",
       "      <th>index</th>\n",
       "      <th>event_organizer</th>\n",
       "    </tr>\n",
       "  </thead>\n",
       "  <tbody>\n",
       "    <tr>\n",
       "      <th>0</th>\n",
       "      <td>City Parks Foundation</td>\n",
       "      <td>19</td>\n",
       "    </tr>\n",
       "    <tr>\n",
       "      <th>1</th>\n",
       "      <td>Friends of Queensbridge Park Committee</td>\n",
       "      <td>3</td>\n",
       "    </tr>\n",
       "    <tr>\n",
       "      <th>2</th>\n",
       "      <td>Green Shores NYC</td>\n",
       "      <td>1</td>\n",
       "    </tr>\n",
       "    <tr>\n",
       "      <th>3</th>\n",
       "      <td>Growing Up Green Charter School</td>\n",
       "      <td>1</td>\n",
       "    </tr>\n",
       "    <tr>\n",
       "      <th>4</th>\n",
       "      <td>NYC Parks: Queens Recreation</td>\n",
       "      <td>1</td>\n",
       "    </tr>\n",
       "  </tbody>\n",
       "</table>\n",
       "</div>"
      ],
      "text/plain": [
       "                                    index  event_organizer\n",
       "0                   City Parks Foundation               19\n",
       "1  Friends of Queensbridge Park Committee                3\n",
       "2                        Green Shores NYC                1\n",
       "3         Growing Up Green Charter School                1\n",
       "4            NYC Parks: Queens Recreation                1"
      ]
     },
     "execution_count": 18,
     "metadata": {},
     "output_type": "execute_result"
    }
   ],
   "source": [
    "table= t[~t.duplicated('title')]['event_organizer'].value_counts().reset_index()\n",
    "table\n",
    "#Stakeholders by uniquely titled events"
   ]
  },
  {
   "cell_type": "code",
   "execution_count": 19,
   "metadata": {},
   "outputs": [
    {
     "data": {
      "text/html": [
       "<div>\n",
       "<style scoped>\n",
       "    .dataframe tbody tr th:only-of-type {\n",
       "        vertical-align: middle;\n",
       "    }\n",
       "\n",
       "    .dataframe tbody tr th {\n",
       "        vertical-align: top;\n",
       "    }\n",
       "\n",
       "    .dataframe thead th {\n",
       "        text-align: right;\n",
       "    }\n",
       "</style>\n",
       "<table border=\"1\" class=\"dataframe\">\n",
       "  <thead>\n",
       "    <tr style=\"text-align: right;\">\n",
       "      <th></th>\n",
       "      <th>index</th>\n",
       "      <th>event_organizer</th>\n",
       "    </tr>\n",
       "  </thead>\n",
       "  <tbody>\n",
       "    <tr>\n",
       "      <th>0</th>\n",
       "      <td>City Parks Foundation</td>\n",
       "      <td>19</td>\n",
       "    </tr>\n",
       "    <tr>\n",
       "      <th>1</th>\n",
       "      <td>Friends of Queensbridge Park Committee</td>\n",
       "      <td>5</td>\n",
       "    </tr>\n",
       "    <tr>\n",
       "      <th>2</th>\n",
       "      <td>Green Shores NYC</td>\n",
       "      <td>2</td>\n",
       "    </tr>\n",
       "    <tr>\n",
       "      <th>3</th>\n",
       "      <td>Partnerships for Parks</td>\n",
       "      <td>1</td>\n",
       "    </tr>\n",
       "    <tr>\n",
       "      <th>4</th>\n",
       "      <td>NYC Compost Project hosted by Big Reuse Green ...</td>\n",
       "      <td>1</td>\n",
       "    </tr>\n",
       "    <tr>\n",
       "      <th>5</th>\n",
       "      <td>Growing Up Green Charter School</td>\n",
       "      <td>1</td>\n",
       "    </tr>\n",
       "    <tr>\n",
       "      <th>6</th>\n",
       "      <td>NYC Parks: Queens Recreation</td>\n",
       "      <td>1</td>\n",
       "    </tr>\n",
       "  </tbody>\n",
       "</table>\n",
       "</div>"
      ],
      "text/plain": [
       "                                               index  event_organizer\n",
       "0                              City Parks Foundation               19\n",
       "1             Friends of Queensbridge Park Committee                5\n",
       "2                                   Green Shores NYC                2\n",
       "3                             Partnerships for Parks                1\n",
       "4  NYC Compost Project hosted by Big Reuse Green ...                1\n",
       "5                    Growing Up Green Charter School                1\n",
       "6                       NYC Parks: Queens Recreation                1"
      ]
     },
     "execution_count": 19,
     "metadata": {},
     "output_type": "execute_result"
    }
   ],
   "source": [
    "table2= t[~t.duplicated('event_id')]['event_organizer'].value_counts().reset_index()\n",
    "table2\n",
    "#Stakeholders by number of events organized"
   ]
  },
  {
   "cell_type": "markdown",
   "metadata": {
    "variables": {
     "table.iloc[0,0]": "City Parks Foundation",
     "table.iloc[1,0]": "Friends of Queensbridge Park Committee",
     "table.iloc[2,0]": "NYC Parks: Queens Recreation",
     "table2.iloc[4,0]": "NYC Compost Project hosted by Big Reuse Green Team",
     "table2.iloc[5,0]": "NYC Parks: Queens Recreation"
    }
   },
   "source": [
    "The most prominent event organizer is {{table.iloc[0,0]}}. According to their website, {{table.iloc[0,0]}} is an organization \"dedicated to invigorating and transforming parks into dynamic, vibrant centers of urban life through sports, arts, community building and education programs for all New Yorkers.\" It serves more than 400 city parks, recreation centers, and public schools.\n",
    "\n",
    "The second most prominent event organizers are more local: {{table.iloc[1,0]}}, {{table.iloc[2,0]}}, {{table2.iloc[4,0]}}, and {{table2.iloc[5,0]}} it seems to be one of the few local organizers."
   ]
  },
  {
   "cell_type": "markdown",
   "metadata": {},
   "source": [
    "### Analysis of local and nonlocal stakeholders"
   ]
  },
  {
   "cell_type": "code",
   "execution_count": 50,
   "metadata": {},
   "outputs": [],
   "source": [
    "nonloc= [0,4,6] #based off of organizations that do not have Van Cortlandt Park in their name\n",
    "nonlocsh= table2.loc[nonloc,'event_organizer'].sum()/table2['event_organizer'].sum()\n",
    "nonlocsh= np.around(nonlocsh,decimals=2)\n",
    "locsh= np.around(1-nonlocsh,decimals=2)\n",
    "uniqorg= len(table2)"
   ]
  },
  {
   "cell_type": "code",
   "execution_count": 53,
   "metadata": {},
   "outputs": [
    {
     "data": {
      "text/plain": [
       "14"
      ]
     },
     "execution_count": 53,
     "metadata": {},
     "output_type": "execute_result"
    }
   ],
   "source": [
    "uniqorg"
   ]
  },
  {
   "cell_type": "markdown",
   "metadata": {
    "variables": {
     "locsh": "0.3",
     "nonlocsh": "0.7",
     "np.around(numev/uniqorg,decimals=2)": "4.57",
     "np.around(uniqev/uniqorg,decimals=2)": "3.86"
    }
   },
   "source": [
    "* The non-local stakeholder share is {{nonlocsh}}. // The local stakeholder share is {{locsh}}.\n",
    "* The number of uniquely titled events per stakeholder is {{np.around(uniqev/uniqorg,decimals=2)}}.\n",
    "* The number of total events per stakeholder is {{np.around(numev/uniqorg,decimals=2)}}."
   ]
  },
  {
   "cell_type": "markdown",
   "metadata": {},
   "source": [
    "Note: stakeholder share is calculated using table2 (above): stakeholder share of all events organized, not uniquely titled events."
   ]
  },
  {
   "cell_type": "code",
   "execution_count": 21,
   "metadata": {},
   "outputs": [],
   "source": [
    "name= lic[['SIGNNAME','ACRES']].iloc[1,0]\n",
    "acres= lic[['SIGNNAME','ACRES']].iloc[1,1]"
   ]
  },
  {
   "cell_type": "markdown",
   "metadata": {
    "variables": {
     "name": "&quot;Hunter&#39;s Point South Park&quot;"
    }
   },
   "source": [
    "## 2 {{name}}"
   ]
  },
  {
   "cell_type": "code",
   "execution_count": 55,
   "metadata": {},
   "outputs": [
    {
     "name": "stderr",
     "output_type": "stream",
     "text": [
      "C:\\Users\\raphael\\AppData\\Local\\Continuum\\anaconda3\\lib\\site-packages\\pandas\\core\\indexing.py:362: SettingWithCopyWarning: \n",
      "A value is trying to be set on a copy of a slice from a DataFrame.\n",
      "Try using .loc[row_indexer,col_indexer] = value instead\n",
      "\n",
      "See the caveats in the documentation: http://pandas.pydata.org/pandas-docs/stable/indexing.html#indexing-view-versus-copy\n",
      "  self.obj[key] = _infer_fill_value(value)\n",
      "C:\\Users\\raphael\\AppData\\Local\\Continuum\\anaconda3\\lib\\site-packages\\pandas\\core\\indexing.py:543: SettingWithCopyWarning: \n",
      "A value is trying to be set on a copy of a slice from a DataFrame.\n",
      "Try using .loc[row_indexer,col_indexer] = value instead\n",
      "\n",
      "See the caveats in the documentation: http://pandas.pydata.org/pandas-docs/stable/indexing.html#indexing-view-versus-copy\n",
      "  self.obj[item] = s\n"
     ]
    }
   ],
   "source": [
    "t= lic_events[lic_events['GISPROPNUM']==lic.iloc[1,0]]\n",
    "t.loc[:,'date2']= pd.to_datetime(t['date'], format='%m/%d/%Y')\n",
    "t.loc[:,'year']= t.loc[:,'date2'].dt.year\n",
    "t= t[t['year']!=2019]\n",
    "numev= t[~t.duplicated('event_id')].shape[0] #Number of events by the unique event id.\n",
    "#Creates a temporary dataframe for all events located to the specific park."
   ]
  },
  {
   "cell_type": "code",
   "execution_count": 23,
   "metadata": {},
   "outputs": [],
   "source": [
    "avg= t[~t.duplicated('event_id')].groupby('year').agg({'event_id':'count'}).reset_index().mean()\n",
    "#Removes repeated event_ids, and computes the mean number of events.\n",
    "avg= np.around(avg,decimals=2)\n",
    "total= t[~t.duplicated('event_id')].groupby('year').agg({'event_id':'count'}).reset_index().sum()\n",
    "#Removes repeated event_ids, and computes the total number of events.\n",
    "avgtitle= t[~t.duplicated('event_id')].sort_values('year')\n",
    "#Sorts all events by the year\n",
    "avgtitleyr= avgtitle.groupby('year')['title'].value_counts().unstack().count(axis=1).mean(axis=0)\n",
    "#Counts the number of uniquely titled events"
   ]
  },
  {
   "cell_type": "code",
   "execution_count": 24,
   "metadata": {},
   "outputs": [],
   "source": [
    "y= avgtitle.groupby('year')['title'].value_counts().unstack()\n",
    "y= y.transpose()\n",
    "duplev= y[y[[2014,2015,2016,2017]]>1].count().reset_index()\n",
    "duplevavg= y[y[[2014,2015,2016,2017]]>1].count().mean()\n",
    "duplev13= duplev.iloc[0,1]\n",
    "duplev18= duplev.iloc[4,1]\n",
    "#Calculates the unique events that repeat (i.e. not how many events were there, but how many titles refer to repeating events)."
   ]
  },
  {
   "cell_type": "markdown",
   "metadata": {},
   "source": [
    "### Initial Summary"
   ]
  },
  {
   "cell_type": "markdown",
   "metadata": {
    "variables": {
     "acres": "22.6",
     "avg[1]": "25.0",
     "duplev18": "0",
     "name": "&quot;Hunter&#39;s Point South Park&quot;",
     "np.around(avgtitleyr,decimals=2)": "12.0",
     "np.around(duplev13,decimals=2)": "0",
     "np.around(duplevavg,decimals=2)": "0.2",
     "total[1]": "125"
    }
   },
   "source": [
    "This next park is {{name}}. {{name}} has {{acres}} acres. The number of events it hosts on average per year is {{avg[1]}} with a total of {{total[1]}} events over the past six years. On average per year it hosts {{np.around(avgtitleyr,decimals=2)}} uniquely titled events. Of these uniquely titled events, on average {{np.around(duplevavg,decimals=2)}} occurred more than once. \n",
    "\n",
    "\n",
    "To be specific, in 2013 there were {{np.around(duplev13,decimals=2)}} uniquely titled repeating events and in 2018 there were {{duplev18}}."
   ]
  },
  {
   "cell_type": "markdown",
   "metadata": {
    "variables": {
     "np.around(avg[1]/acres,decimals=2)": "1.11",
     "np.around(avgtitleyr/acres,decimals=2)": "0.53",
     "np.around(numev/acres,decimals=2)": "5.53"
    }
   },
   "source": [
    "* The average number of uniquely titled events per year per acre is {{np.around(avgtitleyr/acres,decimals=2)}}.\n",
    "* The average number of events per year per acre is {{np.around(avg[1]/acres,decimals=2)}}.\n",
    "* The number of total events per acre is {{np.around(numev/acres,decimals=2)}}."
   ]
  },
  {
   "cell_type": "code",
   "execution_count": 25,
   "metadata": {},
   "outputs": [
    {
     "data": {
      "text/html": [
       "<div>\n",
       "<style scoped>\n",
       "    .dataframe tbody tr th:only-of-type {\n",
       "        vertical-align: middle;\n",
       "    }\n",
       "\n",
       "    .dataframe tbody tr th {\n",
       "        vertical-align: top;\n",
       "    }\n",
       "\n",
       "    .dataframe thead th {\n",
       "        text-align: right;\n",
       "    }\n",
       "</style>\n",
       "<table border=\"1\" class=\"dataframe\">\n",
       "  <thead>\n",
       "    <tr style=\"text-align: right;\">\n",
       "      <th></th>\n",
       "      <th>year</th>\n",
       "      <th>0</th>\n",
       "    </tr>\n",
       "  </thead>\n",
       "  <tbody>\n",
       "    <tr>\n",
       "      <th>0</th>\n",
       "      <td>2014</td>\n",
       "      <td>3</td>\n",
       "    </tr>\n",
       "    <tr>\n",
       "      <th>1</th>\n",
       "      <td>2015</td>\n",
       "      <td>16</td>\n",
       "    </tr>\n",
       "    <tr>\n",
       "      <th>2</th>\n",
       "      <td>2016</td>\n",
       "      <td>13</td>\n",
       "    </tr>\n",
       "    <tr>\n",
       "      <th>3</th>\n",
       "      <td>2017</td>\n",
       "      <td>11</td>\n",
       "    </tr>\n",
       "    <tr>\n",
       "      <th>4</th>\n",
       "      <td>2018</td>\n",
       "      <td>17</td>\n",
       "    </tr>\n",
       "  </tbody>\n",
       "</table>\n",
       "</div>"
      ],
      "text/plain": [
       "   year   0\n",
       "0  2014   3\n",
       "1  2015  16\n",
       "2  2016  13\n",
       "3  2017  11\n",
       "4  2018  17"
      ]
     },
     "execution_count": 25,
     "metadata": {},
     "output_type": "execute_result"
    }
   ],
   "source": [
    "avgtitle.groupby('year')['title'].value_counts().unstack().count(axis=1).reset_index()\n",
    "#Uniquely titled events by year"
   ]
  },
  {
   "cell_type": "code",
   "execution_count": 26,
   "metadata": {},
   "outputs": [
    {
     "data": {
      "text/html": [
       "<div>\n",
       "<style scoped>\n",
       "    .dataframe tbody tr th:only-of-type {\n",
       "        vertical-align: middle;\n",
       "    }\n",
       "\n",
       "    .dataframe tbody tr th {\n",
       "        vertical-align: top;\n",
       "    }\n",
       "\n",
       "    .dataframe thead th {\n",
       "        text-align: right;\n",
       "    }\n",
       "</style>\n",
       "<table border=\"1\" class=\"dataframe\">\n",
       "  <thead>\n",
       "    <tr style=\"text-align: right;\">\n",
       "      <th></th>\n",
       "      <th>year</th>\n",
       "      <th>event_id</th>\n",
       "    </tr>\n",
       "  </thead>\n",
       "  <tbody>\n",
       "    <tr>\n",
       "      <th>0</th>\n",
       "      <td>2014</td>\n",
       "      <td>3</td>\n",
       "    </tr>\n",
       "    <tr>\n",
       "      <th>1</th>\n",
       "      <td>2015</td>\n",
       "      <td>17</td>\n",
       "    </tr>\n",
       "    <tr>\n",
       "      <th>2</th>\n",
       "      <td>2016</td>\n",
       "      <td>13</td>\n",
       "    </tr>\n",
       "    <tr>\n",
       "      <th>3</th>\n",
       "      <td>2017</td>\n",
       "      <td>11</td>\n",
       "    </tr>\n",
       "    <tr>\n",
       "      <th>4</th>\n",
       "      <td>2018</td>\n",
       "      <td>81</td>\n",
       "    </tr>\n",
       "  </tbody>\n",
       "</table>\n",
       "</div>"
      ],
      "text/plain": [
       "   year  event_id\n",
       "0  2014         3\n",
       "1  2015        17\n",
       "2  2016        13\n",
       "3  2017        11\n",
       "4  2018        81"
      ]
     },
     "execution_count": 26,
     "metadata": {},
     "output_type": "execute_result"
    }
   ],
   "source": [
    "t[~t.duplicated('event_id')].groupby('year').agg({'event_id':'count'}).reset_index()\n",
    "#Total events by year"
   ]
  },
  {
   "cell_type": "code",
   "execution_count": 27,
   "metadata": {},
   "outputs": [
    {
     "data": {
      "text/html": [
       "<div>\n",
       "<style scoped>\n",
       "    .dataframe tbody tr th:only-of-type {\n",
       "        vertical-align: middle;\n",
       "    }\n",
       "\n",
       "    .dataframe tbody tr th {\n",
       "        vertical-align: top;\n",
       "    }\n",
       "\n",
       "    .dataframe thead th {\n",
       "        text-align: right;\n",
       "    }\n",
       "</style>\n",
       "<table border=\"1\" class=\"dataframe\">\n",
       "  <thead>\n",
       "    <tr style=\"text-align: right;\">\n",
       "      <th></th>\n",
       "      <th>year</th>\n",
       "      <th>0</th>\n",
       "    </tr>\n",
       "  </thead>\n",
       "  <tbody>\n",
       "    <tr>\n",
       "      <th>0</th>\n",
       "      <td>2014</td>\n",
       "      <td>0</td>\n",
       "    </tr>\n",
       "    <tr>\n",
       "      <th>1</th>\n",
       "      <td>2015</td>\n",
       "      <td>1</td>\n",
       "    </tr>\n",
       "    <tr>\n",
       "      <th>2</th>\n",
       "      <td>2016</td>\n",
       "      <td>0</td>\n",
       "    </tr>\n",
       "    <tr>\n",
       "      <th>3</th>\n",
       "      <td>2017</td>\n",
       "      <td>0</td>\n",
       "    </tr>\n",
       "    <tr>\n",
       "      <th>4</th>\n",
       "      <td>2018</td>\n",
       "      <td>0</td>\n",
       "    </tr>\n",
       "  </tbody>\n",
       "</table>\n",
       "</div>"
      ],
      "text/plain": [
       "   year  0\n",
       "0  2014  0\n",
       "1  2015  1\n",
       "2  2016  0\n",
       "3  2017  0\n",
       "4  2018  0"
      ]
     },
     "execution_count": 27,
     "metadata": {},
     "output_type": "execute_result"
    }
   ],
   "source": [
    "duplev\n",
    "#Events that Repeat"
   ]
  },
  {
   "cell_type": "code",
   "execution_count": 28,
   "metadata": {},
   "outputs": [
    {
     "data": {
      "text/plain": [
       "59"
      ]
     },
     "execution_count": 28,
     "metadata": {},
     "output_type": "execute_result"
    }
   ],
   "source": [
    "uniqev= t[~t.duplicated('title')].shape[0]\n",
    "uniqev\n",
    "#The total number of uniquely titled events"
   ]
  },
  {
   "cell_type": "code",
   "execution_count": 29,
   "metadata": {},
   "outputs": [
    {
     "data": {
      "text/html": [
       "<div>\n",
       "<style scoped>\n",
       "    .dataframe tbody tr th:only-of-type {\n",
       "        vertical-align: middle;\n",
       "    }\n",
       "\n",
       "    .dataframe tbody tr th {\n",
       "        vertical-align: top;\n",
       "    }\n",
       "\n",
       "    .dataframe thead th {\n",
       "        text-align: right;\n",
       "    }\n",
       "</style>\n",
       "<table border=\"1\" class=\"dataframe\">\n",
       "  <thead>\n",
       "    <tr style=\"text-align: right;\">\n",
       "      <th></th>\n",
       "      <th>index</th>\n",
       "      <th>category</th>\n",
       "    </tr>\n",
       "  </thead>\n",
       "  <tbody>\n",
       "    <tr>\n",
       "      <th>0</th>\n",
       "      <td>Waterfront</td>\n",
       "      <td>120</td>\n",
       "    </tr>\n",
       "    <tr>\n",
       "      <th>1</th>\n",
       "      <td>Fitness</td>\n",
       "      <td>58</td>\n",
       "    </tr>\n",
       "    <tr>\n",
       "      <th>2</th>\n",
       "      <td>Outdoor Fitness</td>\n",
       "      <td>57</td>\n",
       "    </tr>\n",
       "    <tr>\n",
       "      <th>3</th>\n",
       "      <td>Accessible</td>\n",
       "      <td>31</td>\n",
       "    </tr>\n",
       "    <tr>\n",
       "      <th>4</th>\n",
       "      <td>Film</td>\n",
       "      <td>29</td>\n",
       "    </tr>\n",
       "    <tr>\n",
       "      <th>5</th>\n",
       "      <td>Free Summer Movies</td>\n",
       "      <td>29</td>\n",
       "    </tr>\n",
       "    <tr>\n",
       "      <th>6</th>\n",
       "      <td>Best for Kids</td>\n",
       "      <td>29</td>\n",
       "    </tr>\n",
       "    <tr>\n",
       "      <th>7</th>\n",
       "      <td>Astronomy</td>\n",
       "      <td>20</td>\n",
       "    </tr>\n",
       "    <tr>\n",
       "      <th>8</th>\n",
       "      <td>Concerts</td>\n",
       "      <td>12</td>\n",
       "    </tr>\n",
       "    <tr>\n",
       "      <th>9</th>\n",
       "      <td>Dance</td>\n",
       "      <td>11</td>\n",
       "    </tr>\n",
       "  </tbody>\n",
       "</table>\n",
       "</div>"
      ],
      "text/plain": [
       "                index  category\n",
       "0          Waterfront       120\n",
       "1             Fitness        58\n",
       "2     Outdoor Fitness        57\n",
       "3          Accessible        31\n",
       "4                Film        29\n",
       "5  Free Summer Movies        29\n",
       "6       Best for Kids        29\n",
       "7           Astronomy        20\n",
       "8            Concerts        12\n",
       "9               Dance        11"
      ]
     },
     "execution_count": 29,
     "metadata": {},
     "output_type": "execute_result"
    }
   ],
   "source": [
    "table= t['category'].value_counts().reset_index()\n",
    "uniqcat= table.shape[0]\n",
    "table.head(10)\n",
    "#Most used event categories"
   ]
  },
  {
   "cell_type": "markdown",
   "metadata": {},
   "source": [
    "* Top ten categories used to describe events (above)\n",
    "* Bar chart of all categories used to describe events (below)"
   ]
  },
  {
   "cell_type": "code",
   "execution_count": 30,
   "metadata": {},
   "outputs": [
    {
     "data": {
      "image/png": "[encoded data removed]",
      "text/plain": [
       "<Figure size 720x576 with 1 Axes>"
      ]
     },
     "metadata": {
      "needs_background": "light"
     },
     "output_type": "display_data"
    }
   ],
   "source": [
    "fig, ax = plt.subplots(figsize=(10,8))\n",
    "bars= table['index']\n",
    "ypos= range(0,len(bars))\n",
    "ax.bar(ypos,table['category'])\n",
    "plt.tick_params(labelbottom=False)\n",
    "plt.title('Categories Used in Describing Events')\n",
    "plt.show()"
   ]
  },
  {
   "cell_type": "markdown",
   "metadata": {
    "variables": {
     "table.iloc[0,0]": "Waterfront",
     "table.iloc[0,1]": "120",
     "table.iloc[1,0]": "Fitness",
     "table.iloc[2,0]": "Outdoor Fitness",
     "table.iloc[3,0]": "Accessible",
     "table.iloc[4,0]": "Film",
     "table.iloc[5,0]": "Best for Kids",
     "table.iloc[6,0]": "Free Summer Movies",
     "table.iloc[7,0]": "Astronomy",
     "uniqcat": "26",
     "uniqev": "59"
    }
   },
   "source": [
    "By title, there are {{uniqev}} uniquely titled events held in the park for all years included in the data. Of these events, there are {{uniqcat}} unique categories used to describe them. Most events, {{table.iloc[0,1]}}, are categorized as {{table.iloc[0,0]}}. The next two most frequently used categories are {{table.iloc[1,0]}} and {{table.iloc[2,0]}}. It seems that events are split between evening entertainment (movies, concerts or dance events) and outdoor fitness activities. The descriptive categories are as follows: \n",
    "* {{table.iloc[0,0]}}\n",
    "* {{table.iloc[1,0]}}\n",
    "* {{table.iloc[2,0]}}\n",
    "* {{table.iloc[3,0]}}\n",
    "* {{table.iloc[4,0]}}\n",
    "* {{table.iloc[5,0]}}\n",
    "* {{table.iloc[6,0]}}\n",
    "* {{table.iloc[7,0]}}"
   ]
  },
  {
   "cell_type": "markdown",
   "metadata": {},
   "source": [
    "### Analysis of event content\n",
    "* Types of events in the first and last year\n",
    "* Overall: types of events"
   ]
  },
  {
   "cell_type": "code",
   "execution_count": 31,
   "metadata": {},
   "outputs": [
    {
     "data": {
      "text/html": [
       "<div>\n",
       "<style scoped>\n",
       "    .dataframe tbody tr th:only-of-type {\n",
       "        vertical-align: middle;\n",
       "    }\n",
       "\n",
       "    .dataframe tbody tr th {\n",
       "        vertical-align: top;\n",
       "    }\n",
       "\n",
       "    .dataframe thead th {\n",
       "        text-align: right;\n",
       "    }\n",
       "</style>\n",
       "<table border=\"1\" class=\"dataframe\">\n",
       "  <thead>\n",
       "    <tr style=\"text-align: right;\">\n",
       "      <th></th>\n",
       "      <th>year</th>\n",
       "      <th>event_id</th>\n",
       "      <th>title</th>\n",
       "      <th>description</th>\n",
       "      <th>snippet</th>\n",
       "    </tr>\n",
       "  </thead>\n",
       "  <tbody>\n",
       "    <tr>\n",
       "      <th>21</th>\n",
       "      <td>2014</td>\n",
       "      <td>93289.0</td>\n",
       "      <td>It's My Park Day at Hunter's Point South Park</td>\n",
       "      <td>Please join the Hunters Point Park Conservancy...</td>\n",
       "      <td>Please join the Hunters Point Park Conservancy...</td>\n",
       "    </tr>\n",
       "    <tr>\n",
       "      <th>35</th>\n",
       "      <td>2014</td>\n",
       "      <td>100948.0</td>\n",
       "      <td>It's My Park Day at Hunters Point Park</td>\n",
       "      <td>&lt;p&gt;On It&amp;#39;s My Park Day, volunteer with the...</td>\n",
       "      <td>On It's My Park Day, volunteer with the Hunter...</td>\n",
       "    </tr>\n",
       "    <tr>\n",
       "      <th>424</th>\n",
       "      <td>2014</td>\n",
       "      <td>98527.0</td>\n",
       "      <td>Summer Sounds: Sean Nowell and the Kung Fu Mas...</td>\n",
       "      <td>&lt;p&gt;Bring a chair or blanket and enjoy an eveni...</td>\n",
       "      <td>Bring a chair or blanket and enjoy an evening ...</td>\n",
       "    </tr>\n",
       "    <tr>\n",
       "      <th>286</th>\n",
       "      <td>2015</td>\n",
       "      <td>113798.0</td>\n",
       "      <td>Arts, Culture &amp; Fun: Dance Away the Night! Tango</td>\n",
       "      <td>&lt;p&gt;Always wanted to visit Argentina, the land ...</td>\n",
       "      <td>Enjoy everything tango: dance classes, demonst...</td>\n",
       "    </tr>\n",
       "    <tr>\n",
       "      <th>44</th>\n",
       "      <td>2015</td>\n",
       "      <td>113285.0</td>\n",
       "      <td>Breakfast at Tiffany's</td>\n",
       "      <td>&lt;p&gt;Hunters Point Parks Conservancy and the rea...</td>\n",
       "      <td>The movie is about a flighty young New York so...</td>\n",
       "    </tr>\n",
       "    <tr>\n",
       "      <th>351</th>\n",
       "      <td>2015</td>\n",
       "      <td>117505.0</td>\n",
       "      <td>CANCELLED: CinemaLIC: Annie Hall</td>\n",
       "      <td>&lt;p class=\"alert alert-error\"&gt;Please note: this...</td>\n",
       "      <td>Enjoy Annie Hall right on the waterfront in Lo...</td>\n",
       "    </tr>\n",
       "    <tr>\n",
       "      <th>364</th>\n",
       "      <td>2015</td>\n",
       "      <td>116036.0</td>\n",
       "      <td>CANCELLED: Music in the Park: Mayte Vicens</td>\n",
       "      <td>&lt;p class=\"alert alert-error\"&gt;Please note: this...</td>\n",
       "      <td>Bring a chair or blanket and join us for an ev...</td>\n",
       "    </tr>\n",
       "    <tr>\n",
       "      <th>190</th>\n",
       "      <td>2015</td>\n",
       "      <td>113286.0</td>\n",
       "      <td>Hunters Point Park South Movie: E.T.</td>\n",
       "      <td>&lt;p&gt;Hunters Point Parks Conservancy and the rea...</td>\n",
       "      <td>The movie is about an extraterrestrial that is...</td>\n",
       "    </tr>\n",
       "    <tr>\n",
       "      <th>37</th>\n",
       "      <td>2015</td>\n",
       "      <td>120063.0</td>\n",
       "      <td>It's My Park at Hunter's Point South Park</td>\n",
       "      <td>&lt;p&gt;This It&amp;#39;s My Park season, volunteer wit...</td>\n",
       "      <td>This It's My Park season, volunteer with the H...</td>\n",
       "    </tr>\n",
       "    <tr>\n",
       "      <th>119</th>\n",
       "      <td>2015</td>\n",
       "      <td>113254.0</td>\n",
       "      <td>King Kong (1933)</td>\n",
       "      <td>&lt;p&gt;Hunters Point Parks Conservancy and the rea...</td>\n",
       "      <td>Watch this giant ape scale the Empire State Bu...</td>\n",
       "    </tr>\n",
       "    <tr>\n",
       "      <th>133</th>\n",
       "      <td>2015</td>\n",
       "      <td>121202.0</td>\n",
       "      <td>LIC Bulb Planting Festival</td>\n",
       "      <td>&lt;p&gt;Hunter&amp;#39;s Point Parks Conservancy will b...</td>\n",
       "      <td>Hunter's Point Parks Conservancy will be hosti...</td>\n",
       "    </tr>\n",
       "    <tr>\n",
       "      <th>422</th>\n",
       "      <td>2015</td>\n",
       "      <td>117508.0</td>\n",
       "      <td>LIC Landing Live: 2/3 Goat</td>\n",
       "      <td>&lt;p&gt;Enjoy a live music series featuring the ban...</td>\n",
       "      <td>The band brings a hybrid of alt-country, blues...</td>\n",
       "    </tr>\n",
       "    <tr>\n",
       "      <th>48</th>\n",
       "      <td>2015</td>\n",
       "      <td>117506.0</td>\n",
       "      <td>LIC Landing Live: Mariachi Flor de Tolache</td>\n",
       "      <td>&lt;p&gt;Enjoy a live outdoor concert featuring Mari...</td>\n",
       "      <td>They are the first and only all-female Mariach...</td>\n",
       "    </tr>\n",
       "    <tr>\n",
       "      <th>251</th>\n",
       "      <td>2015</td>\n",
       "      <td>117509.0</td>\n",
       "      <td>LIC Landing Live: Matthew Kiss Band</td>\n",
       "      <td>&lt;p&gt;Enjoya live concert series featuring the Ma...</td>\n",
       "      <td>Matthew plays a hybrid of rock/blues and soul ...</td>\n",
       "    </tr>\n",
       "    <tr>\n",
       "      <th>84</th>\n",
       "      <td>2015</td>\n",
       "      <td>117507.0</td>\n",
       "      <td>LIC Landing Live: Regina Bonelli Blues Band</td>\n",
       "      <td>&lt;p&gt;Enjoy a live outdoor concert series featuri...</td>\n",
       "      <td>The band received the following rave review: \"...</td>\n",
       "    </tr>\n",
       "    <tr>\n",
       "      <th>353</th>\n",
       "      <td>2015</td>\n",
       "      <td>118171.0</td>\n",
       "      <td>Lincoln Center Local: Silent Disco: Queens</td>\n",
       "      <td>&lt;p&gt;Lincoln Center&amp;rsquo;s Silent Disco is back...</td>\n",
       "      <td>Hunter’s Point Park will become Long Island Ci...</td>\n",
       "    </tr>\n",
       "    <tr>\n",
       "      <th>246</th>\n",
       "      <td>2015</td>\n",
       "      <td>116931.0</td>\n",
       "      <td>Music in the Park: Mayte Vicens</td>\n",
       "      <td>&lt;p&gt;Bring a chair or blanket&amp;nbsp;and join us f...</td>\n",
       "      <td>Bring a chair or blanket and join us for an ev...</td>\n",
       "    </tr>\n",
       "    <tr>\n",
       "      <th>473</th>\n",
       "      <td>2015</td>\n",
       "      <td>115236.0</td>\n",
       "      <td>Summer Sounds: Jonny Meyers &amp; The Trio</td>\n",
       "      <td>&lt;p&gt;Bring a chair or blanket and join us for a ...</td>\n",
       "      <td>Bring a chair or blanket and join us for a roc...</td>\n",
       "    </tr>\n",
       "    <tr>\n",
       "      <th>470</th>\n",
       "      <td>2015</td>\n",
       "      <td>113287.0</td>\n",
       "      <td>When Harry Met Sally</td>\n",
       "      <td>&lt;p&gt;Hunters Point Parks Conservancy and the rea...</td>\n",
       "      <td>Hunters Point Parks Conservancy and the real e...</td>\n",
       "    </tr>\n",
       "    <tr>\n",
       "      <th>269</th>\n",
       "      <td>2016</td>\n",
       "      <td>132421.0</td>\n",
       "      <td>Arts, Culture &amp; Fun: Dance Away the Night - Ta...</td>\n",
       "      <td>&lt;p&gt;Spend an evening with&amp;nbsp;NYC Parka and St...</td>\n",
       "      <td>Spend an evening experiencing the not to be mi...</td>\n",
       "    </tr>\n",
       "    <tr>\n",
       "      <th>200</th>\n",
       "      <td>2016</td>\n",
       "      <td>138412.0</td>\n",
       "      <td>CANCELLED: LIC Bulb Festival</td>\n",
       "      <td>&lt;p&gt;&lt;strong&gt;Please note: &lt;/strong&gt;this event ha...</td>\n",
       "      <td>Please note: this event has been cancelled and...</td>\n",
       "    </tr>\n",
       "    <tr>\n",
       "      <th>137</th>\n",
       "      <td>2016</td>\n",
       "      <td>127730.0</td>\n",
       "      <td>Cinema LIC Outdoor Movie: August Rush</td>\n",
       "      <td>&lt;p&gt;Separated by events they could not control ...</td>\n",
       "      <td>Separated by events they could not control but...</td>\n",
       "    </tr>\n",
       "    <tr>\n",
       "      <th>31</th>\n",
       "      <td>2016</td>\n",
       "      <td>127727.0</td>\n",
       "      <td>Cinema LIC Outdoor Movie: Big</td>\n",
       "      <td>&lt;p&gt;Josh Baskin (Tom Hanks) is a 12-year-old bo...</td>\n",
       "      <td>Josh Baskin (Tom Hanks) is a 12-year-old boy w...</td>\n",
       "    </tr>\n",
       "    <tr>\n",
       "      <th>18</th>\n",
       "      <td>2016</td>\n",
       "      <td>127732.0</td>\n",
       "      <td>Cinema LIC Outdoor Movie: Ghost</td>\n",
       "      <td>&lt;p&gt;Patrick Swayze plays a ghost who teams with...</td>\n",
       "      <td>Patrick Swayze plays a ghost who teams with a ...</td>\n",
       "    </tr>\n",
       "    <tr>\n",
       "      <th>334</th>\n",
       "      <td>2016</td>\n",
       "      <td>127729.0</td>\n",
       "      <td>Cinema LIC Outdoor Movie: Spider-Man</td>\n",
       "      <td>&lt;p&gt;The web-spinning superhero has a mission to...</td>\n",
       "      <td>The web-spinning superhero has a mission to sa...</td>\n",
       "    </tr>\n",
       "    <tr>\n",
       "      <th>57</th>\n",
       "      <td>2016</td>\n",
       "      <td>127728.0</td>\n",
       "      <td>Cinema LIC Outdoor Movie: Splash</td>\n",
       "      <td>&lt;p&gt;Splash is a wonderful, romantic comedy abou...</td>\n",
       "      <td>Splash is a wonderful, romantic comedy about a...</td>\n",
       "    </tr>\n",
       "    <tr>\n",
       "      <th>87</th>\n",
       "      <td>2016</td>\n",
       "      <td>127731.0</td>\n",
       "      <td>Cinema LIC Outdoor Movie: Zootopia</td>\n",
       "      <td>&lt;p&gt;In a world populated by&amp;nbsp;anthropomorphi...</td>\n",
       "      <td>In a world populated by anthropomorphic mammal...</td>\n",
       "    </tr>\n",
       "    <tr>\n",
       "      <th>379</th>\n",
       "      <td>2016</td>\n",
       "      <td>129034.0</td>\n",
       "      <td>Community Opening Day: Mika Tajima: Meridian (...</td>\n",
       "      <td>&lt;p&gt;SculptureCenter&amp;nbsp;is pleased to present&amp;...</td>\n",
       "      <td>Join us to celebrate Mika Tajima's temporary p...</td>\n",
       "    </tr>\n",
       "    <tr>\n",
       "      <th>341</th>\n",
       "      <td>2016</td>\n",
       "      <td>138754.0</td>\n",
       "      <td>LIC Bulb Festival</td>\n",
       "      <td>&lt;p&gt;We will be planting 5,000 daffodil bulbs in...</td>\n",
       "      <td>We will be planting 5,000 daffodil bulbs in bo...</td>\n",
       "    </tr>\n",
       "    <tr>\n",
       "      <th>104</th>\n",
       "      <td>2016</td>\n",
       "      <td>135193.0</td>\n",
       "      <td>Lincoln Center Local: Silent Disco</td>\n",
       "      <td>&lt;p&gt;Silent disco is coming back to Queens!&amp;nbsp...</td>\n",
       "      <td>At this all-ages party, DJs broadcast disco an...</td>\n",
       "    </tr>\n",
       "    <tr>\n",
       "      <th>223</th>\n",
       "      <td>2016</td>\n",
       "      <td>133814.0</td>\n",
       "      <td>Seinfeld in the Park</td>\n",
       "      <td>&lt;p&gt;Hunters Point Parks Conservancy is partneri...</td>\n",
       "      <td>Hunters Point Parks Conservancy is partnering ...</td>\n",
       "    </tr>\n",
       "    <tr>\n",
       "      <th>39</th>\n",
       "      <td>2016</td>\n",
       "      <td>133367.0</td>\n",
       "      <td>Summer Sounds: British Dependency</td>\n",
       "      <td>&lt;p&gt;Hailing from the British Isle of Anguilla, ...</td>\n",
       "      <td>Hailing from the British Isle of Anguilla, Bri...</td>\n",
       "    </tr>\n",
       "    <tr>\n",
       "      <th>52</th>\n",
       "      <td>2017</td>\n",
       "      <td>148298.0</td>\n",
       "      <td>CANCELLED: Outdoor Movie - 2001: A Space Odyssey</td>\n",
       "      <td>&lt;p class=\"alert alert-error\"&gt;Please note: this...</td>\n",
       "      <td>Astronauts travel to the moon to study a black...</td>\n",
       "    </tr>\n",
       "    <tr>\n",
       "      <th>160</th>\n",
       "      <td>2017</td>\n",
       "      <td>148300.0</td>\n",
       "      <td>CANCELLED: Outdoor Movie: Finding Dory</td>\n",
       "      <td>&lt;p class=\"alert alert-error\"&gt;Please note: this...</td>\n",
       "      <td>Amnesiac blue tang Dory searches for her long-...</td>\n",
       "    </tr>\n",
       "    <tr>\n",
       "      <th>33</th>\n",
       "      <td>2017</td>\n",
       "      <td>143781.0</td>\n",
       "      <td>It's My Park at Hunter's Point South Park - Sp...</td>\n",
       "      <td>&lt;p&gt;This It&amp;#39;s My Park season, join Hunters ...</td>\n",
       "      <td>Volunteers will clean playground equipment at ...</td>\n",
       "    </tr>\n",
       "    <tr>\n",
       "      <th>256</th>\n",
       "      <td>2017</td>\n",
       "      <td>156643.0</td>\n",
       "      <td>LIC Bulb Festival</td>\n",
       "      <td>&lt;p&gt;Please join us at Hunters Point South Park ...</td>\n",
       "      <td>Please join us at Hunters Point South Park to ...</td>\n",
       "    </tr>\n",
       "    <tr>\n",
       "      <th>50</th>\n",
       "      <td>2017</td>\n",
       "      <td>145611.0</td>\n",
       "      <td>LIC Post 5K Run</td>\n",
       "      <td>&lt;p&gt;The second annual LIC Post 5K Run is a bene...</td>\n",
       "      <td>The second annual LIC Post 5K Run is a benefit...</td>\n",
       "    </tr>\n",
       "    <tr>\n",
       "      <th>41</th>\n",
       "      <td>2017</td>\n",
       "      <td>154019.0</td>\n",
       "      <td>Outdoor Movie -The Graduate</td>\n",
       "      <td>&lt;p&gt;The Hunters Point Parks Conservancy is show...</td>\n",
       "      <td>Watch a classic film outdoors along Queens' wa...</td>\n",
       "    </tr>\n",
       "    <tr>\n",
       "      <th>70</th>\n",
       "      <td>2017</td>\n",
       "      <td>152061.0</td>\n",
       "      <td>Outdoor Movie: 2001 Space Odyssey</td>\n",
       "      <td>&lt;p&gt;Join&amp;nbsp;Hunter&amp;rsquo;s Point South Park C...</td>\n",
       "      <td>Astronauts travel to the moon to study a black...</td>\n",
       "    </tr>\n",
       "    <tr>\n",
       "      <th>196</th>\n",
       "      <td>2017</td>\n",
       "      <td>153423.0</td>\n",
       "      <td>Outdoor Movie: Finding Dory</td>\n",
       "      <td>&lt;p&gt;Join Hunter&amp;#39;s Point South Park Conserva...</td>\n",
       "      <td>A friendly but forgetful blue tang fish, Dory,...</td>\n",
       "    </tr>\n",
       "    <tr>\n",
       "      <th>105</th>\n",
       "      <td>2017</td>\n",
       "      <td>148299.0</td>\n",
       "      <td>Outdoor Movie: The Graduate</td>\n",
       "      <td>&lt;p&gt;Cinema LIC presents &lt;em&gt;The Graduate&lt;/em&gt;!&lt;...</td>\n",
       "      <td>Benjamin Braddock has just finished college an...</td>\n",
       "    </tr>\n",
       "    <tr>\n",
       "      <th>443</th>\n",
       "      <td>2017</td>\n",
       "      <td>150901.0</td>\n",
       "      <td>Outdoor Movie: Willie Wonka and the Chocolate ...</td>\n",
       "      <td>&lt;p&gt;The first showing was rained out but hopefu...</td>\n",
       "      <td>Charlie receives a golden ticket to a chocolat...</td>\n",
       "    </tr>\n",
       "    <tr>\n",
       "      <th>167</th>\n",
       "      <td>2017</td>\n",
       "      <td>148297.0</td>\n",
       "      <td>Outdoor Movie: Willy Wonka and the Chocolate F...</td>\n",
       "      <td>&lt;p&gt;Cinema LIC presents our first outdoor movie...</td>\n",
       "      <td>Cinema LIC presents our first outdoor movie of...</td>\n",
       "    </tr>\n",
       "    <tr>\n",
       "      <th>394</th>\n",
       "      <td>2018</td>\n",
       "      <td>166641.0</td>\n",
       "      <td>3rd Annual LIC Post Waterfront 5K</td>\n",
       "      <td>&lt;p&gt;Join us for the 3rd Annual LIC Post Waterfr...</td>\n",
       "      <td>Join us for the 3rd Annual LIC Post Waterfront...</td>\n",
       "    </tr>\n",
       "    <tr>\n",
       "      <th>446</th>\n",
       "      <td>2018</td>\n",
       "      <td>169651.0</td>\n",
       "      <td>Arts, Culture &amp; Fun: Dance Away the Night with...</td>\n",
       "      <td>&lt;p&gt;Ever want to visit Argentina? The home of t...</td>\n",
       "      <td>Ever want to visit Argentina? The home of the ...</td>\n",
       "    </tr>\n",
       "    <tr>\n",
       "      <th>90</th>\n",
       "      <td>2018</td>\n",
       "      <td>169726.0</td>\n",
       "      <td>Arts, Culture &amp; Fun: Dance Away the Night: Tan...</td>\n",
       "      <td>&lt;p&gt;Back by popular demand!&lt;/p&gt;&lt;p&gt;Ever want to ...</td>\n",
       "      <td>Enjoy live music while dancing tango with brea...</td>\n",
       "    </tr>\n",
       "    <tr>\n",
       "      <th>55</th>\n",
       "      <td>2018</td>\n",
       "      <td>162564.0</td>\n",
       "      <td>CANCELLED: It's My Park at Hunter's Point Sout...</td>\n",
       "      <td>&lt;p class=\"alert alert-error\"&gt;Please note: this...</td>\n",
       "      <td>This It's My Park season, volunteer with Harbo...</td>\n",
       "    </tr>\n",
       "    <tr>\n",
       "      <th>100</th>\n",
       "      <td>2018</td>\n",
       "      <td>166639.0</td>\n",
       "      <td>CinemaLIC Presents: Butch Cassidy and the Sund...</td>\n",
       "      <td>&lt;p&gt;Join Hunters Point Parks Conservancy and Ci...</td>\n",
       "      <td>The true story of fast-draws and wild rides, b...</td>\n",
       "    </tr>\n",
       "    <tr>\n",
       "      <th>125</th>\n",
       "      <td>2018</td>\n",
       "      <td>166637.0</td>\n",
       "      <td>CinemaLIC Presents: Moonstruck</td>\n",
       "      <td>&lt;p&gt;Join Hunters Point Parks Conservancy&amp;nbsp;a...</td>\n",
       "      <td>No sooner does Italian-American widow Loretta ...</td>\n",
       "    </tr>\n",
       "    <tr>\n",
       "      <th>236</th>\n",
       "      <td>2018</td>\n",
       "      <td>166640.0</td>\n",
       "      <td>CinemaLIC Presents: Ratatouille</td>\n",
       "      <td>&lt;p&gt;Join Hunters Point Parks Conservancy&amp;nbsp;a...</td>\n",
       "      <td>Remy, a resident of Paris, appreciates good fo...</td>\n",
       "    </tr>\n",
       "    <tr>\n",
       "      <th>478</th>\n",
       "      <td>2018</td>\n",
       "      <td>166638.0</td>\n",
       "      <td>CinemaLIC Presents: Sleepless in Seattle</td>\n",
       "      <td>&lt;p&gt;Join Hunters Poing Parks Conservancy&amp;nbsp;a...</td>\n",
       "      <td>Tom Hanks and Meg Ryan star in Nora Ephron's w...</td>\n",
       "    </tr>\n",
       "    <tr>\n",
       "      <th>23</th>\n",
       "      <td>2018</td>\n",
       "      <td>166636.0</td>\n",
       "      <td>CinemaLIC Presents: The Wizard of Oz</td>\n",
       "      <td>&lt;p&gt;Join us for a wonderful night in the park a...</td>\n",
       "      <td>The Wizard of Oz begins when a tornado rips th...</td>\n",
       "    </tr>\n",
       "    <tr>\n",
       "      <th>147</th>\n",
       "      <td>2018</td>\n",
       "      <td>166683.0</td>\n",
       "      <td>Free Sunset Silent Disco</td>\n",
       "      <td>&lt;p&gt;FREE EVENT! Join Quiet Events as we partner...</td>\n",
       "      <td>Join Quiet Events, the Hunters Point Park Cons...</td>\n",
       "    </tr>\n",
       "    <tr>\n",
       "      <th>59</th>\n",
       "      <td>2018</td>\n",
       "      <td>166674.0</td>\n",
       "      <td>Free Waterfront Yoga</td>\n",
       "      <td>&lt;p&gt;Join us for free summer evening yoga classe...</td>\n",
       "      <td>Join us for free summer evening yoga classes a...</td>\n",
       "    </tr>\n",
       "    <tr>\n",
       "      <th>81</th>\n",
       "      <td>2018</td>\n",
       "      <td>167320.0</td>\n",
       "      <td>Free Waterfront Zumba</td>\n",
       "      <td>&lt;p&gt;Join us for free 60-minute Zumba classes!&lt;b...</td>\n",
       "      <td>Join us for FREE 60 minute Zumba classes! No p...</td>\n",
       "    </tr>\n",
       "    <tr>\n",
       "      <th>98</th>\n",
       "      <td>2018</td>\n",
       "      <td>167329.0</td>\n",
       "      <td>LIC Henge</td>\n",
       "      <td>&lt;p&gt;Join us on July 13 for that unique time whe...</td>\n",
       "      <td>Join us on July 13 for that unique time when t...</td>\n",
       "    </tr>\n",
       "    <tr>\n",
       "      <th>62</th>\n",
       "      <td>2018</td>\n",
       "      <td>166650.0</td>\n",
       "      <td>Stargazing on the Waterfront</td>\n",
       "      <td>&lt;p&gt;Come see the stars and moon with the Amateu...</td>\n",
       "      <td>Come see the stars and moon with the Amateur A...</td>\n",
       "    </tr>\n",
       "    <tr>\n",
       "      <th>140</th>\n",
       "      <td>2018</td>\n",
       "      <td>166687.0</td>\n",
       "      <td>Stargazing on the Waterftont</td>\n",
       "      <td>&lt;p&gt;Come see the stars and moon with the Amateu...</td>\n",
       "      <td>Come see the stars and moon with the Amateur A...</td>\n",
       "    </tr>\n",
       "    <tr>\n",
       "      <th>173</th>\n",
       "      <td>2018</td>\n",
       "      <td>168733.0</td>\n",
       "      <td>Watercolors on the Waterfront</td>\n",
       "      <td>&lt;p&gt;Unleash your inner artist this summer and j...</td>\n",
       "      <td>Unleash your inner artist this summer and join...</td>\n",
       "    </tr>\n",
       "    <tr>\n",
       "      <th>73</th>\n",
       "      <td>2018</td>\n",
       "      <td>167330.0</td>\n",
       "      <td>lululemon Summer of Yoga</td>\n",
       "      <td>&lt;p&gt;Come out to Long Island City&amp;nbsp;Landing i...</td>\n",
       "      <td>Come out to Long Island City Landing in Hunter...</td>\n",
       "    </tr>\n",
       "  </tbody>\n",
       "</table>\n",
       "</div>"
      ],
      "text/plain": [
       "     year  event_id                                              title  \\\n",
       "21   2014   93289.0      It's My Park Day at Hunter's Point South Park   \n",
       "35   2014  100948.0             It's My Park Day at Hunters Point Park   \n",
       "424  2014   98527.0  Summer Sounds: Sean Nowell and the Kung Fu Mas...   \n",
       "286  2015  113798.0   Arts, Culture & Fun: Dance Away the Night! Tango   \n",
       "44   2015  113285.0                             Breakfast at Tiffany's   \n",
       "351  2015  117505.0                   CANCELLED: CinemaLIC: Annie Hall   \n",
       "364  2015  116036.0         CANCELLED: Music in the Park: Mayte Vicens   \n",
       "190  2015  113286.0               Hunters Point Park South Movie: E.T.   \n",
       "37   2015  120063.0          It's My Park at Hunter's Point South Park   \n",
       "119  2015  113254.0                                   King Kong (1933)   \n",
       "133  2015  121202.0                         LIC Bulb Planting Festival   \n",
       "422  2015  117508.0                         LIC Landing Live: 2/3 Goat   \n",
       "48   2015  117506.0         LIC Landing Live: Mariachi Flor de Tolache   \n",
       "251  2015  117509.0                LIC Landing Live: Matthew Kiss Band   \n",
       "84   2015  117507.0        LIC Landing Live: Regina Bonelli Blues Band   \n",
       "353  2015  118171.0         Lincoln Center Local: Silent Disco: Queens   \n",
       "246  2015  116931.0                    Music in the Park: Mayte Vicens   \n",
       "473  2015  115236.0             Summer Sounds: Jonny Meyers & The Trio   \n",
       "470  2015  113287.0                               When Harry Met Sally   \n",
       "269  2016  132421.0  Arts, Culture & Fun: Dance Away the Night - Ta...   \n",
       "200  2016  138412.0                       CANCELLED: LIC Bulb Festival   \n",
       "137  2016  127730.0              Cinema LIC Outdoor Movie: August Rush   \n",
       "31   2016  127727.0                      Cinema LIC Outdoor Movie: Big   \n",
       "18   2016  127732.0                    Cinema LIC Outdoor Movie: Ghost   \n",
       "334  2016  127729.0               Cinema LIC Outdoor Movie: Spider-Man   \n",
       "57   2016  127728.0                   Cinema LIC Outdoor Movie: Splash   \n",
       "87   2016  127731.0                 Cinema LIC Outdoor Movie: Zootopia   \n",
       "379  2016  129034.0  Community Opening Day: Mika Tajima: Meridian (...   \n",
       "341  2016  138754.0                                  LIC Bulb Festival   \n",
       "104  2016  135193.0                 Lincoln Center Local: Silent Disco   \n",
       "223  2016  133814.0                               Seinfeld in the Park   \n",
       "39   2016  133367.0                  Summer Sounds: British Dependency   \n",
       "52   2017  148298.0   CANCELLED: Outdoor Movie - 2001: A Space Odyssey   \n",
       "160  2017  148300.0             CANCELLED: Outdoor Movie: Finding Dory   \n",
       "33   2017  143781.0  It's My Park at Hunter's Point South Park - Sp...   \n",
       "256  2017  156643.0                                  LIC Bulb Festival   \n",
       "50   2017  145611.0                                    LIC Post 5K Run   \n",
       "41   2017  154019.0                        Outdoor Movie -The Graduate   \n",
       "70   2017  152061.0                  Outdoor Movie: 2001 Space Odyssey   \n",
       "196  2017  153423.0                        Outdoor Movie: Finding Dory   \n",
       "105  2017  148299.0                        Outdoor Movie: The Graduate   \n",
       "443  2017  150901.0  Outdoor Movie: Willie Wonka and the Chocolate ...   \n",
       "167  2017  148297.0  Outdoor Movie: Willy Wonka and the Chocolate F...   \n",
       "394  2018  166641.0                  3rd Annual LIC Post Waterfront 5K   \n",
       "446  2018  169651.0  Arts, Culture & Fun: Dance Away the Night with...   \n",
       "90   2018  169726.0  Arts, Culture & Fun: Dance Away the Night: Tan...   \n",
       "55   2018  162564.0  CANCELLED: It's My Park at Hunter's Point Sout...   \n",
       "100  2018  166639.0  CinemaLIC Presents: Butch Cassidy and the Sund...   \n",
       "125  2018  166637.0                     CinemaLIC Presents: Moonstruck   \n",
       "236  2018  166640.0                    CinemaLIC Presents: Ratatouille   \n",
       "478  2018  166638.0           CinemaLIC Presents: Sleepless in Seattle   \n",
       "23   2018  166636.0               CinemaLIC Presents: The Wizard of Oz   \n",
       "147  2018  166683.0                           Free Sunset Silent Disco   \n",
       "59   2018  166674.0                               Free Waterfront Yoga   \n",
       "81   2018  167320.0                              Free Waterfront Zumba   \n",
       "98   2018  167329.0                                          LIC Henge   \n",
       "62   2018  166650.0                       Stargazing on the Waterfront   \n",
       "140  2018  166687.0                       Stargazing on the Waterftont   \n",
       "173  2018  168733.0                      Watercolors on the Waterfront   \n",
       "73   2018  167330.0                           lululemon Summer of Yoga   \n",
       "\n",
       "                                           description  \\\n",
       "21   Please join the Hunters Point Park Conservancy...   \n",
       "35   <p>On It&#39;s My Park Day, volunteer with the...   \n",
       "424  <p>Bring a chair or blanket and enjoy an eveni...   \n",
       "286  <p>Always wanted to visit Argentina, the land ...   \n",
       "44   <p>Hunters Point Parks Conservancy and the rea...   \n",
       "351  <p class=\"alert alert-error\">Please note: this...   \n",
       "364  <p class=\"alert alert-error\">Please note: this...   \n",
       "190  <p>Hunters Point Parks Conservancy and the rea...   \n",
       "37   <p>This It&#39;s My Park season, volunteer wit...   \n",
       "119  <p>Hunters Point Parks Conservancy and the rea...   \n",
       "133  <p>Hunter&#39;s Point Parks Conservancy will b...   \n",
       "422  <p>Enjoy a live music series featuring the ban...   \n",
       "48   <p>Enjoy a live outdoor concert featuring Mari...   \n",
       "251  <p>Enjoya live concert series featuring the Ma...   \n",
       "84   <p>Enjoy a live outdoor concert series featuri...   \n",
       "353  <p>Lincoln Center&rsquo;s Silent Disco is back...   \n",
       "246  <p>Bring a chair or blanket&nbsp;and join us f...   \n",
       "473  <p>Bring a chair or blanket and join us for a ...   \n",
       "470  <p>Hunters Point Parks Conservancy and the rea...   \n",
       "269  <p>Spend an evening with&nbsp;NYC Parka and St...   \n",
       "200  <p><strong>Please note: </strong>this event ha...   \n",
       "137  <p>Separated by events they could not control ...   \n",
       "31   <p>Josh Baskin (Tom Hanks) is a 12-year-old bo...   \n",
       "18   <p>Patrick Swayze plays a ghost who teams with...   \n",
       "334  <p>The web-spinning superhero has a mission to...   \n",
       "57   <p>Splash is a wonderful, romantic comedy abou...   \n",
       "87   <p>In a world populated by&nbsp;anthropomorphi...   \n",
       "379  <p>SculptureCenter&nbsp;is pleased to present&...   \n",
       "341  <p>We will be planting 5,000 daffodil bulbs in...   \n",
       "104  <p>Silent disco is coming back to Queens!&nbsp...   \n",
       "223  <p>Hunters Point Parks Conservancy is partneri...   \n",
       "39   <p>Hailing from the British Isle of Anguilla, ...   \n",
       "52   <p class=\"alert alert-error\">Please note: this...   \n",
       "160  <p class=\"alert alert-error\">Please note: this...   \n",
       "33   <p>This It&#39;s My Park season, join Hunters ...   \n",
       "256  <p>Please join us at Hunters Point South Park ...   \n",
       "50   <p>The second annual LIC Post 5K Run is a bene...   \n",
       "41   <p>The Hunters Point Parks Conservancy is show...   \n",
       "70   <p>Join&nbsp;Hunter&rsquo;s Point South Park C...   \n",
       "196  <p>Join Hunter&#39;s Point South Park Conserva...   \n",
       "105  <p>Cinema LIC presents <em>The Graduate</em>!<...   \n",
       "443  <p>The first showing was rained out but hopefu...   \n",
       "167  <p>Cinema LIC presents our first outdoor movie...   \n",
       "394  <p>Join us for the 3rd Annual LIC Post Waterfr...   \n",
       "446  <p>Ever want to visit Argentina? The home of t...   \n",
       "90   <p>Back by popular demand!</p><p>Ever want to ...   \n",
       "55   <p class=\"alert alert-error\">Please note: this...   \n",
       "100  <p>Join Hunters Point Parks Conservancy and Ci...   \n",
       "125  <p>Join Hunters Point Parks Conservancy&nbsp;a...   \n",
       "236  <p>Join Hunters Point Parks Conservancy&nbsp;a...   \n",
       "478  <p>Join Hunters Poing Parks Conservancy&nbsp;a...   \n",
       "23   <p>Join us for a wonderful night in the park a...   \n",
       "147  <p>FREE EVENT! Join Quiet Events as we partner...   \n",
       "59   <p>Join us for free summer evening yoga classe...   \n",
       "81   <p>Join us for free 60-minute Zumba classes!<b...   \n",
       "98   <p>Join us on July 13 for that unique time whe...   \n",
       "62   <p>Come see the stars and moon with the Amateu...   \n",
       "140  <p>Come see the stars and moon with the Amateu...   \n",
       "173  <p>Unleash your inner artist this summer and j...   \n",
       "73   <p>Come out to Long Island City&nbsp;Landing i...   \n",
       "\n",
       "                                               snippet  \n",
       "21   Please join the Hunters Point Park Conservancy...  \n",
       "35   On It's My Park Day, volunteer with the Hunter...  \n",
       "424  Bring a chair or blanket and enjoy an evening ...  \n",
       "286  Enjoy everything tango: dance classes, demonst...  \n",
       "44   The movie is about a flighty young New York so...  \n",
       "351  Enjoy Annie Hall right on the waterfront in Lo...  \n",
       "364  Bring a chair or blanket and join us for an ev...  \n",
       "190  The movie is about an extraterrestrial that is...  \n",
       "37   This It's My Park season, volunteer with the H...  \n",
       "119  Watch this giant ape scale the Empire State Bu...  \n",
       "133  Hunter's Point Parks Conservancy will be hosti...  \n",
       "422  The band brings a hybrid of alt-country, blues...  \n",
       "48   They are the first and only all-female Mariach...  \n",
       "251  Matthew plays a hybrid of rock/blues and soul ...  \n",
       "84   The band received the following rave review: \"...  \n",
       "353  Hunter’s Point Park will become Long Island Ci...  \n",
       "246  Bring a chair or blanket and join us for an ev...  \n",
       "473  Bring a chair or blanket and join us for a roc...  \n",
       "470  Hunters Point Parks Conservancy and the real e...  \n",
       "269  Spend an evening experiencing the not to be mi...  \n",
       "200  Please note: this event has been cancelled and...  \n",
       "137  Separated by events they could not control but...  \n",
       "31   Josh Baskin (Tom Hanks) is a 12-year-old boy w...  \n",
       "18   Patrick Swayze plays a ghost who teams with a ...  \n",
       "334  The web-spinning superhero has a mission to sa...  \n",
       "57   Splash is a wonderful, romantic comedy about a...  \n",
       "87   In a world populated by anthropomorphic mammal...  \n",
       "379  Join us to celebrate Mika Tajima's temporary p...  \n",
       "341  We will be planting 5,000 daffodil bulbs in bo...  \n",
       "104  At this all-ages party, DJs broadcast disco an...  \n",
       "223  Hunters Point Parks Conservancy is partnering ...  \n",
       "39   Hailing from the British Isle of Anguilla, Bri...  \n",
       "52   Astronauts travel to the moon to study a black...  \n",
       "160  Amnesiac blue tang Dory searches for her long-...  \n",
       "33   Volunteers will clean playground equipment at ...  \n",
       "256  Please join us at Hunters Point South Park to ...  \n",
       "50   The second annual LIC Post 5K Run is a benefit...  \n",
       "41   Watch a classic film outdoors along Queens' wa...  \n",
       "70   Astronauts travel to the moon to study a black...  \n",
       "196  A friendly but forgetful blue tang fish, Dory,...  \n",
       "105  Benjamin Braddock has just finished college an...  \n",
       "443  Charlie receives a golden ticket to a chocolat...  \n",
       "167  Cinema LIC presents our first outdoor movie of...  \n",
       "394  Join us for the 3rd Annual LIC Post Waterfront...  \n",
       "446  Ever want to visit Argentina? The home of the ...  \n",
       "90   Enjoy live music while dancing tango with brea...  \n",
       "55   This It's My Park season, volunteer with Harbo...  \n",
       "100  The true story of fast-draws and wild rides, b...  \n",
       "125  No sooner does Italian-American widow Loretta ...  \n",
       "236  Remy, a resident of Paris, appreciates good fo...  \n",
       "478  Tom Hanks and Meg Ryan star in Nora Ephron's w...  \n",
       "23   The Wizard of Oz begins when a tornado rips th...  \n",
       "147  Join Quiet Events, the Hunters Point Park Cons...  \n",
       "59   Join us for free summer evening yoga classes a...  \n",
       "81   Join us for FREE 60 minute Zumba classes! No p...  \n",
       "98   Join us on July 13 for that unique time when t...  \n",
       "62   Come see the stars and moon with the Amateur A...  \n",
       "140  Come see the stars and moon with the Amateur A...  \n",
       "173  Unleash your inner artist this summer and join...  \n",
       "73   Come out to Long Island City Landing in Hunter...  "
      ]
     },
     "execution_count": 31,
     "metadata": {},
     "output_type": "execute_result"
    }
   ],
   "source": [
    "t[~t.duplicated(['year','title'])][['year','event_id','title','description','snippet']].sort_values(['year','title'])\n",
    "#Sorts all data by uniquely titled events for each year."
   ]
  },
  {
   "cell_type": "code",
   "execution_count": 32,
   "metadata": {},
   "outputs": [
    {
     "data": {
      "text/html": [
       "<div>\n",
       "<style scoped>\n",
       "    .dataframe tbody tr th:only-of-type {\n",
       "        vertical-align: middle;\n",
       "    }\n",
       "\n",
       "    .dataframe tbody tr th {\n",
       "        vertical-align: top;\n",
       "    }\n",
       "\n",
       "    .dataframe thead th {\n",
       "        text-align: right;\n",
       "    }\n",
       "</style>\n",
       "<table border=\"1\" class=\"dataframe\">\n",
       "  <thead>\n",
       "    <tr style=\"text-align: right;\">\n",
       "      <th></th>\n",
       "      <th>title</th>\n",
       "      <th>2014</th>\n",
       "    </tr>\n",
       "  </thead>\n",
       "  <tbody>\n",
       "    <tr>\n",
       "      <th>0</th>\n",
       "      <td>It's My Park Day at Hunter's Point South Park</td>\n",
       "      <td>1.0</td>\n",
       "    </tr>\n",
       "    <tr>\n",
       "      <th>1</th>\n",
       "      <td>It's My Park Day at Hunters Point Park</td>\n",
       "      <td>1.0</td>\n",
       "    </tr>\n",
       "    <tr>\n",
       "      <th>2</th>\n",
       "      <td>Summer Sounds: Sean Nowell and the Kung Fu Mas...</td>\n",
       "      <td>1.0</td>\n",
       "    </tr>\n",
       "  </tbody>\n",
       "</table>\n",
       "</div>"
      ],
      "text/plain": [
       "                                               title  2014\n",
       "0      It's My Park Day at Hunter's Point South Park   1.0\n",
       "1             It's My Park Day at Hunters Point Park   1.0\n",
       "2  Summer Sounds: Sean Nowell and the Kung Fu Mas...   1.0"
      ]
     },
     "execution_count": 32,
     "metadata": {},
     "output_type": "execute_result"
    }
   ],
   "source": [
    "y1= t[~t.duplicated('event_id')].groupby('year')['title'].value_counts().unstack().sort_values(2014,axis=1,ascending=False).iloc[0,0:3]\n",
    "y1= y1.reset_index()\n",
    "y1"
   ]
  },
  {
   "cell_type": "code",
   "execution_count": 33,
   "metadata": {},
   "outputs": [
    {
     "data": {
      "text/html": [
       "<div>\n",
       "<style scoped>\n",
       "    .dataframe tbody tr th:only-of-type {\n",
       "        vertical-align: middle;\n",
       "    }\n",
       "\n",
       "    .dataframe tbody tr th {\n",
       "        vertical-align: top;\n",
       "    }\n",
       "\n",
       "    .dataframe thead th {\n",
       "        text-align: right;\n",
       "    }\n",
       "</style>\n",
       "<table border=\"1\" class=\"dataframe\">\n",
       "  <thead>\n",
       "    <tr style=\"text-align: right;\">\n",
       "      <th></th>\n",
       "      <th>title</th>\n",
       "      <th>2018</th>\n",
       "    </tr>\n",
       "  </thead>\n",
       "  <tbody>\n",
       "    <tr>\n",
       "      <th>0</th>\n",
       "      <td>Free Waterfront Yoga</td>\n",
       "      <td>31.0</td>\n",
       "    </tr>\n",
       "    <tr>\n",
       "      <th>1</th>\n",
       "      <td>lululemon Summer of Yoga</td>\n",
       "      <td>13.0</td>\n",
       "    </tr>\n",
       "    <tr>\n",
       "      <th>2</th>\n",
       "      <td>Free Waterfront Zumba</td>\n",
       "      <td>9.0</td>\n",
       "    </tr>\n",
       "    <tr>\n",
       "      <th>3</th>\n",
       "      <td>Stargazing on the Waterfront</td>\n",
       "      <td>7.0</td>\n",
       "    </tr>\n",
       "    <tr>\n",
       "      <th>4</th>\n",
       "      <td>Watercolors on the Waterfront</td>\n",
       "      <td>6.0</td>\n",
       "    </tr>\n",
       "    <tr>\n",
       "      <th>5</th>\n",
       "      <td>Stargazing on the Waterftont</td>\n",
       "      <td>3.0</td>\n",
       "    </tr>\n",
       "    <tr>\n",
       "      <th>6</th>\n",
       "      <td>LIC Henge</td>\n",
       "      <td>2.0</td>\n",
       "    </tr>\n",
       "    <tr>\n",
       "      <th>7</th>\n",
       "      <td>Free Sunset Silent Disco</td>\n",
       "      <td>1.0</td>\n",
       "    </tr>\n",
       "    <tr>\n",
       "      <th>8</th>\n",
       "      <td>3rd Annual LIC Post Waterfront 5K</td>\n",
       "      <td>1.0</td>\n",
       "    </tr>\n",
       "    <tr>\n",
       "      <th>9</th>\n",
       "      <td>Arts, Culture &amp; Fun: Dance Away the Night with...</td>\n",
       "      <td>1.0</td>\n",
       "    </tr>\n",
       "  </tbody>\n",
       "</table>\n",
       "</div>"
      ],
      "text/plain": [
       "                                               title  2018\n",
       "0                               Free Waterfront Yoga  31.0\n",
       "1                           lululemon Summer of Yoga  13.0\n",
       "2                              Free Waterfront Zumba   9.0\n",
       "3                       Stargazing on the Waterfront   7.0\n",
       "4                      Watercolors on the Waterfront   6.0\n",
       "5                       Stargazing on the Waterftont   3.0\n",
       "6                                          LIC Henge   2.0\n",
       "7                           Free Sunset Silent Disco   1.0\n",
       "8                  3rd Annual LIC Post Waterfront 5K   1.0\n",
       "9  Arts, Culture & Fun: Dance Away the Night with...   1.0"
      ]
     },
     "execution_count": 33,
     "metadata": {},
     "output_type": "execute_result"
    }
   ],
   "source": [
    "y2= t[~t.duplicated('event_id')].groupby('year')['title'].value_counts().unstack().sort_values(2018,axis=1,ascending=False).iloc[4,0:10]\n",
    "y2= y2.reset_index()\n",
    "y2"
   ]
  },
  {
   "cell_type": "markdown",
   "metadata": {},
   "source": [
    "Overall, events range from \"It's My Park\" events to Tango classes and \"Cinema LIC Outdoor Movie\"--an event that repeats multiple times with different movies."
   ]
  },
  {
   "cell_type": "markdown",
   "metadata": {
    "variables": {
     "y1.iloc[2,0]": "Summer Sounds: Sean Nowell and the Kung Fu Masters Jazz Ensemble",
     "y2.iloc[0,0]": "Free Waterfront Yoga",
     "y2.iloc[1,0]": "lululemon Summer of Yoga",
     "y2.iloc[3,0]": "Stargazing on the Waterfront",
     "y2.iloc[4,0]": "Watercolors on the Waterfront"
    }
   },
   "source": [
    "In 2013, few events occurred except for two \"It's My Park Day\" events and {{y1.iloc[2,0]}}. In 2018, there were more outdoor recreation activities, such as {{y2.iloc[0,0]}} and {{y2.iloc[1,0]}} -- both of which happened quite frequently throughout the year. Aside from {{y2.iloc[4,0]}} and {{y2.iloc[3,0]}}, most of the events are geared towards active recreation."
   ]
  },
  {
   "cell_type": "code",
   "execution_count": 34,
   "metadata": {},
   "outputs": [
    {
     "data": {
      "text/html": [
       "<div>\n",
       "<style scoped>\n",
       "    .dataframe tbody tr th:only-of-type {\n",
       "        vertical-align: middle;\n",
       "    }\n",
       "\n",
       "    .dataframe tbody tr th {\n",
       "        vertical-align: top;\n",
       "    }\n",
       "\n",
       "    .dataframe thead th {\n",
       "        text-align: right;\n",
       "    }\n",
       "</style>\n",
       "<table border=\"1\" class=\"dataframe\">\n",
       "  <thead>\n",
       "    <tr style=\"text-align: right;\">\n",
       "      <th></th>\n",
       "      <th>index</th>\n",
       "      <th>event_organizer</th>\n",
       "    </tr>\n",
       "  </thead>\n",
       "  <tbody>\n",
       "    <tr>\n",
       "      <th>0</th>\n",
       "      <td>Hunters Point Parks Conservancy</td>\n",
       "      <td>5</td>\n",
       "    </tr>\n",
       "    <tr>\n",
       "      <th>1</th>\n",
       "      <td>CinemaLIC</td>\n",
       "      <td>4</td>\n",
       "    </tr>\n",
       "    <tr>\n",
       "      <th>2</th>\n",
       "      <td>Arts, Culture &amp; Fun</td>\n",
       "      <td>4</td>\n",
       "    </tr>\n",
       "    <tr>\n",
       "      <th>3</th>\n",
       "      <td>Queens Recreation</td>\n",
       "      <td>4</td>\n",
       "    </tr>\n",
       "    <tr>\n",
       "      <th>4</th>\n",
       "      <td>Lincoln Center</td>\n",
       "      <td>2</td>\n",
       "    </tr>\n",
       "    <tr>\n",
       "      <th>5</th>\n",
       "      <td>Hunters Point Park Conservancy</td>\n",
       "      <td>2</td>\n",
       "    </tr>\n",
       "    <tr>\n",
       "      <th>6</th>\n",
       "      <td>Amateur Astronomers Association of New York</td>\n",
       "      <td>2</td>\n",
       "    </tr>\n",
       "    <tr>\n",
       "      <th>7</th>\n",
       "      <td>Hunter Point Park Conservancy</td>\n",
       "      <td>2</td>\n",
       "    </tr>\n",
       "    <tr>\n",
       "      <th>8</th>\n",
       "      <td>Art &amp; Antiquities</td>\n",
       "      <td>1</td>\n",
       "    </tr>\n",
       "    <tr>\n",
       "      <th>9</th>\n",
       "      <td>NYC Parks: Queens Recreation</td>\n",
       "      <td>1</td>\n",
       "    </tr>\n",
       "    <tr>\n",
       "      <th>10</th>\n",
       "      <td>Woodside/Sunnyside Runners</td>\n",
       "      <td>1</td>\n",
       "    </tr>\n",
       "    <tr>\n",
       "      <th>11</th>\n",
       "      <td>HarborLAB</td>\n",
       "      <td>1</td>\n",
       "    </tr>\n",
       "    <tr>\n",
       "      <th>12</th>\n",
       "      <td>Friends of Gantry Neighborhood Parks</td>\n",
       "      <td>1</td>\n",
       "    </tr>\n",
       "  </tbody>\n",
       "</table>\n",
       "</div>"
      ],
      "text/plain": [
       "                                          index  event_organizer\n",
       "0               Hunters Point Parks Conservancy                5\n",
       "1                                     CinemaLIC                4\n",
       "2                           Arts, Culture & Fun                4\n",
       "3                             Queens Recreation                4\n",
       "4                                Lincoln Center                2\n",
       "5                Hunters Point Park Conservancy                2\n",
       "6   Amateur Astronomers Association of New York                2\n",
       "7                 Hunter Point Park Conservancy                2\n",
       "8                             Art & Antiquities                1\n",
       "9                  NYC Parks: Queens Recreation                1\n",
       "10                   Woodside/Sunnyside Runners                1\n",
       "11                                    HarborLAB                1\n",
       "12         Friends of Gantry Neighborhood Parks                1"
      ]
     },
     "execution_count": 34,
     "metadata": {},
     "output_type": "execute_result"
    }
   ],
   "source": [
    "table= t[~t.duplicated('title')]['event_organizer'].value_counts().reset_index()\n",
    "table\n",
    "#Stakeholders by uniquely titled events organized"
   ]
  },
  {
   "cell_type": "code",
   "execution_count": 35,
   "metadata": {},
   "outputs": [
    {
     "data": {
      "text/html": [
       "<div>\n",
       "<style scoped>\n",
       "    .dataframe tbody tr th:only-of-type {\n",
       "        vertical-align: middle;\n",
       "    }\n",
       "\n",
       "    .dataframe tbody tr th {\n",
       "        vertical-align: top;\n",
       "    }\n",
       "\n",
       "    .dataframe thead th {\n",
       "        text-align: right;\n",
       "    }\n",
       "</style>\n",
       "<table border=\"1\" class=\"dataframe\">\n",
       "  <thead>\n",
       "    <tr style=\"text-align: right;\">\n",
       "      <th></th>\n",
       "      <th>index</th>\n",
       "      <th>event_organizer</th>\n",
       "    </tr>\n",
       "  </thead>\n",
       "  <tbody>\n",
       "    <tr>\n",
       "      <th>0</th>\n",
       "      <td>Hunters Point Parks Conservancy</td>\n",
       "      <td>44</td>\n",
       "    </tr>\n",
       "    <tr>\n",
       "      <th>1</th>\n",
       "      <td>Amateur Astronomers Association of New York</td>\n",
       "      <td>7</td>\n",
       "    </tr>\n",
       "    <tr>\n",
       "      <th>2</th>\n",
       "      <td>Queens Recreation</td>\n",
       "      <td>4</td>\n",
       "    </tr>\n",
       "    <tr>\n",
       "      <th>3</th>\n",
       "      <td>CinemaLIC</td>\n",
       "      <td>4</td>\n",
       "    </tr>\n",
       "    <tr>\n",
       "      <th>4</th>\n",
       "      <td>Arts, Culture &amp; Fun</td>\n",
       "      <td>4</td>\n",
       "    </tr>\n",
       "    <tr>\n",
       "      <th>5</th>\n",
       "      <td>Hunters Poinr Parks Conservancy</td>\n",
       "      <td>4</td>\n",
       "    </tr>\n",
       "    <tr>\n",
       "      <th>6</th>\n",
       "      <td>Hunter Point Park Conservancy</td>\n",
       "      <td>3</td>\n",
       "    </tr>\n",
       "    <tr>\n",
       "      <th>7</th>\n",
       "      <td>Lincoln Center</td>\n",
       "      <td>2</td>\n",
       "    </tr>\n",
       "    <tr>\n",
       "      <th>8</th>\n",
       "      <td>Hunters Point Park Conservancy</td>\n",
       "      <td>2</td>\n",
       "    </tr>\n",
       "    <tr>\n",
       "      <th>9</th>\n",
       "      <td>NYC Parks: Queens Recreation</td>\n",
       "      <td>1</td>\n",
       "    </tr>\n",
       "    <tr>\n",
       "      <th>10</th>\n",
       "      <td>Art &amp; Antiquities</td>\n",
       "      <td>1</td>\n",
       "    </tr>\n",
       "    <tr>\n",
       "      <th>11</th>\n",
       "      <td>Woodside/Sunnyside Runners</td>\n",
       "      <td>1</td>\n",
       "    </tr>\n",
       "    <tr>\n",
       "      <th>12</th>\n",
       "      <td>HarborLAB</td>\n",
       "      <td>1</td>\n",
       "    </tr>\n",
       "    <tr>\n",
       "      <th>13</th>\n",
       "      <td>Friends of Gantry Neighborhood Parks</td>\n",
       "      <td>1</td>\n",
       "    </tr>\n",
       "  </tbody>\n",
       "</table>\n",
       "</div>"
      ],
      "text/plain": [
       "                                          index  event_organizer\n",
       "0               Hunters Point Parks Conservancy               44\n",
       "1   Amateur Astronomers Association of New York                7\n",
       "2                             Queens Recreation                4\n",
       "3                                     CinemaLIC                4\n",
       "4                           Arts, Culture & Fun                4\n",
       "5               Hunters Poinr Parks Conservancy                4\n",
       "6                 Hunter Point Park Conservancy                3\n",
       "7                                Lincoln Center                2\n",
       "8                Hunters Point Park Conservancy                2\n",
       "9                  NYC Parks: Queens Recreation                1\n",
       "10                            Art & Antiquities                1\n",
       "11                   Woodside/Sunnyside Runners                1\n",
       "12                                    HarborLAB                1\n",
       "13         Friends of Gantry Neighborhood Parks                1"
      ]
     },
     "execution_count": 35,
     "metadata": {},
     "output_type": "execute_result"
    }
   ],
   "source": [
    "table2= t[~t.duplicated('event_id')]['event_organizer'].value_counts().reset_index()\n",
    "table2\n",
    "#Stakeholders by number of events organized"
   ]
  },
  {
   "cell_type": "markdown",
   "metadata": {
    "variables": {
     "table.iloc[3,0]": "Arts, Culture &amp; Fun",
     "table2.iloc[0,0]": "Hunters Point Parks Conservancy",
     "table2.iloc[1,0]": "Amateur Astronomers Association of New York",
     "table2.iloc[2,0]": "CinemaLIC",
     "table2.iloc[4,0]": "Arts, Culture &amp; Fun",
     "table2.iloc[9,0]": "NYC Parks: Queens Recreation"
    }
   },
   "source": [
    "When taking into account all misspellings, the most prominent event organizer is {{table2.iloc[0,0]}}, notably a local organization.\n",
    "\n",
    "Other prominent event organizers are city-wide organizations: {{table2.iloc[1,0]}}, {{table2.iloc[2,0]}}. However, both {{table.iloc[3,0]}}, {{table2.iloc[4,0]}}, and {{table2.iloc[9,0]}} are local."
   ]
  },
  {
   "cell_type": "markdown",
   "metadata": {},
   "source": [
    "### Analysis of local and nonlocal stakeholders"
   ]
  },
  {
   "cell_type": "code",
   "execution_count": 54,
   "metadata": {},
   "outputs": [],
   "source": [
    "nonloc= [1,2,8,12,13] #based off of organizations that do not have Queens/LIC in their name or mission\n",
    "nonlocsh= table2.loc[nonloc,'event_organizer'].sum()/table2['event_organizer'].sum()\n",
    "nonlocsh= np.around(nonlocsh,decimals=2)\n",
    "locsh= np.around(1-nonlocsh,decimals=2)\n",
    "uniqorg= len(table2)"
   ]
  },
  {
   "cell_type": "markdown",
   "metadata": {
    "variables": {
     "locsh": "0.81",
     "nonlocsh": "0.19",
     "np.around(numev/uniqorg,decimals=2)": "8.93",
     "np.around(uniqev/uniqorg,decimals=2)": "4.21"
    }
   },
   "source": [
    "* The non-local stakeholder share is {{nonlocsh}}. // The local stakeholder share is {{locsh}}.\n",
    "* The number of uniquely titled events per stakeholder is {{np.around(uniqev/uniqorg,decimals=2)}}.\n",
    "* The number of total events per stakeholder is {{np.around(numev/uniqorg,decimals=2)}}.\n",
    "\n",
    "Note: stakeholder share is calculated using table2 (above): stakeholder share of all events organized, not uniquely titled events."
   ]
  },
  {
   "cell_type": "code",
   "execution_count": 37,
   "metadata": {},
   "outputs": [],
   "source": [
    "name= lic[['SIGNNAME','ACRES']].iloc[2,0]\n",
    "acres= lic[['SIGNNAME','ACRES']].iloc[2,1]"
   ]
  },
  {
   "cell_type": "markdown",
   "metadata": {
    "variables": {
     "name": "A.R.R.O.W. Field House"
    }
   },
   "source": [
    "## 3 {{name}}"
   ]
  },
  {
   "cell_type": "code",
   "execution_count": 38,
   "metadata": {},
   "outputs": [
    {
     "name": "stderr",
     "output_type": "stream",
     "text": [
      "C:\\Users\\raphael\\AppData\\Local\\Continuum\\anaconda3\\lib\\site-packages\\pandas\\core\\indexing.py:362: SettingWithCopyWarning: \n",
      "A value is trying to be set on a copy of a slice from a DataFrame.\n",
      "Try using .loc[row_indexer,col_indexer] = value instead\n",
      "\n",
      "See the caveats in the documentation: http://pandas.pydata.org/pandas-docs/stable/indexing.html#indexing-view-versus-copy\n",
      "  self.obj[key] = _infer_fill_value(value)\n",
      "C:\\Users\\raphael\\AppData\\Local\\Continuum\\anaconda3\\lib\\site-packages\\pandas\\core\\indexing.py:543: SettingWithCopyWarning: \n",
      "A value is trying to be set on a copy of a slice from a DataFrame.\n",
      "Try using .loc[row_indexer,col_indexer] = value instead\n",
      "\n",
      "See the caveats in the documentation: http://pandas.pydata.org/pandas-docs/stable/indexing.html#indexing-view-versus-copy\n",
      "  self.obj[item] = s\n"
     ]
    }
   ],
   "source": [
    "t= lic_events[lic_events['GISPROPNUM']==lic.iloc[2,0]]\n",
    "t.loc[:,'date2']= pd.to_datetime(t['date'], format='%m/%d/%Y')\n",
    "t.loc[:,'year']= t.loc[:,'date2'].dt.year\n",
    "t= t[t['year']!=2019]\n",
    "numev= t[~t.duplicated('event_id')].shape[0] #Number of events by the unique event id.\n",
    "#Creates a temporary dataframe for all events located to the specific park."
   ]
  },
  {
   "cell_type": "code",
   "execution_count": 39,
   "metadata": {},
   "outputs": [],
   "source": [
    "avg= t[~t.duplicated('event_id')].groupby('year').agg({'event_id':'count'}).reset_index().sum()/6\n",
    "#Removes repeated event_ids, and computes the mean number of events.\n",
    "avg= np.around(avg,decimals=2)\n",
    "total= t[~t.duplicated('event_id')].groupby('year').agg({'event_id':'count'}).reset_index().sum()\n",
    "#Removes repeated event_ids, and computes the total number of events.\n",
    "avgtitle= t[~t.duplicated('event_id')].sort_values('year')\n",
    "#Sorts all events by the year\n",
    "avgtitleyr= avgtitle.groupby('year')['title'].value_counts().unstack().count(axis=1).sum()/6\n",
    "#Counts the number of uniquely titled events"
   ]
  },
  {
   "cell_type": "code",
   "execution_count": 40,
   "metadata": {},
   "outputs": [],
   "source": [
    "yrrange= t['year'].unique().tolist()\n",
    "y= avgtitle.groupby('year')['title'].value_counts().unstack()\n",
    "y= y.transpose()\n",
    "duplev= y[y[yrrange]>1].count().reset_index()\n",
    "duplevavg= y[y[yrrange]>1].count().sum()/6\n",
    "duplev13= duplev.iloc[0,1] #Repeating events in the first year of the event data\n",
    "duplev18= duplev.iloc[-1,1] #Repeating events in the last year of the event data\n",
    "#Calculates the unique events that repeat (i.e. not how many events were there, but how many titles refer to repeating events)."
   ]
  },
  {
   "cell_type": "markdown",
   "metadata": {},
   "source": [
    "### Initial Summary"
   ]
  },
  {
   "cell_type": "markdown",
   "metadata": {
    "variables": {
     "acres": "0.29",
     "avg[1]": "0.67",
     "duplev18": "0",
     "name": "A.R.R.O.W. Field House",
     "np.around(avgtitleyr,decimals=2)": "0.67",
     "np.around(duplev13,decimals=2)": "0",
     "np.around(duplevavg,decimals=2)": "0.0",
     "total[1]": "4",
     "yrrange[-1]": "2015",
     "yrrange[0]": "2014"
    }
   },
   "source": [
    "This next park is {{name}}. {{name}} has {{acres}} acres. The number of events it hosts on average per year is {{avg[1]}} with a total of {{total[1]}} events over the past six years. On average per year it hosts {{np.around(avgtitleyr,decimals=2)}} uniquely titled events. Of these uniquely titled events, on average {{np.around(duplevavg,decimals=2)}} occurred more than once. \n",
    "\n",
    "\n",
    "To be specific, in {{yrrange[0]}} there were {{np.around(duplev13,decimals=2)}} uniquely titled repeating events and in {{yrrange[-1]}} there were {{duplev18}}."
   ]
  },
  {
   "cell_type": "markdown",
   "metadata": {
    "variables": {
     "np.around(avg[1]/acres,decimals=2)": "2.31",
     "np.around(avgtitleyr/acres,decimals=2)": "2.3",
     "np.around(numev/acres,decimals=2)": "13.79"
    }
   },
   "source": [
    "* The average number of uniquely titled events per year per acre is {{np.around(avgtitleyr/acres,decimals=2)}}.\n",
    "* The average number of events per year per acre is {{np.around(avg[1]/acres,decimals=2)}}.\n",
    "* The number of total events per acre is {{np.around(numev/acres,decimals=2)}}."
   ]
  },
  {
   "cell_type": "code",
   "execution_count": 41,
   "metadata": {},
   "outputs": [
    {
     "data": {
      "text/html": [
       "<div>\n",
       "<style scoped>\n",
       "    .dataframe tbody tr th:only-of-type {\n",
       "        vertical-align: middle;\n",
       "    }\n",
       "\n",
       "    .dataframe tbody tr th {\n",
       "        vertical-align: top;\n",
       "    }\n",
       "\n",
       "    .dataframe thead th {\n",
       "        text-align: right;\n",
       "    }\n",
       "</style>\n",
       "<table border=\"1\" class=\"dataframe\">\n",
       "  <thead>\n",
       "    <tr style=\"text-align: right;\">\n",
       "      <th></th>\n",
       "      <th>year</th>\n",
       "      <th>0</th>\n",
       "    </tr>\n",
       "  </thead>\n",
       "  <tbody>\n",
       "    <tr>\n",
       "      <th>0</th>\n",
       "      <td>2014</td>\n",
       "      <td>2</td>\n",
       "    </tr>\n",
       "    <tr>\n",
       "      <th>1</th>\n",
       "      <td>2015</td>\n",
       "      <td>2</td>\n",
       "    </tr>\n",
       "  </tbody>\n",
       "</table>\n",
       "</div>"
      ],
      "text/plain": [
       "   year  0\n",
       "0  2014  2\n",
       "1  2015  2"
      ]
     },
     "execution_count": 41,
     "metadata": {},
     "output_type": "execute_result"
    }
   ],
   "source": [
    "avgtitle.groupby('year')['title'].value_counts().unstack().count(axis=1).reset_index()\n",
    "#Uniquely titled events by year"
   ]
  },
  {
   "cell_type": "code",
   "execution_count": 42,
   "metadata": {},
   "outputs": [
    {
     "data": {
      "text/html": [
       "<div>\n",
       "<style scoped>\n",
       "    .dataframe tbody tr th:only-of-type {\n",
       "        vertical-align: middle;\n",
       "    }\n",
       "\n",
       "    .dataframe tbody tr th {\n",
       "        vertical-align: top;\n",
       "    }\n",
       "\n",
       "    .dataframe thead th {\n",
       "        text-align: right;\n",
       "    }\n",
       "</style>\n",
       "<table border=\"1\" class=\"dataframe\">\n",
       "  <thead>\n",
       "    <tr style=\"text-align: right;\">\n",
       "      <th></th>\n",
       "      <th>year</th>\n",
       "      <th>event_id</th>\n",
       "    </tr>\n",
       "  </thead>\n",
       "  <tbody>\n",
       "    <tr>\n",
       "      <th>0</th>\n",
       "      <td>2014</td>\n",
       "      <td>2</td>\n",
       "    </tr>\n",
       "    <tr>\n",
       "      <th>1</th>\n",
       "      <td>2015</td>\n",
       "      <td>2</td>\n",
       "    </tr>\n",
       "  </tbody>\n",
       "</table>\n",
       "</div>"
      ],
      "text/plain": [
       "   year  event_id\n",
       "0  2014         2\n",
       "1  2015         2"
      ]
     },
     "execution_count": 42,
     "metadata": {},
     "output_type": "execute_result"
    }
   ],
   "source": [
    "t[~t.duplicated('event_id')].groupby('year').agg({'event_id':'count'}).reset_index()\n",
    "#Total events by year"
   ]
  },
  {
   "cell_type": "code",
   "execution_count": 43,
   "metadata": {},
   "outputs": [
    {
     "data": {
      "text/html": [
       "<div>\n",
       "<style scoped>\n",
       "    .dataframe tbody tr th:only-of-type {\n",
       "        vertical-align: middle;\n",
       "    }\n",
       "\n",
       "    .dataframe tbody tr th {\n",
       "        vertical-align: top;\n",
       "    }\n",
       "\n",
       "    .dataframe thead th {\n",
       "        text-align: right;\n",
       "    }\n",
       "</style>\n",
       "<table border=\"1\" class=\"dataframe\">\n",
       "  <thead>\n",
       "    <tr style=\"text-align: right;\">\n",
       "      <th></th>\n",
       "      <th>year</th>\n",
       "      <th>0</th>\n",
       "    </tr>\n",
       "  </thead>\n",
       "  <tbody>\n",
       "    <tr>\n",
       "      <th>0</th>\n",
       "      <td>2014</td>\n",
       "      <td>0</td>\n",
       "    </tr>\n",
       "    <tr>\n",
       "      <th>1</th>\n",
       "      <td>2015</td>\n",
       "      <td>0</td>\n",
       "    </tr>\n",
       "  </tbody>\n",
       "</table>\n",
       "</div>"
      ],
      "text/plain": [
       "   year  0\n",
       "0  2014  0\n",
       "1  2015  0"
      ]
     },
     "execution_count": 43,
     "metadata": {},
     "output_type": "execute_result"
    }
   ],
   "source": [
    "duplev\n",
    "#Events that Repeat"
   ]
  },
  {
   "cell_type": "code",
   "execution_count": 44,
   "metadata": {},
   "outputs": [
    {
     "data": {
      "text/plain": [
       "4"
      ]
     },
     "execution_count": 44,
     "metadata": {},
     "output_type": "execute_result"
    }
   ],
   "source": [
    "uniqev= t[~t.duplicated('title')].shape[0]\n",
    "uniqev\n",
    "#The total number of uniquely titled events"
   ]
  },
  {
   "cell_type": "code",
   "execution_count": 45,
   "metadata": {},
   "outputs": [
    {
     "data": {
      "text/html": [
       "<div>\n",
       "<style scoped>\n",
       "    .dataframe tbody tr th:only-of-type {\n",
       "        vertical-align: middle;\n",
       "    }\n",
       "\n",
       "    .dataframe tbody tr th {\n",
       "        vertical-align: top;\n",
       "    }\n",
       "\n",
       "    .dataframe thead th {\n",
       "        text-align: right;\n",
       "    }\n",
       "</style>\n",
       "<table border=\"1\" class=\"dataframe\">\n",
       "  <thead>\n",
       "    <tr style=\"text-align: right;\">\n",
       "      <th></th>\n",
       "      <th>index</th>\n",
       "      <th>category</th>\n",
       "    </tr>\n",
       "  </thead>\n",
       "  <tbody>\n",
       "    <tr>\n",
       "      <th>0</th>\n",
       "      <td>Film</td>\n",
       "      <td>5</td>\n",
       "    </tr>\n",
       "    <tr>\n",
       "      <th>1</th>\n",
       "      <td>Best for Kids</td>\n",
       "      <td>5</td>\n",
       "    </tr>\n",
       "    <tr>\n",
       "      <th>2</th>\n",
       "      <td>Movies Under the Stars</td>\n",
       "      <td>4</td>\n",
       "    </tr>\n",
       "    <tr>\n",
       "      <th>3</th>\n",
       "      <td>Free Summer Movies</td>\n",
       "      <td>2</td>\n",
       "    </tr>\n",
       "    <tr>\n",
       "      <th>4</th>\n",
       "      <td>Theater</td>\n",
       "      <td>1</td>\n",
       "    </tr>\n",
       "    <tr>\n",
       "      <th>5</th>\n",
       "      <td>City Parks Foundation</td>\n",
       "      <td>1</td>\n",
       "    </tr>\n",
       "    <tr>\n",
       "      <th>6</th>\n",
       "      <td>Education</td>\n",
       "      <td>1</td>\n",
       "    </tr>\n",
       "    <tr>\n",
       "      <th>7</th>\n",
       "      <td>Arts, Culture &amp; Fun Series</td>\n",
       "      <td>1</td>\n",
       "    </tr>\n",
       "  </tbody>\n",
       "</table>\n",
       "</div>"
      ],
      "text/plain": [
       "                        index  category\n",
       "0                        Film         5\n",
       "1               Best for Kids         5\n",
       "2      Movies Under the Stars         4\n",
       "3          Free Summer Movies         2\n",
       "4                     Theater         1\n",
       "5       City Parks Foundation         1\n",
       "6                   Education         1\n",
       "7  Arts, Culture & Fun Series         1"
      ]
     },
     "execution_count": 45,
     "metadata": {},
     "output_type": "execute_result"
    }
   ],
   "source": [
    "table= t['category'].value_counts().reset_index()\n",
    "uniqcat= table.shape[0]\n",
    "table.head(10)\n",
    "#Most used event categories"
   ]
  },
  {
   "cell_type": "markdown",
   "metadata": {},
   "source": [
    "* Top ten categories used to describe events (above)\n",
    "* Bar chart of all categories used to describe events (below)"
   ]
  },
  {
   "cell_type": "code",
   "execution_count": 46,
   "metadata": {},
   "outputs": [
    {
     "data": {
      "image/png": "[encoded data removed]",
      "text/plain": [
       "<Figure size 720x576 with 1 Axes>"
      ]
     },
     "metadata": {
      "needs_background": "light"
     },
     "output_type": "display_data"
    }
   ],
   "source": [
    "fig, ax = plt.subplots(figsize=(10,8))\n",
    "bars= table['index']\n",
    "ypos= range(0,len(bars))\n",
    "ax.bar(ypos,table['category'])\n",
    "plt.tick_params(labelbottom=False)\n",
    "plt.title('Categories Used in Describing Events')\n",
    "plt.show()"
   ]
  },
  {
   "cell_type": "markdown",
   "metadata": {
    "variables": {
     "table.iloc[0,0]": "Best for Kids",
     "table.iloc[0,1]": "5",
     "table.iloc[1,0]": "Film",
     "table.iloc[2,0]": "Movies Under the Stars",
     "table.iloc[3,0]": "Free Summer Movies",
     "table.iloc[4,0]": "Theater",
     "table.iloc[5,0]": "Arts, Culture &amp; Fun Series",
     "table.iloc[6,0]": "Education",
     "table.iloc[7,0]": "City Parks Foundation",
     "uniqcat": "8",
     "uniqev": "4"
    }
   },
   "source": [
    "By title, there are {{uniqev}} uniquely titled events held in the park for all years included in the data. Of these events, there are {{uniqcat}} unique categories used to describe them. Most events, {{table.iloc[0,1]}}, are categorized as {{table.iloc[0,0]}}. The next two most frequently used categories are {{table.iloc[1,0]}} and {{table.iloc[2,0]}}. It seems that events are split between evening entertainment (movies, concerts or dance events) and outdoor fitness activities. The descriptive categories are as follows: \n",
    "* {{table.iloc[0,0]}}\n",
    "* {{table.iloc[1,0]}}\n",
    "* {{table.iloc[2,0]}}\n",
    "* {{table.iloc[3,0]}}\n",
    "* {{table.iloc[4,0]}}\n",
    "* {{table.iloc[5,0]}}\n",
    "* {{table.iloc[6,0]}}\n",
    "* {{table.iloc[7,0]}}"
   ]
  },
  {
   "cell_type": "markdown",
   "metadata": {},
   "source": [
    "### Analysis of event content\n",
    "* Types of events in the first and last year\n",
    "* Overall: types of events"
   ]
  },
  {
   "cell_type": "code",
   "execution_count": 47,
   "metadata": {},
   "outputs": [
    {
     "data": {
      "text/html": [
       "<div>\n",
       "<style scoped>\n",
       "    .dataframe tbody tr th:only-of-type {\n",
       "        vertical-align: middle;\n",
       "    }\n",
       "\n",
       "    .dataframe tbody tr th {\n",
       "        vertical-align: top;\n",
       "    }\n",
       "\n",
       "    .dataframe thead th {\n",
       "        text-align: right;\n",
       "    }\n",
       "</style>\n",
       "<table border=\"1\" class=\"dataframe\">\n",
       "  <thead>\n",
       "    <tr style=\"text-align: right;\">\n",
       "      <th></th>\n",
       "      <th>year</th>\n",
       "      <th>event_id</th>\n",
       "      <th>title</th>\n",
       "      <th>description</th>\n",
       "      <th>snippet</th>\n",
       "    </tr>\n",
       "  </thead>\n",
       "  <tbody>\n",
       "    <tr>\n",
       "      <th>641</th>\n",
       "      <td>2014</td>\n",
       "      <td>99599.0</td>\n",
       "      <td>Arts, Culture &amp; Fun: Screening of Documentary ...</td>\n",
       "      <td>&lt;p&gt;MAKERS is a six-part PBS series profiling t...</td>\n",
       "      <td>Women in Space traces the history of women pio...</td>\n",
       "    </tr>\n",
       "    <tr>\n",
       "      <th>658</th>\n",
       "      <td>2014</td>\n",
       "      <td>93333.0</td>\n",
       "      <td>CityParks PuppetMobile: Little Red’s Hood</td>\n",
       "      <td>&lt;p&gt;\\t&lt;em&gt;Little Red&amp;rsquo;s Hood&lt;/em&gt;&amp;nbsp;is ...</td>\n",
       "      <td>CityParks PuppetMobile Presents LITTLE RED’S HOOD</td>\n",
       "    </tr>\n",
       "    <tr>\n",
       "      <th>644</th>\n",
       "      <td>2015</td>\n",
       "      <td>116792.0</td>\n",
       "      <td>Movies Under the Stars: Enchanted</td>\n",
       "      <td>&lt;p&gt;Join NYC Parks&amp;nbsp;and the New York City M...</td>\n",
       "      <td>Join NYC Parks and the New York City Mayor's O...</td>\n",
       "    </tr>\n",
       "    <tr>\n",
       "      <th>652</th>\n",
       "      <td>2015</td>\n",
       "      <td>120699.0</td>\n",
       "      <td>Movies Under the Stars: Hotel Transylvania</td>\n",
       "      <td>&lt;p&gt;Join NYC Parks&amp;nbsp;and the New York City M...</td>\n",
       "      <td>Join NYC Parks and the New York City Mayor's O...</td>\n",
       "    </tr>\n",
       "  </tbody>\n",
       "</table>\n",
       "</div>"
      ],
      "text/plain": [
       "     year  event_id                                              title  \\\n",
       "641  2014   99599.0  Arts, Culture & Fun: Screening of Documentary ...   \n",
       "658  2014   93333.0          CityParks PuppetMobile: Little Red’s Hood   \n",
       "644  2015  116792.0                  Movies Under the Stars: Enchanted   \n",
       "652  2015  120699.0         Movies Under the Stars: Hotel Transylvania   \n",
       "\n",
       "                                           description  \\\n",
       "641  <p>MAKERS is a six-part PBS series profiling t...   \n",
       "658  <p>\\t<em>Little Red&rsquo;s Hood</em>&nbsp;is ...   \n",
       "644  <p>Join NYC Parks&nbsp;and the New York City M...   \n",
       "652  <p>Join NYC Parks&nbsp;and the New York City M...   \n",
       "\n",
       "                                               snippet  \n",
       "641  Women in Space traces the history of women pio...  \n",
       "658  CityParks PuppetMobile Presents LITTLE RED’S HOOD  \n",
       "644  Join NYC Parks and the New York City Mayor's O...  \n",
       "652  Join NYC Parks and the New York City Mayor's O...  "
      ]
     },
     "execution_count": 47,
     "metadata": {},
     "output_type": "execute_result"
    }
   ],
   "source": [
    "t[~t.duplicated(['year','title'])][['year','event_id','title','description','snippet']].sort_values(['year','title'])\n",
    "#Sorts all data by uniquely titled events for each year."
   ]
  },
  {
   "cell_type": "code",
   "execution_count": 49,
   "metadata": {},
   "outputs": [
    {
     "data": {
      "text/html": [
       "<div>\n",
       "<style scoped>\n",
       "    .dataframe tbody tr th:only-of-type {\n",
       "        vertical-align: middle;\n",
       "    }\n",
       "\n",
       "    .dataframe tbody tr th {\n",
       "        vertical-align: top;\n",
       "    }\n",
       "\n",
       "    .dataframe thead th {\n",
       "        text-align: right;\n",
       "    }\n",
       "</style>\n",
       "<table border=\"1\" class=\"dataframe\">\n",
       "  <thead>\n",
       "    <tr style=\"text-align: right;\">\n",
       "      <th></th>\n",
       "      <th>title</th>\n",
       "      <th>2014</th>\n",
       "    </tr>\n",
       "  </thead>\n",
       "  <tbody>\n",
       "    <tr>\n",
       "      <th>0</th>\n",
       "      <td>Arts, Culture &amp; Fun: Screening of Documentary ...</td>\n",
       "      <td>1.0</td>\n",
       "    </tr>\n",
       "    <tr>\n",
       "      <th>1</th>\n",
       "      <td>CityParks PuppetMobile: Little Red’s Hood</td>\n",
       "      <td>1.0</td>\n",
       "    </tr>\n",
       "  </tbody>\n",
       "</table>\n",
       "</div>"
      ],
      "text/plain": [
       "                                               title  2014\n",
       "0  Arts, Culture & Fun: Screening of Documentary ...   1.0\n",
       "1          CityParks PuppetMobile: Little Red’s Hood   1.0"
      ]
     },
     "execution_count": 49,
     "metadata": {},
     "output_type": "execute_result"
    }
   ],
   "source": [
    "y1= t[~t.duplicated('event_id')].groupby('year')['title'].value_counts().unstack().sort_values(2014,axis=1,ascending=False).iloc[0,0:2]\n",
    "y1= y1.reset_index()\n",
    "y1"
   ]
  },
  {
   "cell_type": "code",
   "execution_count": 50,
   "metadata": {},
   "outputs": [
    {
     "data": {
      "text/html": [
       "<div>\n",
       "<style scoped>\n",
       "    .dataframe tbody tr th:only-of-type {\n",
       "        vertical-align: middle;\n",
       "    }\n",
       "\n",
       "    .dataframe tbody tr th {\n",
       "        vertical-align: top;\n",
       "    }\n",
       "\n",
       "    .dataframe thead th {\n",
       "        text-align: right;\n",
       "    }\n",
       "</style>\n",
       "<table border=\"1\" class=\"dataframe\">\n",
       "  <thead>\n",
       "    <tr style=\"text-align: right;\">\n",
       "      <th></th>\n",
       "      <th>title</th>\n",
       "      <th>2015</th>\n",
       "    </tr>\n",
       "  </thead>\n",
       "  <tbody>\n",
       "    <tr>\n",
       "      <th>0</th>\n",
       "      <td>Movies Under the Stars: Enchanted</td>\n",
       "      <td>1.0</td>\n",
       "    </tr>\n",
       "    <tr>\n",
       "      <th>1</th>\n",
       "      <td>Movies Under the Stars: Hotel Transylvania</td>\n",
       "      <td>1.0</td>\n",
       "    </tr>\n",
       "  </tbody>\n",
       "</table>\n",
       "</div>"
      ],
      "text/plain": [
       "                                        title  2015\n",
       "0           Movies Under the Stars: Enchanted   1.0\n",
       "1  Movies Under the Stars: Hotel Transylvania   1.0"
      ]
     },
     "execution_count": 50,
     "metadata": {},
     "output_type": "execute_result"
    }
   ],
   "source": [
    "y2= t[~t.duplicated('event_id')].groupby('year')['title'].value_counts().unstack().sort_values(yrrange[-1],axis=1,ascending=False).iloc[-1,0:2]\n",
    "y2= y2.reset_index()\n",
    "y2"
   ]
  },
  {
   "cell_type": "markdown",
   "metadata": {},
   "source": [
    "Overall, programming at this park is mostly geared towards children--with puppet shows and children's movies."
   ]
  },
  {
   "cell_type": "markdown",
   "metadata": {},
   "source": [
    "Only two years of event data is listed: 2014 and 2015. In 2014, the two events were a documentary screening and a puppet s how. In 2015, the two events fell under the \"Movies Under the Stars\" initiative--a city-wide parks initiative to bring movies to local parks."
   ]
  },
  {
   "cell_type": "code",
   "execution_count": 51,
   "metadata": {},
   "outputs": [
    {
     "data": {
      "text/html": [
       "<div>\n",
       "<style scoped>\n",
       "    .dataframe tbody tr th:only-of-type {\n",
       "        vertical-align: middle;\n",
       "    }\n",
       "\n",
       "    .dataframe tbody tr th {\n",
       "        vertical-align: top;\n",
       "    }\n",
       "\n",
       "    .dataframe thead th {\n",
       "        text-align: right;\n",
       "    }\n",
       "</style>\n",
       "<table border=\"1\" class=\"dataframe\">\n",
       "  <thead>\n",
       "    <tr style=\"text-align: right;\">\n",
       "      <th></th>\n",
       "      <th>index</th>\n",
       "      <th>event_organizer</th>\n",
       "    </tr>\n",
       "  </thead>\n",
       "  <tbody>\n",
       "    <tr>\n",
       "      <th>0</th>\n",
       "      <td>NYC Parks</td>\n",
       "      <td>2</td>\n",
       "    </tr>\n",
       "    <tr>\n",
       "      <th>1</th>\n",
       "      <td>City Parks Foundation</td>\n",
       "      <td>1</td>\n",
       "    </tr>\n",
       "    <tr>\n",
       "      <th>2</th>\n",
       "      <td>Arts, Culture &amp; Fun</td>\n",
       "      <td>1</td>\n",
       "    </tr>\n",
       "  </tbody>\n",
       "</table>\n",
       "</div>"
      ],
      "text/plain": [
       "                   index  event_organizer\n",
       "0              NYC Parks                2\n",
       "1  City Parks Foundation                1\n",
       "2    Arts, Culture & Fun                1"
      ]
     },
     "execution_count": 51,
     "metadata": {},
     "output_type": "execute_result"
    }
   ],
   "source": [
    "table= t[~t.duplicated('title')]['event_organizer'].value_counts().reset_index()\n",
    "table\n",
    "#Stakeholders by uniquely titled events organized"
   ]
  },
  {
   "cell_type": "code",
   "execution_count": 52,
   "metadata": {},
   "outputs": [
    {
     "data": {
      "text/html": [
       "<div>\n",
       "<style scoped>\n",
       "    .dataframe tbody tr th:only-of-type {\n",
       "        vertical-align: middle;\n",
       "    }\n",
       "\n",
       "    .dataframe tbody tr th {\n",
       "        vertical-align: top;\n",
       "    }\n",
       "\n",
       "    .dataframe thead th {\n",
       "        text-align: right;\n",
       "    }\n",
       "</style>\n",
       "<table border=\"1\" class=\"dataframe\">\n",
       "  <thead>\n",
       "    <tr style=\"text-align: right;\">\n",
       "      <th></th>\n",
       "      <th>index</th>\n",
       "      <th>event_organizer</th>\n",
       "    </tr>\n",
       "  </thead>\n",
       "  <tbody>\n",
       "    <tr>\n",
       "      <th>0</th>\n",
       "      <td>NYC Parks</td>\n",
       "      <td>2</td>\n",
       "    </tr>\n",
       "    <tr>\n",
       "      <th>1</th>\n",
       "      <td>City Parks Foundation</td>\n",
       "      <td>1</td>\n",
       "    </tr>\n",
       "    <tr>\n",
       "      <th>2</th>\n",
       "      <td>Arts, Culture &amp; Fun</td>\n",
       "      <td>1</td>\n",
       "    </tr>\n",
       "  </tbody>\n",
       "</table>\n",
       "</div>"
      ],
      "text/plain": [
       "                   index  event_organizer\n",
       "0              NYC Parks                2\n",
       "1  City Parks Foundation                1\n",
       "2    Arts, Culture & Fun                1"
      ]
     },
     "execution_count": 52,
     "metadata": {},
     "output_type": "execute_result"
    }
   ],
   "source": [
    "table2= t[~t.duplicated('event_id')]['event_organizer'].value_counts().reset_index()\n",
    "table2\n",
    "#Stakeholders by number of events organized"
   ]
  },
  {
   "cell_type": "markdown",
   "metadata": {
    "variables": {
     "table2.iloc[0,0]": "NYC Parks"
    }
   },
   "source": [
    "The most prominent event organizer is {{table2.iloc[0,0]}}. None of the event organizers are local."
   ]
  },
  {
   "cell_type": "markdown",
   "metadata": {},
   "source": [
    "### Analysis of local and nonlocal stakeholders"
   ]
  },
  {
   "cell_type": "code",
   "execution_count": 59,
   "metadata": {},
   "outputs": [],
   "source": [
    "nonloc= [0,1,2] #based off of organizations that do not have Queens/LIC in their name or mission\n",
    "nonlocsh= table2.loc[nonloc,'event_organizer'].sum()/table2['event_organizer'].sum()\n",
    "nonlocsh= np.around(nonlocsh,decimals=2)\n",
    "locsh= np.around(1-nonlocsh,decimals=2)\n",
    "uniqorg= len(table2)"
   ]
  },
  {
   "cell_type": "markdown",
   "metadata": {
    "variables": {
     "locsh": "0.0",
     "nonlocsh": "1.0",
     "np.around(numev/uniqorg,decimals=2)": "1.0",
     "np.around(uniqev/uniqorg,decimals=2)": "1.33"
    }
   },
   "source": [
    "* The non-local stakeholder share is {{nonlocsh}}. // The local stakeholder share is {{locsh}}.\n",
    "* The number of uniquely titled events per stakeholder is {{np.around(uniqev/uniqorg,decimals=2)}}.\n",
    "* The number of total events per stakeholder is {{np.around(numev/uniqorg,decimals=2)}}.\n",
    "\n",
    "Note: stakeholder share is calculated using table2 (above): stakeholder share of all events organized, not uniquely titled events."
   ]
  },
  {
   "cell_type": "code",
   "execution_count": 194,
   "metadata": {},
   "outputs": [],
   "source": [
    "name= lic[['SIGNNAME','ACRES']].iloc[3,0]\n",
    "acres= lic[['SIGNNAME','ACRES']].iloc[3,1]"
   ]
  },
  {
   "cell_type": "markdown",
   "metadata": {
    "variables": {
     "name": "Playground Thirty Five XXXV"
    }
   },
   "source": [
    "## 4 {{name}}"
   ]
  },
  {
   "cell_type": "code",
   "execution_count": 195,
   "metadata": {},
   "outputs": [],
   "source": [
    "t= lic_events.loc[lic_events['GISPROPNUM']==lic.iloc[3,0]]\n",
    "t.loc[:,'date2']= pd.to_datetime(t['date'], format='%m/%d/%Y')\n",
    "t.loc[:,'year']= t.loc[:,'date2'].dt.year\n",
    "t= t.loc[t['year']!=2019]\n",
    "numev= t[~t.duplicated('event_id')].shape[0] #Number of events by the unique event id.\n",
    "#Creates a temporary dataframe for all events located to the specific park."
   ]
  },
  {
   "cell_type": "code",
   "execution_count": 62,
   "metadata": {},
   "outputs": [],
   "source": [
    "avg= t[~t.duplicated('event_id')].groupby('year').agg({'event_id':'count'}).reset_index().sum()/6\n",
    "#Removes repeated event_ids, and computes the mean number of events.\n",
    "avg= np.around(avg,decimals=2)\n",
    "total= t[~t.duplicated('event_id')].groupby('year').agg({'event_id':'count'}).reset_index().sum()\n",
    "#Removes repeated event_ids, and computes the total number of events.\n",
    "avgtitle= t[~t.duplicated('event_id')].sort_values('year')\n",
    "#Sorts all events by the year\n",
    "avgtitleyr= avgtitle.groupby('year')['title'].value_counts().unstack().count(axis=1).sum()/6\n",
    "#Counts the number of uniquely titled events"
   ]
  },
  {
   "cell_type": "code",
   "execution_count": 63,
   "metadata": {},
   "outputs": [],
   "source": [
    "yrrange= t['year'].sort_values().unique().tolist()\n",
    "y= avgtitle.groupby('year')['title'].value_counts().unstack()\n",
    "y= y.transpose()\n",
    "duplev= y[y[yrrange]>1].count().reset_index()\n",
    "duplevavg= y[y[yrrange]>1].count().sum()/6\n",
    "duplev13= duplev.iloc[0,1]\n",
    "duplev18= duplev.iloc[-1,1]\n",
    "#Calculates the unique events that repeat (i.e. not how many events were there, but how many titles refer to repeating events)."
   ]
  },
  {
   "cell_type": "markdown",
   "metadata": {},
   "source": [
    "### Initial Summary"
   ]
  },
  {
   "cell_type": "markdown",
   "metadata": {
    "variables": {
     "acres": "0.218",
     "avg[1]": "0.5",
     "duplev18": "0",
     "name": "Playground Thirty Five XXXV",
     "np.around(avgtitleyr,decimals=2)": "0.5",
     "np.around(duplev13,decimals=2)": "0",
     "np.around(duplevavg,decimals=2)": "0.0",
     "total[1]": "3",
     "yrrange[-1]": "2017",
     "yrrange[0]": "2015"
    }
   },
   "source": [
    "This next park is {{name}}. {{name}} has {{acres}} acres. The number of events it hosts on average per year is {{avg[1]}} with a total of {{total[1]}} events over the past six years. On average per year it hosts {{np.around(avgtitleyr,decimals=2)}} uniquely titled events. Of these uniquely titled events, on average {{np.around(duplevavg,decimals=2)}} occurred more than once. \n",
    "\n",
    "\n",
    "To be specific, in {{yrrange[0]}} there were {{np.around(duplev13,decimals=2)}} uniquely titled repeating events and in {{yrrange[-1]}} there were {{duplev18}}."
   ]
  },
  {
   "cell_type": "markdown",
   "metadata": {
    "variables": {
     "np.around(avg[1]/acres,decimals=2)": "2.29",
     "np.around(avgtitleyr/acres,decimals=2)": "2.29",
     "np.around(numev/acres,decimals=2)": "13.76"
    }
   },
   "source": [
    "* The average number of uniquely titled events per year per acre is {{np.around(avgtitleyr/acres,decimals=2)}}.\n",
    "* The average number of events per year per acre is {{np.around(avg[1]/acres,decimals=2)}}.\n",
    "* The number of total events per acre is {{np.around(numev/acres,decimals=2)}}."
   ]
  },
  {
   "cell_type": "code",
   "execution_count": 64,
   "metadata": {},
   "outputs": [
    {
     "data": {
      "text/html": [
       "<div>\n",
       "<style scoped>\n",
       "    .dataframe tbody tr th:only-of-type {\n",
       "        vertical-align: middle;\n",
       "    }\n",
       "\n",
       "    .dataframe tbody tr th {\n",
       "        vertical-align: top;\n",
       "    }\n",
       "\n",
       "    .dataframe thead th {\n",
       "        text-align: right;\n",
       "    }\n",
       "</style>\n",
       "<table border=\"1\" class=\"dataframe\">\n",
       "  <thead>\n",
       "    <tr style=\"text-align: right;\">\n",
       "      <th></th>\n",
       "      <th>year</th>\n",
       "      <th>0</th>\n",
       "    </tr>\n",
       "  </thead>\n",
       "  <tbody>\n",
       "    <tr>\n",
       "      <th>0</th>\n",
       "      <td>2015</td>\n",
       "      <td>1</td>\n",
       "    </tr>\n",
       "    <tr>\n",
       "      <th>1</th>\n",
       "      <td>2016</td>\n",
       "      <td>1</td>\n",
       "    </tr>\n",
       "    <tr>\n",
       "      <th>2</th>\n",
       "      <td>2017</td>\n",
       "      <td>1</td>\n",
       "    </tr>\n",
       "  </tbody>\n",
       "</table>\n",
       "</div>"
      ],
      "text/plain": [
       "   year  0\n",
       "0  2015  1\n",
       "1  2016  1\n",
       "2  2017  1"
      ]
     },
     "execution_count": 64,
     "metadata": {},
     "output_type": "execute_result"
    }
   ],
   "source": [
    "avgtitle.groupby('year')['title'].value_counts().unstack().count(axis=1).reset_index()\n",
    "#Uniquely titled events by year"
   ]
  },
  {
   "cell_type": "code",
   "execution_count": 65,
   "metadata": {},
   "outputs": [
    {
     "data": {
      "text/html": [
       "<div>\n",
       "<style scoped>\n",
       "    .dataframe tbody tr th:only-of-type {\n",
       "        vertical-align: middle;\n",
       "    }\n",
       "\n",
       "    .dataframe tbody tr th {\n",
       "        vertical-align: top;\n",
       "    }\n",
       "\n",
       "    .dataframe thead th {\n",
       "        text-align: right;\n",
       "    }\n",
       "</style>\n",
       "<table border=\"1\" class=\"dataframe\">\n",
       "  <thead>\n",
       "    <tr style=\"text-align: right;\">\n",
       "      <th></th>\n",
       "      <th>year</th>\n",
       "      <th>event_id</th>\n",
       "    </tr>\n",
       "  </thead>\n",
       "  <tbody>\n",
       "    <tr>\n",
       "      <th>0</th>\n",
       "      <td>2015</td>\n",
       "      <td>1</td>\n",
       "    </tr>\n",
       "    <tr>\n",
       "      <th>1</th>\n",
       "      <td>2016</td>\n",
       "      <td>1</td>\n",
       "    </tr>\n",
       "    <tr>\n",
       "      <th>2</th>\n",
       "      <td>2017</td>\n",
       "      <td>1</td>\n",
       "    </tr>\n",
       "  </tbody>\n",
       "</table>\n",
       "</div>"
      ],
      "text/plain": [
       "   year  event_id\n",
       "0  2015         1\n",
       "1  2016         1\n",
       "2  2017         1"
      ]
     },
     "execution_count": 65,
     "metadata": {},
     "output_type": "execute_result"
    }
   ],
   "source": [
    "t[~t.duplicated('event_id')].groupby('year').agg({'event_id':'count'}).reset_index()\n",
    "#Total events by year"
   ]
  },
  {
   "cell_type": "code",
   "execution_count": 66,
   "metadata": {},
   "outputs": [
    {
     "data": {
      "text/html": [
       "<div>\n",
       "<style scoped>\n",
       "    .dataframe tbody tr th:only-of-type {\n",
       "        vertical-align: middle;\n",
       "    }\n",
       "\n",
       "    .dataframe tbody tr th {\n",
       "        vertical-align: top;\n",
       "    }\n",
       "\n",
       "    .dataframe thead th {\n",
       "        text-align: right;\n",
       "    }\n",
       "</style>\n",
       "<table border=\"1\" class=\"dataframe\">\n",
       "  <thead>\n",
       "    <tr style=\"text-align: right;\">\n",
       "      <th></th>\n",
       "      <th>year</th>\n",
       "      <th>0</th>\n",
       "    </tr>\n",
       "  </thead>\n",
       "  <tbody>\n",
       "    <tr>\n",
       "      <th>0</th>\n",
       "      <td>2015</td>\n",
       "      <td>0</td>\n",
       "    </tr>\n",
       "    <tr>\n",
       "      <th>1</th>\n",
       "      <td>2016</td>\n",
       "      <td>0</td>\n",
       "    </tr>\n",
       "    <tr>\n",
       "      <th>2</th>\n",
       "      <td>2017</td>\n",
       "      <td>0</td>\n",
       "    </tr>\n",
       "  </tbody>\n",
       "</table>\n",
       "</div>"
      ],
      "text/plain": [
       "   year  0\n",
       "0  2015  0\n",
       "1  2016  0\n",
       "2  2017  0"
      ]
     },
     "execution_count": 66,
     "metadata": {},
     "output_type": "execute_result"
    }
   ],
   "source": [
    "duplev\n",
    "#Events that Repeat"
   ]
  },
  {
   "cell_type": "code",
   "execution_count": 67,
   "metadata": {},
   "outputs": [
    {
     "data": {
      "text/plain": [
       "3"
      ]
     },
     "execution_count": 67,
     "metadata": {},
     "output_type": "execute_result"
    }
   ],
   "source": [
    "uniqev= t[~t.duplicated('title')].shape[0]\n",
    "uniqev\n",
    "#The total number of uniquely titled events"
   ]
  },
  {
   "cell_type": "code",
   "execution_count": 68,
   "metadata": {},
   "outputs": [
    {
     "data": {
      "text/html": [
       "<div>\n",
       "<style scoped>\n",
       "    .dataframe tbody tr th:only-of-type {\n",
       "        vertical-align: middle;\n",
       "    }\n",
       "\n",
       "    .dataframe tbody tr th {\n",
       "        vertical-align: top;\n",
       "    }\n",
       "\n",
       "    .dataframe thead th {\n",
       "        text-align: right;\n",
       "    }\n",
       "</style>\n",
       "<table border=\"1\" class=\"dataframe\">\n",
       "  <thead>\n",
       "    <tr style=\"text-align: right;\">\n",
       "      <th></th>\n",
       "      <th>index</th>\n",
       "      <th>category</th>\n",
       "    </tr>\n",
       "  </thead>\n",
       "  <tbody>\n",
       "    <tr>\n",
       "      <th>0</th>\n",
       "      <td>It's My Park</td>\n",
       "      <td>3</td>\n",
       "    </tr>\n",
       "    <tr>\n",
       "      <th>1</th>\n",
       "      <td>Volunteer</td>\n",
       "      <td>3</td>\n",
       "    </tr>\n",
       "  </tbody>\n",
       "</table>\n",
       "</div>"
      ],
      "text/plain": [
       "          index  category\n",
       "0  It's My Park         3\n",
       "1     Volunteer         3"
      ]
     },
     "execution_count": 68,
     "metadata": {},
     "output_type": "execute_result"
    }
   ],
   "source": [
    "table= t['category'].value_counts().reset_index()\n",
    "uniqcat= table.shape[0]\n",
    "table.head(10)\n",
    "#Most used event categories"
   ]
  },
  {
   "cell_type": "markdown",
   "metadata": {},
   "source": [
    "* Top ten categories used to describe events (above)\n",
    "* Bar chart of all categories used to describe events (below)"
   ]
  },
  {
   "cell_type": "code",
   "execution_count": 69,
   "metadata": {},
   "outputs": [
    {
     "data": {
      "image/png": "[encoded data removed]",
      "text/plain": [
       "<Figure size 720x576 with 1 Axes>"
      ]
     },
     "metadata": {
      "needs_background": "light"
     },
     "output_type": "display_data"
    }
   ],
   "source": [
    "fig, ax = plt.subplots(figsize=(10,8))\n",
    "bars= table['index']\n",
    "ypos= range(0,len(bars))\n",
    "ax.bar(ypos,table['category'])\n",
    "plt.tick_params(labelbottom=False)\n",
    "plt.title('Categories Used in Describing Events')\n",
    "plt.show()"
   ]
  },
  {
   "cell_type": "markdown",
   "metadata": {
    "variables": {
     "table.iloc[0,0]": "&quot;It&#39;s My Park&quot;",
     "table.iloc[1,0]": "Volunteer",
     "uniqcat": "2",
     "uniqev": "3"
    }
   },
   "source": [
    "By title, there are {{uniqev}} uniquely titled events held in the park for all years included in the data. Of these events, there are {{uniqcat}} unique categories used to describe them. All events are categorized as both {{table.iloc[0,0]}} and {{table.iloc[1,0]}}."
   ]
  },
  {
   "cell_type": "markdown",
   "metadata": {},
   "source": [
    "### Analysis of event content\n",
    "* Types of events in the first and last year\n",
    "* Overall: types of events"
   ]
  },
  {
   "cell_type": "code",
   "execution_count": 70,
   "metadata": {},
   "outputs": [
    {
     "data": {
      "text/html": [
       "<div>\n",
       "<style scoped>\n",
       "    .dataframe tbody tr th:only-of-type {\n",
       "        vertical-align: middle;\n",
       "    }\n",
       "\n",
       "    .dataframe tbody tr th {\n",
       "        vertical-align: top;\n",
       "    }\n",
       "\n",
       "    .dataframe thead th {\n",
       "        text-align: right;\n",
       "    }\n",
       "</style>\n",
       "<table border=\"1\" class=\"dataframe\">\n",
       "  <thead>\n",
       "    <tr style=\"text-align: right;\">\n",
       "      <th></th>\n",
       "      <th>year</th>\n",
       "      <th>event_id</th>\n",
       "      <th>title</th>\n",
       "      <th>description</th>\n",
       "      <th>snippet</th>\n",
       "    </tr>\n",
       "  </thead>\n",
       "  <tbody>\n",
       "    <tr>\n",
       "      <th>536</th>\n",
       "      <td>2015</td>\n",
       "      <td>121149.0</td>\n",
       "      <td>It's My Park at Playground Thirty-Five XXXV</td>\n",
       "      <td>&lt;p&gt;This It&amp;#39;s My Park season, Partnerships ...</td>\n",
       "      <td>This It's My Park season, Partnerships for Par...</td>\n",
       "    </tr>\n",
       "    <tr>\n",
       "      <th>534</th>\n",
       "      <td>2016</td>\n",
       "      <td>129814.0</td>\n",
       "      <td>CANCELLED: It's My Park at Playground Thirty F...</td>\n",
       "      <td>&lt;p class=\"alert alert-error\"&gt;Please note: this...</td>\n",
       "      <td>This It's My Park season, volunteer with Commu...</td>\n",
       "    </tr>\n",
       "    <tr>\n",
       "      <th>532</th>\n",
       "      <td>2017</td>\n",
       "      <td>146289.0</td>\n",
       "      <td>It's My Park at Playground Thirty Five - Sprin...</td>\n",
       "      <td>&lt;p&gt;This It&amp;#39;s My Park season, volunteer wit...</td>\n",
       "      <td>Volunteer with Assemblymember Barnwell's Offic...</td>\n",
       "    </tr>\n",
       "  </tbody>\n",
       "</table>\n",
       "</div>"
      ],
      "text/plain": [
       "     year  event_id                                              title  \\\n",
       "536  2015  121149.0        It's My Park at Playground Thirty-Five XXXV   \n",
       "534  2016  129814.0  CANCELLED: It's My Park at Playground Thirty F...   \n",
       "532  2017  146289.0  It's My Park at Playground Thirty Five - Sprin...   \n",
       "\n",
       "                                           description  \\\n",
       "536  <p>This It&#39;s My Park season, Partnerships ...   \n",
       "534  <p class=\"alert alert-error\">Please note: this...   \n",
       "532  <p>This It&#39;s My Park season, volunteer wit...   \n",
       "\n",
       "                                               snippet  \n",
       "536  This It's My Park season, Partnerships for Par...  \n",
       "534  This It's My Park season, volunteer with Commu...  \n",
       "532  Volunteer with Assemblymember Barnwell's Offic...  "
      ]
     },
     "execution_count": 70,
     "metadata": {},
     "output_type": "execute_result"
    }
   ],
   "source": [
    "t[~t.duplicated(['year','title'])][['year','event_id','title','description','snippet']].sort_values(['year','title'])\n",
    "#Sorts all data by uniquely titled events for each year."
   ]
  },
  {
   "cell_type": "code",
   "execution_count": 71,
   "metadata": {},
   "outputs": [
    {
     "data": {
      "text/html": [
       "<div>\n",
       "<style scoped>\n",
       "    .dataframe tbody tr th:only-of-type {\n",
       "        vertical-align: middle;\n",
       "    }\n",
       "\n",
       "    .dataframe tbody tr th {\n",
       "        vertical-align: top;\n",
       "    }\n",
       "\n",
       "    .dataframe thead th {\n",
       "        text-align: right;\n",
       "    }\n",
       "</style>\n",
       "<table border=\"1\" class=\"dataframe\">\n",
       "  <thead>\n",
       "    <tr style=\"text-align: right;\">\n",
       "      <th></th>\n",
       "      <th>title</th>\n",
       "      <th>2015</th>\n",
       "    </tr>\n",
       "  </thead>\n",
       "  <tbody>\n",
       "    <tr>\n",
       "      <th>0</th>\n",
       "      <td>It's My Park at Playground Thirty-Five XXXV</td>\n",
       "      <td>1.0</td>\n",
       "    </tr>\n",
       "  </tbody>\n",
       "</table>\n",
       "</div>"
      ],
      "text/plain": [
       "                                         title  2015\n",
       "0  It's My Park at Playground Thirty-Five XXXV   1.0"
      ]
     },
     "execution_count": 71,
     "metadata": {},
     "output_type": "execute_result"
    }
   ],
   "source": [
    "y1= t[~t.duplicated('event_id')].groupby('year')['title'].value_counts().unstack().sort_values(yrrange[0],axis=1,ascending=False).iloc[0,0:1]\n",
    "y1= y1.reset_index()\n",
    "y1.sort_values(2015)"
   ]
  },
  {
   "cell_type": "code",
   "execution_count": 72,
   "metadata": {},
   "outputs": [
    {
     "data": {
      "text/html": [
       "<div>\n",
       "<style scoped>\n",
       "    .dataframe tbody tr th:only-of-type {\n",
       "        vertical-align: middle;\n",
       "    }\n",
       "\n",
       "    .dataframe tbody tr th {\n",
       "        vertical-align: top;\n",
       "    }\n",
       "\n",
       "    .dataframe thead th {\n",
       "        text-align: right;\n",
       "    }\n",
       "</style>\n",
       "<table border=\"1\" class=\"dataframe\">\n",
       "  <thead>\n",
       "    <tr style=\"text-align: right;\">\n",
       "      <th></th>\n",
       "      <th>title</th>\n",
       "      <th>2017</th>\n",
       "    </tr>\n",
       "  </thead>\n",
       "  <tbody>\n",
       "    <tr>\n",
       "      <th>0</th>\n",
       "      <td>It's My Park at Playground Thirty Five - Sprin...</td>\n",
       "      <td>1.0</td>\n",
       "    </tr>\n",
       "  </tbody>\n",
       "</table>\n",
       "</div>"
      ],
      "text/plain": [
       "                                               title  2017\n",
       "0  It's My Park at Playground Thirty Five - Sprin...   1.0"
      ]
     },
     "execution_count": 72,
     "metadata": {},
     "output_type": "execute_result"
    }
   ],
   "source": [
    "y2= t[~t.duplicated('event_id')].groupby('year')['title'].value_counts().unstack().sort_values(yrrange[-1],axis=1,ascending=False).iloc[-1,0:1]\n",
    "y2= y2.reset_index()\n",
    "y2"
   ]
  },
  {
   "cell_type": "markdown",
   "metadata": {},
   "source": [
    "Overall, programming at this park is minimal. The only types of events are \"It's My Park\" events."
   ]
  },
  {
   "cell_type": "code",
   "execution_count": 73,
   "metadata": {},
   "outputs": [
    {
     "data": {
      "text/html": [
       "<div>\n",
       "<style scoped>\n",
       "    .dataframe tbody tr th:only-of-type {\n",
       "        vertical-align: middle;\n",
       "    }\n",
       "\n",
       "    .dataframe tbody tr th {\n",
       "        vertical-align: top;\n",
       "    }\n",
       "\n",
       "    .dataframe thead th {\n",
       "        text-align: right;\n",
       "    }\n",
       "</style>\n",
       "<table border=\"1\" class=\"dataframe\">\n",
       "  <thead>\n",
       "    <tr style=\"text-align: right;\">\n",
       "      <th></th>\n",
       "      <th>index</th>\n",
       "      <th>event_organizer</th>\n",
       "    </tr>\n",
       "  </thead>\n",
       "  <tbody>\n",
       "    <tr>\n",
       "      <th>0</th>\n",
       "      <td>Community Members for Playground 35</td>\n",
       "      <td>1</td>\n",
       "    </tr>\n",
       "    <tr>\n",
       "      <th>1</th>\n",
       "      <td>Office of Assemblymember Barnwell</td>\n",
       "      <td>1</td>\n",
       "    </tr>\n",
       "    <tr>\n",
       "      <th>2</th>\n",
       "      <td>Partnerships for Parks</td>\n",
       "      <td>1</td>\n",
       "    </tr>\n",
       "  </tbody>\n",
       "</table>\n",
       "</div>"
      ],
      "text/plain": [
       "                                 index  event_organizer\n",
       "0  Community Members for Playground 35                1\n",
       "1    Office of Assemblymember Barnwell                1\n",
       "2               Partnerships for Parks                1"
      ]
     },
     "execution_count": 73,
     "metadata": {},
     "output_type": "execute_result"
    }
   ],
   "source": [
    "table= t[~t.duplicated('title')]['event_organizer'].value_counts().reset_index()\n",
    "table\n",
    "#Stakeholders by uniquely titled events organized"
   ]
  },
  {
   "cell_type": "code",
   "execution_count": 74,
   "metadata": {},
   "outputs": [
    {
     "data": {
      "text/html": [
       "<div>\n",
       "<style scoped>\n",
       "    .dataframe tbody tr th:only-of-type {\n",
       "        vertical-align: middle;\n",
       "    }\n",
       "\n",
       "    .dataframe tbody tr th {\n",
       "        vertical-align: top;\n",
       "    }\n",
       "\n",
       "    .dataframe thead th {\n",
       "        text-align: right;\n",
       "    }\n",
       "</style>\n",
       "<table border=\"1\" class=\"dataframe\">\n",
       "  <thead>\n",
       "    <tr style=\"text-align: right;\">\n",
       "      <th></th>\n",
       "      <th>index</th>\n",
       "      <th>event_organizer</th>\n",
       "    </tr>\n",
       "  </thead>\n",
       "  <tbody>\n",
       "    <tr>\n",
       "      <th>0</th>\n",
       "      <td>Community Members for Playground 35</td>\n",
       "      <td>1</td>\n",
       "    </tr>\n",
       "    <tr>\n",
       "      <th>1</th>\n",
       "      <td>Office of Assemblymember Barnwell</td>\n",
       "      <td>1</td>\n",
       "    </tr>\n",
       "    <tr>\n",
       "      <th>2</th>\n",
       "      <td>Partnerships for Parks</td>\n",
       "      <td>1</td>\n",
       "    </tr>\n",
       "  </tbody>\n",
       "</table>\n",
       "</div>"
      ],
      "text/plain": [
       "                                 index  event_organizer\n",
       "0  Community Members for Playground 35                1\n",
       "1    Office of Assemblymember Barnwell                1\n",
       "2               Partnerships for Parks                1"
      ]
     },
     "execution_count": 74,
     "metadata": {},
     "output_type": "execute_result"
    }
   ],
   "source": [
    "table2= t[~t.duplicated('event_id')]['event_organizer'].value_counts().reset_index()\n",
    "table2\n",
    "#Stakeholders by number of events organized"
   ]
  },
  {
   "cell_type": "markdown",
   "metadata": {
    "variables": {
     "table2.iloc[0,0]": "Community Members for Playground 35",
     "table2.iloc[1,0]": "Office of Assemblymember Barnwell",
     "table2.iloc[2,0]": "Partnerships for Parks"
    }
   },
   "source": [
    "Events are split between: {{table2.iloc[0,0]}}, {{table2.iloc[1,0]}}, and {{table2.iloc[2,0]}}. Two of the event organizers are local."
   ]
  },
  {
   "cell_type": "markdown",
   "metadata": {},
   "source": [
    "### Analysis of local and nonlocal stakeholders"
   ]
  },
  {
   "cell_type": "code",
   "execution_count": 75,
   "metadata": {},
   "outputs": [],
   "source": [
    "nonloc= [0] #based off of organizations that do not have Queens/LIC in their name or mission\n",
    "nonlocsh= table2.loc[nonloc,'event_organizer'].sum()/table2['event_organizer'].sum()\n",
    "nonlocsh= np.around(nonlocsh,decimals=2)\n",
    "locsh= np.around(1-nonlocsh,decimals=2)\n",
    "uniqorg= len(table2)"
   ]
  },
  {
   "cell_type": "markdown",
   "metadata": {
    "variables": {
     "locsh": "0.67",
     "nonlocsh": "0.33",
     "np.around(numev/uniqorg,decimals=2)": "1.0",
     "np.around(uniqev/uniqorg,decimals=2)": "1.0"
    }
   },
   "source": [
    "* The non-local stakeholder share is {{nonlocsh}}. // The local stakeholder share is {{locsh}}.\n",
    "* The number of uniquely titled events per stakeholder is {{np.around(uniqev/uniqorg,decimals=2)}}.\n",
    "* The number of total events per stakeholder is {{np.around(numev/uniqorg,decimals=2)}}.\n",
    "\n",
    "Note: stakeholder share is calculated using table2 (above): stakeholder share of all events organized, not uniquely titled events."
   ]
  },
  {
   "cell_type": "code",
   "execution_count": 76,
   "metadata": {},
   "outputs": [],
   "source": [
    "name= lic[['SIGNNAME','ACRES']].iloc[4,0]\n",
    "acres= lic[['SIGNNAME','ACRES']].iloc[4,1]"
   ]
  },
  {
   "cell_type": "markdown",
   "metadata": {
    "variables": {
     "name": "Ravenswood Playground"
    }
   },
   "source": [
    "## 5 {{name}}"
   ]
  },
  {
   "cell_type": "markdown",
   "metadata": {},
   "source": [
    "This 2.758-acre park also has no record of permitted events in the past six years. It does have a rich history dating back to 1833. The land once belonged to Colonel George Gibbs, a businessman from New York City. For many years, it was named Ravenscroft, after clergyman John Stark Ravenscroft, until it was renamed. Today, the park lies adjacent to the Ravenswood Houses and the Queensview Houses, two of the city’s largest housing projects. "
   ]
  },
  {
   "cell_type": "code",
   "execution_count": 77,
   "metadata": {},
   "outputs": [],
   "source": [
    "name= lic[['SIGNNAME','ACRES']].iloc[5,0]\n",
    "acres= lic[['SIGNNAME','ACRES']].iloc[5,1]"
   ]
  },
  {
   "cell_type": "markdown",
   "metadata": {
    "variables": {
     "name": "Andrews Grove"
    }
   },
   "source": [
    "## 6 {{name}}"
   ]
  },
  {
   "cell_type": "markdown",
   "metadata": {
    "variables": {
     "name": "Andrews Grove"
    }
   },
   "source": [
    "There is no record of permitted events at {{name}} in the past six years."
   ]
  },
  {
   "cell_type": "code",
   "execution_count": 196,
   "metadata": {},
   "outputs": [],
   "source": [
    "name= lic[['SIGNNAME','ACRES']].iloc[6,0]\n",
    "acres= lic[['SIGNNAME','ACRES']].iloc[6,1]"
   ]
  },
  {
   "cell_type": "markdown",
   "metadata": {
    "variables": {
     "name": "Dutch Kills Playground"
    }
   },
   "source": [
    "## 7 {{name}}"
   ]
  },
  {
   "cell_type": "code",
   "execution_count": 197,
   "metadata": {},
   "outputs": [],
   "source": [
    "t= lic_events.loc[lic_events['GISPROPNUM']==lic.iloc[6,0]]\n",
    "t.loc[:,'date2']= pd.to_datetime(t['date'], format='%m/%d/%Y')\n",
    "t.loc[:,'year']= t.loc[:,'date2'].dt.year\n",
    "t= t.loc[t['year']!=2019]\n",
    "numev= t[~t.duplicated('event_id')].shape[0] #Number of events by the unique event id.\n",
    "#Creates a temporary dataframe for all events located to the specific park."
   ]
  },
  {
   "cell_type": "code",
   "execution_count": 81,
   "metadata": {},
   "outputs": [],
   "source": [
    "avg= t[~t.duplicated('event_id')].groupby('year').agg({'event_id':'count'}).reset_index().sum()/6\n",
    "#Removes repeated event_ids, and computes the mean number of events.\n",
    "avg= np.around(avg,decimals=2)\n",
    "total= t[~t.duplicated('event_id')].groupby('year').agg({'event_id':'count'}).reset_index().sum()\n",
    "#Removes repeated event_ids, and computes the total number of events.\n",
    "avgtitle= t[~t.duplicated('event_id')].sort_values('year')\n",
    "#Sorts all events by the year\n",
    "avgtitleyr= avgtitle.groupby('year')['title'].value_counts().unstack().count(axis=1).sum()/6\n",
    "#Counts the number of uniquely titled events"
   ]
  },
  {
   "cell_type": "code",
   "execution_count": 82,
   "metadata": {},
   "outputs": [],
   "source": [
    "yrrange= t['year'].sort_values().unique().tolist()\n",
    "y= avgtitle.groupby('year')['title'].value_counts().unstack()\n",
    "y= y.transpose()\n",
    "duplev= y[y[yrrange]>1].count().reset_index()\n",
    "duplevavg= y[y[yrrange]>1].count().sum()/6\n",
    "duplev13= duplev.iloc[0,1]\n",
    "duplev18= duplev.iloc[-1,1]\n",
    "#Calculates the unique events that repeat (i.e. not how many events were there, but how many titles refer to repeating events)."
   ]
  },
  {
   "cell_type": "markdown",
   "metadata": {},
   "source": [
    "### Initial Summary"
   ]
  },
  {
   "cell_type": "markdown",
   "metadata": {
    "variables": {
     "acres": "2.4",
     "avg[1]": "0.5",
     "duplev18": "0",
     "name": "Dutch Kills Playground",
     "np.around(avgtitleyr,decimals=2)": "0.5",
     "np.around(duplev13,decimals=2)": "0",
     "np.around(duplevavg,decimals=2)": "0.0",
     "total[1]": "3",
     "yrrange[-1]": "2018",
     "yrrange[0]": "2017"
    }
   },
   "source": [
    "This next park is {{name}}. {{name}} has {{acres}} acres. The number of events it hosts on average per year is {{avg[1]}} with a total of {{total[1]}} events over the past six years. On average per year it hosts {{np.around(avgtitleyr,decimals=2)}} uniquely titled events. Of these uniquely titled events, on average {{np.around(duplevavg,decimals=2)}} occurred more than once. \n",
    "\n",
    "\n",
    "To be specific, in {{yrrange[0]}} there were {{np.around(duplev13,decimals=2)}} uniquely titled repeating events and in {{yrrange[-1]}} there were {{duplev18}}."
   ]
  },
  {
   "cell_type": "markdown",
   "metadata": {
    "variables": {
     "np.around(avg[1]/acres,decimals=2)": "0.21",
     "np.around(avgtitleyr/acres,decimals=2)": "0.21",
     "np.around(numev/acres,decimals=2)": "1.25"
    }
   },
   "source": [
    "* The average number of uniquely titled events per year per acre is {{np.around(avgtitleyr/acres,decimals=2)}}.\n",
    "* The average number of events per year per acre is {{np.around(avg[1]/acres,decimals=2)}}.\n",
    "* The number of total events per acre is {{np.around(numev/acres,decimals=2)}}."
   ]
  },
  {
   "cell_type": "code",
   "execution_count": 83,
   "metadata": {},
   "outputs": [
    {
     "data": {
      "text/html": [
       "<div>\n",
       "<style scoped>\n",
       "    .dataframe tbody tr th:only-of-type {\n",
       "        vertical-align: middle;\n",
       "    }\n",
       "\n",
       "    .dataframe tbody tr th {\n",
       "        vertical-align: top;\n",
       "    }\n",
       "\n",
       "    .dataframe thead th {\n",
       "        text-align: right;\n",
       "    }\n",
       "</style>\n",
       "<table border=\"1\" class=\"dataframe\">\n",
       "  <thead>\n",
       "    <tr style=\"text-align: right;\">\n",
       "      <th></th>\n",
       "      <th>year</th>\n",
       "      <th>0</th>\n",
       "    </tr>\n",
       "  </thead>\n",
       "  <tbody>\n",
       "    <tr>\n",
       "      <th>0</th>\n",
       "      <td>2017</td>\n",
       "      <td>2</td>\n",
       "    </tr>\n",
       "    <tr>\n",
       "      <th>1</th>\n",
       "      <td>2018</td>\n",
       "      <td>1</td>\n",
       "    </tr>\n",
       "  </tbody>\n",
       "</table>\n",
       "</div>"
      ],
      "text/plain": [
       "   year  0\n",
       "0  2017  2\n",
       "1  2018  1"
      ]
     },
     "execution_count": 83,
     "metadata": {},
     "output_type": "execute_result"
    }
   ],
   "source": [
    "avgtitle.groupby('year')['title'].value_counts().unstack().count(axis=1).reset_index()\n",
    "#Uniquely titled events by year"
   ]
  },
  {
   "cell_type": "code",
   "execution_count": 84,
   "metadata": {},
   "outputs": [
    {
     "data": {
      "text/html": [
       "<div>\n",
       "<style scoped>\n",
       "    .dataframe tbody tr th:only-of-type {\n",
       "        vertical-align: middle;\n",
       "    }\n",
       "\n",
       "    .dataframe tbody tr th {\n",
       "        vertical-align: top;\n",
       "    }\n",
       "\n",
       "    .dataframe thead th {\n",
       "        text-align: right;\n",
       "    }\n",
       "</style>\n",
       "<table border=\"1\" class=\"dataframe\">\n",
       "  <thead>\n",
       "    <tr style=\"text-align: right;\">\n",
       "      <th></th>\n",
       "      <th>year</th>\n",
       "      <th>event_id</th>\n",
       "    </tr>\n",
       "  </thead>\n",
       "  <tbody>\n",
       "    <tr>\n",
       "      <th>0</th>\n",
       "      <td>2017</td>\n",
       "      <td>2</td>\n",
       "    </tr>\n",
       "    <tr>\n",
       "      <th>1</th>\n",
       "      <td>2018</td>\n",
       "      <td>1</td>\n",
       "    </tr>\n",
       "  </tbody>\n",
       "</table>\n",
       "</div>"
      ],
      "text/plain": [
       "   year  event_id\n",
       "0  2017         2\n",
       "1  2018         1"
      ]
     },
     "execution_count": 84,
     "metadata": {},
     "output_type": "execute_result"
    }
   ],
   "source": [
    "t[~t.duplicated('event_id')].groupby('year').agg({'event_id':'count'}).reset_index()\n",
    "#Total events by year"
   ]
  },
  {
   "cell_type": "code",
   "execution_count": 85,
   "metadata": {},
   "outputs": [
    {
     "data": {
      "text/html": [
       "<div>\n",
       "<style scoped>\n",
       "    .dataframe tbody tr th:only-of-type {\n",
       "        vertical-align: middle;\n",
       "    }\n",
       "\n",
       "    .dataframe tbody tr th {\n",
       "        vertical-align: top;\n",
       "    }\n",
       "\n",
       "    .dataframe thead th {\n",
       "        text-align: right;\n",
       "    }\n",
       "</style>\n",
       "<table border=\"1\" class=\"dataframe\">\n",
       "  <thead>\n",
       "    <tr style=\"text-align: right;\">\n",
       "      <th></th>\n",
       "      <th>year</th>\n",
       "      <th>0</th>\n",
       "    </tr>\n",
       "  </thead>\n",
       "  <tbody>\n",
       "    <tr>\n",
       "      <th>0</th>\n",
       "      <td>2017</td>\n",
       "      <td>0</td>\n",
       "    </tr>\n",
       "    <tr>\n",
       "      <th>1</th>\n",
       "      <td>2018</td>\n",
       "      <td>0</td>\n",
       "    </tr>\n",
       "  </tbody>\n",
       "</table>\n",
       "</div>"
      ],
      "text/plain": [
       "   year  0\n",
       "0  2017  0\n",
       "1  2018  0"
      ]
     },
     "execution_count": 85,
     "metadata": {},
     "output_type": "execute_result"
    }
   ],
   "source": [
    "duplev\n",
    "#Events that Repeat"
   ]
  },
  {
   "cell_type": "code",
   "execution_count": 86,
   "metadata": {},
   "outputs": [
    {
     "data": {
      "text/plain": [
       "2"
      ]
     },
     "execution_count": 86,
     "metadata": {},
     "output_type": "execute_result"
    }
   ],
   "source": [
    "uniqev= t[~t.duplicated('title')].shape[0]\n",
    "uniqev\n",
    "#The total number of uniquely titled events"
   ]
  },
  {
   "cell_type": "code",
   "execution_count": 87,
   "metadata": {},
   "outputs": [
    {
     "data": {
      "text/html": [
       "<div>\n",
       "<style scoped>\n",
       "    .dataframe tbody tr th:only-of-type {\n",
       "        vertical-align: middle;\n",
       "    }\n",
       "\n",
       "    .dataframe tbody tr th {\n",
       "        vertical-align: top;\n",
       "    }\n",
       "\n",
       "    .dataframe thead th {\n",
       "        text-align: right;\n",
       "    }\n",
       "</style>\n",
       "<table border=\"1\" class=\"dataframe\">\n",
       "  <thead>\n",
       "    <tr style=\"text-align: right;\">\n",
       "      <th></th>\n",
       "      <th>index</th>\n",
       "      <th>category</th>\n",
       "    </tr>\n",
       "  </thead>\n",
       "  <tbody>\n",
       "    <tr>\n",
       "      <th>0</th>\n",
       "      <td>Best for Kids</td>\n",
       "      <td>3</td>\n",
       "    </tr>\n",
       "    <tr>\n",
       "      <th>1</th>\n",
       "      <td>School Break</td>\n",
       "      <td>2</td>\n",
       "    </tr>\n",
       "    <tr>\n",
       "      <th>2</th>\n",
       "      <td>Arts &amp; Crafts</td>\n",
       "      <td>2</td>\n",
       "    </tr>\n",
       "    <tr>\n",
       "      <th>3</th>\n",
       "      <td>Accessible</td>\n",
       "      <td>2</td>\n",
       "    </tr>\n",
       "    <tr>\n",
       "      <th>4</th>\n",
       "      <td>History</td>\n",
       "      <td>1</td>\n",
       "    </tr>\n",
       "    <tr>\n",
       "      <th>5</th>\n",
       "      <td>Festivals</td>\n",
       "      <td>1</td>\n",
       "    </tr>\n",
       "    <tr>\n",
       "      <th>6</th>\n",
       "      <td>Dance</td>\n",
       "      <td>1</td>\n",
       "    </tr>\n",
       "    <tr>\n",
       "      <th>7</th>\n",
       "      <td>Food</td>\n",
       "      <td>1</td>\n",
       "    </tr>\n",
       "  </tbody>\n",
       "</table>\n",
       "</div>"
      ],
      "text/plain": [
       "           index  category\n",
       "0  Best for Kids         3\n",
       "1   School Break         2\n",
       "2  Arts & Crafts         2\n",
       "3     Accessible         2\n",
       "4        History         1\n",
       "5      Festivals         1\n",
       "6          Dance         1\n",
       "7           Food         1"
      ]
     },
     "execution_count": 87,
     "metadata": {},
     "output_type": "execute_result"
    }
   ],
   "source": [
    "table= t['category'].value_counts().reset_index()\n",
    "uniqcat= table.shape[0]\n",
    "table.head(10)\n",
    "#Most used event categories"
   ]
  },
  {
   "cell_type": "markdown",
   "metadata": {},
   "source": [
    "* Top ten categories used to describe events (above)\n",
    "* Bar chart of all categories used to describe events (below)"
   ]
  },
  {
   "cell_type": "code",
   "execution_count": 88,
   "metadata": {
    "scrolled": true
   },
   "outputs": [
    {
     "data": {
      "image/png": "[encoded data removed]",
      "text/plain": [
       "<Figure size 720x576 with 1 Axes>"
      ]
     },
     "metadata": {
      "needs_background": "light"
     },
     "output_type": "display_data"
    }
   ],
   "source": [
    "fig, ax = plt.subplots(figsize=(10,8))\n",
    "bars= table['index']\n",
    "ypos= range(0,len(bars))\n",
    "ax.bar(ypos,table['category'])\n",
    "plt.tick_params(labelbottom=False)\n",
    "plt.title('Categories Used in Describing Events')\n",
    "plt.show()"
   ]
  },
  {
   "cell_type": "markdown",
   "metadata": {
    "variables": {
     "table.iloc[0,0]": "Best for Kids",
     "table.iloc[1,0]": "School Break",
     "table.iloc[2,0]": "Arts &amp; Crafts",
     "table.iloc[3,0]": "Accessible",
     "table.iloc[4,0]": "History",
     "uniqcat": "8",
     "uniqev": "2"
    }
   },
   "source": [
    "By title, there are {{uniqev}} uniquely titled events held in the park for all years included in the data. Of these events, there are {{uniqcat}} unique categories used to describe them. Most events are categorized as {{table.iloc[0,0]}}. The rest are categorized as:\n",
    "\n",
    "* {{table.iloc[1,0]}}\n",
    "* {{table.iloc[2,0]}}\n",
    "* {{table.iloc[3,0]}}\n",
    "* {{table.iloc[4,0]}}"
   ]
  },
  {
   "cell_type": "markdown",
   "metadata": {},
   "source": [
    "### Analysis of event content\n",
    "* Types of events in the first and last year\n",
    "* Overall: types of events"
   ]
  },
  {
   "cell_type": "code",
   "execution_count": 89,
   "metadata": {},
   "outputs": [
    {
     "data": {
      "text/html": [
       "<div>\n",
       "<style scoped>\n",
       "    .dataframe tbody tr th:only-of-type {\n",
       "        vertical-align: middle;\n",
       "    }\n",
       "\n",
       "    .dataframe tbody tr th {\n",
       "        vertical-align: top;\n",
       "    }\n",
       "\n",
       "    .dataframe thead th {\n",
       "        text-align: right;\n",
       "    }\n",
       "</style>\n",
       "<table border=\"1\" class=\"dataframe\">\n",
       "  <thead>\n",
       "    <tr style=\"text-align: right;\">\n",
       "      <th></th>\n",
       "      <th>year</th>\n",
       "      <th>event_id</th>\n",
       "      <th>title</th>\n",
       "      <th>description</th>\n",
       "      <th>snippet</th>\n",
       "    </tr>\n",
       "  </thead>\n",
       "  <tbody>\n",
       "    <tr>\n",
       "      <th>664</th>\n",
       "      <td>2017</td>\n",
       "      <td>147946.0</td>\n",
       "      <td>Astoria's Multicultural Celebration</td>\n",
       "      <td>&lt;p&gt;Enjoy costumes, dance and music that repres...</td>\n",
       "      <td>The Central Astoria Local Development Coalitio...</td>\n",
       "    </tr>\n",
       "    <tr>\n",
       "      <th>669</th>\n",
       "      <td>2017</td>\n",
       "      <td>144777.0</td>\n",
       "      <td>Spring Break Fun in the Park</td>\n",
       "      <td>&lt;p&gt;Everyone is welcome to this free event that...</td>\n",
       "      <td>Everyone is welcome to this free event that wi...</td>\n",
       "    </tr>\n",
       "    <tr>\n",
       "      <th>661</th>\n",
       "      <td>2018</td>\n",
       "      <td>163631.0</td>\n",
       "      <td>Spring Break Fun in the Park</td>\n",
       "      <td>&lt;p&gt;Central Astoria LDC is excited to bring you...</td>\n",
       "      <td>There will be face painting, crafts, canvas pa...</td>\n",
       "    </tr>\n",
       "  </tbody>\n",
       "</table>\n",
       "</div>"
      ],
      "text/plain": [
       "     year  event_id                                title  \\\n",
       "664  2017  147946.0  Astoria's Multicultural Celebration   \n",
       "669  2017  144777.0         Spring Break Fun in the Park   \n",
       "661  2018  163631.0         Spring Break Fun in the Park   \n",
       "\n",
       "                                           description  \\\n",
       "664  <p>Enjoy costumes, dance and music that repres...   \n",
       "669  <p>Everyone is welcome to this free event that...   \n",
       "661  <p>Central Astoria LDC is excited to bring you...   \n",
       "\n",
       "                                               snippet  \n",
       "664  The Central Astoria Local Development Coalitio...  \n",
       "669  Everyone is welcome to this free event that wi...  \n",
       "661  There will be face painting, crafts, canvas pa...  "
      ]
     },
     "execution_count": 89,
     "metadata": {},
     "output_type": "execute_result"
    }
   ],
   "source": [
    "t[~t.duplicated(['year','title'])][['year','event_id','title','description','snippet']].sort_values(['year','title'])\n",
    "#Sorts all data by uniquely titled events for each year."
   ]
  },
  {
   "cell_type": "code",
   "execution_count": 90,
   "metadata": {},
   "outputs": [
    {
     "data": {
      "text/html": [
       "<div>\n",
       "<style scoped>\n",
       "    .dataframe tbody tr th:only-of-type {\n",
       "        vertical-align: middle;\n",
       "    }\n",
       "\n",
       "    .dataframe tbody tr th {\n",
       "        vertical-align: top;\n",
       "    }\n",
       "\n",
       "    .dataframe thead th {\n",
       "        text-align: right;\n",
       "    }\n",
       "</style>\n",
       "<table border=\"1\" class=\"dataframe\">\n",
       "  <thead>\n",
       "    <tr style=\"text-align: right;\">\n",
       "      <th></th>\n",
       "      <th>title</th>\n",
       "      <th>2017</th>\n",
       "    </tr>\n",
       "  </thead>\n",
       "  <tbody>\n",
       "    <tr>\n",
       "      <th>0</th>\n",
       "      <td>Astoria's Multicultural Celebration</td>\n",
       "      <td>1.0</td>\n",
       "    </tr>\n",
       "    <tr>\n",
       "      <th>1</th>\n",
       "      <td>Spring Break Fun in the Park</td>\n",
       "      <td>1.0</td>\n",
       "    </tr>\n",
       "  </tbody>\n",
       "</table>\n",
       "</div>"
      ],
      "text/plain": [
       "                                 title  2017\n",
       "0  Astoria's Multicultural Celebration   1.0\n",
       "1         Spring Break Fun in the Park   1.0"
      ]
     },
     "execution_count": 90,
     "metadata": {},
     "output_type": "execute_result"
    }
   ],
   "source": [
    "y1= t[~t.duplicated('event_id')].groupby('year')['title'].value_counts().unstack().sort_values(yrrange[0],axis=1,ascending=False).iloc[0,0:3]\n",
    "y1= y1.reset_index()\n",
    "y1"
   ]
  },
  {
   "cell_type": "code",
   "execution_count": 91,
   "metadata": {},
   "outputs": [
    {
     "data": {
      "text/html": [
       "<div>\n",
       "<style scoped>\n",
       "    .dataframe tbody tr th:only-of-type {\n",
       "        vertical-align: middle;\n",
       "    }\n",
       "\n",
       "    .dataframe tbody tr th {\n",
       "        vertical-align: top;\n",
       "    }\n",
       "\n",
       "    .dataframe thead th {\n",
       "        text-align: right;\n",
       "    }\n",
       "</style>\n",
       "<table border=\"1\" class=\"dataframe\">\n",
       "  <thead>\n",
       "    <tr style=\"text-align: right;\">\n",
       "      <th></th>\n",
       "      <th>title</th>\n",
       "      <th>2018</th>\n",
       "    </tr>\n",
       "  </thead>\n",
       "  <tbody>\n",
       "    <tr>\n",
       "      <th>0</th>\n",
       "      <td>Spring Break Fun in the Park</td>\n",
       "      <td>1.0</td>\n",
       "    </tr>\n",
       "  </tbody>\n",
       "</table>\n",
       "</div>"
      ],
      "text/plain": [
       "                          title  2018\n",
       "0  Spring Break Fun in the Park   1.0"
      ]
     },
     "execution_count": 91,
     "metadata": {},
     "output_type": "execute_result"
    }
   ],
   "source": [
    "y2= t[~t.duplicated('event_id')].groupby('year')['title'].value_counts().unstack().sort_values(yrrange[-1],axis=1,ascending=False).iloc[-1,0:1]\n",
    "y2= y2.reset_index()\n",
    "y2"
   ]
  },
  {
   "cell_type": "markdown",
   "metadata": {},
   "source": [
    "Overall, programming at this park is minimal."
   ]
  },
  {
   "cell_type": "markdown",
   "metadata": {
    "variables": {
     "y1.iloc[0,0]": "&quot;Astoria&#39;s Multicultural Celebration&quot;",
     "y1.iloc[1,0]": "Spring Break Fun in the Park",
     "y2.iloc[0,0]": "Spring Break Fun in the Park",
     "yrrange[0]": "2017",
     "yrrange[1]": "2018"
    }
   },
   "source": [
    "Only two years of event data is listed: {{yrrange[0]}} and {{yrrange[1]}}. In {{yrrange[0]}}, the two events were {{y1.iloc[0,0]}} and {{y1.iloc[1,0]}}. In {{yrrange[1]}}, the only event was {{y2.iloc[0,0]}}."
   ]
  },
  {
   "cell_type": "code",
   "execution_count": 92,
   "metadata": {},
   "outputs": [
    {
     "data": {
      "text/html": [
       "<div>\n",
       "<style scoped>\n",
       "    .dataframe tbody tr th:only-of-type {\n",
       "        vertical-align: middle;\n",
       "    }\n",
       "\n",
       "    .dataframe tbody tr th {\n",
       "        vertical-align: top;\n",
       "    }\n",
       "\n",
       "    .dataframe thead th {\n",
       "        text-align: right;\n",
       "    }\n",
       "</style>\n",
       "<table border=\"1\" class=\"dataframe\">\n",
       "  <thead>\n",
       "    <tr style=\"text-align: right;\">\n",
       "      <th></th>\n",
       "      <th>index</th>\n",
       "      <th>event_organizer</th>\n",
       "    </tr>\n",
       "  </thead>\n",
       "  <tbody>\n",
       "    <tr>\n",
       "      <th>0</th>\n",
       "      <td>Central Astoria Local Development Coalition Inc.</td>\n",
       "      <td>2</td>\n",
       "    </tr>\n",
       "  </tbody>\n",
       "</table>\n",
       "</div>"
      ],
      "text/plain": [
       "                                              index  event_organizer\n",
       "0  Central Astoria Local Development Coalition Inc.                2"
      ]
     },
     "execution_count": 92,
     "metadata": {},
     "output_type": "execute_result"
    }
   ],
   "source": [
    "table= t[~t.duplicated('title')]['event_organizer'].value_counts().reset_index()\n",
    "table\n",
    "#Stakeholders by uniquely titled events organized"
   ]
  },
  {
   "cell_type": "code",
   "execution_count": 93,
   "metadata": {},
   "outputs": [
    {
     "data": {
      "text/html": [
       "<div>\n",
       "<style scoped>\n",
       "    .dataframe tbody tr th:only-of-type {\n",
       "        vertical-align: middle;\n",
       "    }\n",
       "\n",
       "    .dataframe tbody tr th {\n",
       "        vertical-align: top;\n",
       "    }\n",
       "\n",
       "    .dataframe thead th {\n",
       "        text-align: right;\n",
       "    }\n",
       "</style>\n",
       "<table border=\"1\" class=\"dataframe\">\n",
       "  <thead>\n",
       "    <tr style=\"text-align: right;\">\n",
       "      <th></th>\n",
       "      <th>index</th>\n",
       "      <th>event_organizer</th>\n",
       "    </tr>\n",
       "  </thead>\n",
       "  <tbody>\n",
       "    <tr>\n",
       "      <th>0</th>\n",
       "      <td>Central Astoria Local Development Coalition Inc.</td>\n",
       "      <td>3</td>\n",
       "    </tr>\n",
       "  </tbody>\n",
       "</table>\n",
       "</div>"
      ],
      "text/plain": [
       "                                              index  event_organizer\n",
       "0  Central Astoria Local Development Coalition Inc.                3"
      ]
     },
     "execution_count": 93,
     "metadata": {},
     "output_type": "execute_result"
    }
   ],
   "source": [
    "table2= t[~t.duplicated('event_id')]['event_organizer'].value_counts().reset_index()\n",
    "table2\n",
    "#Stakeholders by number of events organized"
   ]
  },
  {
   "cell_type": "markdown",
   "metadata": {
    "variables": {
     "table2.iloc[0,0]": "Central Astoria Local Development Coalition Inc."
    }
   },
   "source": [
    "The only organizer is a local organization: {{table2.iloc[0,0]}}."
   ]
  },
  {
   "cell_type": "markdown",
   "metadata": {},
   "source": [
    "### Analysis of local and nonlocal stakeholders"
   ]
  },
  {
   "cell_type": "code",
   "execution_count": 94,
   "metadata": {},
   "outputs": [],
   "source": [
    "nonloc= []\n",
    "name= lic[['SIGNNAME','ACRES']].iloc[5,0]\n",
    "acres= lic[['SIGNNAME','ACRES']].iloc[5,1] #based off of organizations that do not have Queens/LIC in their name or mission\n",
    "nonlocsh= table2.loc[nonloc,'event_organizer'].sum()/table2['event_organizer'].sum()\n",
    "nonlocsh= np.around(nonlocsh,decimals=2)\n",
    "locsh= np.around(1-nonlocsh,decimals=2)\n",
    "uniqorg= len(table2)"
   ]
  },
  {
   "cell_type": "markdown",
   "metadata": {
    "variables": {
     "locsh": "1.0",
     "nonlocsh": "0.0",
     "np.around(numev/uniqorg,decimals=2)": "3.0",
     "np.around(uniqev/uniqorg,decimals=2)": "2.0"
    }
   },
   "source": [
    "* The non-local stakeholder share is {{nonlocsh}}. // The local stakeholder share is {{locsh}}.\n",
    "* The number of uniquely titled events per stakeholder is {{np.around(uniqev/uniqorg,decimals=2)}}.\n",
    "* The number of total events per stakeholder is {{np.around(numev/uniqorg,decimals=2)}}.\n",
    "\n",
    "Note: stakeholder share is calculated using table2 (above): stakeholder share of all events organized, not uniquely titled events."
   ]
  },
  {
   "cell_type": "code",
   "execution_count": 95,
   "metadata": {},
   "outputs": [],
   "source": [
    "name= lic[['SIGNNAME','ACRES']].iloc[7,0]\n",
    "acres= lic[['SIGNNAME','ACRES']].iloc[7,1]"
   ]
  },
  {
   "cell_type": "markdown",
   "metadata": {
    "variables": {
     "name": "Spirit Playground"
    }
   },
   "source": [
    "## 8 {{name}}"
   ]
  },
  {
   "cell_type": "markdown",
   "metadata": {
    "variables": {
     "name": "Spirit Playground"
    }
   },
   "source": [
    "There is no record of permitted events at {{name}}."
   ]
  },
  {
   "cell_type": "code",
   "execution_count": 198,
   "metadata": {},
   "outputs": [],
   "source": [
    "name= lic[['SIGNNAME','ACRES']].iloc[8,0]\n",
    "acres= lic[['SIGNNAME','ACRES']].iloc[8,1]"
   ]
  },
  {
   "cell_type": "markdown",
   "metadata": {
    "variables": {
     "name": "Torsney Playground"
    }
   },
   "source": [
    "## 9 {{name}}"
   ]
  },
  {
   "cell_type": "code",
   "execution_count": 199,
   "metadata": {},
   "outputs": [],
   "source": [
    "t= lic_events[lic_events['GISPROPNUM']==lic.iloc[8,0]]\n",
    "t.loc[:,'date2']= pd.to_datetime(t['date'], format='%m/%d/%Y')\n",
    "t.loc[:,'year']= t.loc[:,'date2'].dt.year\n",
    "t= t[t['year']!=2019]\n",
    "numev= t[~t.duplicated('event_id')].shape[0] #Number of events by the unique event id.\n",
    "#Creates a temporary dataframe for all events located to the specific park."
   ]
  },
  {
   "cell_type": "code",
   "execution_count": 101,
   "metadata": {},
   "outputs": [],
   "source": [
    "avg= t[~t.duplicated('event_id')].groupby('year').agg({'event_id':'count'}).reset_index().sum()/6\n",
    "#Removes repeated event_ids, and computes the mean number of events.\n",
    "avg= np.around(avg,decimals=2)\n",
    "total= t[~t.duplicated('event_id')].groupby('year').agg({'event_id':'count'}).reset_index().sum()\n",
    "#Removes repeated event_ids, and computes the total number of events.\n",
    "avgtitle= t[~t.duplicated('event_id')].sort_values('year')\n",
    "#Sorts all events by the year\n",
    "avgtitleyr= avgtitle.groupby('year')['title'].value_counts().unstack().count(axis=1).sum()/6\n",
    "#Counts the number of uniquely titled events"
   ]
  },
  {
   "cell_type": "code",
   "execution_count": 102,
   "metadata": {},
   "outputs": [],
   "source": [
    "yrrange= t['year'].sort_values().unique().tolist()\n",
    "y= avgtitle.groupby('year')['title'].value_counts().unstack()\n",
    "y= y.transpose()\n",
    "duplev= y[y[yrrange]>1].count().reset_index()\n",
    "duplevavg= y[y[yrrange]>1].count().sum()/6\n",
    "duplev13= duplev.iloc[0,1]\n",
    "duplev18= duplev.iloc[-1,1]\n",
    "#Calculates the unique events that repeat (i.e. not how many events were there, but how many titles refer to repeating events)."
   ]
  },
  {
   "cell_type": "markdown",
   "metadata": {},
   "source": [
    "### Initial Summary"
   ]
  },
  {
   "cell_type": "markdown",
   "metadata": {
    "variables": {
     "acres": "2.027",
     "avg[1]": "1.67",
     "duplev18": "0",
     "name": "Torsney Playground",
     "np.around(avgtitleyr,decimals=2)": "1.5",
     "np.around(duplev13,decimals=2)": "0",
     "np.around(duplevavg,decimals=2)": "0.17",
     "total[1]": "10",
     "yrrange[-1]": "2018",
     "yrrange[0]": "2014"
    }
   },
   "source": [
    "This next park is {{name}}. {{name}} has {{acres}} acres. The number of events it hosts on average per year is {{avg[1]}} with a total of {{total[1]}} events over the past six years. On average per year it hosts {{np.around(avgtitleyr,decimals=2)}} uniquely titled events. Of these uniquely titled events, on average {{np.around(duplevavg,decimals=2)}} occurred more than once. \n",
    "\n",
    "\n",
    "To be specific, in {{yrrange[0]}} there were {{np.around(duplev13,decimals=2)}} uniquely titled repeating events and in {{yrrange[-1]}} there were {{duplev18}}."
   ]
  },
  {
   "cell_type": "markdown",
   "metadata": {
    "variables": {
     "np.around(avg[1]/acres,decimals=2)": "0.82",
     "np.around(avgtitleyr/acres,decimals=2)": "0.74",
     "np.around(numev/acres,decimals=2)": "4.93"
    }
   },
   "source": [
    "* The average number of uniquely titled events per year per acre is {{np.around(avgtitleyr/acres,decimals=2)}}.\n",
    "* The average number of events per year per acre is {{np.around(avg[1]/acres,decimals=2)}}.\n",
    "* The number of total events per acre is {{np.around(numev/acres,decimals=2)}}."
   ]
  },
  {
   "cell_type": "code",
   "execution_count": 103,
   "metadata": {},
   "outputs": [
    {
     "data": {
      "text/html": [
       "<div>\n",
       "<style scoped>\n",
       "    .dataframe tbody tr th:only-of-type {\n",
       "        vertical-align: middle;\n",
       "    }\n",
       "\n",
       "    .dataframe tbody tr th {\n",
       "        vertical-align: top;\n",
       "    }\n",
       "\n",
       "    .dataframe thead th {\n",
       "        text-align: right;\n",
       "    }\n",
       "</style>\n",
       "<table border=\"1\" class=\"dataframe\">\n",
       "  <thead>\n",
       "    <tr style=\"text-align: right;\">\n",
       "      <th></th>\n",
       "      <th>year</th>\n",
       "      <th>0</th>\n",
       "    </tr>\n",
       "  </thead>\n",
       "  <tbody>\n",
       "    <tr>\n",
       "      <th>0</th>\n",
       "      <td>2014</td>\n",
       "      <td>1</td>\n",
       "    </tr>\n",
       "    <tr>\n",
       "      <th>1</th>\n",
       "      <td>2015</td>\n",
       "      <td>2</td>\n",
       "    </tr>\n",
       "    <tr>\n",
       "      <th>2</th>\n",
       "      <td>2016</td>\n",
       "      <td>2</td>\n",
       "    </tr>\n",
       "    <tr>\n",
       "      <th>3</th>\n",
       "      <td>2017</td>\n",
       "      <td>3</td>\n",
       "    </tr>\n",
       "    <tr>\n",
       "      <th>4</th>\n",
       "      <td>2018</td>\n",
       "      <td>1</td>\n",
       "    </tr>\n",
       "  </tbody>\n",
       "</table>\n",
       "</div>"
      ],
      "text/plain": [
       "   year  0\n",
       "0  2014  1\n",
       "1  2015  2\n",
       "2  2016  2\n",
       "3  2017  3\n",
       "4  2018  1"
      ]
     },
     "execution_count": 103,
     "metadata": {},
     "output_type": "execute_result"
    }
   ],
   "source": [
    "avgtitle.groupby('year')['title'].value_counts().unstack().count(axis=1).reset_index()\n",
    "#Uniquely titled events by year"
   ]
  },
  {
   "cell_type": "code",
   "execution_count": 104,
   "metadata": {},
   "outputs": [
    {
     "data": {
      "text/html": [
       "<div>\n",
       "<style scoped>\n",
       "    .dataframe tbody tr th:only-of-type {\n",
       "        vertical-align: middle;\n",
       "    }\n",
       "\n",
       "    .dataframe tbody tr th {\n",
       "        vertical-align: top;\n",
       "    }\n",
       "\n",
       "    .dataframe thead th {\n",
       "        text-align: right;\n",
       "    }\n",
       "</style>\n",
       "<table border=\"1\" class=\"dataframe\">\n",
       "  <thead>\n",
       "    <tr style=\"text-align: right;\">\n",
       "      <th></th>\n",
       "      <th>year</th>\n",
       "      <th>event_id</th>\n",
       "    </tr>\n",
       "  </thead>\n",
       "  <tbody>\n",
       "    <tr>\n",
       "      <th>0</th>\n",
       "      <td>2014</td>\n",
       "      <td>1</td>\n",
       "    </tr>\n",
       "    <tr>\n",
       "      <th>1</th>\n",
       "      <td>2015</td>\n",
       "      <td>2</td>\n",
       "    </tr>\n",
       "    <tr>\n",
       "      <th>2</th>\n",
       "      <td>2016</td>\n",
       "      <td>2</td>\n",
       "    </tr>\n",
       "    <tr>\n",
       "      <th>3</th>\n",
       "      <td>2017</td>\n",
       "      <td>4</td>\n",
       "    </tr>\n",
       "    <tr>\n",
       "      <th>4</th>\n",
       "      <td>2018</td>\n",
       "      <td>1</td>\n",
       "    </tr>\n",
       "  </tbody>\n",
       "</table>\n",
       "</div>"
      ],
      "text/plain": [
       "   year  event_id\n",
       "0  2014         1\n",
       "1  2015         2\n",
       "2  2016         2\n",
       "3  2017         4\n",
       "4  2018         1"
      ]
     },
     "execution_count": 104,
     "metadata": {},
     "output_type": "execute_result"
    }
   ],
   "source": [
    "t[~t.duplicated('event_id')].groupby('year').agg({'event_id':'count'}).reset_index()\n",
    "#Total events by year"
   ]
  },
  {
   "cell_type": "code",
   "execution_count": 105,
   "metadata": {},
   "outputs": [
    {
     "data": {
      "text/html": [
       "<div>\n",
       "<style scoped>\n",
       "    .dataframe tbody tr th:only-of-type {\n",
       "        vertical-align: middle;\n",
       "    }\n",
       "\n",
       "    .dataframe tbody tr th {\n",
       "        vertical-align: top;\n",
       "    }\n",
       "\n",
       "    .dataframe thead th {\n",
       "        text-align: right;\n",
       "    }\n",
       "</style>\n",
       "<table border=\"1\" class=\"dataframe\">\n",
       "  <thead>\n",
       "    <tr style=\"text-align: right;\">\n",
       "      <th></th>\n",
       "      <th>year</th>\n",
       "      <th>0</th>\n",
       "    </tr>\n",
       "  </thead>\n",
       "  <tbody>\n",
       "    <tr>\n",
       "      <th>0</th>\n",
       "      <td>2014</td>\n",
       "      <td>0</td>\n",
       "    </tr>\n",
       "    <tr>\n",
       "      <th>1</th>\n",
       "      <td>2015</td>\n",
       "      <td>0</td>\n",
       "    </tr>\n",
       "    <tr>\n",
       "      <th>2</th>\n",
       "      <td>2016</td>\n",
       "      <td>0</td>\n",
       "    </tr>\n",
       "    <tr>\n",
       "      <th>3</th>\n",
       "      <td>2017</td>\n",
       "      <td>1</td>\n",
       "    </tr>\n",
       "    <tr>\n",
       "      <th>4</th>\n",
       "      <td>2018</td>\n",
       "      <td>0</td>\n",
       "    </tr>\n",
       "  </tbody>\n",
       "</table>\n",
       "</div>"
      ],
      "text/plain": [
       "   year  0\n",
       "0  2014  0\n",
       "1  2015  0\n",
       "2  2016  0\n",
       "3  2017  1\n",
       "4  2018  0"
      ]
     },
     "execution_count": 105,
     "metadata": {},
     "output_type": "execute_result"
    }
   ],
   "source": [
    "duplev\n",
    "#Events that Repeat"
   ]
  },
  {
   "cell_type": "code",
   "execution_count": 106,
   "metadata": {},
   "outputs": [
    {
     "data": {
      "text/plain": [
       "9"
      ]
     },
     "execution_count": 106,
     "metadata": {},
     "output_type": "execute_result"
    }
   ],
   "source": [
    "uniqev= t[~t.duplicated('title')].shape[0]\n",
    "uniqev\n",
    "#The total number of uniquely titled events"
   ]
  },
  {
   "cell_type": "code",
   "execution_count": 107,
   "metadata": {},
   "outputs": [
    {
     "data": {
      "text/html": [
       "<div>\n",
       "<style scoped>\n",
       "    .dataframe tbody tr th:only-of-type {\n",
       "        vertical-align: middle;\n",
       "    }\n",
       "\n",
       "    .dataframe tbody tr th {\n",
       "        vertical-align: top;\n",
       "    }\n",
       "\n",
       "    .dataframe thead th {\n",
       "        text-align: right;\n",
       "    }\n",
       "</style>\n",
       "<table border=\"1\" class=\"dataframe\">\n",
       "  <thead>\n",
       "    <tr style=\"text-align: right;\">\n",
       "      <th></th>\n",
       "      <th>index</th>\n",
       "      <th>category</th>\n",
       "    </tr>\n",
       "  </thead>\n",
       "  <tbody>\n",
       "    <tr>\n",
       "      <th>0</th>\n",
       "      <td>Best for Kids</td>\n",
       "      <td>7</td>\n",
       "    </tr>\n",
       "    <tr>\n",
       "      <th>1</th>\n",
       "      <td>Halloween</td>\n",
       "      <td>6</td>\n",
       "    </tr>\n",
       "    <tr>\n",
       "      <th>2</th>\n",
       "      <td>Free Summer Movies</td>\n",
       "      <td>3</td>\n",
       "    </tr>\n",
       "    <tr>\n",
       "      <th>3</th>\n",
       "      <td>Film</td>\n",
       "      <td>3</td>\n",
       "    </tr>\n",
       "    <tr>\n",
       "      <th>4</th>\n",
       "      <td>Movies Under the Stars</td>\n",
       "      <td>3</td>\n",
       "    </tr>\n",
       "    <tr>\n",
       "      <th>5</th>\n",
       "      <td>Nature</td>\n",
       "      <td>3</td>\n",
       "    </tr>\n",
       "    <tr>\n",
       "      <th>6</th>\n",
       "      <td>Sports</td>\n",
       "      <td>2</td>\n",
       "    </tr>\n",
       "    <tr>\n",
       "      <th>7</th>\n",
       "      <td>Games</td>\n",
       "      <td>2</td>\n",
       "    </tr>\n",
       "    <tr>\n",
       "      <th>8</th>\n",
       "      <td>Education</td>\n",
       "      <td>2</td>\n",
       "    </tr>\n",
       "    <tr>\n",
       "      <th>9</th>\n",
       "      <td>Arts &amp; Crafts</td>\n",
       "      <td>1</td>\n",
       "    </tr>\n",
       "  </tbody>\n",
       "</table>\n",
       "</div>"
      ],
      "text/plain": [
       "                    index  category\n",
       "0           Best for Kids         7\n",
       "1               Halloween         6\n",
       "2      Free Summer Movies         3\n",
       "3                    Film         3\n",
       "4  Movies Under the Stars         3\n",
       "5                  Nature         3\n",
       "6                  Sports         2\n",
       "7                   Games         2\n",
       "8               Education         2\n",
       "9           Arts & Crafts         1"
      ]
     },
     "execution_count": 107,
     "metadata": {},
     "output_type": "execute_result"
    }
   ],
   "source": [
    "table= t['category'].value_counts().reset_index()\n",
    "uniqcat= table.shape[0]\n",
    "table.head(10)\n",
    "#Most used event categories"
   ]
  },
  {
   "cell_type": "markdown",
   "metadata": {},
   "source": [
    "* Top ten categories used to describe events (above)\n",
    "* Bar chart of all categories used to describe events (below)"
   ]
  },
  {
   "cell_type": "code",
   "execution_count": 108,
   "metadata": {
    "scrolled": true
   },
   "outputs": [
    {
     "data": {
      "image/png": "[encoded data removed]",
      "text/plain": [
       "<Figure size 720x576 with 1 Axes>"
      ]
     },
     "metadata": {
      "needs_background": "light"
     },
     "output_type": "display_data"
    }
   ],
   "source": [
    "fig, ax = plt.subplots(figsize=(10,8))\n",
    "bars= table['index']\n",
    "ypos= range(0,len(bars))\n",
    "ax.bar(ypos,table['category'])\n",
    "plt.tick_params(labelbottom=False)\n",
    "plt.title('Categories Used in Describing Events')\n",
    "plt.show()"
   ]
  },
  {
   "cell_type": "markdown",
   "metadata": {
    "variables": {
     "table.iloc[0,0]": "Best for Kids",
     "table.iloc[1,0]": "Halloween",
     "uniqcat": "10",
     "uniqev": "9"
    }
   },
   "source": [
    "By title, there are {{uniqev}} uniquely titled events held in the park for all years included in the data. Of these events, there are {{uniqcat}} unique categories used to describe them. All events are categorized as both {{table.iloc[0,0]}} and {{table.iloc[1,0]}}."
   ]
  },
  {
   "cell_type": "markdown",
   "metadata": {},
   "source": [
    "### Analysis of event content\n",
    "* Types of events in the first and last year\n",
    "* Overall: types of events"
   ]
  },
  {
   "cell_type": "code",
   "execution_count": 109,
   "metadata": {},
   "outputs": [
    {
     "data": {
      "text/html": [
       "<div>\n",
       "<style scoped>\n",
       "    .dataframe tbody tr th:only-of-type {\n",
       "        vertical-align: middle;\n",
       "    }\n",
       "\n",
       "    .dataframe tbody tr th {\n",
       "        vertical-align: top;\n",
       "    }\n",
       "\n",
       "    .dataframe thead th {\n",
       "        text-align: right;\n",
       "    }\n",
       "</style>\n",
       "<table border=\"1\" class=\"dataframe\">\n",
       "  <thead>\n",
       "    <tr style=\"text-align: right;\">\n",
       "      <th></th>\n",
       "      <th>year</th>\n",
       "      <th>event_id</th>\n",
       "      <th>title</th>\n",
       "      <th>description</th>\n",
       "      <th>snippet</th>\n",
       "    </tr>\n",
       "  </thead>\n",
       "  <tbody>\n",
       "    <tr>\n",
       "      <th>520</th>\n",
       "      <td>2014</td>\n",
       "      <td>101549.0</td>\n",
       "      <td>Pumpkin Smash 2014</td>\n",
       "      <td>&lt;p&gt;Bring your&amp;nbsp;fall pumpkins, jack-o-lante...</td>\n",
       "      <td>You smash them and we'll compost them locally.</td>\n",
       "    </tr>\n",
       "    <tr>\n",
       "      <th>507</th>\n",
       "      <td>2015</td>\n",
       "      <td>121016.0</td>\n",
       "      <td>NYC Compost Project: Pumpkin Smash 2015</td>\n",
       "      <td>&lt;p&gt;You smash them&amp;nbsp;and NYC Compost Project...</td>\n",
       "      <td>Bring Pumpkins, Jack-o-Lanterns, and Gourds fo...</td>\n",
       "    </tr>\n",
       "    <tr>\n",
       "      <th>490</th>\n",
       "      <td>2015</td>\n",
       "      <td>116425.0</td>\n",
       "      <td>Sports &amp; Fitness Day at Torsney Playground</td>\n",
       "      <td>&lt;p&gt;Come join us for a day of sports activities...</td>\n",
       "      <td>Come join us for a day of sports activities su...</td>\n",
       "    </tr>\n",
       "    <tr>\n",
       "      <th>515</th>\n",
       "      <td>2016</td>\n",
       "      <td>134208.0</td>\n",
       "      <td>All About Volleyball</td>\n",
       "      <td>&lt;p&gt;Join&amp;nbsp;us for an afternoon of soccer!&amp;nb...</td>\n",
       "      <td>Join us for an afternoon of soccer! Activities...</td>\n",
       "    </tr>\n",
       "    <tr>\n",
       "      <th>494</th>\n",
       "      <td>2016</td>\n",
       "      <td>130320.0</td>\n",
       "      <td>Movies Under the Stars: Bolt</td>\n",
       "      <td>&lt;p&gt;Join NYC Parks and the New York City Mayor&amp;...</td>\n",
       "      <td>Join NYC Parks and the New York City Mayor's O...</td>\n",
       "    </tr>\n",
       "    <tr>\n",
       "      <th>517</th>\n",
       "      <td>2017</td>\n",
       "      <td>151500.0</td>\n",
       "      <td>Movies Under the Stars: Beauty and the Beast</td>\n",
       "      <td>&lt;p&gt;Join NYC Parks&amp;nbsp;and the New York City M...</td>\n",
       "      <td>Disney’s Beauty and the Beast is a live-action...</td>\n",
       "    </tr>\n",
       "    <tr>\n",
       "      <th>513</th>\n",
       "      <td>2017</td>\n",
       "      <td>156767.0</td>\n",
       "      <td>Pumpkin Smash 2017</td>\n",
       "      <td>&lt;p&gt;Bring your pumpkins, jack-o-lanterns and go...</td>\n",
       "      <td>Bring your pumpkins, jack-o-lanterns and gourd...</td>\n",
       "    </tr>\n",
       "    <tr>\n",
       "      <th>492</th>\n",
       "      <td>2017</td>\n",
       "      <td>152640.0</td>\n",
       "      <td>Water Olympics</td>\n",
       "      <td>&lt;p&gt;Join NYC Parks for a day of water-themed ac...</td>\n",
       "      <td>Join NYC Parks for a day of water-themed activ...</td>\n",
       "    </tr>\n",
       "    <tr>\n",
       "      <th>505</th>\n",
       "      <td>2018</td>\n",
       "      <td>179169.0</td>\n",
       "      <td>Pumpkin Smash 2018</td>\n",
       "      <td>&lt;p&gt;Bring your pumpkins, jack-o-lanterns, and g...</td>\n",
       "      <td>Bring your pumpkins, jack-o-lanterns, and gour...</td>\n",
       "    </tr>\n",
       "  </tbody>\n",
       "</table>\n",
       "</div>"
      ],
      "text/plain": [
       "     year  event_id                                         title  \\\n",
       "520  2014  101549.0                            Pumpkin Smash 2014   \n",
       "507  2015  121016.0       NYC Compost Project: Pumpkin Smash 2015   \n",
       "490  2015  116425.0    Sports & Fitness Day at Torsney Playground   \n",
       "515  2016  134208.0                          All About Volleyball   \n",
       "494  2016  130320.0                  Movies Under the Stars: Bolt   \n",
       "517  2017  151500.0  Movies Under the Stars: Beauty and the Beast   \n",
       "513  2017  156767.0                            Pumpkin Smash 2017   \n",
       "492  2017  152640.0                                Water Olympics   \n",
       "505  2018  179169.0                            Pumpkin Smash 2018   \n",
       "\n",
       "                                           description  \\\n",
       "520  <p>Bring your&nbsp;fall pumpkins, jack-o-lante...   \n",
       "507  <p>You smash them&nbsp;and NYC Compost Project...   \n",
       "490  <p>Come join us for a day of sports activities...   \n",
       "515  <p>Join&nbsp;us for an afternoon of soccer!&nb...   \n",
       "494  <p>Join NYC Parks and the New York City Mayor&...   \n",
       "517  <p>Join NYC Parks&nbsp;and the New York City M...   \n",
       "513  <p>Bring your pumpkins, jack-o-lanterns and go...   \n",
       "492  <p>Join NYC Parks for a day of water-themed ac...   \n",
       "505  <p>Bring your pumpkins, jack-o-lanterns, and g...   \n",
       "\n",
       "                                               snippet  \n",
       "520     You smash them and we'll compost them locally.  \n",
       "507  Bring Pumpkins, Jack-o-Lanterns, and Gourds fo...  \n",
       "490  Come join us for a day of sports activities su...  \n",
       "515  Join us for an afternoon of soccer! Activities...  \n",
       "494  Join NYC Parks and the New York City Mayor's O...  \n",
       "517  Disney’s Beauty and the Beast is a live-action...  \n",
       "513  Bring your pumpkins, jack-o-lanterns and gourd...  \n",
       "492  Join NYC Parks for a day of water-themed activ...  \n",
       "505  Bring your pumpkins, jack-o-lanterns, and gour...  "
      ]
     },
     "execution_count": 109,
     "metadata": {},
     "output_type": "execute_result"
    }
   ],
   "source": [
    "t[~t.duplicated(['year','title'])][['year','event_id','title','description','snippet']].sort_values(['year','title'])\n",
    "#Sorts all data by uniquely titled events for each year."
   ]
  },
  {
   "cell_type": "code",
   "execution_count": 110,
   "metadata": {},
   "outputs": [
    {
     "data": {
      "text/html": [
       "<div>\n",
       "<style scoped>\n",
       "    .dataframe tbody tr th:only-of-type {\n",
       "        vertical-align: middle;\n",
       "    }\n",
       "\n",
       "    .dataframe tbody tr th {\n",
       "        vertical-align: top;\n",
       "    }\n",
       "\n",
       "    .dataframe thead th {\n",
       "        text-align: right;\n",
       "    }\n",
       "</style>\n",
       "<table border=\"1\" class=\"dataframe\">\n",
       "  <thead>\n",
       "    <tr style=\"text-align: right;\">\n",
       "      <th></th>\n",
       "      <th>title</th>\n",
       "      <th>2014</th>\n",
       "    </tr>\n",
       "  </thead>\n",
       "  <tbody>\n",
       "    <tr>\n",
       "      <th>0</th>\n",
       "      <td>Pumpkin Smash 2014</td>\n",
       "      <td>1.0</td>\n",
       "    </tr>\n",
       "  </tbody>\n",
       "</table>\n",
       "</div>"
      ],
      "text/plain": [
       "                title  2014\n",
       "0  Pumpkin Smash 2014   1.0"
      ]
     },
     "execution_count": 110,
     "metadata": {},
     "output_type": "execute_result"
    }
   ],
   "source": [
    "y1= t[~t.duplicated('event_id')].groupby('year')['title'].value_counts().unstack().sort_values(yrrange[0],axis=1,ascending=False).iloc[0,0:1]\n",
    "y1= y1.reset_index()\n",
    "y1"
   ]
  },
  {
   "cell_type": "code",
   "execution_count": 111,
   "metadata": {},
   "outputs": [
    {
     "data": {
      "text/html": [
       "<div>\n",
       "<style scoped>\n",
       "    .dataframe tbody tr th:only-of-type {\n",
       "        vertical-align: middle;\n",
       "    }\n",
       "\n",
       "    .dataframe tbody tr th {\n",
       "        vertical-align: top;\n",
       "    }\n",
       "\n",
       "    .dataframe thead th {\n",
       "        text-align: right;\n",
       "    }\n",
       "</style>\n",
       "<table border=\"1\" class=\"dataframe\">\n",
       "  <thead>\n",
       "    <tr style=\"text-align: right;\">\n",
       "      <th></th>\n",
       "      <th>title</th>\n",
       "      <th>2018</th>\n",
       "    </tr>\n",
       "  </thead>\n",
       "  <tbody>\n",
       "    <tr>\n",
       "      <th>0</th>\n",
       "      <td>Pumpkin Smash 2018</td>\n",
       "      <td>1.0</td>\n",
       "    </tr>\n",
       "  </tbody>\n",
       "</table>\n",
       "</div>"
      ],
      "text/plain": [
       "                title  2018\n",
       "0  Pumpkin Smash 2018   1.0"
      ]
     },
     "execution_count": 111,
     "metadata": {},
     "output_type": "execute_result"
    }
   ],
   "source": [
    "y2= t[~t.duplicated('event_id')].groupby('year')['title'].value_counts().unstack().sort_values(yrrange[-1],axis=1,ascending=False).iloc[-1,0:1]\n",
    "y2= y2.reset_index()\n",
    "y2"
   ]
  },
  {
   "cell_type": "markdown",
   "metadata": {},
   "source": [
    "Overall, programming at this park is minimal for the first and last years. However, in 2016 and 2017 there are more varied events: Water Olympics, Movies Under the Stars, and a Sports & Fitness Day for example."
   ]
  },
  {
   "cell_type": "markdown",
   "metadata": {
    "variables": {
     "y1.iloc[0,0]": "Pumpkin Smash 2014",
     "y2.iloc[0,0]": "Pumpkin Smash 2018",
     "yrrange[0]": "2014",
     "yrrange[1]": "2015"
    }
   },
   "source": [
    "In both {{yrrange[0]}} and {{yrrange[1]}}, the events were similar: {{y1.iloc[0,0]}} and {{y2.iloc[0,0]}}."
   ]
  },
  {
   "cell_type": "code",
   "execution_count": 112,
   "metadata": {},
   "outputs": [
    {
     "data": {
      "text/html": [
       "<div>\n",
       "<style scoped>\n",
       "    .dataframe tbody tr th:only-of-type {\n",
       "        vertical-align: middle;\n",
       "    }\n",
       "\n",
       "    .dataframe tbody tr th {\n",
       "        vertical-align: top;\n",
       "    }\n",
       "\n",
       "    .dataframe thead th {\n",
       "        text-align: right;\n",
       "    }\n",
       "</style>\n",
       "<table border=\"1\" class=\"dataframe\">\n",
       "  <thead>\n",
       "    <tr style=\"text-align: right;\">\n",
       "      <th></th>\n",
       "      <th>index</th>\n",
       "      <th>event_organizer</th>\n",
       "    </tr>\n",
       "  </thead>\n",
       "  <tbody>\n",
       "    <tr>\n",
       "      <th>0</th>\n",
       "      <td>NYC Parks: Queens Recreation</td>\n",
       "      <td>4</td>\n",
       "    </tr>\n",
       "    <tr>\n",
       "      <th>1</th>\n",
       "      <td>NYC Zero Waste</td>\n",
       "      <td>1</td>\n",
       "    </tr>\n",
       "    <tr>\n",
       "      <th>2</th>\n",
       "      <td>NYC Compost Project, funded by NYC Sanitation</td>\n",
       "      <td>1</td>\n",
       "    </tr>\n",
       "    <tr>\n",
       "      <th>3</th>\n",
       "      <td>Queens Recreation</td>\n",
       "      <td>1</td>\n",
       "    </tr>\n",
       "    <tr>\n",
       "      <th>4</th>\n",
       "      <td>Queens Botanical Garden</td>\n",
       "      <td>1</td>\n",
       "    </tr>\n",
       "  </tbody>\n",
       "</table>\n",
       "</div>"
      ],
      "text/plain": [
       "                                           index  event_organizer\n",
       "0                   NYC Parks: Queens Recreation                4\n",
       "1                                 NYC Zero Waste                1\n",
       "2  NYC Compost Project, funded by NYC Sanitation                1\n",
       "3                              Queens Recreation                1\n",
       "4                        Queens Botanical Garden                1"
      ]
     },
     "execution_count": 112,
     "metadata": {},
     "output_type": "execute_result"
    }
   ],
   "source": [
    "table= t[~t.duplicated('title')]['event_organizer'].value_counts().reset_index()\n",
    "table\n",
    "#Stakeholders by uniquely titled events organized"
   ]
  },
  {
   "cell_type": "code",
   "execution_count": 113,
   "metadata": {},
   "outputs": [
    {
     "data": {
      "text/html": [
       "<div>\n",
       "<style scoped>\n",
       "    .dataframe tbody tr th:only-of-type {\n",
       "        vertical-align: middle;\n",
       "    }\n",
       "\n",
       "    .dataframe tbody tr th {\n",
       "        vertical-align: top;\n",
       "    }\n",
       "\n",
       "    .dataframe thead th {\n",
       "        text-align: right;\n",
       "    }\n",
       "</style>\n",
       "<table border=\"1\" class=\"dataframe\">\n",
       "  <thead>\n",
       "    <tr style=\"text-align: right;\">\n",
       "      <th></th>\n",
       "      <th>index</th>\n",
       "      <th>event_organizer</th>\n",
       "    </tr>\n",
       "  </thead>\n",
       "  <tbody>\n",
       "    <tr>\n",
       "      <th>0</th>\n",
       "      <td>NYC Parks: Queens Recreation</td>\n",
       "      <td>5</td>\n",
       "    </tr>\n",
       "    <tr>\n",
       "      <th>1</th>\n",
       "      <td>NYC Zero Waste</td>\n",
       "      <td>1</td>\n",
       "    </tr>\n",
       "    <tr>\n",
       "      <th>2</th>\n",
       "      <td>NYC Compost Project, funded by NYC Sanitation</td>\n",
       "      <td>1</td>\n",
       "    </tr>\n",
       "    <tr>\n",
       "      <th>3</th>\n",
       "      <td>Queens Recreation</td>\n",
       "      <td>1</td>\n",
       "    </tr>\n",
       "    <tr>\n",
       "      <th>4</th>\n",
       "      <td>Queens Botanical Garden</td>\n",
       "      <td>1</td>\n",
       "    </tr>\n",
       "  </tbody>\n",
       "</table>\n",
       "</div>"
      ],
      "text/plain": [
       "                                           index  event_organizer\n",
       "0                   NYC Parks: Queens Recreation                5\n",
       "1                                 NYC Zero Waste                1\n",
       "2  NYC Compost Project, funded by NYC Sanitation                1\n",
       "3                              Queens Recreation                1\n",
       "4                        Queens Botanical Garden                1"
      ]
     },
     "execution_count": 113,
     "metadata": {},
     "output_type": "execute_result"
    }
   ],
   "source": [
    "table2= t[~t.duplicated('event_id')]['event_organizer'].value_counts().reset_index()\n",
    "table2\n",
    "#Stakeholders by number of events organized"
   ]
  },
  {
   "cell_type": "markdown",
   "metadata": {
    "variables": {
     "table2.iloc[0,0]": "NYC Parks: Queens Recreation",
     "table2.iloc[1,0]": "NYC Zero Waste"
    }
   },
   "source": [
    "The top organizers appear to be local: {{table2.iloc[0,0]}} and {{table2.iloc[1,0]}}."
   ]
  },
  {
   "cell_type": "markdown",
   "metadata": {},
   "source": [
    "### Analysis of local and nonlocal stakeholders"
   ]
  },
  {
   "cell_type": "code",
   "execution_count": 114,
   "metadata": {},
   "outputs": [],
   "source": [
    "nonloc= [3,4]\n",
    "name= lic[['SIGNNAME','ACRES']].iloc[5,0]\n",
    "acres= lic[['SIGNNAME','ACRES']].iloc[5,1] #based off of organizations that do not have Queens/LIC in their name or mission\n",
    "nonlocsh= table2.loc[nonloc,'event_organizer'].sum()/table2['event_organizer'].sum()\n",
    "nonlocsh= np.around(nonlocsh,decimals=2)\n",
    "locsh= np.around(1-nonlocsh,decimals=2)\n",
    "uniqorg= len(table2)"
   ]
  },
  {
   "cell_type": "markdown",
   "metadata": {
    "variables": {
     "locsh": "0.78",
     "nonlocsh": "0.22",
     "np.around(numev/uniqorg,decimals=2)": "2.0",
     "np.around(uniqev/uniqorg,decimals=2)": "1.8"
    }
   },
   "source": [
    "* The non-local stakeholder share is {{nonlocsh}}. // The local stakeholder share is {{locsh}}.\n",
    "* The number of uniquely titled events per stakeholder is {{np.around(uniqev/uniqorg,decimals=2)}}.\n",
    "* The number of total events per stakeholder is {{np.around(numev/uniqorg,decimals=2)}}.\n",
    "\n",
    "Note: stakeholder share is calculated using table2 (above): stakeholder share of all events organized, not uniquely titled events."
   ]
  },
  {
   "cell_type": "code",
   "execution_count": 200,
   "metadata": {},
   "outputs": [],
   "source": [
    "name= lic[['SIGNNAME','ACRES']].iloc[9,0]\n",
    "acres= lic[['SIGNNAME','ACRES']].iloc[9,1]"
   ]
  },
  {
   "cell_type": "markdown",
   "metadata": {
    "variables": {
     "name": "Murray Playground"
    }
   },
   "source": [
    "## 10 {{name}}"
   ]
  },
  {
   "cell_type": "code",
   "execution_count": 201,
   "metadata": {},
   "outputs": [],
   "source": [
    "t= lic_events.loc[lic_events['GISPROPNUM']==lic.iloc[9,0]]\n",
    "t.loc[:,'date2']= pd.to_datetime(t['date'], format='%m/%d/%Y')\n",
    "t.loc[:,'year']= t.loc[:,'date2'].dt.year\n",
    "t= t[t['year']!=2019]\n",
    "numev= t[~t.duplicated('event_id')].shape[0] #Number of events by the unique event id.\n",
    "#Creates a temporary dataframe for all events located to the specific park."
   ]
  },
  {
   "cell_type": "code",
   "execution_count": 118,
   "metadata": {},
   "outputs": [],
   "source": [
    "avg= t[~t.duplicated('event_id')].groupby('year').agg({'event_id':'count'}).reset_index().sum()/6\n",
    "#Removes repeated event_ids, and computes the mean number of events.\n",
    "avg= np.around(avg,decimals=2)\n",
    "total= t[~t.duplicated('event_id')].groupby('year').agg({'event_id':'count'}).reset_index().sum()\n",
    "#Removes repeated event_ids, and computes the total number of events.\n",
    "avgtitle= t[~t.duplicated('event_id')].sort_values('year')\n",
    "#Sorts all events by the year\n",
    "avgtitleyr= avgtitle.groupby('year')['title'].value_counts().unstack().count(axis=1).sum()/6\n",
    "#Counts the number of uniquely titled events"
   ]
  },
  {
   "cell_type": "code",
   "execution_count": 119,
   "metadata": {},
   "outputs": [],
   "source": [
    "yrrange= t['year'].sort_values().unique().tolist()\n",
    "y= avgtitle.groupby('year')['title'].value_counts().unstack()\n",
    "y= y.transpose()\n",
    "duplev= y[y[yrrange]>1].count().reset_index()\n",
    "duplevavg= y[y[yrrange]>1].count().sum()/6\n",
    "duplev13= duplev.iloc[0,1]\n",
    "duplev18= duplev.iloc[-1,1]\n",
    "#Calculates the unique events that repeat (i.e. not how many events were there, but how many titles refer to repeating events)."
   ]
  },
  {
   "cell_type": "markdown",
   "metadata": {},
   "source": [
    "### Initial Summary"
   ]
  },
  {
   "cell_type": "markdown",
   "metadata": {
    "variables": {
     "acres": "2.524",
     "avg[1]": "0.67",
     "duplev18": "1",
     "name": "Murray Playground",
     "np.around(avgtitleyr,decimals=2)": "0.5",
     "np.around(duplev13,decimals=2)": "0",
     "np.around(duplevavg,decimals=2)": "0.17",
     "total[1]": "4",
     "yrrange[-1]": "2017",
     "yrrange[0]": "2013"
    }
   },
   "source": [
    "This next park is {{name}}. {{name}} has {{acres}} acres. The number of events it hosts on average per year is {{avg[1]}} with a total of {{total[1]}} events over the past six years. On average per year it hosts {{np.around(avgtitleyr,decimals=2)}} uniquely titled events. Of these uniquely titled events, on average {{np.around(duplevavg,decimals=2)}} occurred more than once. \n",
    "\n",
    "\n",
    "To be specific, in {{yrrange[0]}} there were {{np.around(duplev13,decimals=2)}} uniquely titled repeating events and in {{yrrange[-1]}} there was {{duplev18}}."
   ]
  },
  {
   "cell_type": "markdown",
   "metadata": {
    "variables": {
     "np.around(avg[1]/acres,decimals=2)": "0.27",
     "np.around(avgtitleyr/acres,decimals=2)": "0.2",
     "np.around(numev/acres,decimals=2)": "1.58"
    }
   },
   "source": [
    "* The average number of uniquely titled events per year per acre is {{np.around(avgtitleyr/acres,decimals=2)}}.\n",
    "* The average number of events per year per acre is {{np.around(avg[1]/acres,decimals=2)}}.\n",
    "* The number of total events per acre is {{np.around(numev/acres,decimals=2)}}."
   ]
  },
  {
   "cell_type": "code",
   "execution_count": 120,
   "metadata": {},
   "outputs": [
    {
     "data": {
      "text/html": [
       "<div>\n",
       "<style scoped>\n",
       "    .dataframe tbody tr th:only-of-type {\n",
       "        vertical-align: middle;\n",
       "    }\n",
       "\n",
       "    .dataframe tbody tr th {\n",
       "        vertical-align: top;\n",
       "    }\n",
       "\n",
       "    .dataframe thead th {\n",
       "        text-align: right;\n",
       "    }\n",
       "</style>\n",
       "<table border=\"1\" class=\"dataframe\">\n",
       "  <thead>\n",
       "    <tr style=\"text-align: right;\">\n",
       "      <th></th>\n",
       "      <th>year</th>\n",
       "      <th>0</th>\n",
       "    </tr>\n",
       "  </thead>\n",
       "  <tbody>\n",
       "    <tr>\n",
       "      <th>0</th>\n",
       "      <td>2013</td>\n",
       "      <td>1</td>\n",
       "    </tr>\n",
       "    <tr>\n",
       "      <th>1</th>\n",
       "      <td>2017</td>\n",
       "      <td>2</td>\n",
       "    </tr>\n",
       "  </tbody>\n",
       "</table>\n",
       "</div>"
      ],
      "text/plain": [
       "   year  0\n",
       "0  2013  1\n",
       "1  2017  2"
      ]
     },
     "execution_count": 120,
     "metadata": {},
     "output_type": "execute_result"
    }
   ],
   "source": [
    "avgtitle.groupby('year')['title'].value_counts().unstack().count(axis=1).reset_index()\n",
    "#Uniquely titled events by year"
   ]
  },
  {
   "cell_type": "code",
   "execution_count": 121,
   "metadata": {},
   "outputs": [
    {
     "data": {
      "text/html": [
       "<div>\n",
       "<style scoped>\n",
       "    .dataframe tbody tr th:only-of-type {\n",
       "        vertical-align: middle;\n",
       "    }\n",
       "\n",
       "    .dataframe tbody tr th {\n",
       "        vertical-align: top;\n",
       "    }\n",
       "\n",
       "    .dataframe thead th {\n",
       "        text-align: right;\n",
       "    }\n",
       "</style>\n",
       "<table border=\"1\" class=\"dataframe\">\n",
       "  <thead>\n",
       "    <tr style=\"text-align: right;\">\n",
       "      <th></th>\n",
       "      <th>year</th>\n",
       "      <th>event_id</th>\n",
       "    </tr>\n",
       "  </thead>\n",
       "  <tbody>\n",
       "    <tr>\n",
       "      <th>0</th>\n",
       "      <td>2013</td>\n",
       "      <td>1</td>\n",
       "    </tr>\n",
       "    <tr>\n",
       "      <th>1</th>\n",
       "      <td>2017</td>\n",
       "      <td>3</td>\n",
       "    </tr>\n",
       "  </tbody>\n",
       "</table>\n",
       "</div>"
      ],
      "text/plain": [
       "   year  event_id\n",
       "0  2013         1\n",
       "1  2017         3"
      ]
     },
     "execution_count": 121,
     "metadata": {},
     "output_type": "execute_result"
    }
   ],
   "source": [
    "t[~t.duplicated('event_id')].groupby('year').agg({'event_id':'count'}).reset_index()\n",
    "#Total events by year"
   ]
  },
  {
   "cell_type": "code",
   "execution_count": 122,
   "metadata": {},
   "outputs": [
    {
     "data": {
      "text/html": [
       "<div>\n",
       "<style scoped>\n",
       "    .dataframe tbody tr th:only-of-type {\n",
       "        vertical-align: middle;\n",
       "    }\n",
       "\n",
       "    .dataframe tbody tr th {\n",
       "        vertical-align: top;\n",
       "    }\n",
       "\n",
       "    .dataframe thead th {\n",
       "        text-align: right;\n",
       "    }\n",
       "</style>\n",
       "<table border=\"1\" class=\"dataframe\">\n",
       "  <thead>\n",
       "    <tr style=\"text-align: right;\">\n",
       "      <th></th>\n",
       "      <th>year</th>\n",
       "      <th>0</th>\n",
       "    </tr>\n",
       "  </thead>\n",
       "  <tbody>\n",
       "    <tr>\n",
       "      <th>0</th>\n",
       "      <td>2013</td>\n",
       "      <td>0</td>\n",
       "    </tr>\n",
       "    <tr>\n",
       "      <th>1</th>\n",
       "      <td>2017</td>\n",
       "      <td>1</td>\n",
       "    </tr>\n",
       "  </tbody>\n",
       "</table>\n",
       "</div>"
      ],
      "text/plain": [
       "   year  0\n",
       "0  2013  0\n",
       "1  2017  1"
      ]
     },
     "execution_count": 122,
     "metadata": {},
     "output_type": "execute_result"
    }
   ],
   "source": [
    "duplev\n",
    "#Events that Repeat"
   ]
  },
  {
   "cell_type": "code",
   "execution_count": 123,
   "metadata": {},
   "outputs": [
    {
     "data": {
      "text/plain": [
       "3"
      ]
     },
     "execution_count": 123,
     "metadata": {},
     "output_type": "execute_result"
    }
   ],
   "source": [
    "uniqev= t[~t.duplicated('title')].shape[0]\n",
    "uniqev\n",
    "#The total number of uniquely titled events"
   ]
  },
  {
   "cell_type": "code",
   "execution_count": 124,
   "metadata": {},
   "outputs": [
    {
     "data": {
      "text/html": [
       "<div>\n",
       "<style scoped>\n",
       "    .dataframe tbody tr th:only-of-type {\n",
       "        vertical-align: middle;\n",
       "    }\n",
       "\n",
       "    .dataframe tbody tr th {\n",
       "        vertical-align: top;\n",
       "    }\n",
       "\n",
       "    .dataframe thead th {\n",
       "        text-align: right;\n",
       "    }\n",
       "</style>\n",
       "<table border=\"1\" class=\"dataframe\">\n",
       "  <thead>\n",
       "    <tr style=\"text-align: right;\">\n",
       "      <th></th>\n",
       "      <th>index</th>\n",
       "      <th>category</th>\n",
       "    </tr>\n",
       "  </thead>\n",
       "  <tbody>\n",
       "    <tr>\n",
       "      <th>0</th>\n",
       "      <td>It's My Park</td>\n",
       "      <td>5</td>\n",
       "    </tr>\n",
       "    <tr>\n",
       "      <th>1</th>\n",
       "      <td>Volunteer</td>\n",
       "      <td>5</td>\n",
       "    </tr>\n",
       "  </tbody>\n",
       "</table>\n",
       "</div>"
      ],
      "text/plain": [
       "          index  category\n",
       "0  It's My Park         5\n",
       "1     Volunteer         5"
      ]
     },
     "execution_count": 124,
     "metadata": {},
     "output_type": "execute_result"
    }
   ],
   "source": [
    "table= t['category'].value_counts().reset_index()\n",
    "uniqcat= table.shape[0]\n",
    "table.head(10)\n",
    "#Most used event categories"
   ]
  },
  {
   "cell_type": "markdown",
   "metadata": {},
   "source": [
    "* Top ten categories used to describe events (above)\n",
    "* Bar chart of all categories used to describe events (below)"
   ]
  },
  {
   "cell_type": "code",
   "execution_count": 125,
   "metadata": {
    "scrolled": true
   },
   "outputs": [
    {
     "data": {
      "image/png": "[encoded data removed]",
      "text/plain": [
       "<Figure size 720x576 with 1 Axes>"
      ]
     },
     "metadata": {
      "needs_background": "light"
     },
     "output_type": "display_data"
    }
   ],
   "source": [
    "fig, ax = plt.subplots(figsize=(10,8))\n",
    "bars= table['index']\n",
    "ypos= range(0,len(bars))\n",
    "ax.bar(ypos,table['category'])\n",
    "plt.tick_params(labelbottom=False)\n",
    "plt.title('Categories Used in Describing Events')\n",
    "plt.show()"
   ]
  },
  {
   "cell_type": "markdown",
   "metadata": {
    "variables": {
     "table.iloc[0,0]": "&quot;It&#39;s My Park&quot;",
     "table.iloc[1,0]": "Volunteer",
     "uniqcat": "2",
     "uniqev": "3"
    }
   },
   "source": [
    "By title, there are {{uniqev}} uniquely titled events held in the park for all years included in the data. Of these events, there are {{uniqcat}} unique categories used to describe them. All events are categorized as both {{table.iloc[0,0]}} and {{table.iloc[1,0]}}."
   ]
  },
  {
   "cell_type": "markdown",
   "metadata": {},
   "source": [
    "### Analysis of event content\n",
    "* Types of events in the first and last year\n",
    "* Overall: types of events"
   ]
  },
  {
   "cell_type": "code",
   "execution_count": 126,
   "metadata": {},
   "outputs": [
    {
     "data": {
      "text/html": [
       "<div>\n",
       "<style scoped>\n",
       "    .dataframe tbody tr th:only-of-type {\n",
       "        vertical-align: middle;\n",
       "    }\n",
       "\n",
       "    .dataframe tbody tr th {\n",
       "        vertical-align: top;\n",
       "    }\n",
       "\n",
       "    .dataframe thead th {\n",
       "        text-align: right;\n",
       "    }\n",
       "</style>\n",
       "<table border=\"1\" class=\"dataframe\">\n",
       "  <thead>\n",
       "    <tr style=\"text-align: right;\">\n",
       "      <th></th>\n",
       "      <th>year</th>\n",
       "      <th>event_id</th>\n",
       "      <th>title</th>\n",
       "      <th>description</th>\n",
       "      <th>snippet</th>\n",
       "    </tr>\n",
       "  </thead>\n",
       "  <tbody>\n",
       "    <tr>\n",
       "      <th>526</th>\n",
       "      <td>2013</td>\n",
       "      <td>73135.0</td>\n",
       "      <td>It's My Park Day at John F. Murray Playground</td>\n",
       "      <td>On It&amp;#39;s My Park Day, join STOKED at John F...</td>\n",
       "      <td>On It's My Park Day, join STOKED at John F. Mu...</td>\n",
       "    </tr>\n",
       "    <tr>\n",
       "      <th>522</th>\n",
       "      <td>2017</td>\n",
       "      <td>157449.0</td>\n",
       "      <td>CANCELLED: It's My Park at Murray Playground</td>\n",
       "      <td>&lt;p class=\"alert alert-error\"&gt;Please note: this...</td>\n",
       "      <td>This It's My Park season, volunteer with Queen...</td>\n",
       "    </tr>\n",
       "    <tr>\n",
       "      <th>524</th>\n",
       "      <td>2017</td>\n",
       "      <td>154594.0</td>\n",
       "      <td>It's My Park at Murray Playground</td>\n",
       "      <td>&lt;p&gt;This It&amp;#39;s My Park season, volunteer wit...</td>\n",
       "      <td>This It's My Park season, volunteer with Queen...</td>\n",
       "    </tr>\n",
       "  </tbody>\n",
       "</table>\n",
       "</div>"
      ],
      "text/plain": [
       "     year  event_id                                          title  \\\n",
       "526  2013   73135.0  It's My Park Day at John F. Murray Playground   \n",
       "522  2017  157449.0   CANCELLED: It's My Park at Murray Playground   \n",
       "524  2017  154594.0              It's My Park at Murray Playground   \n",
       "\n",
       "                                           description  \\\n",
       "526  On It&#39;s My Park Day, join STOKED at John F...   \n",
       "522  <p class=\"alert alert-error\">Please note: this...   \n",
       "524  <p>This It&#39;s My Park season, volunteer wit...   \n",
       "\n",
       "                                               snippet  \n",
       "526  On It's My Park Day, join STOKED at John F. Mu...  \n",
       "522  This It's My Park season, volunteer with Queen...  \n",
       "524  This It's My Park season, volunteer with Queen...  "
      ]
     },
     "execution_count": 126,
     "metadata": {},
     "output_type": "execute_result"
    }
   ],
   "source": [
    "t[~t.duplicated(['year','title'])][['year','event_id','title','description','snippet']].sort_values(['year','title'])\n",
    "#Sorts all data by uniquely titled events for each year."
   ]
  },
  {
   "cell_type": "code",
   "execution_count": 127,
   "metadata": {},
   "outputs": [
    {
     "data": {
      "text/html": [
       "<div>\n",
       "<style scoped>\n",
       "    .dataframe tbody tr th:only-of-type {\n",
       "        vertical-align: middle;\n",
       "    }\n",
       "\n",
       "    .dataframe tbody tr th {\n",
       "        vertical-align: top;\n",
       "    }\n",
       "\n",
       "    .dataframe thead th {\n",
       "        text-align: right;\n",
       "    }\n",
       "</style>\n",
       "<table border=\"1\" class=\"dataframe\">\n",
       "  <thead>\n",
       "    <tr style=\"text-align: right;\">\n",
       "      <th></th>\n",
       "      <th>title</th>\n",
       "      <th>2013</th>\n",
       "    </tr>\n",
       "  </thead>\n",
       "  <tbody>\n",
       "    <tr>\n",
       "      <th>0</th>\n",
       "      <td>It's My Park Day at John F. Murray Playground</td>\n",
       "      <td>1.0</td>\n",
       "    </tr>\n",
       "  </tbody>\n",
       "</table>\n",
       "</div>"
      ],
      "text/plain": [
       "                                           title  2013\n",
       "0  It's My Park Day at John F. Murray Playground   1.0"
      ]
     },
     "execution_count": 127,
     "metadata": {},
     "output_type": "execute_result"
    }
   ],
   "source": [
    "y1= t[~t.duplicated('event_id')].groupby('year')['title'].value_counts().unstack().sort_values(yrrange[0],axis=1,ascending=False).iloc[0,0:1]\n",
    "y1= y1.reset_index()\n",
    "y1"
   ]
  },
  {
   "cell_type": "code",
   "execution_count": 128,
   "metadata": {},
   "outputs": [
    {
     "data": {
      "text/html": [
       "<div>\n",
       "<style scoped>\n",
       "    .dataframe tbody tr th:only-of-type {\n",
       "        vertical-align: middle;\n",
       "    }\n",
       "\n",
       "    .dataframe tbody tr th {\n",
       "        vertical-align: top;\n",
       "    }\n",
       "\n",
       "    .dataframe thead th {\n",
       "        text-align: right;\n",
       "    }\n",
       "</style>\n",
       "<table border=\"1\" class=\"dataframe\">\n",
       "  <thead>\n",
       "    <tr style=\"text-align: right;\">\n",
       "      <th></th>\n",
       "      <th>title</th>\n",
       "      <th>2017</th>\n",
       "    </tr>\n",
       "  </thead>\n",
       "  <tbody>\n",
       "    <tr>\n",
       "      <th>0</th>\n",
       "      <td>It's My Park at Murray Playground</td>\n",
       "      <td>2.0</td>\n",
       "    </tr>\n",
       "    <tr>\n",
       "      <th>1</th>\n",
       "      <td>CANCELLED: It's My Park at Murray Playground</td>\n",
       "      <td>1.0</td>\n",
       "    </tr>\n",
       "  </tbody>\n",
       "</table>\n",
       "</div>"
      ],
      "text/plain": [
       "                                          title  2017\n",
       "0             It's My Park at Murray Playground   2.0\n",
       "1  CANCELLED: It's My Park at Murray Playground   1.0"
      ]
     },
     "execution_count": 128,
     "metadata": {},
     "output_type": "execute_result"
    }
   ],
   "source": [
    "y2= t[~t.duplicated('event_id')].groupby('year')['title'].value_counts().unstack().sort_values(yrrange[-1],axis=1,ascending=False).iloc[-1,0:2]\n",
    "y2= y2.reset_index()\n",
    "y2"
   ]
  },
  {
   "cell_type": "markdown",
   "metadata": {},
   "source": [
    "Overall, programming at this park is minimal and does not vary. There are only two years of data included."
   ]
  },
  {
   "cell_type": "markdown",
   "metadata": {
    "variables": {
     "y1.iloc[0,0]": "&quot;It&#39;s My Park Day at John F. Murray Playground&quot;",
     "y2.iloc[0,0]": "&quot;It&#39;s My Park at Murray Playground&quot;",
     "yrrange[0]": "2013",
     "yrrange[1]": "2017"
    }
   },
   "source": [
    "In both {{yrrange[0]}} and {{yrrange[1]}}, the events were similar: {{y1.iloc[0,0]}} and {{y2.iloc[0,0]}}."
   ]
  },
  {
   "cell_type": "code",
   "execution_count": 129,
   "metadata": {},
   "outputs": [
    {
     "data": {
      "text/html": [
       "<div>\n",
       "<style scoped>\n",
       "    .dataframe tbody tr th:only-of-type {\n",
       "        vertical-align: middle;\n",
       "    }\n",
       "\n",
       "    .dataframe tbody tr th {\n",
       "        vertical-align: top;\n",
       "    }\n",
       "\n",
       "    .dataframe thead th {\n",
       "        text-align: right;\n",
       "    }\n",
       "</style>\n",
       "<table border=\"1\" class=\"dataframe\">\n",
       "  <thead>\n",
       "    <tr style=\"text-align: right;\">\n",
       "      <th></th>\n",
       "      <th>index</th>\n",
       "      <th>event_organizer</th>\n",
       "    </tr>\n",
       "  </thead>\n",
       "  <tbody>\n",
       "    <tr>\n",
       "      <th>0</th>\n",
       "      <td>Queens Paideia School</td>\n",
       "      <td>2</td>\n",
       "    </tr>\n",
       "    <tr>\n",
       "      <th>1</th>\n",
       "      <td>Partnerships for Parks</td>\n",
       "      <td>1</td>\n",
       "    </tr>\n",
       "  </tbody>\n",
       "</table>\n",
       "</div>"
      ],
      "text/plain": [
       "                    index  event_organizer\n",
       "0   Queens Paideia School                2\n",
       "1  Partnerships for Parks                1"
      ]
     },
     "execution_count": 129,
     "metadata": {},
     "output_type": "execute_result"
    }
   ],
   "source": [
    "table= t[~t.duplicated('title')]['event_organizer'].value_counts().reset_index()\n",
    "table\n",
    "#Stakeholders by uniquely titled events organized"
   ]
  },
  {
   "cell_type": "code",
   "execution_count": 130,
   "metadata": {},
   "outputs": [
    {
     "data": {
      "text/html": [
       "<div>\n",
       "<style scoped>\n",
       "    .dataframe tbody tr th:only-of-type {\n",
       "        vertical-align: middle;\n",
       "    }\n",
       "\n",
       "    .dataframe tbody tr th {\n",
       "        vertical-align: top;\n",
       "    }\n",
       "\n",
       "    .dataframe thead th {\n",
       "        text-align: right;\n",
       "    }\n",
       "</style>\n",
       "<table border=\"1\" class=\"dataframe\">\n",
       "  <thead>\n",
       "    <tr style=\"text-align: right;\">\n",
       "      <th></th>\n",
       "      <th>index</th>\n",
       "      <th>event_organizer</th>\n",
       "    </tr>\n",
       "  </thead>\n",
       "  <tbody>\n",
       "    <tr>\n",
       "      <th>0</th>\n",
       "      <td>Queens Paideia School</td>\n",
       "      <td>2</td>\n",
       "    </tr>\n",
       "    <tr>\n",
       "      <th>1</th>\n",
       "      <td>Murray Park Neighbors</td>\n",
       "      <td>1</td>\n",
       "    </tr>\n",
       "    <tr>\n",
       "      <th>2</th>\n",
       "      <td>Partnerships for Parks</td>\n",
       "      <td>1</td>\n",
       "    </tr>\n",
       "  </tbody>\n",
       "</table>\n",
       "</div>"
      ],
      "text/plain": [
       "                    index  event_organizer\n",
       "0   Queens Paideia School                2\n",
       "1   Murray Park Neighbors                1\n",
       "2  Partnerships for Parks                1"
      ]
     },
     "execution_count": 130,
     "metadata": {},
     "output_type": "execute_result"
    }
   ],
   "source": [
    "table2= t[~t.duplicated('event_id')]['event_organizer'].value_counts().reset_index()\n",
    "table2\n",
    "#Stakeholders by number of events organized"
   ]
  },
  {
   "cell_type": "markdown",
   "metadata": {
    "variables": {
     "table2.iloc[0,0]": "Queens Paideia School",
     "table2.iloc[2,0]": "Partnerships for Parks"
    }
   },
   "source": [
    "Two of the three organizers appear to be local: {{table2.iloc[0,0]}} and {{table2.iloc[2,0]}}."
   ]
  },
  {
   "cell_type": "markdown",
   "metadata": {},
   "source": [
    "### Analysis of local and nonlocal stakeholders"
   ]
  },
  {
   "cell_type": "code",
   "execution_count": 131,
   "metadata": {},
   "outputs": [],
   "source": [
    "nonloc= [1]\n",
    "name= lic[['SIGNNAME','ACRES']].iloc[5,0]\n",
    "acres= lic[['SIGNNAME','ACRES']].iloc[5,1] #based off of organizations that do not have Queens/LIC in their name or mission\n",
    "nonlocsh= table2.loc[nonloc,'event_organizer'].sum()/table2['event_organizer'].sum()\n",
    "nonlocsh= np.around(nonlocsh,decimals=2)\n",
    "locsh= np.around(1-nonlocsh,decimals=2)\n",
    "uniqorg= len(table2)"
   ]
  },
  {
   "cell_type": "markdown",
   "metadata": {
    "variables": {
     "locsh": "0.75",
     "nonlocsh": "0.25",
     "np.around(numev/uniqorg,decimals=2)": "1.33",
     "np.around(uniqev/uniqorg,decimals=2)": "1.0"
    }
   },
   "source": [
    "* The non-local stakeholder share is {{nonlocsh}}. // The local stakeholder share is {{locsh}}.\n",
    "* The number of uniquely titled events per stakeholder is {{np.around(uniqev/uniqorg,decimals=2)}}.\n",
    "* The number of total events per stakeholder is {{np.around(numev/uniqorg,decimals=2)}}.\n",
    "\n",
    "Note: stakeholder share is calculated using table2 (above): stakeholder share of all events organized, not uniquely titled events."
   ]
  },
  {
   "cell_type": "code",
   "execution_count": 132,
   "metadata": {},
   "outputs": [],
   "source": [
    "name= lic[['SIGNNAME','ACRES']].iloc[10,0]\n",
    "acres= lic[['SIGNNAME','ACRES']].iloc[10,1]"
   ]
  },
  {
   "cell_type": "markdown",
   "metadata": {
    "variables": {
     "name": "Bridge and Tunnel Park"
    }
   },
   "source": [
    "## 11 {{name}}"
   ]
  },
  {
   "cell_type": "markdown",
   "metadata": {},
   "source": [
    "There is no record of events at this park."
   ]
  },
  {
   "cell_type": "code",
   "execution_count": 133,
   "metadata": {},
   "outputs": [],
   "source": [
    "name= lic[['SIGNNAME','ACRES']].iloc[11,0]\n",
    "acres= lic[['SIGNNAME','ACRES']].iloc[11,1]"
   ]
  },
  {
   "cell_type": "markdown",
   "metadata": {
    "variables": {
     "name": "Sixteen Oaks Grove"
    }
   },
   "source": [
    "## 12 {{name}}"
   ]
  },
  {
   "cell_type": "markdown",
   "metadata": {},
   "source": [
    "There is no record of events at this park."
   ]
  },
  {
   "cell_type": "code",
   "execution_count": 134,
   "metadata": {},
   "outputs": [],
   "source": [
    "name= lic[['SIGNNAME','ACRES']].iloc[12,0]\n",
    "acres= lic[['SIGNNAME','ACRES']].iloc[12,1]"
   ]
  },
  {
   "cell_type": "markdown",
   "metadata": {
    "variables": {
     "name": "Short Triangle"
    }
   },
   "source": [
    "## 13 {{name}}"
   ]
  },
  {
   "cell_type": "markdown",
   "metadata": {},
   "source": [
    "There is no record of events at this park."
   ]
  },
  {
   "cell_type": "code",
   "execution_count": 135,
   "metadata": {},
   "outputs": [],
   "source": [
    "name= lic[['SIGNNAME','ACRES']].iloc[13,0]\n",
    "acres= lic[['SIGNNAME','ACRES']].iloc[13,1]"
   ]
  },
  {
   "cell_type": "markdown",
   "metadata": {
    "variables": {
     "name": "Gordon Triangle"
    }
   },
   "source": [
    "## 14 {{name}}"
   ]
  },
  {
   "cell_type": "markdown",
   "metadata": {},
   "source": [
    "There is no record of events at this park."
   ]
  },
  {
   "cell_type": "code",
   "execution_count": 136,
   "metadata": {},
   "outputs": [],
   "source": [
    "name= lic[['SIGNNAME','ACRES']].iloc[14,0]\n",
    "acres= lic[['SIGNNAME','ACRES']].iloc[14,1]"
   ]
  },
  {
   "cell_type": "markdown",
   "metadata": {
    "variables": {
     "name": "McKenna Triangle"
    }
   },
   "source": [
    "## 15 {{name}}"
   ]
  },
  {
   "cell_type": "markdown",
   "metadata": {},
   "source": [
    "There is no record of events at this park."
   ]
  },
  {
   "cell_type": "code",
   "execution_count": 137,
   "metadata": {},
   "outputs": [],
   "source": [
    "name= lic[['SIGNNAME','ACRES']].iloc[15,0]\n",
    "acres= lic[['SIGNNAME','ACRES']].iloc[15,1]"
   ]
  },
  {
   "cell_type": "markdown",
   "metadata": {
    "variables": {
     "name": "Rafferty Triangle"
    }
   },
   "source": [
    "## 16 {{name}}"
   ]
  },
  {
   "cell_type": "markdown",
   "metadata": {},
   "source": [
    "There is no record of events at this park."
   ]
  },
  {
   "cell_type": "code",
   "execution_count": 138,
   "metadata": {},
   "outputs": [],
   "source": [
    "name= lic[['SIGNNAME','ACRES']].iloc[16,0]\n",
    "acres= lic[['SIGNNAME','ACRES']].iloc[16,1]"
   ]
  },
  {
   "cell_type": "markdown",
   "metadata": {
    "variables": {
     "name": "Dwyer Square"
    }
   },
   "source": [
    "## 17 {{name}}"
   ]
  },
  {
   "cell_type": "markdown",
   "metadata": {},
   "source": [
    "There is no record of events at this park."
   ]
  },
  {
   "cell_type": "code",
   "execution_count": 202,
   "metadata": {},
   "outputs": [],
   "source": [
    "name= lic[['SIGNNAME','ACRES']].iloc[17,0]\n",
    "acres= lic[['SIGNNAME','ACRES']].iloc[17,1]"
   ]
  },
  {
   "cell_type": "markdown",
   "metadata": {
    "variables": {
     "name": "Court Square Park"
    }
   },
   "source": [
    "## 18 {{name}}"
   ]
  },
  {
   "cell_type": "code",
   "execution_count": 203,
   "metadata": {},
   "outputs": [],
   "source": [
    "t= lic_events[lic_events['GISPROPNUM']==lic.iloc[17,0]]\n",
    "t.loc[:,'date2']= pd.to_datetime(t['date'], format='%m/%d/%Y')\n",
    "t.loc[:,'year']= t.loc[:,'date2'].dt.year\n",
    "t= t[t['year']!=2019]\n",
    "numev= t[~t.duplicated('event_id')].shape[0] #Number of events by the unique event id.\n",
    "#Creates a temporary dataframe for all events located to the specific park."
   ]
  },
  {
   "cell_type": "code",
   "execution_count": 141,
   "metadata": {},
   "outputs": [],
   "source": [
    "avg= t[~t.duplicated('event_id')].groupby('year').agg({'event_id':'count'}).reset_index().sum()/6\n",
    "#Removes repeated event_ids, and computes the mean number of events.\n",
    "avg= np.around(avg,decimals=2)\n",
    "total= t[~t.duplicated('event_id')].groupby('year').agg({'event_id':'count'}).reset_index().sum()\n",
    "#Removes repeated event_ids, and computes the total number of events.\n",
    "avgtitle= t[~t.duplicated('event_id')].sort_values('year')\n",
    "#Sorts all events by the year\n",
    "avgtitleyr= avgtitle.groupby('year')['title'].value_counts().unstack().count(axis=1).sum()/6\n",
    "#Counts the number of uniquely titled events"
   ]
  },
  {
   "cell_type": "code",
   "execution_count": 142,
   "metadata": {},
   "outputs": [],
   "source": [
    "yrrange= t['year'].sort_values().unique().tolist()\n",
    "y= avgtitle.groupby('year')['title'].value_counts().unstack()\n",
    "y= y.transpose()\n",
    "duplev= y[y[yrrange]>1].count().reset_index()\n",
    "duplevavg= y[y[yrrange]>1].count().sum()/6\n",
    "duplev13= duplev.iloc[0,1]\n",
    "duplev18= duplev.iloc[-1,1]\n",
    "#Calculates the unique events that repeat (i.e. not how many events were there, but how many titles refer to repeating events)."
   ]
  },
  {
   "cell_type": "markdown",
   "metadata": {},
   "source": [
    "### Initial Summary"
   ]
  },
  {
   "cell_type": "markdown",
   "metadata": {
    "variables": {
     "acres": "0.492",
     "avg[1]": "1.17",
     "duplev18": "0",
     "name": "Court Square Park",
     "np.around(avgtitleyr,decimals=2)": "0.67",
     "np.around(duplev13,decimals=2)": "0",
     "np.around(duplevavg,decimals=2)": "0.17",
     "total[1]": "7",
     "yrrange[-1]": "2018",
     "yrrange[0]": "2015"
    }
   },
   "source": [
    "This next park is {{name}}. {{name}} has {{acres}} acres. The number of events it hosts on average per year is {{avg[1]}} with a total of {{total[1]}} events over the past six years. On average per year it hosts {{np.around(avgtitleyr,decimals=2)}} uniquely titled events. Of these uniquely titled events, on average {{np.around(duplevavg,decimals=2)}} occurred more than once. \n",
    "\n",
    "\n",
    "To be specific, in {{yrrange[0]}} there were {{np.around(duplev13,decimals=2)}} uniquely titled repeating events and in {{yrrange[-1]}} there were {{duplev18}}."
   ]
  },
  {
   "cell_type": "markdown",
   "metadata": {
    "variables": {
     "np.around(avg[1]/acres,decimals=2)": "2.38",
     "np.around(avgtitleyr/acres,decimals=2)": "1.36",
     "np.around(numev/acres,decimals=2)": "14.23"
    }
   },
   "source": [
    "* The average number of uniquely titled events per year per acre is {{np.around(avgtitleyr/acres,decimals=2)}}.\n",
    "* The average number of events per year per acre is {{np.around(avg[1]/acres,decimals=2)}}.\n",
    "* The number of total events per acre is {{np.around(numev/acres,decimals=2)}}."
   ]
  },
  {
   "cell_type": "code",
   "execution_count": 143,
   "metadata": {},
   "outputs": [
    {
     "data": {
      "text/html": [
       "<div>\n",
       "<style scoped>\n",
       "    .dataframe tbody tr th:only-of-type {\n",
       "        vertical-align: middle;\n",
       "    }\n",
       "\n",
       "    .dataframe tbody tr th {\n",
       "        vertical-align: top;\n",
       "    }\n",
       "\n",
       "    .dataframe thead th {\n",
       "        text-align: right;\n",
       "    }\n",
       "</style>\n",
       "<table border=\"1\" class=\"dataframe\">\n",
       "  <thead>\n",
       "    <tr style=\"text-align: right;\">\n",
       "      <th></th>\n",
       "      <th>year</th>\n",
       "      <th>0</th>\n",
       "    </tr>\n",
       "  </thead>\n",
       "  <tbody>\n",
       "    <tr>\n",
       "      <th>0</th>\n",
       "      <td>2015</td>\n",
       "      <td>1</td>\n",
       "    </tr>\n",
       "    <tr>\n",
       "      <th>1</th>\n",
       "      <td>2016</td>\n",
       "      <td>1</td>\n",
       "    </tr>\n",
       "    <tr>\n",
       "      <th>2</th>\n",
       "      <td>2017</td>\n",
       "      <td>1</td>\n",
       "    </tr>\n",
       "    <tr>\n",
       "      <th>3</th>\n",
       "      <td>2018</td>\n",
       "      <td>1</td>\n",
       "    </tr>\n",
       "  </tbody>\n",
       "</table>\n",
       "</div>"
      ],
      "text/plain": [
       "   year  0\n",
       "0  2015  1\n",
       "1  2016  1\n",
       "2  2017  1\n",
       "3  2018  1"
      ]
     },
     "execution_count": 143,
     "metadata": {},
     "output_type": "execute_result"
    }
   ],
   "source": [
    "avgtitle.groupby('year')['title'].value_counts().unstack().count(axis=1).reset_index()\n",
    "#Uniquely titled events by year"
   ]
  },
  {
   "cell_type": "code",
   "execution_count": 144,
   "metadata": {},
   "outputs": [
    {
     "data": {
      "text/html": [
       "<div>\n",
       "<style scoped>\n",
       "    .dataframe tbody tr th:only-of-type {\n",
       "        vertical-align: middle;\n",
       "    }\n",
       "\n",
       "    .dataframe tbody tr th {\n",
       "        vertical-align: top;\n",
       "    }\n",
       "\n",
       "    .dataframe thead th {\n",
       "        text-align: right;\n",
       "    }\n",
       "</style>\n",
       "<table border=\"1\" class=\"dataframe\">\n",
       "  <thead>\n",
       "    <tr style=\"text-align: right;\">\n",
       "      <th></th>\n",
       "      <th>year</th>\n",
       "      <th>event_id</th>\n",
       "    </tr>\n",
       "  </thead>\n",
       "  <tbody>\n",
       "    <tr>\n",
       "      <th>0</th>\n",
       "      <td>2015</td>\n",
       "      <td>1</td>\n",
       "    </tr>\n",
       "    <tr>\n",
       "      <th>1</th>\n",
       "      <td>2016</td>\n",
       "      <td>4</td>\n",
       "    </tr>\n",
       "    <tr>\n",
       "      <th>2</th>\n",
       "      <td>2017</td>\n",
       "      <td>1</td>\n",
       "    </tr>\n",
       "    <tr>\n",
       "      <th>3</th>\n",
       "      <td>2018</td>\n",
       "      <td>1</td>\n",
       "    </tr>\n",
       "  </tbody>\n",
       "</table>\n",
       "</div>"
      ],
      "text/plain": [
       "   year  event_id\n",
       "0  2015         1\n",
       "1  2016         4\n",
       "2  2017         1\n",
       "3  2018         1"
      ]
     },
     "execution_count": 144,
     "metadata": {},
     "output_type": "execute_result"
    }
   ],
   "source": [
    "t[~t.duplicated('event_id')].groupby('year').agg({'event_id':'count'}).reset_index()\n",
    "#Total events by year"
   ]
  },
  {
   "cell_type": "code",
   "execution_count": 145,
   "metadata": {},
   "outputs": [
    {
     "data": {
      "text/html": [
       "<div>\n",
       "<style scoped>\n",
       "    .dataframe tbody tr th:only-of-type {\n",
       "        vertical-align: middle;\n",
       "    }\n",
       "\n",
       "    .dataframe tbody tr th {\n",
       "        vertical-align: top;\n",
       "    }\n",
       "\n",
       "    .dataframe thead th {\n",
       "        text-align: right;\n",
       "    }\n",
       "</style>\n",
       "<table border=\"1\" class=\"dataframe\">\n",
       "  <thead>\n",
       "    <tr style=\"text-align: right;\">\n",
       "      <th></th>\n",
       "      <th>year</th>\n",
       "      <th>0</th>\n",
       "    </tr>\n",
       "  </thead>\n",
       "  <tbody>\n",
       "    <tr>\n",
       "      <th>0</th>\n",
       "      <td>2015</td>\n",
       "      <td>0</td>\n",
       "    </tr>\n",
       "    <tr>\n",
       "      <th>1</th>\n",
       "      <td>2016</td>\n",
       "      <td>1</td>\n",
       "    </tr>\n",
       "    <tr>\n",
       "      <th>2</th>\n",
       "      <td>2017</td>\n",
       "      <td>0</td>\n",
       "    </tr>\n",
       "    <tr>\n",
       "      <th>3</th>\n",
       "      <td>2018</td>\n",
       "      <td>0</td>\n",
       "    </tr>\n",
       "  </tbody>\n",
       "</table>\n",
       "</div>"
      ],
      "text/plain": [
       "   year  0\n",
       "0  2015  0\n",
       "1  2016  1\n",
       "2  2017  0\n",
       "3  2018  0"
      ]
     },
     "execution_count": 145,
     "metadata": {},
     "output_type": "execute_result"
    }
   ],
   "source": [
    "duplev\n",
    "#Events that Repeat"
   ]
  },
  {
   "cell_type": "code",
   "execution_count": 146,
   "metadata": {},
   "outputs": [
    {
     "data": {
      "text/plain": [
       "3"
      ]
     },
     "execution_count": 146,
     "metadata": {},
     "output_type": "execute_result"
    }
   ],
   "source": [
    "uniqev= t[~t.duplicated('title')].shape[0]\n",
    "uniqev\n",
    "#The total number of uniquely titled events"
   ]
  },
  {
   "cell_type": "code",
   "execution_count": 147,
   "metadata": {},
   "outputs": [
    {
     "data": {
      "text/html": [
       "<div>\n",
       "<style scoped>\n",
       "    .dataframe tbody tr th:only-of-type {\n",
       "        vertical-align: middle;\n",
       "    }\n",
       "\n",
       "    .dataframe tbody tr th {\n",
       "        vertical-align: top;\n",
       "    }\n",
       "\n",
       "    .dataframe thead th {\n",
       "        text-align: right;\n",
       "    }\n",
       "</style>\n",
       "<table border=\"1\" class=\"dataframe\">\n",
       "  <thead>\n",
       "    <tr style=\"text-align: right;\">\n",
       "      <th></th>\n",
       "      <th>index</th>\n",
       "      <th>category</th>\n",
       "    </tr>\n",
       "  </thead>\n",
       "  <tbody>\n",
       "    <tr>\n",
       "      <th>0</th>\n",
       "      <td>Art</td>\n",
       "      <td>5</td>\n",
       "    </tr>\n",
       "    <tr>\n",
       "      <th>1</th>\n",
       "      <td>Seniors</td>\n",
       "      <td>5</td>\n",
       "    </tr>\n",
       "    <tr>\n",
       "      <th>2</th>\n",
       "      <td>Tours</td>\n",
       "      <td>4</td>\n",
       "    </tr>\n",
       "    <tr>\n",
       "      <th>3</th>\n",
       "      <td>It's My Park</td>\n",
       "      <td>2</td>\n",
       "    </tr>\n",
       "    <tr>\n",
       "      <th>4</th>\n",
       "      <td>Volunteer</td>\n",
       "      <td>2</td>\n",
       "    </tr>\n",
       "  </tbody>\n",
       "</table>\n",
       "</div>"
      ],
      "text/plain": [
       "          index  category\n",
       "0           Art         5\n",
       "1       Seniors         5\n",
       "2         Tours         4\n",
       "3  It's My Park         2\n",
       "4     Volunteer         2"
      ]
     },
     "execution_count": 147,
     "metadata": {},
     "output_type": "execute_result"
    }
   ],
   "source": [
    "table= t['category'].value_counts().reset_index()\n",
    "uniqcat= table.shape[0]\n",
    "table.head(10)\n",
    "#Most used event categories"
   ]
  },
  {
   "cell_type": "markdown",
   "metadata": {},
   "source": [
    "* Top ten categories used to describe events (above)\n",
    "* Bar chart of all categories used to describe events (below)"
   ]
  },
  {
   "cell_type": "code",
   "execution_count": 148,
   "metadata": {
    "scrolled": true
   },
   "outputs": [
    {
     "data": {
      "image/png": "[encoded data removed]",
      "text/plain": [
       "<Figure size 720x576 with 1 Axes>"
      ]
     },
     "metadata": {
      "needs_background": "light"
     },
     "output_type": "display_data"
    }
   ],
   "source": [
    "fig, ax = plt.subplots(figsize=(10,8))\n",
    "bars= table['index']\n",
    "ypos= range(0,len(bars))\n",
    "ax.bar(ypos,table['category'])\n",
    "plt.tick_params(labelbottom=False)\n",
    "plt.title('Categories Used in Describing Events')\n",
    "plt.show()"
   ]
  },
  {
   "cell_type": "markdown",
   "metadata": {
    "variables": {
     "table.iloc[0,0]": "Art",
     "table.iloc[1,0]": "Seniors",
     "uniqcat": "5",
     "uniqev": "3"
    }
   },
   "source": [
    "By title, there are {{uniqev}} uniquely titled events held in the park for all years included in the data. Of these events, there are {{uniqcat}} unique categories used to describe them. All events are categorized as both {{table.iloc[0,0]}} and {{table.iloc[1,0]}}."
   ]
  },
  {
   "cell_type": "markdown",
   "metadata": {},
   "source": [
    "### Analysis of event content\n",
    "* Types of events in the first and last year\n",
    "* Overall: types of events"
   ]
  },
  {
   "cell_type": "code",
   "execution_count": 149,
   "metadata": {},
   "outputs": [
    {
     "data": {
      "text/html": [
       "<div>\n",
       "<style scoped>\n",
       "    .dataframe tbody tr th:only-of-type {\n",
       "        vertical-align: middle;\n",
       "    }\n",
       "\n",
       "    .dataframe tbody tr th {\n",
       "        vertical-align: top;\n",
       "    }\n",
       "\n",
       "    .dataframe thead th {\n",
       "        text-align: right;\n",
       "    }\n",
       "</style>\n",
       "<table border=\"1\" class=\"dataframe\">\n",
       "  <thead>\n",
       "    <tr style=\"text-align: right;\">\n",
       "      <th></th>\n",
       "      <th>year</th>\n",
       "      <th>event_id</th>\n",
       "      <th>title</th>\n",
       "      <th>description</th>\n",
       "      <th>snippet</th>\n",
       "    </tr>\n",
       "  </thead>\n",
       "  <tbody>\n",
       "    <tr>\n",
       "      <th>16</th>\n",
       "      <td>2015</td>\n",
       "      <td>121040.0</td>\n",
       "      <td>Public Art Opening - Wendy Klemperer: Shadow M...</td>\n",
       "      <td>&lt;p&gt;Join NYC Parks for the opening reception of...</td>\n",
       "      <td>Join NYC Parks for the opening reception of We...</td>\n",
       "    </tr>\n",
       "    <tr>\n",
       "      <th>4</th>\n",
       "      <td>2016</td>\n",
       "      <td>127419.0</td>\n",
       "      <td>LIC Arts Open with Wendy Klemperer at Court Sq...</td>\n",
       "      <td>&lt;p&gt;Meet artist&amp;nbsp;Wendy Klemperer at her pub...</td>\n",
       "      <td>Shadow Migration exhibits animal silhouettes c...</td>\n",
       "    </tr>\n",
       "    <tr>\n",
       "      <th>2</th>\n",
       "      <td>2017</td>\n",
       "      <td>153482.0</td>\n",
       "      <td>It's My Park at Court Square Park</td>\n",
       "      <td>&lt;p&gt;This It&amp;#39;s My Park season, volunteer wit...</td>\n",
       "      <td>This It's My Park season, volunteer with Court...</td>\n",
       "    </tr>\n",
       "    <tr>\n",
       "      <th>0</th>\n",
       "      <td>2018</td>\n",
       "      <td>177167.0</td>\n",
       "      <td>It's My Park at Court Square Park</td>\n",
       "      <td>&lt;p&gt;This It&amp;#39;s My Park season, volunteer wit...</td>\n",
       "      <td>Volunteer with Court Square Civic Association ...</td>\n",
       "    </tr>\n",
       "  </tbody>\n",
       "</table>\n",
       "</div>"
      ],
      "text/plain": [
       "    year  event_id                                              title  \\\n",
       "16  2015  121040.0  Public Art Opening - Wendy Klemperer: Shadow M...   \n",
       "4   2016  127419.0  LIC Arts Open with Wendy Klemperer at Court Sq...   \n",
       "2   2017  153482.0                  It's My Park at Court Square Park   \n",
       "0   2018  177167.0                  It's My Park at Court Square Park   \n",
       "\n",
       "                                          description  \\\n",
       "16  <p>Join NYC Parks for the opening reception of...   \n",
       "4   <p>Meet artist&nbsp;Wendy Klemperer at her pub...   \n",
       "2   <p>This It&#39;s My Park season, volunteer wit...   \n",
       "0   <p>This It&#39;s My Park season, volunteer wit...   \n",
       "\n",
       "                                              snippet  \n",
       "16  Join NYC Parks for the opening reception of We...  \n",
       "4   Shadow Migration exhibits animal silhouettes c...  \n",
       "2   This It's My Park season, volunteer with Court...  \n",
       "0   Volunteer with Court Square Civic Association ...  "
      ]
     },
     "execution_count": 149,
     "metadata": {},
     "output_type": "execute_result"
    }
   ],
   "source": [
    "t[~t.duplicated(['year','title'])][['year','event_id','title','description','snippet']].sort_values(['year','title'])\n",
    "#Sorts all data by uniquely titled events for each year."
   ]
  },
  {
   "cell_type": "code",
   "execution_count": 150,
   "metadata": {},
   "outputs": [
    {
     "data": {
      "text/html": [
       "<div>\n",
       "<style scoped>\n",
       "    .dataframe tbody tr th:only-of-type {\n",
       "        vertical-align: middle;\n",
       "    }\n",
       "\n",
       "    .dataframe tbody tr th {\n",
       "        vertical-align: top;\n",
       "    }\n",
       "\n",
       "    .dataframe thead th {\n",
       "        text-align: right;\n",
       "    }\n",
       "</style>\n",
       "<table border=\"1\" class=\"dataframe\">\n",
       "  <thead>\n",
       "    <tr style=\"text-align: right;\">\n",
       "      <th></th>\n",
       "      <th>title</th>\n",
       "      <th>2015</th>\n",
       "    </tr>\n",
       "  </thead>\n",
       "  <tbody>\n",
       "    <tr>\n",
       "      <th>0</th>\n",
       "      <td>Public Art Opening - Wendy Klemperer: Shadow M...</td>\n",
       "      <td>1.0</td>\n",
       "    </tr>\n",
       "  </tbody>\n",
       "</table>\n",
       "</div>"
      ],
      "text/plain": [
       "                                               title  2015\n",
       "0  Public Art Opening - Wendy Klemperer: Shadow M...   1.0"
      ]
     },
     "execution_count": 150,
     "metadata": {},
     "output_type": "execute_result"
    }
   ],
   "source": [
    "y1= t[~t.duplicated('event_id')].groupby('year')['title'].value_counts().unstack().sort_values(yrrange[0],axis=1,ascending=False).iloc[0,0:1]\n",
    "y1= y1.reset_index()\n",
    "y1"
   ]
  },
  {
   "cell_type": "code",
   "execution_count": 151,
   "metadata": {},
   "outputs": [
    {
     "data": {
      "text/html": [
       "<div>\n",
       "<style scoped>\n",
       "    .dataframe tbody tr th:only-of-type {\n",
       "        vertical-align: middle;\n",
       "    }\n",
       "\n",
       "    .dataframe tbody tr th {\n",
       "        vertical-align: top;\n",
       "    }\n",
       "\n",
       "    .dataframe thead th {\n",
       "        text-align: right;\n",
       "    }\n",
       "</style>\n",
       "<table border=\"1\" class=\"dataframe\">\n",
       "  <thead>\n",
       "    <tr style=\"text-align: right;\">\n",
       "      <th></th>\n",
       "      <th>title</th>\n",
       "      <th>2018</th>\n",
       "    </tr>\n",
       "  </thead>\n",
       "  <tbody>\n",
       "    <tr>\n",
       "      <th>0</th>\n",
       "      <td>It's My Park at Court Square Park</td>\n",
       "      <td>1.0</td>\n",
       "    </tr>\n",
       "  </tbody>\n",
       "</table>\n",
       "</div>"
      ],
      "text/plain": [
       "                               title  2018\n",
       "0  It's My Park at Court Square Park   1.0"
      ]
     },
     "execution_count": 151,
     "metadata": {},
     "output_type": "execute_result"
    }
   ],
   "source": [
    "y2= t[~t.duplicated('event_id')].groupby('year')['title'].value_counts().unstack().sort_values(yrrange[-1],axis=1,ascending=False).iloc[-1,0:1]\n",
    "y2= y2.reset_index()\n",
    "y2"
   ]
  },
  {
   "cell_type": "markdown",
   "metadata": {},
   "source": [
    "Overall, programming at this park is minimal except for a few un-repeating events. In 2015 and 2016, these events were both art openings for Wendy Klemperer. In 2017 and 2018, the only events were \"It's My Park\" events."
   ]
  },
  {
   "cell_type": "code",
   "execution_count": 152,
   "metadata": {},
   "outputs": [
    {
     "data": {
      "text/html": [
       "<div>\n",
       "<style scoped>\n",
       "    .dataframe tbody tr th:only-of-type {\n",
       "        vertical-align: middle;\n",
       "    }\n",
       "\n",
       "    .dataframe tbody tr th {\n",
       "        vertical-align: top;\n",
       "    }\n",
       "\n",
       "    .dataframe thead th {\n",
       "        text-align: right;\n",
       "    }\n",
       "</style>\n",
       "<table border=\"1\" class=\"dataframe\">\n",
       "  <thead>\n",
       "    <tr style=\"text-align: right;\">\n",
       "      <th></th>\n",
       "      <th>index</th>\n",
       "      <th>event_organizer</th>\n",
       "    </tr>\n",
       "  </thead>\n",
       "  <tbody>\n",
       "    <tr>\n",
       "      <th>0</th>\n",
       "      <td>Art &amp; Antiquities</td>\n",
       "      <td>2</td>\n",
       "    </tr>\n",
       "    <tr>\n",
       "      <th>1</th>\n",
       "      <td>Court Square Civic Association</td>\n",
       "      <td>1</td>\n",
       "    </tr>\n",
       "  </tbody>\n",
       "</table>\n",
       "</div>"
      ],
      "text/plain": [
       "                            index  event_organizer\n",
       "0               Art & Antiquities                2\n",
       "1  Court Square Civic Association                1"
      ]
     },
     "execution_count": 152,
     "metadata": {},
     "output_type": "execute_result"
    }
   ],
   "source": [
    "table= t[~t.duplicated('title')]['event_organizer'].value_counts().reset_index()\n",
    "table\n",
    "#Stakeholders by uniquely titled events organized"
   ]
  },
  {
   "cell_type": "code",
   "execution_count": 153,
   "metadata": {},
   "outputs": [
    {
     "data": {
      "text/html": [
       "<div>\n",
       "<style scoped>\n",
       "    .dataframe tbody tr th:only-of-type {\n",
       "        vertical-align: middle;\n",
       "    }\n",
       "\n",
       "    .dataframe tbody tr th {\n",
       "        vertical-align: top;\n",
       "    }\n",
       "\n",
       "    .dataframe thead th {\n",
       "        text-align: right;\n",
       "    }\n",
       "</style>\n",
       "<table border=\"1\" class=\"dataframe\">\n",
       "  <thead>\n",
       "    <tr style=\"text-align: right;\">\n",
       "      <th></th>\n",
       "      <th>index</th>\n",
       "      <th>event_organizer</th>\n",
       "    </tr>\n",
       "  </thead>\n",
       "  <tbody>\n",
       "    <tr>\n",
       "      <th>0</th>\n",
       "      <td>Art &amp; Antiquities</td>\n",
       "      <td>5</td>\n",
       "    </tr>\n",
       "    <tr>\n",
       "      <th>1</th>\n",
       "      <td>Court Square Civic Association</td>\n",
       "      <td>2</td>\n",
       "    </tr>\n",
       "  </tbody>\n",
       "</table>\n",
       "</div>"
      ],
      "text/plain": [
       "                            index  event_organizer\n",
       "0               Art & Antiquities                5\n",
       "1  Court Square Civic Association                2"
      ]
     },
     "execution_count": 153,
     "metadata": {},
     "output_type": "execute_result"
    }
   ],
   "source": [
    "table2= t[~t.duplicated('event_id')]['event_organizer'].value_counts().reset_index()\n",
    "table2\n",
    "#Stakeholders by number of events organized"
   ]
  },
  {
   "cell_type": "markdown",
   "metadata": {
    "variables": {
     "table2.iloc[1,0]": "Court Square Civic Association"
    }
   },
   "source": [
    "The top organizer is a city-wide parks agency (or initiative?). The other organization, {{table2.iloc[1,0]}}, is local."
   ]
  },
  {
   "cell_type": "markdown",
   "metadata": {},
   "source": [
    "### Analysis of local and nonlocal stakeholders"
   ]
  },
  {
   "cell_type": "code",
   "execution_count": 154,
   "metadata": {},
   "outputs": [],
   "source": [
    "nonloc= [0]\n",
    "name= lic[['SIGNNAME','ACRES']].iloc[5,0]\n",
    "acres= lic[['SIGNNAME','ACRES']].iloc[5,1] #based off of organizations that do not have Queens/LIC in their name or mission\n",
    "nonlocsh= table2.loc[nonloc,'event_organizer'].sum()/table2['event_organizer'].sum()\n",
    "nonlocsh= np.around(nonlocsh,decimals=2)\n",
    "locsh= np.around(1-nonlocsh,decimals=2)\n",
    "uniqorg= len(table2)"
   ]
  },
  {
   "cell_type": "markdown",
   "metadata": {
    "variables": {
     "locsh": "0.29",
     "nonlocsh": "0.71",
     "np.around(numev/uniqorg,decimals=2)": "3.5",
     "np.around(uniqev/uniqorg,decimals=2)": "1.5"
    }
   },
   "source": [
    "* The non-local stakeholder share is {{nonlocsh}}. // The local stakeholder share is {{locsh}}.\n",
    "* The number of uniquely titled events per stakeholder is {{np.around(uniqev/uniqorg,decimals=2)}}.\n",
    "* The number of total events per stakeholder is {{np.around(numev/uniqorg,decimals=2)}}.\n",
    "\n",
    "Note: stakeholder share is calculated using table2 (above): stakeholder share of all events organized, not uniquely titled events."
   ]
  },
  {
   "cell_type": "code",
   "execution_count": 155,
   "metadata": {},
   "outputs": [],
   "source": [
    "name= lic[['SIGNNAME','ACRES']].iloc[18,0]\n",
    "acres= lic[['SIGNNAME','ACRES']].iloc[18,1]"
   ]
  },
  {
   "cell_type": "markdown",
   "metadata": {
    "variables": {
     "name": "Vernon Mall"
    }
   },
   "source": [
    "## 19 {{name}}"
   ]
  },
  {
   "cell_type": "markdown",
   "metadata": {
    "variables": {
     "name": "Vernon Mall"
    }
   },
   "source": [
    "There is no record of events at {{name}}."
   ]
  },
  {
   "cell_type": "code",
   "execution_count": 156,
   "metadata": {},
   "outputs": [],
   "source": [
    "name= lic[['SIGNNAME','ACRES']].iloc[19,0]\n",
    "acres= lic[['SIGNNAME','ACRES']].iloc[19,1]"
   ]
  },
  {
   "cell_type": "markdown",
   "metadata": {
    "variables": {
     "name": "Old Hickory Playground"
    }
   },
   "source": [
    "## 20 {{name}}"
   ]
  },
  {
   "cell_type": "markdown",
   "metadata": {
    "variables": {
     "name": "Old Hickory Playground"
    }
   },
   "source": [
    "There is no record of events at {{name}}."
   ]
  },
  {
   "cell_type": "code",
   "execution_count": null,
   "metadata": {},
   "outputs": [],
   "source": []
  }
 ],
 "metadata": {
  "kernelspec": {
   "display_name": "Python 3",
   "language": "python",
   "name": "python3"
  },
  "language_info": {
   "codemirror_mode": {
    "name": "ipython",
    "version": 3
   },
   "file_extension": ".py",
   "mimetype": "text/x-python",
   "name": "python",
   "nbconvert_exporter": "python",
   "pygments_lexer": "ipython3",
   "version": "3.7.3"
  },
  "toc": {
   "base_numbering": 1,
   "nav_menu": {
    "height": "236px",
    "width": "267px"
   },
   "number_sections": true,
   "sideBar": true,
   "skip_h1_title": false,
   "title_cell": "Table of Contents",
   "title_sidebar": "Contents",
   "toc_cell": false,
   "toc_position": {},
   "toc_section_display": true,
   "toc_window_display": true
  }
 },
 "nbformat": 4,
 "nbformat_minor": 2
}
