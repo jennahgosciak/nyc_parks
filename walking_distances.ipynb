{
 "cells": [
  {
   "cell_type": "code",
   "execution_count": 1,
   "metadata": {},
   "outputs": [],
   "source": [
    "import pandas as pd\n",
    "import geopandas as gpd\n",
    "import numpy as np\n",
    "import urllib.request, json\n",
    "from shapely.geometry import Polygon, MultiPolygon, LineString, Point\n",
    "from os.path import join\n",
    "from fiona.crs import from_epsg\n",
    "import matplotlib.pyplot as plt\n",
    "from os.path import join\n",
    "from fiona.crs import from_epsg\n",
    "from shapely.geometry import Point, LineString, Polygon, mapping\n",
    "from descartes import PolygonPatch\n",
    "import fiona\n",
    "import osmnx as ox\n",
    "import networkx as nx\n",
    "import urllib.request, json"
   ]
  },
  {
   "cell_type": "markdown",
   "metadata": {},
   "source": [
    "# Load Data\n",
    "* parks: shapefile of all parks"
   ]
  },
  {
   "cell_type": "code",
   "execution_count": 103,
   "metadata": {},
   "outputs": [],
   "source": [
    "path_parks= r'M:\\NY4P Metrics Research 18034\\03_GIS+ANALYSIS\\01_DATA\\RAW\\Parks Events Listing\\190513_download'\n",
    "process_path= r'M:\\NY4P Metrics Research 18034\\03_GIS+ANALYSIS\\01_DATA\\Processed'\n",
    "census_path= r\"M:\\NY4P Metrics Research 18034\\03_GIS+ANALYSIS\\01_DATA\\Census\"\n",
    "iso_path= r\"M:\\NY4P Metrics Research 18034\\03_GIS+ANALYSIS\\01_DATA\\Processed\\Isochrones\\190718_Isochrones_JG\""
   ]
  },
  {
   "cell_type": "code",
   "execution_count": 105,
   "metadata": {},
   "outputs": [],
   "source": [
    "parks= gpd.read_file(r\"M:\\NY4P Metrics Research 18034\\03_GIS+ANALYSIS\\01_DATA\\RAW\\NYC_PARKS_DATA\\NYCPARKS_ALLSITES.shp\")"
   ]
  },
  {
   "cell_type": "code",
   "execution_count": 106,
   "metadata": {},
   "outputs": [],
   "source": [
    "parks= parks.to_crs(crs='+proj=utm +zone=18 +ellps=WGS84 +datum=WGS84 +units=m +no_defs')"
   ]
  },
  {
   "cell_type": "code",
   "execution_count": 107,
   "metadata": {},
   "outputs": [],
   "source": [
    "def format_url(latlong, mode, mins):\n",
    "    global url, key\n",
    "    mins= ','.join([str(d) for d in mins])\n",
    "    latlong= ','.join([str(p) for p in latlong])\n",
    "    assert mode in ['walking', 'cycling', 'driving']\n",
    "    return url.format(m=mode, p=latlong, d=mins, k=key)"
   ]
  },
  {
   "cell_type": "code",
   "execution_count": 108,
   "metadata": {},
   "outputs": [],
   "source": [
    "def get_isochrone(latlong, mode, mins):\n",
    "    with urllib.request.urlopen(format_url(latlong, mode, mins)) as u:\n",
    "        data= json.loads(u.read().decode())\n",
    "        return data"
   ]
  },
  {
   "cell_type": "code",
   "execution_count": 109,
   "metadata": {},
   "outputs": [],
   "source": [
    "def prep4df(i, latlong, mode, mins):\n",
    "    j= get_isochrone(latlong=latlong, mode=mode, mins=mins)\n",
    "    j= j['features']\n",
    "    return [[i, latlong[0], latlong[1], mode, f['properties']['contour'],\n",
    "             Polygon(f['geometry']['coordinates'][0])] for f in j]\n",
    "#Not really sure what the above functions do, but you wrote them so I hope that it makes sense!"
   ]
  },
  {
   "cell_type": "markdown",
   "metadata": {},
   "source": [
    "## Load Park Entrances and Entrances for Study Areas\n",
    "* bayst\n",
    "* bushwick\n",
    "* lic"
   ]
  },
  {
   "cell_type": "code",
   "execution_count": 110,
   "metadata": {},
   "outputs": [],
   "source": [
    "# Load all park entrances\n",
    "park_entrances= gpd.read_file(r\"M:\\NY4P Metrics Research 18034\\03_GIS+ANALYSIS\\01_DATA\\Walk-to-a-Park Summer 2019 Data\\Walk-to-a-Park Summer 2019 Data\\Walk to a Park 2019_Reprojected.shp\")"
   ]
  },
  {
   "cell_type": "code",
   "execution_count": 111,
   "metadata": {},
   "outputs": [],
   "source": [
    "bayst= gpd.read_file(r\"M:\\NY4P Metrics Research 18034\\03_GIS+ANALYSIS\\01_DATA\\Walk-to-a-Park Summer 2019 Data\\Walk-to-a-Park Summer 2019 Data\\Walk-to-a-Park_BayStreetCorridorAccessPoints.shp\")"
   ]
  },
  {
   "cell_type": "code",
   "execution_count": 112,
   "metadata": {},
   "outputs": [],
   "source": [
    "lic1= gpd.read_file(r\"M:\\NY4P Metrics Research 18034\\03_GIS+ANALYSIS\\01_DATA\\Walk-to-a-Park Summer 2019 Data\\Walk-to-a-Park Summer 2019 Data\\Walk-to-a-Park_LIC_Parks1acreorlessAccessPoints.shp\").set_index('gispropnum')\n",
    "lic2= gpd.read_file(r\"M:\\NY4P Metrics Research 18034\\03_GIS+ANALYSIS\\01_DATA\\Walk-to-a-Park Summer 2019 Data\\Walk-to-a-Park Summer 2019 Data\\Walk-to-a-Park_LIC_Parks20acresorgreater.shp\").set_index('gispropnum')\n",
    "lic3= gpd.read_file(r\"M:\\NY4P Metrics Research 18034\\03_GIS+ANALYSIS\\01_DATA\\Walk-to-a-Park Summer 2019 Data\\Walk-to-a-Park Summer 2019 Data\\Walk-to-a-Park_LIC_Parksbtwn1and20acresAccessPoints.shp\").set_index('gispropnum')"
   ]
  },
  {
   "cell_type": "code",
   "execution_count": 113,
   "metadata": {},
   "outputs": [],
   "source": [
    "lic= pd.concat([lic1,lic2,lic3],axis=0,sort=True).reset_index()\n",
    "lic;"
   ]
  },
  {
   "cell_type": "code",
   "execution_count": 114,
   "metadata": {},
   "outputs": [],
   "source": [
    "bushwick= gpd.read_file(r\"M:\\NY4P Metrics Research 18034\\03_GIS+ANALYSIS\\01_DATA\\Walk-to-a-Park Summer 2019 Data\\Walk-to-a-Park Summer 2019 Data\\Walk-to-a-Park_BushwickAccessPoints.shp\")"
   ]
  },
  {
   "cell_type": "code",
   "execution_count": 115,
   "metadata": {},
   "outputs": [],
   "source": [
    "park_entrances= park_entrances.to_crs(crs='+proj=utm +zone=18 +ellps=WGS84 +datum=WGS84 +units=m +no_defs')"
   ]
  },
  {
   "cell_type": "markdown",
   "metadata": {},
   "source": [
    "## Load the street grid\n",
    "* There are two street grids: one for NYC and one for Staten Island!\n",
    "    - G and S respectively\n",
    "    - all steps have been duplicated for both"
   ]
  },
  {
   "cell_type": "code",
   "execution_count": 38,
   "metadata": {},
   "outputs": [],
   "source": [
    "# configure the place, network type, trip times, and travel speed\n",
    "place = 'New York City, New York, USA'\n",
    "network_type = 'walk'\n",
    "trip_times = [5, 10, 15] #in minutes\n",
    "travel_speed = 4.5 #walking speed in km/hour"
   ]
  },
  {
   "cell_type": "code",
   "execution_count": 39,
   "metadata": {},
   "outputs": [],
   "source": [
    "# download the street network, to configure the NYC street grid as a graph\n",
    "G= ox.graph_from_place(place, network_type=network_type)\n",
    "G_proj= ox.project_graph(G)"
   ]
  },
  {
   "cell_type": "code",
   "execution_count": 40,
   "metadata": {},
   "outputs": [],
   "source": [
    "S= ox.graph_from_place('Staten Island, New York City, New York, USA', network_type='drive')\n",
    "S_proj= ox.project_graph(S)"
   ]
  },
  {
   "cell_type": "code",
   "execution_count": 41,
   "metadata": {},
   "outputs": [],
   "source": [
    "# add an edge attribute for time in minutes required to traverse each edge\n",
    "meters_per_minute= travel_speed * 1000 / 60 #km per hour to m per minute\n",
    "for u, v, k, data in G_proj.edges(data=True, keys=True):\n",
    "    data['time']= data['length'] / meters_per_minute"
   ]
  },
  {
   "cell_type": "markdown",
   "metadata": {},
   "source": [
    "### helpers"
   ]
  },
  {
   "cell_type": "code",
   "execution_count": 42,
   "metadata": {},
   "outputs": [],
   "source": [
    "def make_iso_poly(G, center_node, trip_time=5, edge_buff=25, node_buff=25, infill=True):\n",
    "    '''\n",
    "    Creates isochrone polygons. Can set trip_time to 5, 10, or 15 minutes.\n",
    "    G is the graph of the street network.\n",
    "    center_node is the node around which to make the isochrone.\n",
    "    '''\n",
    "    try:\n",
    "        isochrone_polys= []\n",
    "\n",
    "        subgraph= nx.ego_graph(G, center_node, radius=trip_time, distance='time')\n",
    "\n",
    "        node_points= [Point((data['x'], data['y'])) for node, data in subgraph.nodes(data=True)]\n",
    "        nodes_gdf= gpd.GeoDataFrame({'id': subgraph.nodes()}, geometry=node_points)\n",
    "        nodes_gdf= nodes_gdf.set_index('id')\n",
    "\n",
    "        edge_lines= []\n",
    "        for n_fr, n_to in subgraph.edges():\n",
    "            f= nodes_gdf.loc[n_fr].geometry\n",
    "            t= nodes_gdf.loc[n_to].geometry\n",
    "            edge_lines.append(LineString([f,t]))\n",
    "\n",
    "        n= nodes_gdf.buffer(node_buff).geometry\n",
    "        e= gpd.GeoSeries(edge_lines).buffer(edge_buff).geometry\n",
    "        all_gs= list(n)+list(e)\n",
    "        new_iso= gpd.GeoSeries(all_gs).unary_union\n",
    "\n",
    "        return Polygon(new_iso.exterior)\n",
    "    except KeyError:\n",
    "        return 'Node error'"
   ]
  },
  {
   "cell_type": "markdown",
   "metadata": {},
   "source": [
    "# Making the Isochrones"
   ]
  },
  {
   "cell_type": "code",
   "execution_count": 43,
   "metadata": {},
   "outputs": [],
   "source": [
    "nodes= ox.save_load.graph_to_gdfs(G_proj, nodes=True, edges=False)"
   ]
  },
  {
   "cell_type": "code",
   "execution_count": 44,
   "metadata": {},
   "outputs": [],
   "source": [
    "S_nodes= ox.save_load.graph_to_gdfs(S_proj,nodes=True,edges=False)"
   ]
  },
  {
   "cell_type": "markdown",
   "metadata": {},
   "source": [
    "## Park Selection\n",
    "* selparks= a selection of parks (from the parks shpaefile) that corresponds to a selection of GISPROPNUM ids\n",
    "* selpark_ent= a selection of parks entrances that corresponds to the same parks as in selparks, unless the parks do not show up in the park entrances shapefile"
   ]
  },
  {
   "cell_type": "code",
   "execution_count": 132,
   "metadata": {},
   "outputs": [],
   "source": [
    "selparks= parks[parks['GISPROPNUM'].isin(bayst['gispropnum'].tolist()+lic['gispropnum'].tolist())]\n",
    "#example: here, I'm selecting all the parks that are in bushwick and lic"
   ]
  },
  {
   "cell_type": "code",
   "execution_count": 133,
   "metadata": {},
   "outputs": [
    {
     "data": {
      "text/plain": [
       "'+proj=utm +zone=18 +ellps=WGS84 +datum=WGS84 +units=m +no_defs'"
      ]
     },
     "execution_count": 133,
     "metadata": {},
     "output_type": "execute_result"
    }
   ],
   "source": [
    "selparks.crs"
   ]
  },
  {
   "cell_type": "code",
   "execution_count": 139,
   "metadata": {},
   "outputs": [],
   "source": [
    "selpark_ent= park_entrances[park_entrances['gispropnum'].isin(selparks['GISPROPNUM'].tolist())]\n",
    "#Selecting only the entrances in the park selection"
   ]
  },
  {
   "cell_type": "code",
   "execution_count": 140,
   "metadata": {},
   "outputs": [
    {
     "data": {
      "text/plain": [
       "'+proj=utm +zone=18 +ellps=WGS84 +datum=WGS84 +units=m +no_defs'"
      ]
     },
     "execution_count": 140,
     "metadata": {},
     "output_type": "execute_result"
    }
   ],
   "source": [
    "selpark_ent.crs"
   ]
  },
  {
   "cell_type": "markdown",
   "metadata": {},
   "source": [
    "## Get the nearest nodes to the park entrances of the selected parks"
   ]
  },
  {
   "cell_type": "code",
   "execution_count": 141,
   "metadata": {},
   "outputs": [],
   "source": [
    "selnodes= ox.utils.get_nearest_nodes(G_proj,selpark_ent.geometry.x.tolist(),selpark_ent.geometry.y.tolist(),method='kdtree')\n",
    "#List of osmids that are closest to the park entrances"
   ]
  },
  {
   "cell_type": "code",
   "execution_count": 142,
   "metadata": {},
   "outputs": [],
   "source": [
    "selnodes_S= ox.utils.get_nearest_nodes(S_proj,selpark_ent.geometry.x.tolist(),selpark_ent.geometry.y.tolist(),method='kdtree')"
   ]
  },
  {
   "cell_type": "code",
   "execution_count": 143,
   "metadata": {},
   "outputs": [],
   "source": [
    "selpark_ent= selpark_ent.reset_index(drop=True)"
   ]
  },
  {
   "cell_type": "markdown",
   "metadata": {},
   "source": [
    "* Dataframe of the osmid corresponding to the gispropnum of the park"
   ]
  },
  {
   "cell_type": "code",
   "execution_count": 170,
   "metadata": {},
   "outputs": [],
   "source": [
    "selnode_ids= pd.DataFrame(data=np.array([selnodes,selpark_ent['gispropnum'].tolist()]).T,columns=['osmid','gispropnum'])"
   ]
  },
  {
   "cell_type": "code",
   "execution_count": 171,
   "metadata": {},
   "outputs": [],
   "source": [
    "selnode_ids_S= pd.DataFrame(data=np.array([selnodes_S,selpark_ent['gispropnum'].tolist()]).T,columns=['osmid','gispropnum'])"
   ]
  },
  {
   "cell_type": "code",
   "execution_count": 172,
   "metadata": {},
   "outputs": [],
   "source": [
    "selnode_ids_S= selnode_ids_S[selnode_ids_S['gispropnum'].str.slice(0,1)=='R'].copy()\n",
    "# Subsetting only for staten island"
   ]
  },
  {
   "cell_type": "code",
   "execution_count": 173,
   "metadata": {},
   "outputs": [],
   "source": [
    "selnode_ids['osmid']= selnode_ids['osmid'].astype('int64')\n",
    "#changing the node id to an integer"
   ]
  },
  {
   "cell_type": "code",
   "execution_count": 174,
   "metadata": {},
   "outputs": [],
   "source": [
    "selnode_ids_S['osmid']= selnode_ids_S['osmid'].astype('int64')\n",
    "#changing the node id to an integer"
   ]
  },
  {
   "cell_type": "code",
   "execution_count": 175,
   "metadata": {},
   "outputs": [],
   "source": [
    "selnode_ids= selnode_ids[selnode_ids['gispropnum'].str.slice(0,1)!='R']\n",
    "selnode_ids_S= selnode_ids_S[selnode_ids_S['gispropnum'].str.slice(0,1)=='R']"
   ]
  },
  {
   "cell_type": "code",
   "execution_count": 176,
   "metadata": {},
   "outputs": [],
   "source": [
    "selnodes_proj= pd.merge(nodes,selnode_ids,on='osmid',how='inner')"
   ]
  },
  {
   "cell_type": "code",
   "execution_count": 177,
   "metadata": {},
   "outputs": [],
   "source": [
    "selnodes_proj_S= pd.merge(S_nodes,selnode_ids_S,on='osmid',how='inner')"
   ]
  },
  {
   "cell_type": "code",
   "execution_count": 178,
   "metadata": {},
   "outputs": [
    {
     "data": {
      "image/png": "[encoded data removed]",
      "text/plain": [
       "<Figure size 432x288 with 1 Axes>"
      ]
     },
     "metadata": {
      "needs_background": "light"
     },
     "output_type": "display_data"
    }
   ],
   "source": [
    "selnodes_proj.plot();"
   ]
  },
  {
   "cell_type": "code",
   "execution_count": 179,
   "metadata": {},
   "outputs": [
    {
     "data": {
      "image/png": "[encoded data removed]",
      "text/plain": [
       "<Figure size 432x288 with 1 Axes>"
      ]
     },
     "metadata": {
      "needs_background": "light"
     },
     "output_type": "display_data"
    }
   ],
   "source": [
    "selnodes_proj_S.plot();"
   ]
  },
  {
   "cell_type": "code",
   "execution_count": 180,
   "metadata": {},
   "outputs": [],
   "source": [
    "isonodes= selnodes_proj['osmid'].unique()\n",
    "#Selected nodes to calculate walking distances"
   ]
  },
  {
   "cell_type": "code",
   "execution_count": 181,
   "metadata": {},
   "outputs": [],
   "source": [
    "isonodes_S= selnodes_proj_S['osmid'].unique()"
   ]
  },
  {
   "cell_type": "markdown",
   "metadata": {},
   "source": [
    "# Generate Isochrones for Nodes\n",
    "* isos10: isochrones 10-minute walking distances for all nodes that aren't in Staten Island\n",
    "* isos10_S: isochrones 10-minute walking distances for lal nodes that are in Staten Island"
   ]
  },
  {
   "cell_type": "code",
   "execution_count": 182,
   "metadata": {},
   "outputs": [],
   "source": [
    "isos10= [make_iso_poly(G_proj, n, trip_time=10) for n in isonodes]"
   ]
  },
  {
   "cell_type": "code",
   "execution_count": 183,
   "metadata": {},
   "outputs": [],
   "source": [
    "isos10_S= [make_iso_poly(S_proj, n, trip_time=10) for n in isonodes_S]"
   ]
  },
  {
   "cell_type": "code",
   "execution_count": 184,
   "metadata": {},
   "outputs": [],
   "source": [
    "gdf10= gpd.GeoDataFrame(np.array([isonodes,isos10]).T,columns=['node','geometry'],crs=parks.crs)"
   ]
  },
  {
   "cell_type": "code",
   "execution_count": 185,
   "metadata": {},
   "outputs": [],
   "source": [
    "gdf10_S= gpd.GeoDataFrame(np.array([isonodes_S,isos10_S]).T,columns=['node','geometry'],crs=parks.crs)"
   ]
  },
  {
   "cell_type": "code",
   "execution_count": 186,
   "metadata": {},
   "outputs": [],
   "source": [
    "gdf10['walk_mins']= 10"
   ]
  },
  {
   "cell_type": "code",
   "execution_count": 189,
   "metadata": {},
   "outputs": [],
   "source": [
    "gdf10_S['walk_mins']= 10"
   ]
  },
  {
   "cell_type": "code",
   "execution_count": 190,
   "metadata": {},
   "outputs": [],
   "source": [
    "error_nodes= gdf10[gdf10['geometry']=='Node error']"
   ]
  },
  {
   "cell_type": "code",
   "execution_count": 191,
   "metadata": {},
   "outputs": [],
   "source": [
    "error_nodes_S= gdf10_S[gdf10_S['geometry']=='Node error']"
   ]
  },
  {
   "cell_type": "code",
   "execution_count": 192,
   "metadata": {},
   "outputs": [],
   "source": [
    "gdf10_2= gdf10.drop(error_nodes.index)"
   ]
  },
  {
   "cell_type": "code",
   "execution_count": 193,
   "metadata": {},
   "outputs": [],
   "source": [
    "gdf10_2_S= gdf10_S.drop(error_nodes_S.index)"
   ]
  },
  {
   "cell_type": "markdown",
   "metadata": {},
   "source": [
    "# Union Isochrones for Each Park"
   ]
  },
  {
   "cell_type": "code",
   "execution_count": 194,
   "metadata": {},
   "outputs": [],
   "source": [
    "def park_iso(park_id, dist, gdf,df):\n",
    "    '''\n",
    "    Merges the different isochrones that all correspond to the same park.\n",
    "    '''\n",
    "    p_nodes= df[df['gispropnum']==park_id]['osmid'].values\n",
    "    return gdf[(gdf['node'].isin(p_nodes))&(gdf['walk_mins']==dist)].unary_union"
   ]
  },
  {
   "cell_type": "code",
   "execution_count": 195,
   "metadata": {},
   "outputs": [],
   "source": [
    "park_ids= selparks['GISPROPNUM'].values"
   ]
  },
  {
   "cell_type": "code",
   "execution_count": 196,
   "metadata": {},
   "outputs": [],
   "source": [
    "park_ids_S= selparks[selparks['GISPROPNUM'].str.slice(0,1)=='R']['GISPROPNUM'].values"
   ]
  },
  {
   "cell_type": "code",
   "execution_count": 197,
   "metadata": {},
   "outputs": [],
   "source": [
    "park_isos10= [park_iso(pid, 10, gdf10_2,selnodes_proj) for pid in park_ids]"
   ]
  },
  {
   "cell_type": "code",
   "execution_count": 198,
   "metadata": {},
   "outputs": [],
   "source": [
    "park_gdf10= gpd.GeoDataFrame(np.array([park_ids, park_isos10]).T, columns=['node', 'geometry'], crs=parks.crs)"
   ]
  },
  {
   "cell_type": "code",
   "execution_count": 199,
   "metadata": {},
   "outputs": [
    {
     "data": {
      "text/plain": [
       "(50, 2)"
      ]
     },
     "execution_count": 199,
     "metadata": {},
     "output_type": "execute_result"
    }
   ],
   "source": [
    "park_gdf10.shape"
   ]
  },
  {
   "cell_type": "code",
   "execution_count": 201,
   "metadata": {},
   "outputs": [
    {
     "data": {
      "image/png": "[encoded data removed]",
      "text/plain": [
       "<Figure size 576x576 with 1 Axes>"
      ]
     },
     "metadata": {
      "needs_background": "light"
     },
     "output_type": "display_data"
    }
   ],
   "source": [
    "park_gdf10.plot(figsize=(8,8))\n",
    "plt.axis('off')\n",
    "plt.title('Isochrones -- Excluding Staten Island');"
   ]
  },
  {
   "cell_type": "code",
   "execution_count": 203,
   "metadata": {},
   "outputs": [],
   "source": [
    "park_isos10_S= [park_iso(pid, 10 ,gdf10_2_S,selnodes_proj_S) for pid in park_ids_S]"
   ]
  },
  {
   "cell_type": "code",
   "execution_count": 204,
   "metadata": {},
   "outputs": [],
   "source": [
    "park_gdf10_S= gpd.GeoDataFrame(np.array([park_ids_S, park_isos10_S]).T, columns=['node', 'geometry'], crs=parks.crs)"
   ]
  },
  {
   "cell_type": "code",
   "execution_count": 207,
   "metadata": {},
   "outputs": [
    {
     "data": {
      "image/png": "[encoded data removed]",
      "text/plain": [
       "<Figure size 576x576 with 1 Axes>"
      ]
     },
     "metadata": {
      "needs_background": "light"
     },
     "output_type": "display_data"
    }
   ],
   "source": [
    "park_gdf10_S.plot(figsize=(8,8))\n",
    "plt.axis('off')\n",
    "plt.title('Isochrones -- Only Staten Island');"
   ]
  },
  {
   "cell_type": "markdown",
   "metadata": {},
   "source": [
    "## Formatting for exports"
   ]
  },
  {
   "cell_type": "code",
   "execution_count": 208,
   "metadata": {},
   "outputs": [],
   "source": [
    "park_gdf10_S_exp= park_gdf10_S[park_gdf10_S['geometry'].notna()].copy()"
   ]
  },
  {
   "cell_type": "code",
   "execution_count": 209,
   "metadata": {},
   "outputs": [],
   "source": [
    "park_gdf10_exp= park_gdf10[park_gdf10['geometry'].notna()].copy()"
   ]
  },
  {
   "cell_type": "code",
   "execution_count": 210,
   "metadata": {},
   "outputs": [],
   "source": [
    "park_gdf10_exp= park_gdf10_exp.to_crs(epsg=2263)"
   ]
  },
  {
   "cell_type": "code",
   "execution_count": 211,
   "metadata": {},
   "outputs": [],
   "source": [
    "park_gdf10_S_exp= park_gdf10_S_exp.to_crs(epsg=2263)"
   ]
  },
  {
   "cell_type": "code",
   "execution_count": 212,
   "metadata": {},
   "outputs": [],
   "source": [
    "park_gdf10_exp= park_gdf10_exp.rename(columns={'node':'GISPROPNUM'})"
   ]
  },
  {
   "cell_type": "code",
   "execution_count": 213,
   "metadata": {},
   "outputs": [],
   "source": [
    "park_gdf10_S_exp= park_gdf10_S_exp.rename(columns={'node':'GISPROPNUM'})"
   ]
  },
  {
   "cell_type": "code",
   "execution_count": 214,
   "metadata": {},
   "outputs": [],
   "source": [
    "park_gdf10_exp= pd.merge(park_gdf10_exp.copy(),selparks.drop('geometry',axis=1),on='GISPROPNUM',how='inner')"
   ]
  },
  {
   "cell_type": "code",
   "execution_count": 215,
   "metadata": {},
   "outputs": [],
   "source": [
    "park_gdf10_S_exp= pd.merge(park_gdf10_S_exp.copy(),selparks.drop('geometry',axis=1),on='GISPROPNUM',how='inner')"
   ]
  },
  {
   "cell_type": "code",
   "execution_count": 216,
   "metadata": {},
   "outputs": [],
   "source": [
    "park_gdf10_exp= park_gdf10_exp[~(park_gdf10_exp['GISPROPNUM'].str.slice(0,1)=='R')].copy()"
   ]
  },
  {
   "cell_type": "code",
   "execution_count": 219,
   "metadata": {},
   "outputs": [],
   "source": [
    "assert park_gdf10_exp[park_gdf10_exp['GISPROPNUM'].isin(park_gdf10_S_exp['GISPROPNUM'].unique())].shape[0]==0\n",
    "#Checking that there is no overlap between the isochrones in NYC excluding SI and the ischrones in SI"
   ]
  },
  {
   "cell_type": "code",
   "execution_count": 220,
   "metadata": {},
   "outputs": [
    {
     "data": {
      "text/html": [
       "<div>\n",
       "<style scoped>\n",
       "    .dataframe tbody tr th:only-of-type {\n",
       "        vertical-align: middle;\n",
       "    }\n",
       "\n",
       "    .dataframe tbody tr th {\n",
       "        vertical-align: top;\n",
       "    }\n",
       "\n",
       "    .dataframe thead th {\n",
       "        text-align: right;\n",
       "    }\n",
       "</style>\n",
       "<table border=\"1\" class=\"dataframe\">\n",
       "  <thead>\n",
       "    <tr style=\"text-align: right;\">\n",
       "      <th></th>\n",
       "      <th>GISPROPNUM</th>\n",
       "      <th>geometry</th>\n",
       "      <th>LOCATION</th>\n",
       "      <th>COMMUNITYB</th>\n",
       "      <th>COUNCILDIS</th>\n",
       "      <th>PRECINCT</th>\n",
       "      <th>ZIPCODE</th>\n",
       "      <th>BOROUGH</th>\n",
       "      <th>ACRES</th>\n",
       "      <th>ADDRESS</th>\n",
       "      <th>SIGNNAME</th>\n",
       "      <th>TYPECATEGO</th>\n",
       "      <th>WATERFRONT</th>\n",
       "      <th>NYS_ASSEMB</th>\n",
       "      <th>NYS_SENATE</th>\n",
       "      <th>US_CONGRES</th>\n",
       "    </tr>\n",
       "  </thead>\n",
       "  <tbody>\n",
       "  </tbody>\n",
       "</table>\n",
       "</div>"
      ],
      "text/plain": [
       "Empty GeoDataFrame\n",
       "Columns: [GISPROPNUM, geometry, LOCATION, COMMUNITYB, COUNCILDIS, PRECINCT, ZIPCODE, BOROUGH, ACRES, ADDRESS, SIGNNAME, TYPECATEGO, WATERFRONT, NYS_ASSEMB, NYS_SENATE, US_CONGRES]\n",
       "Index: []"
      ]
     },
     "execution_count": 220,
     "metadata": {},
     "output_type": "execute_result"
    }
   ],
   "source": [
    "park_gdf10_exp[park_gdf10_exp['geometry'].isna()]"
   ]
  },
  {
   "cell_type": "markdown",
   "metadata": {},
   "source": [
    "## Exporting the isochrones! (change the filename each time)\n",
    "* park_gdf10_exp: all park isochrones outside of Staten Island\n",
    "* park_gdf10_S_exp: all park isochrones in Staten Island"
   ]
  },
  {
   "cell_type": "code",
   "execution_count": 221,
   "metadata": {},
   "outputs": [],
   "source": [
    "#park_gdf10_exp.to_file(join(iso_path,'190729_NewIso10.shp'))\n",
    "#Commented out so that I don't overwrite anything."
   ]
  },
  {
   "cell_type": "code",
   "execution_count": 222,
   "metadata": {},
   "outputs": [],
   "source": [
    "#park_gdf10_S_exp.to_file(join(iso_path,'190729_NewSIso10.shp'))"
   ]
  },
  {
   "cell_type": "markdown",
   "metadata": {},
   "source": [
    "# Nearby Population (within the 10-minute walksheds)\n",
    "__Key columns:__\n",
    "* totalpop: numeric - sum of all people in the census block group from 2012-2017 ACS survey\n",
    "* ShapeArea: in acres, the size of all the block groups\n",
    "* ShapeArea_Walkshed: in acres, the size of the walkshed"
   ]
  },
  {
   "cell_type": "code",
   "execution_count": 272,
   "metadata": {},
   "outputs": [],
   "source": [
    "#Loading all the isochrones (there were many different shapefiles and iterations of this notebook that created these files.)\n",
    "parks1= gpd.read_file(join(iso_path,'190718_Iso10.shp'))\n",
    "parks2= gpd.read_file(join(iso_path,'190718_Iso10StatenIsland.shp'))\n",
    "parks3= gpd.read_file(join(iso_path,'190718_MajParksIso10.shp'))\n",
    "parks4= gpd.read_file(join(iso_path,'190718_MajParksIso10StatenIsland.shp'))\n",
    "parks5= gpd.read_file(join(iso_path,'190718_NhoodParksIso10_B006.shp'))\n",
    "parks6= gpd.read_file(join(iso_path,'190718_NhoodParksIso10StatenIsland.shp'))\n",
    "parks7= gpd.read_file(join(iso_path,'190718_NhoodParksIso10_Q036A_Q435.shp'))\n",
    "parks8= gpd.read_file(join(iso_path,'190718_NhoodParksIso10.shp'))\n",
    "parks9= gpd.read_file(join(iso_path,'190729_NewIso10.shp'))\n",
    "parks10= gpd.read_file(join(iso_path,'190729_NewSIso10.shp'))"
   ]
  },
  {
   "cell_type": "code",
   "execution_count": 273,
   "metadata": {},
   "outputs": [],
   "source": [
    "bg= gpd.read_file(r\"S:\\NYC_GIS_DATA\\Census block groups 2010\\NYCblockgroups2010.gdb\",dtype={'GEOID10':str})"
   ]
  },
  {
   "cell_type": "code",
   "execution_count": 274,
   "metadata": {},
   "outputs": [
    {
     "data": {
      "text/plain": [
       "0    (POLYGON ((-74.06043000014438 40.6063540006366...\n",
       "1    (POLYGON ((-74.06613400058365 40.6140890003071...\n",
       "2    (POLYGON ((-74.07920599995691 40.6434309999407...\n",
       "3    (POLYGON ((-74.06368400001656 40.6022080000991...\n",
       "4    (POLYGON ((-74.07972500050835 40.6289510003883...\n",
       "Name: geometry, dtype: object"
      ]
     },
     "execution_count": 274,
     "metadata": {},
     "output_type": "execute_result"
    }
   ],
   "source": [
    "bg['geometry'].head()"
   ]
  },
  {
   "cell_type": "code",
   "execution_count": 275,
   "metadata": {},
   "outputs": [],
   "source": [
    "bg= bg.to_crs(epsg=2263)"
   ]
  },
  {
   "cell_type": "code",
   "execution_count": 276,
   "metadata": {},
   "outputs": [],
   "source": [
    "demo= pd.read_csv(r\"M:\\NY4P Metrics Research 18034\\03_GIS+ANALYSIS\\01_DATA\\Census\\190702_totpopACS2017bg.csv\",dtype={'Id2':'str'}).rename(columns={'Estimate; Total':'totalpop'})"
   ]
  },
  {
   "cell_type": "code",
   "execution_count": 277,
   "metadata": {},
   "outputs": [],
   "source": [
    "bg= bg.rename(columns={'GEOID10':'Id2'})"
   ]
  },
  {
   "cell_type": "code",
   "execution_count": 278,
   "metadata": {},
   "outputs": [],
   "source": [
    "demo_bg= pd.merge(bg,demo,on='Id2',how='inner')"
   ]
  },
  {
   "cell_type": "code",
   "execution_count": 279,
   "metadata": {},
   "outputs": [],
   "source": [
    "demo_bg['ShapeArea']= demo_bg['geometry'].area"
   ]
  },
  {
   "cell_type": "code",
   "execution_count": 280,
   "metadata": {},
   "outputs": [],
   "source": [
    "demo_bg['ShapeArea']= demo_bg['ShapeArea'].div(43560)"
   ]
  },
  {
   "cell_type": "code",
   "execution_count": 297,
   "metadata": {},
   "outputs": [],
   "source": [
    "#Setting up the walksheds for ALL PARKS:\n",
    "walkshed_10= pd.concat([parks1,parks2,parks3,parks4,parks5,parks6,parks7,parks8, parks9, parks10],axis=0,sort=True)"
   ]
  },
  {
   "cell_type": "code",
   "execution_count": 298,
   "metadata": {},
   "outputs": [
    {
     "data": {
      "text/plain": [
       "(818, 16)"
      ]
     },
     "execution_count": 298,
     "metadata": {},
     "output_type": "execute_result"
    }
   ],
   "source": [
    "walkshed_10= walkshed_10[~walkshed_10['GISPROPNUM'].duplicated()]\n",
    "walkshed_10.shape"
   ]
  },
  {
   "cell_type": "code",
   "execution_count": 299,
   "metadata": {},
   "outputs": [
    {
     "data": {
      "text/plain": [
       "{'init': 'epsg:2263'}"
      ]
     },
     "execution_count": 299,
     "metadata": {},
     "output_type": "execute_result"
    }
   ],
   "source": [
    "walkshed_10.crs"
   ]
  },
  {
   "cell_type": "code",
   "execution_count": 300,
   "metadata": {},
   "outputs": [],
   "source": [
    "parks['TYPECATEGO'];"
   ]
  },
  {
   "cell_type": "code",
   "execution_count": 301,
   "metadata": {},
   "outputs": [],
   "source": [
    "#parks[~(parks['GISPROPNUM'].isin(walkshed_10['GISPROPNUM'].unique()))&(parks['TYPECATEGO'].isin(['Community Park','Neighborhood Park','Flagship Park','Playground','Jointly Operated Playground']))]['GISPROPNUM']"
   ]
  },
  {
   "cell_type": "code",
   "execution_count": 302,
   "metadata": {},
   "outputs": [],
   "source": [
    "walkshed_10['ShapeArea_Walkshed']= walkshed_10['geometry'].area"
   ]
  },
  {
   "cell_type": "code",
   "execution_count": 303,
   "metadata": {},
   "outputs": [],
   "source": [
    "walkshed_10['ShapeArea_Walkshed']= walkshed_10['ShapeArea_Walkshed'].div(43560)"
   ]
  },
  {
   "cell_type": "code",
   "execution_count": 304,
   "metadata": {},
   "outputs": [
    {
     "data": {
      "text/plain": [
       "(818,)"
      ]
     },
     "execution_count": 304,
     "metadata": {},
     "output_type": "execute_result"
    }
   ],
   "source": [
    "walkshed_10['GISPROPNUM'].unique().shape"
   ]
  },
  {
   "cell_type": "code",
   "execution_count": 305,
   "metadata": {},
   "outputs": [
    {
     "data": {
      "text/html": [
       "<div>\n",
       "<style scoped>\n",
       "    .dataframe tbody tr th:only-of-type {\n",
       "        vertical-align: middle;\n",
       "    }\n",
       "\n",
       "    .dataframe tbody tr th {\n",
       "        vertical-align: top;\n",
       "    }\n",
       "\n",
       "    .dataframe thead th {\n",
       "        text-align: right;\n",
       "    }\n",
       "</style>\n",
       "<table border=\"1\" class=\"dataframe\">\n",
       "  <thead>\n",
       "    <tr style=\"text-align: right;\">\n",
       "      <th></th>\n",
       "      <th>ACRES</th>\n",
       "      <th>ADDRESS</th>\n",
       "      <th>BOROUGH</th>\n",
       "      <th>COMMUNITYB</th>\n",
       "      <th>COUNCILDIS</th>\n",
       "      <th>GISPROPNUM</th>\n",
       "      <th>LOCATION</th>\n",
       "      <th>NYS_ASSEMB</th>\n",
       "      <th>NYS_SENATE</th>\n",
       "      <th>PRECINCT</th>\n",
       "      <th>SIGNNAME</th>\n",
       "      <th>TYPECATEGO</th>\n",
       "      <th>US_CONGRES</th>\n",
       "      <th>WATERFRONT</th>\n",
       "      <th>ZIPCODE</th>\n",
       "      <th>geometry</th>\n",
       "      <th>ShapeArea_Walkshed</th>\n",
       "    </tr>\n",
       "  </thead>\n",
       "  <tbody>\n",
       "  </tbody>\n",
       "</table>\n",
       "</div>"
      ],
      "text/plain": [
       "Empty GeoDataFrame\n",
       "Columns: [ACRES, ADDRESS, BOROUGH, COMMUNITYB, COUNCILDIS, GISPROPNUM, LOCATION, NYS_ASSEMB, NYS_SENATE, PRECINCT, SIGNNAME, TYPECATEGO, US_CONGRES, WATERFRONT, ZIPCODE, geometry, ShapeArea_Walkshed]\n",
       "Index: []"
      ]
     },
     "execution_count": 305,
     "metadata": {},
     "output_type": "execute_result"
    }
   ],
   "source": [
    "walkshed_10[walkshed_10['geometry'].isna()]"
   ]
  },
  {
   "cell_type": "code",
   "execution_count": 306,
   "metadata": {},
   "outputs": [],
   "source": [
    "walkshed_10.to_file(join(iso_path,'190806_allparks10minwalkshed.shp'))\n",
    "#All 818 parks with their walksheds, spatial data file with geometries corresponding to the isochrones."
   ]
  },
  {
   "cell_type": "markdown",
   "metadata": {},
   "source": [
    "## Calculating area percentages\n",
    "* demo_bg: all NYC block groups with demographic information\n",
    "* walkshedpop: walksheds with population information, sjoin between demo_bg and walkshed_10\n",
    "* bg_intersect: overlay between bgs with total population and the area of all the walksheds"
   ]
  },
  {
   "cell_type": "code",
   "execution_count": 307,
   "metadata": {},
   "outputs": [
    {
     "data": {
      "text/plain": [
       "{'init': 'epsg:2263', 'no_defs': True}"
      ]
     },
     "execution_count": 307,
     "metadata": {},
     "output_type": "execute_result"
    }
   ],
   "source": [
    "demo_bg.crs"
   ]
  },
  {
   "cell_type": "code",
   "execution_count": 308,
   "metadata": {},
   "outputs": [
    {
     "data": {
      "text/plain": [
       "{'init': 'epsg:2263'}"
      ]
     },
     "execution_count": 308,
     "metadata": {},
     "output_type": "execute_result"
    }
   ],
   "source": [
    "walkshed_10.crs"
   ]
  },
  {
   "cell_type": "code",
   "execution_count": 309,
   "metadata": {},
   "outputs": [],
   "source": [
    "walkshedpop= gpd.sjoin(demo_bg,walkshed_10,op='intersects',how='inner')"
   ]
  },
  {
   "cell_type": "code",
   "execution_count": 310,
   "metadata": {},
   "outputs": [
    {
     "data": {
      "text/plain": [
       "(818,)"
      ]
     },
     "execution_count": 310,
     "metadata": {},
     "output_type": "execute_result"
    }
   ],
   "source": [
    "walkshedpop['GISPROPNUM'].unique().shape"
   ]
  },
  {
   "cell_type": "code",
   "execution_count": 311,
   "metadata": {},
   "outputs": [],
   "source": [
    "bg_intersect= gpd.overlay(demo_bg,walkshed_10,how='intersection')"
   ]
  },
  {
   "cell_type": "code",
   "execution_count": 312,
   "metadata": {},
   "outputs": [
    {
     "data": {
      "text/plain": [
       "(818,)"
      ]
     },
     "execution_count": 312,
     "metadata": {},
     "output_type": "execute_result"
    }
   ],
   "source": [
    "bg_intersect['GISPROPNUM'].unique().shape"
   ]
  },
  {
   "cell_type": "code",
   "execution_count": 313,
   "metadata": {},
   "outputs": [],
   "source": [
    "bg_intersect['ShapeArea_Intersect']= bg_intersect['geometry'].area.div(43560)\n",
    "bg_intersect['ShapeArea_Intersect'];"
   ]
  },
  {
   "cell_type": "code",
   "execution_count": 314,
   "metadata": {},
   "outputs": [
    {
     "data": {
      "text/plain": [
       "(818,)"
      ]
     },
     "execution_count": 314,
     "metadata": {},
     "output_type": "execute_result"
    }
   ],
   "source": [
    "walkshedpop['GISPROPNUM'].unique().shape"
   ]
  },
  {
   "cell_type": "code",
   "execution_count": 315,
   "metadata": {},
   "outputs": [],
   "source": [
    "bg_intersect['Pop_nearPark']= bg_intersect['totalpop']*(bg_intersect['ShapeArea_Intersect']/bg_intersect['ShapeArea'])\n",
    "#Calculated by comparing the ratio of the overlay to the total area of the bg"
   ]
  },
  {
   "cell_type": "code",
   "execution_count": 316,
   "metadata": {},
   "outputs": [],
   "source": [
    "walkshedpoptable= bg_intersect.groupby('GISPROPNUM').agg({'TYPECATEGO':'first','Pop_nearPark':'sum','ShapeArea_Walkshed':'first','ACRES':'first'}).rename(columns={'ACRES':'Park Acres'})"
   ]
  },
  {
   "cell_type": "code",
   "execution_count": 317,
   "metadata": {},
   "outputs": [],
   "source": [
    "walkshedpoptable['PopDens']= walkshedpoptable['Pop_nearPark']/walkshedpoptable['ShapeArea_Walkshed']\n",
    "#Density, population near the park divided by the total square  miles."
   ]
  },
  {
   "cell_type": "code",
   "execution_count": 318,
   "metadata": {},
   "outputs": [
    {
     "data": {
      "text/html": [
       "<div>\n",
       "<style scoped>\n",
       "    .dataframe tbody tr th:only-of-type {\n",
       "        vertical-align: middle;\n",
       "    }\n",
       "\n",
       "    .dataframe tbody tr th {\n",
       "        vertical-align: top;\n",
       "    }\n",
       "\n",
       "    .dataframe thead th {\n",
       "        text-align: right;\n",
       "    }\n",
       "</style>\n",
       "<table border=\"1\" class=\"dataframe\">\n",
       "  <thead>\n",
       "    <tr style=\"text-align: right;\">\n",
       "      <th></th>\n",
       "      <th>TYPECATEGO</th>\n",
       "      <th>Pop_nearPark</th>\n",
       "      <th>ShapeArea_Walkshed</th>\n",
       "      <th>Park Acres</th>\n",
       "      <th>PopDens</th>\n",
       "    </tr>\n",
       "    <tr>\n",
       "      <th>GISPROPNUM</th>\n",
       "      <th></th>\n",
       "      <th></th>\n",
       "      <th></th>\n",
       "      <th></th>\n",
       "      <th></th>\n",
       "    </tr>\n",
       "  </thead>\n",
       "  <tbody>\n",
       "    <tr>\n",
       "      <th>B001</th>\n",
       "      <td>Playground</td>\n",
       "      <td>10297.881979</td>\n",
       "      <td>203.212770</td>\n",
       "      <td>0.896</td>\n",
       "      <td>50.675368</td>\n",
       "    </tr>\n",
       "    <tr>\n",
       "      <th>B006</th>\n",
       "      <td>Triangle/Plaza</td>\n",
       "      <td>21108.864450</td>\n",
       "      <td>239.452140</td>\n",
       "      <td>0.012</td>\n",
       "      <td>88.154837</td>\n",
       "    </tr>\n",
       "    <tr>\n",
       "      <th>B007</th>\n",
       "      <td>Recreation Field/Courts</td>\n",
       "      <td>18229.304533</td>\n",
       "      <td>232.010714</td>\n",
       "      <td>17.500</td>\n",
       "      <td>78.570960</td>\n",
       "    </tr>\n",
       "    <tr>\n",
       "      <th>B008</th>\n",
       "      <td>NaN</td>\n",
       "      <td>29051.844266</td>\n",
       "      <td>363.630316</td>\n",
       "      <td>NaN</td>\n",
       "      <td>79.893900</td>\n",
       "    </tr>\n",
       "    <tr>\n",
       "      <th>B012</th>\n",
       "      <td>Neighborhood Park</td>\n",
       "      <td>31806.977333</td>\n",
       "      <td>323.364494</td>\n",
       "      <td>7.047</td>\n",
       "      <td>98.362615</td>\n",
       "    </tr>\n",
       "  </tbody>\n",
       "</table>\n",
       "</div>"
      ],
      "text/plain": [
       "                         TYPECATEGO  Pop_nearPark  ShapeArea_Walkshed  \\\n",
       "GISPROPNUM                                                              \n",
       "B001                     Playground  10297.881979          203.212770   \n",
       "B006                 Triangle/Plaza  21108.864450          239.452140   \n",
       "B007        Recreation Field/Courts  18229.304533          232.010714   \n",
       "B008                            NaN  29051.844266          363.630316   \n",
       "B012              Neighborhood Park  31806.977333          323.364494   \n",
       "\n",
       "            Park Acres    PopDens  \n",
       "GISPROPNUM                         \n",
       "B001             0.896  50.675368  \n",
       "B006             0.012  88.154837  \n",
       "B007            17.500  78.570960  \n",
       "B008               NaN  79.893900  \n",
       "B012             7.047  98.362615  "
      ]
     },
     "execution_count": 318,
     "metadata": {},
     "output_type": "execute_result"
    }
   ],
   "source": [
    "walkshedpoptable.head()\n",
    "#Table to Export"
   ]
  },
  {
   "cell_type": "markdown",
   "metadata": {},
   "source": [
    "## Exported as a table and as a shapefile with park geometries"
   ]
  },
  {
   "cell_type": "code",
   "execution_count": 266,
   "metadata": {},
   "outputs": [],
   "source": [
    "#walkshedpoptable.to_csv(r\"M:\\NY4P Metrics Research 18034\\03_GIS+ANALYSIS\\01_DATA\\Processed\\190718_10 Min Walksheds with Population_JG\\190718_10minwalksheds_pop.csv\")"
   ]
  },
  {
   "cell_type": "code",
   "execution_count": 267,
   "metadata": {},
   "outputs": [],
   "source": [
    "to_export= pd.merge(parks,walkshedpoptable,on='GISPROPNUM',how='inner')"
   ]
  },
  {
   "cell_type": "code",
   "execution_count": 268,
   "metadata": {},
   "outputs": [],
   "source": [
    "#to_export.to_file(join(iso_path,'190719_10 Min Walksheds with Pop and Pop Density.shp'))"
   ]
  }
 ],
 "metadata": {
  "kernelspec": {
   "display_name": "Python 3",
   "language": "python",
   "name": "python3"
  },
  "language_info": {
   "codemirror_mode": {
    "name": "ipython",
    "version": 3
   },
   "file_extension": ".py",
   "mimetype": "text/x-python",
   "name": "python",
   "nbconvert_exporter": "python",
   "pygments_lexer": "ipython3",
   "version": "3.9.7"
  },
  "toc": {
   "base_numbering": 1,
   "nav_menu": {},
   "number_sections": true,
   "sideBar": true,
   "skip_h1_title": false,
   "title_cell": "Table of Contents",
   "title_sidebar": "Contents",
   "toc_cell": false,
   "toc_position": {},
   "toc_section_display": true,
   "toc_window_display": false
  }
 },
 "nbformat": 4,
 "nbformat_minor": 2
}
